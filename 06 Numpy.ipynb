{
 "cells": [
  {
   "cell_type": "markdown",
   "metadata": {
    "colab_type": "text",
    "id": "0c5Zyn7Sj7pF"
   },
   "source": [
    "Numpy is short for Numerical Python, numpy is the basic computation package for python scientific computing. The main objects of numpy are multiple-dimensional numerical arrays. The sorting is implemented by indices.\n",
    "\n",
    "For numpy we will consider:\n",
    "\n",
    "1.   Generation\n",
    "2.   Selection/ Slides\n",
    "3.   Computing\n",
    "4.   Manupulation\n",
    "\n",
    "\n",
    "\n"
   ]
  },
  {
   "cell_type": "markdown",
   "metadata": {
    "colab_type": "text",
    "id": "y3OhEAafyiXc"
   },
   "source": [
    "Before the real numpy codes, we need to do some preparation."
   ]
  },
  {
   "cell_type": "code",
   "execution_count": 2,
   "metadata": {
    "colab": {},
    "colab_type": "code",
    "id": "Y3zt6Jgmju8Y"
   },
   "outputs": [],
   "source": [
    "import math\n",
    "from numpy.random import randn \n",
    "import numpy  as np\n",
    "import numpy\n",
    "\n",
    "np.random.seed(42)\n",
    "np.set_printoptions(precision=4, suppress=True)\n",
    "\n",
    "\n",
    "import matplotlib.pyplot as plt\n",
    "%matplotlib inline"
   ]
  },
  {
   "cell_type": "markdown",
   "metadata": {
    "colab_type": "text",
    "id": "SUDaoICbzrSl"
   },
   "source": [
    "We can use numpy constructor for existing iterable object.\n",
    "-- Dimensions are called \"axes\" in Numpy."
   ]
  },
  {
   "cell_type": "code",
   "execution_count": 3,
   "metadata": {
    "colab": {
     "base_uri": "https://localhost:8080/",
     "height": 35
    },
    "colab_type": "code",
    "executionInfo": {
     "elapsed": 536,
     "status": "ok",
     "timestamp": 1566178934193,
     "user": {
      "displayName": "Ruikang Wang",
      "photoUrl": "https://lh6.googleusercontent.com/-sxpbEWf-1Ng/AAAAAAAAAAI/AAAAAAAAAJ4/3m9qUw3an_4/s64/photo.jpg",
      "userId": "10914323651690992949"
     },
     "user_tz": 240
    },
    "id": "rFrthcglyo4W",
    "outputId": "ab76aa7f-9a92-4af5-ee2e-0ce2c12b4448"
   },
   "outputs": [
    {
     "name": "stdout",
     "output_type": "stream",
     "text": [
      "<class 'numpy.ndarray'> [1 2 3 4]\n"
     ]
    }
   ],
   "source": [
    "x = np.array([1,2,3,4])\n",
    "print(type(x),x)"
   ]
  },
  {
   "cell_type": "code",
   "execution_count": 4,
   "metadata": {
    "colab": {
     "base_uri": "https://localhost:8080/",
     "height": 35
    },
    "colab_type": "code",
    "executionInfo": {
     "elapsed": 392,
     "status": "ok",
     "timestamp": 1566178945557,
     "user": {
      "displayName": "Ruikang Wang",
      "photoUrl": "https://lh6.googleusercontent.com/-sxpbEWf-1Ng/AAAAAAAAAAI/AAAAAAAAAJ4/3m9qUw3an_4/s64/photo.jpg",
      "userId": "10914323651690992949"
     },
     "user_tz": 240
    },
    "id": "PHWC3UBWifqF",
    "outputId": "d3a56551-f70b-4e5e-c67a-af0b1a802e2c"
   },
   "outputs": [
    {
     "data": {
      "text/plain": [
       "[1, 2, 3, 4]"
      ]
     },
     "execution_count": 4,
     "metadata": {},
     "output_type": "execute_result"
    }
   ],
   "source": [
    "list(x)\n",
    "#iterator"
   ]
  },
  {
   "cell_type": "code",
   "execution_count": 5,
   "metadata": {
    "colab": {
     "base_uri": "https://localhost:8080/",
     "height": 35
    },
    "colab_type": "code",
    "executionInfo": {
     "elapsed": 402,
     "status": "ok",
     "timestamp": 1566179001311,
     "user": {
      "displayName": "Ruikang Wang",
      "photoUrl": "https://lh6.googleusercontent.com/-sxpbEWf-1Ng/AAAAAAAAAAI/AAAAAAAAAJ4/3m9qUw3an_4/s64/photo.jpg",
      "userId": "10914323651690992949"
     },
     "user_tz": 240
    },
    "id": "QzlXqsVyLCO5",
    "outputId": "75f102f9-dd84-487e-9b86-f83f5acda420"
   },
   "outputs": [
    {
     "data": {
      "text/plain": [
       "array([ True,  True,  True, False])"
      ]
     },
     "execution_count": 5,
     "metadata": {},
     "output_type": "execute_result"
    }
   ],
   "source": [
    "x == [1,2,3,5]"
   ]
  },
  {
   "cell_type": "code",
   "execution_count": 6,
   "metadata": {
    "colab": {
     "base_uri": "https://localhost:8080/",
     "height": 173
    },
    "colab_type": "code",
    "executionInfo": {
     "elapsed": 423,
     "status": "ok",
     "timestamp": 1566179002425,
     "user": {
      "displayName": "Ruikang Wang",
      "photoUrl": "https://lh6.googleusercontent.com/-sxpbEWf-1Ng/AAAAAAAAAAI/AAAAAAAAAJ4/3m9qUw3an_4/s64/photo.jpg",
      "userId": "10914323651690992949"
     },
     "user_tz": 240
    },
    "id": "D0BsExma1QSv",
    "outputId": "f26a5556-cfd7-4736-8c98-a1c6bf21f82e"
   },
   "outputs": [
    {
     "data": {
      "text/plain": [
       "array([0.01, 0.02, 0.03, 0.04, 0.05, 0.06, 0.07, 0.08, 0.09, 0.1 , 0.11,\n",
       "       0.12, 0.13, 0.14, 0.15, 0.16, 0.17, 0.18, 0.19, 0.2 , 0.21, 0.22,\n",
       "       0.23, 0.24, 0.25, 0.26, 0.27, 0.28, 0.29, 0.3 , 0.31, 0.32, 0.33,\n",
       "       0.34, 0.35, 0.36, 0.37, 0.38, 0.39, 0.4 , 0.41, 0.42, 0.43, 0.44,\n",
       "       0.45, 0.46, 0.47, 0.48, 0.49, 0.5 , 0.51, 0.52, 0.53, 0.54, 0.55,\n",
       "       0.56, 0.57, 0.58, 0.59, 0.6 , 0.61, 0.62, 0.63, 0.64, 0.65, 0.66,\n",
       "       0.67, 0.68, 0.69, 0.7 , 0.71, 0.72, 0.73, 0.74, 0.75, 0.76, 0.77,\n",
       "       0.78, 0.79, 0.8 , 0.81, 0.82, 0.83, 0.84, 0.85, 0.86, 0.87, 0.88,\n",
       "       0.89, 0.9 , 0.91, 0.92, 0.93, 0.94, 0.95, 0.96, 0.97, 0.98, 0.99])"
      ]
     },
     "execution_count": 6,
     "metadata": {},
     "output_type": "execute_result"
    }
   ],
   "source": [
    "x = np.arange(0.01, 1, 0.01)\n",
    "x"
   ]
  },
  {
   "cell_type": "code",
   "execution_count": 7,
   "metadata": {
    "colab": {
     "base_uri": "https://localhost:8080/",
     "height": 190
    },
    "colab_type": "code",
    "executionInfo": {
     "elapsed": 571,
     "status": "ok",
     "timestamp": 1566179003401,
     "user": {
      "displayName": "Ruikang Wang",
      "photoUrl": "https://lh6.googleusercontent.com/-sxpbEWf-1Ng/AAAAAAAAAAI/AAAAAAAAAJ4/3m9qUw3an_4/s64/photo.jpg",
      "userId": "10914323651690992949"
     },
     "user_tz": 240
    },
    "id": "2u6k1IpSLZck",
    "outputId": "5f75d1fc-4fe1-4025-b59c-b555ca839ea7"
   },
   "outputs": [
    {
     "data": {
      "text/plain": [
       "array([0.01, 0.02, 0.03, 0.04, 0.05, 0.06, 0.07, 0.08, 0.09, 0.1 , 0.11,\n",
       "       0.12, 0.13, 0.14, 0.15, 0.16, 0.17, 0.18, 0.19, 0.2 , 0.21, 0.22,\n",
       "       0.23, 0.24, 0.25, 0.26, 0.27, 0.28, 0.29, 0.3 , 0.31, 0.32, 0.33,\n",
       "       0.34, 0.35, 0.36, 0.37, 0.38, 0.39, 0.4 , 0.41, 0.42, 0.43, 0.44,\n",
       "       0.45, 0.46, 0.47, 0.48, 0.49, 0.5 , 0.51, 0.52, 0.53, 0.54, 0.55,\n",
       "       0.56, 0.57, 0.58, 0.59, 0.6 , 0.61, 0.62, 0.63, 0.64, 0.65, 0.66,\n",
       "       0.67, 0.68, 0.69, 0.7 , 0.71, 0.72, 0.73, 0.74, 0.75, 0.76, 0.77,\n",
       "       0.78, 0.79, 0.8 , 0.81, 0.82, 0.83, 0.84, 0.85, 0.86, 0.87, 0.88,\n",
       "       0.89, 0.9 , 0.91, 0.92, 0.93, 0.94, 0.95, 0.96, 0.97, 0.98, 0.99,\n",
       "       1.  ])"
      ]
     },
     "execution_count": 7,
     "metadata": {},
     "output_type": "execute_result"
    }
   ],
   "source": [
    "_x = np.arange(0.01, 1.01, 0.01)\n",
    "_x"
   ]
  },
  {
   "cell_type": "code",
   "execution_count": 8,
   "metadata": {
    "colab": {
     "base_uri": "https://localhost:8080/",
     "height": 35
    },
    "colab_type": "code",
    "executionInfo": {
     "elapsed": 487,
     "status": "ok",
     "timestamp": 1566179004147,
     "user": {
      "displayName": "Ruikang Wang",
      "photoUrl": "https://lh6.googleusercontent.com/-sxpbEWf-1Ng/AAAAAAAAAAI/AAAAAAAAAJ4/3m9qUw3an_4/s64/photo.jpg",
      "userId": "10914323651690992949"
     },
     "user_tz": 240
    },
    "id": "E7m-K_WXLo3d",
    "outputId": "6cce1271-ef33-4d39-ecd9-8167404eaac9"
   },
   "outputs": [
    {
     "data": {
      "text/plain": [
       "1.0"
      ]
     },
     "execution_count": 8,
     "metadata": {},
     "output_type": "execute_result"
    }
   ],
   "source": [
    "## Basic mathematical expressions in Numpy\n",
    "np.log(np.e)"
   ]
  },
  {
   "cell_type": "markdown",
   "metadata": {
    "colab_type": "text",
    "id": "qHv9L8iyLsog"
   },
   "source": [
    "$ln(e)$"
   ]
  },
  {
   "cell_type": "code",
   "execution_count": 8,
   "metadata": {
    "colab": {
     "base_uri": "https://localhost:8080/",
     "height": 173
    },
    "colab_type": "code",
    "executionInfo": {
     "elapsed": 383,
     "status": "ok",
     "timestamp": 1566179005937,
     "user": {
      "displayName": "Ruikang Wang",
      "photoUrl": "https://lh6.googleusercontent.com/-sxpbEWf-1Ng/AAAAAAAAAAI/AAAAAAAAAJ4/3m9qUw3an_4/s64/photo.jpg",
      "userId": "10914323651690992949"
     },
     "user_tz": 240
    },
    "id": "e5UYafWgL4FP",
    "outputId": "8b458621-cc74-4905-a82c-d5efc1456b37"
   },
   "outputs": [
    {
     "data": {
      "text/plain": [
       "array([0.01, 0.02, 0.03, 0.04, 0.05, 0.06, 0.07, 0.08, 0.09, 0.1 , 0.11,\n",
       "       0.12, 0.13, 0.14, 0.15, 0.16, 0.17, 0.18, 0.19, 0.2 , 0.21, 0.22,\n",
       "       0.23, 0.24, 0.25, 0.26, 0.27, 0.28, 0.29, 0.3 , 0.31, 0.32, 0.33,\n",
       "       0.34, 0.35, 0.36, 0.37, 0.38, 0.39, 0.4 , 0.41, 0.42, 0.43, 0.44,\n",
       "       0.45, 0.46, 0.47, 0.48, 0.49, 0.5 , 0.51, 0.52, 0.53, 0.54, 0.55,\n",
       "       0.56, 0.57, 0.58, 0.59, 0.6 , 0.61, 0.62, 0.63, 0.64, 0.65, 0.66,\n",
       "       0.67, 0.68, 0.69, 0.7 , 0.71, 0.72, 0.73, 0.74, 0.75, 0.76, 0.77,\n",
       "       0.78, 0.79, 0.8 , 0.81, 0.82, 0.83, 0.84, 0.85, 0.86, 0.87, 0.88,\n",
       "       0.89, 0.9 , 0.91, 0.92, 0.93, 0.94, 0.95, 0.96, 0.97, 0.98, 0.99])"
      ]
     },
     "execution_count": 8,
     "metadata": {},
     "output_type": "execute_result"
    }
   ],
   "source": [
    "x"
   ]
  },
  {
   "cell_type": "markdown",
   "metadata": {
    "colab_type": "text",
    "id": "EkoQOmAN275W"
   },
   "source": [
    "Numpy supports vectorized computation:"
   ]
  },
  {
   "cell_type": "code",
   "execution_count": 9,
   "metadata": {},
   "outputs": [
    {
     "data": {
      "text/plain": [
       "array([-4.6052, -3.912 , -3.5066, -3.2189, -2.9957, -2.8134, -2.6593,\n",
       "       -2.5257, -2.4079, -2.3026, -2.2073, -2.1203, -2.0402, -1.9661,\n",
       "       -1.8971, -1.8326, -1.772 , -1.7148, -1.6607, -1.6094, -1.5606,\n",
       "       -1.5141, -1.4697, -1.4271, -1.3863, -1.3471, -1.3093, -1.273 ,\n",
       "       -1.2379, -1.204 , -1.1712, -1.1394, -1.1087, -1.0788, -1.0498,\n",
       "       -1.0217, -0.9943, -0.9676, -0.9416, -0.9163, -0.8916, -0.8675,\n",
       "       -0.844 , -0.821 , -0.7985, -0.7765, -0.755 , -0.734 , -0.7133,\n",
       "       -0.6931, -0.6733, -0.6539, -0.6349, -0.6162, -0.5978, -0.5798,\n",
       "       -0.5621, -0.5447, -0.5276, -0.5108, -0.4943, -0.478 , -0.462 ,\n",
       "       -0.4463, -0.4308, -0.4155, -0.4005, -0.3857, -0.3711, -0.3567,\n",
       "       -0.3425, -0.3285, -0.3147, -0.3011, -0.2877, -0.2744, -0.2614,\n",
       "       -0.2485, -0.2357, -0.2231, -0.2107, -0.1985, -0.1863, -0.1744,\n",
       "       -0.1625, -0.1508, -0.1393, -0.1278, -0.1165, -0.1054, -0.0943,\n",
       "       -0.0834, -0.0726, -0.0619, -0.0513, -0.0408, -0.0305, -0.0202,\n",
       "       -0.0101])"
      ]
     },
     "execution_count": 9,
     "metadata": {},
     "output_type": "execute_result"
    }
   ],
   "source": [
    "np.log(x)"
   ]
  },
  {
   "cell_type": "code",
   "execution_count": 11,
   "metadata": {},
   "outputs": [
    {
     "data": {
      "text/plain": [
       "-0.04605170185988091"
      ]
     },
     "execution_count": 11,
     "metadata": {},
     "output_type": "execute_result"
    }
   ],
   "source": [
    "np.log(0.01)*0.01"
   ]
  },
  {
   "cell_type": "code",
   "execution_count": 12,
   "metadata": {
    "colab": {
     "base_uri": "https://localhost:8080/",
     "height": 276
    },
    "colab_type": "code",
    "executionInfo": {
     "elapsed": 407,
     "status": "ok",
     "timestamp": 1566179010559,
     "user": {
      "displayName": "Ruikang Wang",
      "photoUrl": "https://lh6.googleusercontent.com/-sxpbEWf-1Ng/AAAAAAAAAAI/AAAAAAAAAJ4/3m9qUw3an_4/s64/photo.jpg",
      "userId": "10914323651690992949"
     },
     "user_tz": 240
    },
    "id": "-HYGTeAN1UE0",
    "outputId": "8a1bb81e-4ee6-432c-fd2f-8802115e6f33"
   },
   "outputs": [
    {
     "data": {
      "text/plain": [
       "array([-0.0461, -0.0782, -0.1052, -0.1288, -0.1498, -0.1688, -0.1861,\n",
       "       -0.2021, -0.2167, -0.2303, -0.2428, -0.2544, -0.2652, -0.2753,\n",
       "       -0.2846, -0.2932, -0.3012, -0.3087, -0.3155, -0.3219, -0.3277,\n",
       "       -0.3331, -0.338 , -0.3425, -0.3466, -0.3502, -0.3535, -0.3564,\n",
       "       -0.359 , -0.3612, -0.3631, -0.3646, -0.3659, -0.3668, -0.3674,\n",
       "       -0.3678, -0.3679, -0.3677, -0.3672, -0.3665, -0.3656, -0.3644,\n",
       "       -0.3629, -0.3612, -0.3593, -0.3572, -0.3549, -0.3523, -0.3495,\n",
       "       -0.3466, -0.3434, -0.34  , -0.3365, -0.3327, -0.3288, -0.3247,\n",
       "       -0.3204, -0.3159, -0.3113, -0.3065, -0.3015, -0.2964, -0.2911,\n",
       "       -0.2856, -0.28  , -0.2742, -0.2683, -0.2623, -0.256 , -0.2497,\n",
       "       -0.2432, -0.2365, -0.2297, -0.2228, -0.2158, -0.2086, -0.2013,\n",
       "       -0.1938, -0.1862, -0.1785, -0.1707, -0.1627, -0.1547, -0.1465,\n",
       "       -0.1381, -0.1297, -0.1212, -0.1125, -0.1037, -0.0948, -0.0858,\n",
       "       -0.0767, -0.0675, -0.0582, -0.0487, -0.0392, -0.0295, -0.0198,\n",
       "       -0.0099])"
      ]
     },
     "execution_count": 12,
     "metadata": {},
     "output_type": "execute_result"
    }
   ],
   "source": [
    "y = np.log(x)*x\n",
    "y"
   ]
  },
  {
   "cell_type": "code",
   "execution_count": 11,
   "metadata": {
    "colab": {
     "base_uri": "https://localhost:8080/",
     "height": 286
    },
    "colab_type": "code",
    "executionInfo": {
     "elapsed": 567,
     "status": "ok",
     "timestamp": 1566179012005,
     "user": {
      "displayName": "Ruikang Wang",
      "photoUrl": "https://lh6.googleusercontent.com/-sxpbEWf-1Ng/AAAAAAAAAAI/AAAAAAAAAJ4/3m9qUw3an_4/s64/photo.jpg",
      "userId": "10914323651690992949"
     },
     "user_tz": 240
    },
    "id": "KP46K2Pu1aix",
    "outputId": "633b35dd-24f0-47c7-817c-7a51908d0100"
   },
   "outputs": [
    {
     "data": {
      "text/plain": [
       "[<matplotlib.lines.Line2D at 0x1efadbd51d0>]"
      ]
     },
     "execution_count": 11,
     "metadata": {},
     "output_type": "execute_result"
    },
    {
     "data": {
      "image/png": "[encoded data removed]",
      "text/plain": [
       "<Figure size 432x288 with 1 Axes>"
      ]
     },
     "metadata": {
      "needs_background": "light"
     },
     "output_type": "display_data"
    }
   ],
   "source": [
    "plt.plot(x,y)"
   ]
  },
  {
   "cell_type": "markdown",
   "metadata": {
    "colab_type": "text",
    "id": "Ry6RlZZR3xkV"
   },
   "source": [
    "This kind of vectorized computation is equivalent to the for loop in native Python, but can be quite effective, and easy to code & debug"
   ]
  },
  {
   "cell_type": "code",
   "execution_count": 13,
   "metadata": {
    "colab": {
     "base_uri": "https://localhost:8080/",
     "height": 1000
    },
    "colab_type": "code",
    "executionInfo": {
     "elapsed": 477,
     "status": "ok",
     "timestamp": 1566179078102,
     "user": {
      "displayName": "Ruikang Wang",
      "photoUrl": "https://lh6.googleusercontent.com/-sxpbEWf-1Ng/AAAAAAAAAAI/AAAAAAAAAJ4/3m9qUw3an_4/s64/photo.jpg",
      "userId": "10914323651690992949"
     },
     "user_tz": 240
    },
    "id": "-DNYdXkj3k4p",
    "outputId": "71fa0a7c-0cd7-4fca-8793-4a4baf4cb1ea"
   },
   "outputs": [
    {
     "data": {
      "text/plain": [
       "[-0.04605170185988091,\n",
       " -0.07824046010856292,\n",
       " -0.10519673691959945,\n",
       " -0.128755032994728,\n",
       " -0.14978661367769955,\n",
       " -0.1688046430056022,\n",
       " -0.18614820258529446,\n",
       " -0.20205829154466046,\n",
       " -0.21671510477866848,\n",
       " -0.23025850929940458,\n",
       " -0.2428002404508693,\n",
       " -0.2544316243440109,\n",
       " -0.2652287077084521,\n",
       " -0.2752557998921966,\n",
       " -0.2845679977328822,\n",
       " -0.29321303419972966,\n",
       " -0.3012326631284188,\n",
       " -0.3086637170565468,\n",
       " -0.31553892929611366,\n",
       " -0.3218875824868201,\n",
       " -0.32773602713558037,\n",
       " -0.3331081011785506,\n",
       " -0.33802547311355663,\n",
       " -0.34250792535363495,\n",
       " -0.34657359027997264,\n",
       " -0.35023914847131843,\n",
       " -0.3535199963956158,\n",
       " -0.3564303892276085,\n",
       " -0.35898356324046904,\n",
       " -0.3611918412977808,\n",
       " -0.36306672426591297,\n",
       " -0.36461897062027676,\n",
       " -0.3658586660921317,\n",
       " -0.3667952848664562,\n",
       " -0.3674377435745372,\n",
       " -0.36779444911151327,\n",
       " -0.36787334113723075,\n",
       " -0.36768192997944815,\n",
       " -0.36722733054479356,\n",
       " -0.366516292749662,\n",
       " -0.3655552289063513,\n",
       " -0.3643502384359837,\n",
       " -0.36290713022664745,\n",
       " -0.3612314429107253,\n",
       " -0.3593284632979972,\n",
       " -0.35720324316953833,\n",
       " -0.3548606146106754,\n",
       " -0.3523052040384962,\n",
       " -0.3495414450599577,\n",
       " -0.34657359027997264,\n",
       " -0.3434057221645205,\n",
       " -0.3400417630514653,\n",
       " -0.33648548439106385,\n",
       " -0.33274051528886117,\n",
       " -0.32881035041559126,\n",
       " -0.3246983573416476,\n",
       " -0.32040778334751846,\n",
       " -0.3159417617561698,\n",
       " -0.31130331782859944,\n",
       " -0.30649537425959444,\n",
       " -0.30152075630701586,\n",
       " -0.29638219658465986,\n",
       " -0.29108233954583196,\n",
       " -0.28562374568218846,\n",
       " -0.2800088954600953,\n",
       " -0.27424019301469943,\n",
       " -0.26831996962007393,\n",
       " -0.2622504869521496,\n",
       " -0.256033940159674,\n",
       " -0.2496724607571126,\n",
       " -0.2431681193522109,\n",
       " -0.23652292821986598,\n",
       " -0.22973884373298117,\n",
       " -0.222817768660102,\n",
       " -0.21576155433883568,\n",
       " -0.20857200273333784,\n",
       " -0.2012508683834938,\n",
       " -0.1937998602528297,\n",
       " -0.1862206434816452,\n",
       " -0.17851484105136778,\n",
       " -0.17068403536567855,\n",
       " -0.1627297697535473,\n",
       " -0.1546535498989395,\n",
       " -0.14645684520161326,\n",
       " -0.1381410900731087,\n",
       " -0.12970768517174194,\n",
       " -0.12115799858015167,\n",
       " -0.1124933669286987,\n",
       " -0.10371509646779685,\n",
       " -0.09482446409204366,\n",
       " -0.08582271831882958,\n",
       " -0.07671108022392693,\n",
       " -0.0674907443363969,\n",
       " -0.05816287949500217,\n",
       " -0.04872862966817294,\n",
       " -0.03918911473944485,\n",
       " -0.029545431260167315,\n",
       " -0.019798653171169075,\n",
       " -0.009949832494966436]"
      ]
     },
     "execution_count": 13,
     "metadata": {},
     "output_type": "execute_result"
    }
   ],
   "source": [
    "yy = []\n",
    "for value in x:\n",
    "    yy.append(np.log(value)*value)\n",
    "yy"
   ]
  },
  {
   "cell_type": "code",
   "execution_count": 13,
   "metadata": {
    "colab": {
     "base_uri": "https://localhost:8080/",
     "height": 286
    },
    "colab_type": "code",
    "executionInfo": {
     "elapsed": 549,
     "status": "ok",
     "timestamp": 1566179082292,
     "user": {
      "displayName": "Ruikang Wang",
      "photoUrl": "https://lh6.googleusercontent.com/-sxpbEWf-1Ng/AAAAAAAAAAI/AAAAAAAAAJ4/3m9qUw3an_4/s64/photo.jpg",
      "userId": "10914323651690992949"
     },
     "user_tz": 240
    },
    "id": "oySZ5c-i3idn",
    "outputId": "65a58a05-c361-44f5-f7e4-0d4db053003b"
   },
   "outputs": [
    {
     "data": {
      "text/plain": [
       "[<matplotlib.lines.Line2D at 0x1efadc845f8>]"
      ]
     },
     "execution_count": 13,
     "metadata": {},
     "output_type": "execute_result"
    },
    {
     "data": {
      "image/png": "[encoded data removed]",
      "text/plain": [
       "<Figure size 432x288 with 1 Axes>"
      ]
     },
     "metadata": {
      "needs_background": "light"
     },
     "output_type": "display_data"
    }
   ],
   "source": [
    "plt.plot(x,yy)"
   ]
  },
  {
   "cell_type": "markdown",
   "metadata": {},
   "source": [
    "Another very useful module is numpy.random"
   ]
  },
  {
   "cell_type": "code",
   "execution_count": 14,
   "metadata": {
    "colab": {},
    "colab_type": "code",
    "id": "48K4LutkNE89"
   },
   "outputs": [],
   "source": [
    "## from numpy.random import randn \n",
    "?randn"
   ]
  },
  {
   "cell_type": "markdown",
   "metadata": {
    "colab_type": "text",
    "id": "ZdcBcUj24ljb"
   },
   "source": [
    "Now we generate a matrix with random numbers"
   ]
  },
  {
   "cell_type": "code",
   "execution_count": 15,
   "metadata": {
    "colab": {
     "base_uri": "https://localhost:8080/",
     "height": 69
    },
    "colab_type": "code",
    "executionInfo": {
     "elapsed": 428,
     "status": "ok",
     "timestamp": 1566179099028,
     "user": {
      "displayName": "Ruikang Wang",
      "photoUrl": "https://lh6.googleusercontent.com/-sxpbEWf-1Ng/AAAAAAAAAAI/AAAAAAAAAJ4/3m9qUw3an_4/s64/photo.jpg",
      "userId": "10914323651690992949"
     },
     "user_tz": 240
    },
    "id": "Uh7tBDtU3wUd",
    "outputId": "bbf3c1ed-337e-4b31-8468-d02b47ded3b7"
   },
   "outputs": [
    {
     "data": {
      "text/plain": [
       "array([[ 0.4967, -0.1383,  0.6477,  1.523 , -0.2342],\n",
       "       [-0.2341,  1.5792,  0.7674, -0.4695,  0.5426],\n",
       "       [-0.4634, -0.4657,  0.242 , -1.9133, -1.7249]])"
      ]
     },
     "execution_count": 15,
     "metadata": {},
     "output_type": "execute_result"
    }
   ],
   "source": [
    "data = randn(3,5) \n",
    "data"
   ]
  },
  {
   "cell_type": "code",
   "execution_count": 16,
   "metadata": {
    "colab": {
     "base_uri": "https://localhost:8080/",
     "height": 35
    },
    "colab_type": "code",
    "executionInfo": {
     "elapsed": 334,
     "status": "ok",
     "timestamp": 1566179099812,
     "user": {
      "displayName": "Ruikang Wang",
      "photoUrl": "https://lh6.googleusercontent.com/-sxpbEWf-1Ng/AAAAAAAAAAI/AAAAAAAAAJ4/3m9qUw3an_4/s64/photo.jpg",
      "userId": "10914323651690992949"
     },
     "user_tz": 240
    },
    "id": "Dn9y3RCQNb-b",
    "outputId": "67daf616-5725-42a3-c5e1-165d55bf7987"
   },
   "outputs": [
    {
     "data": {
      "text/plain": [
       "numpy.ndarray"
      ]
     },
     "execution_count": 16,
     "metadata": {},
     "output_type": "execute_result"
    }
   ],
   "source": [
    "type(data)"
   ]
  },
  {
   "cell_type": "code",
   "execution_count": 16,
   "metadata": {
    "colab": {
     "base_uri": "https://localhost:8080/",
     "height": 69
    },
    "colab_type": "code",
    "executionInfo": {
     "elapsed": 483,
     "status": "ok",
     "timestamp": 1566179104148,
     "user": {
      "displayName": "Ruikang Wang",
      "photoUrl": "https://lh6.googleusercontent.com/-sxpbEWf-1Ng/AAAAAAAAAAI/AAAAAAAAAJ4/3m9qUw3an_4/s64/photo.jpg",
      "userId": "10914323651690992949"
     },
     "user_tz": 240
    },
    "id": "O8QskWC-4one",
    "outputId": "6e3fffce-7921-4077-bf86-aff6d530d2a4"
   },
   "outputs": [
    {
     "data": {
      "text/plain": [
       "array([[  4.9671,  -1.3826,   6.4769,  15.2303,  -2.3415],\n",
       "       [ -2.3414,  15.7921,   7.6743,  -4.6947,   5.4256],\n",
       "       [ -4.6342,  -4.6573,   2.4196, -19.1328, -17.2492]])"
      ]
     },
     "execution_count": 16,
     "metadata": {},
     "output_type": "execute_result"
    }
   ],
   "source": [
    "data1 = data* 10\n",
    "data1"
   ]
  },
  {
   "cell_type": "markdown",
   "metadata": {
    "colab_type": "text",
    "id": "5rXrC-2l5DpF"
   },
   "source": [
    "Vectorized computation can happen inside 2 numpy objects.\n",
    "If their shape are same, numpy will do elementwise computation. If not, numpy will 'broadcast' it."
   ]
  },
  {
   "cell_type": "code",
   "execution_count": 18,
   "metadata": {
    "colab": {
     "base_uri": "https://localhost:8080/",
     "height": 69
    },
    "colab_type": "code",
    "executionInfo": {
     "elapsed": 480,
     "status": "ok",
     "timestamp": 1566179106504,
     "user": {
      "displayName": "Ruikang Wang",
      "photoUrl": "https://lh6.googleusercontent.com/-sxpbEWf-1Ng/AAAAAAAAAAI/AAAAAAAAAJ4/3m9qUw3an_4/s64/photo.jpg",
      "userId": "10914323651690992949"
     },
     "user_tz": 240
    },
    "id": "8zwx-F0S4rkl",
    "outputId": "670a02bc-f1a6-4ede-90fb-6453118b4129"
   },
   "outputs": [
    {
     "data": {
      "text/plain": [
       "array([[  5.4639,  -1.5209,   7.1246,  16.7533,  -2.5757],\n",
       "       [ -2.5755,  17.3713,   8.4418,  -5.1642,   5.9682],\n",
       "       [ -5.0976,  -5.123 ,   2.6616, -21.0461, -18.9741]])"
      ]
     },
     "execution_count": 18,
     "metadata": {},
     "output_type": "execute_result"
    }
   ],
   "source": [
    "data + data1"
   ]
  },
  {
   "cell_type": "code",
   "execution_count": 19,
   "metadata": {
    "colab": {
     "base_uri": "https://localhost:8080/",
     "height": 69
    },
    "colab_type": "code",
    "executionInfo": {
     "elapsed": 363,
     "status": "ok",
     "timestamp": 1566179108672,
     "user": {
      "displayName": "Ruikang Wang",
      "photoUrl": "https://lh6.googleusercontent.com/-sxpbEWf-1Ng/AAAAAAAAAAI/AAAAAAAAAJ4/3m9qUw3an_4/s64/photo.jpg",
      "userId": "10914323651690992949"
     },
     "user_tz": 240
    },
    "id": "MXfFRnOyPXxX",
    "outputId": "279943b1-a976-48cf-f4f2-ebc3eae00856"
   },
   "outputs": [
    {
     "data": {
      "text/plain": [
       "array([[ 2.4672,  0.1912,  4.195 , 23.1962,  0.5483],\n",
       "       [ 0.5482, 24.9391,  5.8896,  2.2041,  2.9437],\n",
       "       [ 2.1476,  2.169 ,  0.5855, 36.6064, 29.7534]])"
      ]
     },
     "execution_count": 19,
     "metadata": {},
     "output_type": "execute_result"
    }
   ],
   "source": [
    "data * data1"
   ]
  },
  {
   "cell_type": "code",
   "execution_count": 20,
   "metadata": {
    "colab": {
     "base_uri": "https://localhost:8080/",
     "height": 35
    },
    "colab_type": "code",
    "executionInfo": {
     "elapsed": 288,
     "status": "ok",
     "timestamp": 1566179109748,
     "user": {
      "displayName": "Ruikang Wang",
      "photoUrl": "https://lh6.googleusercontent.com/-sxpbEWf-1Ng/AAAAAAAAAAI/AAAAAAAAAJ4/3m9qUw3an_4/s64/photo.jpg",
      "userId": "10914323651690992949"
     },
     "user_tz": 240
    },
    "id": "VtrZQUXP4_im",
    "outputId": "392b533d-e986-40b0-983e-86657efbeba2"
   },
   "outputs": [
    {
     "data": {
      "text/plain": [
       "(3, 5)"
      ]
     },
     "execution_count": 20,
     "metadata": {},
     "output_type": "execute_result"
    }
   ],
   "source": [
    "data.shape"
   ]
  },
  {
   "cell_type": "code",
   "execution_count": 21,
   "metadata": {
    "colab": {
     "base_uri": "https://localhost:8080/",
     "height": 35
    },
    "colab_type": "code",
    "executionInfo": {
     "elapsed": 413,
     "status": "ok",
     "timestamp": 1566179110753,
     "user": {
      "displayName": "Ruikang Wang",
      "photoUrl": "https://lh6.googleusercontent.com/-sxpbEWf-1Ng/AAAAAAAAAAI/AAAAAAAAAJ4/3m9qUw3an_4/s64/photo.jpg",
      "userId": "10914323651690992949"
     },
     "user_tz": 240
    },
    "id": "3Jbx7pBO5A16",
    "outputId": "a286f049-4be1-4c20-ed2c-537e089a154e"
   },
   "outputs": [
    {
     "data": {
      "text/plain": [
       "dtype('float64')"
      ]
     },
     "execution_count": 21,
     "metadata": {},
     "output_type": "execute_result"
    }
   ],
   "source": [
    "data.dtype"
   ]
  },
  {
   "cell_type": "markdown",
   "metadata": {
    "colab_type": "text",
    "id": "uPOpy0pUvX0o"
   },
   "source": [
    "Broadcast:"
   ]
  },
  {
   "cell_type": "code",
   "execution_count": 18,
   "metadata": {
    "colab": {
     "base_uri": "https://localhost:8080/",
     "height": 69
    },
    "colab_type": "code",
    "executionInfo": {
     "elapsed": 388,
     "status": "ok",
     "timestamp": 1566179113550,
     "user": {
      "displayName": "Ruikang Wang",
      "photoUrl": "https://lh6.googleusercontent.com/-sxpbEWf-1Ng/AAAAAAAAAAI/AAAAAAAAAJ4/3m9qUw3an_4/s64/photo.jpg",
      "userId": "10914323651690992949"
     },
     "user_tz": 240
    },
    "id": "vwbRNGhQ5CqG",
    "outputId": "21b377b7-f8d8-4bda-f8c4-cf779b296af1"
   },
   "outputs": [
    {
     "data": {
      "text/plain": [
       "array([[ 0.4967, -0.1383,  0.6477,  1.523 , -0.2342],\n",
       "       [-0.2341,  1.5792,  0.7674, -0.4695,  0.5426],\n",
       "       [-0.4634, -0.4657,  0.242 , -1.9133, -1.7249]])"
      ]
     },
     "execution_count": 18,
     "metadata": {},
     "output_type": "execute_result"
    }
   ],
   "source": [
    "data"
   ]
  },
  {
   "cell_type": "code",
   "execution_count": 19,
   "metadata": {
    "colab": {
     "base_uri": "https://localhost:8080/",
     "height": 69
    },
    "colab_type": "code",
    "executionInfo": {
     "elapsed": 418,
     "status": "ok",
     "timestamp": 1566179115188,
     "user": {
      "displayName": "Ruikang Wang",
      "photoUrl": "https://lh6.googleusercontent.com/-sxpbEWf-1Ng/AAAAAAAAAAI/AAAAAAAAAJ4/3m9qUw3an_4/s64/photo.jpg",
      "userId": "10914323651690992949"
     },
     "user_tz": 240
    },
    "id": "R7RQUQwQvbcf",
    "outputId": "5a4c5838-ba52-45cb-9057-4e8f866a7c5a"
   },
   "outputs": [
    {
     "data": {
      "text/plain": [
       "array([[1.4967, 1.8617, 3.6477, 5.523 , 4.7658],\n",
       "       [0.7659, 3.5792, 3.7674, 3.5305, 5.5426],\n",
       "       [0.5366, 1.5343, 3.242 , 2.0867, 3.2751]])"
      ]
     },
     "execution_count": 19,
     "metadata": {},
     "output_type": "execute_result"
    }
   ],
   "source": [
    "data_to_be_broadcasted = np.array([1,2,3,4,5])\n",
    "data + data_to_be_broadcasted"
   ]
  },
  {
   "cell_type": "code",
   "execution_count": 24,
   "metadata": {
    "colab": {
     "base_uri": "https://localhost:8080/",
     "height": 69
    },
    "colab_type": "code",
    "executionInfo": {
     "elapsed": 351,
     "status": "ok",
     "timestamp": 1566179117789,
     "user": {
      "displayName": "Ruikang Wang",
      "photoUrl": "https://lh6.googleusercontent.com/-sxpbEWf-1Ng/AAAAAAAAAAI/AAAAAAAAAJ4/3m9qUw3an_4/s64/photo.jpg",
      "userId": "10914323651690992949"
     },
     "user_tz": 240
    },
    "id": "rCvvq3QjvmqK",
    "outputId": "11237e5b-12d2-4b01-8309-717a10a23069"
   },
   "outputs": [
    {
     "data": {
      "text/plain": [
       "array([[ 0.4967, -0.2765,  1.9431,  6.0921, -1.1708],\n",
       "       [-0.2341,  3.1584,  2.3023, -1.8779,  2.7128],\n",
       "       [-0.4634, -0.9315,  0.7259, -7.6531, -8.6246]])"
      ]
     },
     "execution_count": 24,
     "metadata": {},
     "output_type": "execute_result"
    }
   ],
   "source": [
    "data * data_to_be_broadcasted"
   ]
  },
  {
   "cell_type": "markdown",
   "metadata": {
    "colab_type": "text",
    "id": "JK4_qrLLvtbJ"
   },
   "source": [
    "List to numpy object:"
   ]
  },
  {
   "cell_type": "code",
   "execution_count": 25,
   "metadata": {
    "colab": {
     "base_uri": "https://localhost:8080/",
     "height": 35
    },
    "colab_type": "code",
    "executionInfo": {
     "elapsed": 375,
     "status": "ok",
     "timestamp": 1566179123913,
     "user": {
      "displayName": "Ruikang Wang",
      "photoUrl": "https://lh6.googleusercontent.com/-sxpbEWf-1Ng/AAAAAAAAAAI/AAAAAAAAAJ4/3m9qUw3an_4/s64/photo.jpg",
      "userId": "10914323651690992949"
     },
     "user_tz": 240
    },
    "id": "IQLpyNyMvotU",
    "outputId": "106de7aa-e168-4f4c-e9b0-922a49da507a"
   },
   "outputs": [
    {
     "data": {
      "text/plain": [
       "array([ 0,  1,  2,  3,  4,  5,  6,  7,  8,  9, 10, 11, 12, 13, 14])"
      ]
     },
     "execution_count": 25,
     "metadata": {},
     "output_type": "execute_result"
    }
   ],
   "source": [
    "np.arange(15)"
   ]
  },
  {
   "cell_type": "code",
   "execution_count": 26,
   "metadata": {
    "colab": {
     "base_uri": "https://localhost:8080/",
     "height": 35
    },
    "colab_type": "code",
    "executionInfo": {
     "elapsed": 241,
     "status": "ok",
     "timestamp": 1566179129761,
     "user": {
      "displayName": "Ruikang Wang",
      "photoUrl": "https://lh6.googleusercontent.com/-sxpbEWf-1Ng/AAAAAAAAAAI/AAAAAAAAAJ4/3m9qUw3an_4/s64/photo.jpg",
      "userId": "10914323651690992949"
     },
     "user_tz": 240
    },
    "id": "J1AGMfvoPtBJ",
    "outputId": "a6c1e719-e0d4-42b7-df6a-7ee86f06d710"
   },
   "outputs": [
    {
     "data": {
      "text/plain": [
       "[0, 1, 2, 3, 4, 5, 6, 7, 8, 9, 10, 11, 12, 13, 14]"
      ]
     },
     "execution_count": 26,
     "metadata": {},
     "output_type": "execute_result"
    }
   ],
   "source": [
    "list(range(15))"
   ]
  },
  {
   "cell_type": "code",
   "execution_count": 27,
   "metadata": {
    "colab": {
     "base_uri": "https://localhost:8080/",
     "height": 35
    },
    "colab_type": "code",
    "executionInfo": {
     "elapsed": 424,
     "status": "ok",
     "timestamp": 1566179131347,
     "user": {
      "displayName": "Ruikang Wang",
      "photoUrl": "https://lh6.googleusercontent.com/-sxpbEWf-1Ng/AAAAAAAAAAI/AAAAAAAAAJ4/3m9qUw3an_4/s64/photo.jpg",
      "userId": "10914323651690992949"
     },
     "user_tz": 240
    },
    "id": "w0cG5f_SvyMg",
    "outputId": "f5e27f83-58ff-4af0-da1a-78d1c514f263"
   },
   "outputs": [
    {
     "data": {
      "text/plain": [
       "array([ 0,  1,  2,  3,  4,  5,  6,  7,  8,  9, 10, 11, 12, 13, 14])"
      ]
     },
     "execution_count": 27,
     "metadata": {},
     "output_type": "execute_result"
    }
   ],
   "source": [
    "np.array(range(15))"
   ]
  },
  {
   "cell_type": "code",
   "execution_count": 20,
   "metadata": {
    "colab": {
     "base_uri": "https://localhost:8080/",
     "height": 35
    },
    "colab_type": "code",
    "executionInfo": {
     "elapsed": 465,
     "status": "ok",
     "timestamp": 1566179132446,
     "user": {
      "displayName": "Ruikang Wang",
      "photoUrl": "https://lh6.googleusercontent.com/-sxpbEWf-1Ng/AAAAAAAAAAI/AAAAAAAAAJ4/3m9qUw3an_4/s64/photo.jpg",
      "userId": "10914323651690992949"
     },
     "user_tz": 240
    },
    "id": "-054GML7Jb5H",
    "outputId": "40924373-d782-4ab9-b6d9-db6195f5862e"
   },
   "outputs": [
    {
     "data": {
      "text/plain": [
       "array([ 5,  6,  7,  8,  9, 10, 11, 12, 13, 14, 15, 16, 17, 18, 19])"
      ]
     },
     "execution_count": 20,
     "metadata": {},
     "output_type": "execute_result"
    }
   ],
   "source": [
    "np.arange(5,20)"
   ]
  },
  {
   "cell_type": "code",
   "execution_count": 21,
   "metadata": {
    "colab": {
     "base_uri": "https://localhost:8080/",
     "height": 35
    },
    "colab_type": "code",
    "executionInfo": {
     "elapsed": 384,
     "status": "ok",
     "timestamp": 1566179134207,
     "user": {
      "displayName": "Ruikang Wang",
      "photoUrl": "https://lh6.googleusercontent.com/-sxpbEWf-1Ng/AAAAAAAAAAI/AAAAAAAAAJ4/3m9qUw3an_4/s64/photo.jpg",
      "userId": "10914323651690992949"
     },
     "user_tz": 240
    },
    "id": "U7IXBuq8QUWK",
    "outputId": "88f8cffb-06a0-4c50-c45e-d581fad5db60"
   },
   "outputs": [
    {
     "data": {
      "text/plain": [
       "array([ 5,  6,  7,  8,  9, 10, 11, 12, 13, 14, 15, 16, 17, 18, 19])"
      ]
     },
     "execution_count": 21,
     "metadata": {},
     "output_type": "execute_result"
    }
   ],
   "source": [
    "np.array(range(5,20))"
   ]
  },
  {
   "cell_type": "code",
   "execution_count": 22,
   "metadata": {
    "colab": {
     "base_uri": "https://localhost:8080/",
     "height": 35
    },
    "colab_type": "code",
    "executionInfo": {
     "elapsed": 366,
     "status": "ok",
     "timestamp": 1566179136629,
     "user": {
      "displayName": "Ruikang Wang",
      "photoUrl": "https://lh6.googleusercontent.com/-sxpbEWf-1Ng/AAAAAAAAAAI/AAAAAAAAAJ4/3m9qUw3an_4/s64/photo.jpg",
      "userId": "10914323651690992949"
     },
     "user_tz": 240
    },
    "id": "cxpfKKKQv0xb",
    "outputId": "47dc581f-712d-4733-a522-be629afd8c6a"
   },
   "outputs": [
    {
     "data": {
      "text/plain": [
       "array([ 0,  1,  2,  3,  4,  5,  6,  7,  8,  9, 10, 11, 12, 13, 14])"
      ]
     },
     "execution_count": 22,
     "metadata": {},
     "output_type": "execute_result"
    }
   ],
   "source": [
    "np.array([0,1,2,3,4,5,6,7,8,9,10,11,12,13,14])"
   ]
  },
  {
   "cell_type": "code",
   "execution_count": 23,
   "metadata": {
    "colab": {
     "base_uri": "https://localhost:8080/",
     "height": 35
    },
    "colab_type": "code",
    "executionInfo": {
     "elapsed": 1176,
     "status": "ok",
     "timestamp": 1566179139565,
     "user": {
      "displayName": "Ruikang Wang",
      "photoUrl": "https://lh6.googleusercontent.com/-sxpbEWf-1Ng/AAAAAAAAAAI/AAAAAAAAAJ4/3m9qUw3an_4/s64/photo.jpg",
      "userId": "10914323651690992949"
     },
     "user_tz": 240
    },
    "id": "Ex3JCCxRxq41",
    "outputId": "7a5e5909-3bad-4854-f156-a0a01e5ce715"
   },
   "outputs": [
    {
     "data": {
      "text/plain": [
       "array([ 2,  4,  6,  8, 10, 12, 14, 16])"
      ]
     },
     "execution_count": 23,
     "metadata": {},
     "output_type": "execute_result"
    }
   ],
   "source": [
    "a =  np.arange(2,17,2)\n",
    "a"
   ]
  },
  {
   "cell_type": "code",
   "execution_count": 32,
   "metadata": {
    "colab": {
     "base_uri": "https://localhost:8080/",
     "height": 190
    },
    "colab_type": "code",
    "executionInfo": {
     "elapsed": 370,
     "status": "ok",
     "timestamp": 1566179149718,
     "user": {
      "displayName": "Ruikang Wang",
      "photoUrl": "https://lh6.googleusercontent.com/-sxpbEWf-1Ng/AAAAAAAAAAI/AAAAAAAAAJ4/3m9qUw3an_4/s64/photo.jpg",
      "userId": "10914323651690992949"
     },
     "user_tz": 240
    },
    "id": "wbRe7DdHxtCc",
    "outputId": "895f5fdf-8cac-4df2-8cc2-c92bffb6596c"
   },
   "outputs": [
    {
     "data": {
      "text/plain": [
       "array([  1.,   2.,   3.,   4.,   5.,   6.,   7.,   8.,   9.,  10.,  11.,\n",
       "        12.,  13.,  14.,  15.,  16.,  17.,  18.,  19.,  20.,  21.,  22.,\n",
       "        23.,  24.,  25.,  26.,  27.,  28.,  29.,  30.,  31.,  32.,  33.,\n",
       "        34.,  35.,  36.,  37.,  38.,  39.,  40.,  41.,  42.,  43.,  44.,\n",
       "        45.,  46.,  47.,  48.,  49.,  50.,  51.,  52.,  53.,  54.,  55.,\n",
       "        56.,  57.,  58.,  59.,  60.,  61.,  62.,  63.,  64.,  65.,  66.,\n",
       "        67.,  68.,  69.,  70.,  71.,  72.,  73.,  74.,  75.,  76.,  77.,\n",
       "        78.,  79.,  80.,  81.,  82.,  83.,  84.,  85.,  86.,  87.,  88.,\n",
       "        89.,  90.,  91.,  92.,  93.,  94.,  95.,  96.,  97.,  98.,  99.,\n",
       "       100.])"
      ]
     },
     "execution_count": 32,
     "metadata": {},
     "output_type": "execute_result"
    }
   ],
   "source": [
    "b = np.linspace(1,100,100)\n",
    "b"
   ]
  },
  {
   "cell_type": "code",
   "execution_count": 33,
   "metadata": {
    "colab": {
     "base_uri": "https://localhost:8080/",
     "height": 52
    },
    "colab_type": "code",
    "executionInfo": {
     "elapsed": 279,
     "status": "ok",
     "timestamp": 1566179137261,
     "user": {
      "displayName": "Ruikang Wang",
      "photoUrl": "https://lh6.googleusercontent.com/-sxpbEWf-1Ng/AAAAAAAAAAI/AAAAAAAAAJ4/3m9qUw3an_4/s64/photo.jpg",
      "userId": "10914323651690992949"
     },
     "user_tz": 240
    },
    "id": "vWTD8jhrv4m_",
    "outputId": "7b60ca65-13f4-4abe-c564-8eb446e16781"
   },
   "outputs": [
    {
     "data": {
      "text/plain": [
       "array([[1, 2, 3, 4],\n",
       "       [5, 6, 7, 8]])"
      ]
     },
     "execution_count": 33,
     "metadata": {},
     "output_type": "execute_result"
    }
   ],
   "source": [
    "data_2 = np.array([[1,2,3,4],[5,6,7,8]])\n",
    "data_2"
   ]
  },
  {
   "cell_type": "code",
   "execution_count": 34,
   "metadata": {
    "colab": {
     "base_uri": "https://localhost:8080/",
     "height": 35
    },
    "colab_type": "code",
    "executionInfo": {
     "elapsed": 307,
     "status": "ok",
     "timestamp": 1566179137988,
     "user": {
      "displayName": "Ruikang Wang",
      "photoUrl": "https://lh6.googleusercontent.com/-sxpbEWf-1Ng/AAAAAAAAAAI/AAAAAAAAAJ4/3m9qUw3an_4/s64/photo.jpg",
      "userId": "10914323651690992949"
     },
     "user_tz": 240
    },
    "id": "ecJOWDhAwWMP",
    "outputId": "4b6eb588-ddd8-4e51-8048-b955e9bbad6a"
   },
   "outputs": [
    {
     "data": {
      "text/plain": [
       "(2, 4)"
      ]
     },
     "execution_count": 34,
     "metadata": {},
     "output_type": "execute_result"
    }
   ],
   "source": [
    "data_2.shape"
   ]
  },
  {
   "cell_type": "markdown",
   "metadata": {
    "colab_type": "text",
    "id": "8iNIhErMwfNr"
   },
   "source": [
    "Some useful and common initialization:\n",
    "1. All 0\n",
    "2. All 1\n",
    "3. Identity\n",
    "4. Random (mentioned)"
   ]
  },
  {
   "cell_type": "code",
   "execution_count": 26,
   "metadata": {
    "colab": {
     "base_uri": "https://localhost:8080/",
     "height": 190
    },
    "colab_type": "code",
    "executionInfo": {
     "elapsed": 378,
     "status": "ok",
     "timestamp": 1566179155392,
     "user": {
      "displayName": "Ruikang Wang",
      "photoUrl": "https://lh6.googleusercontent.com/-sxpbEWf-1Ng/AAAAAAAAAAI/AAAAAAAAAJ4/3m9qUw3an_4/s64/photo.jpg",
      "userId": "10914323651690992949"
     },
     "user_tz": 240
    },
    "id": "C6iMaiH7waCI",
    "outputId": "9b9ef1b8-1d9e-4038-b509-c8448917c476"
   },
   "outputs": [
    {
     "data": {
      "text/plain": [
       "array([[0, 0, 0, 0],\n",
       "       [0, 0, 0, 0],\n",
       "       [0, 0, 0, 0],\n",
       "       [0, 0, 0, 0],\n",
       "       [0, 0, 0, 0],\n",
       "       [0, 0, 0, 0],\n",
       "       [0, 0, 0, 0],\n",
       "       [0, 0, 0, 0],\n",
       "       [0, 0, 0, 0],\n",
       "       [0, 0, 0, 0]])"
      ]
     },
     "execution_count": 26,
     "metadata": {},
     "output_type": "execute_result"
    }
   ],
   "source": [
    "np.zeros((10,4),dtype=int)"
   ]
  },
  {
   "cell_type": "code",
   "execution_count": 28,
   "metadata": {
    "colab": {
     "base_uri": "https://localhost:8080/",
     "height": 35
    },
    "colab_type": "code",
    "executionInfo": {
     "elapsed": 385,
     "status": "ok",
     "timestamp": 1566179156325,
     "user": {
      "displayName": "Ruikang Wang",
      "photoUrl": "https://lh6.googleusercontent.com/-sxpbEWf-1Ng/AAAAAAAAAAI/AAAAAAAAAJ4/3m9qUw3an_4/s64/photo.jpg",
      "userId": "10914323651690992949"
     },
     "user_tz": 240
    },
    "id": "vt8bx5MWwmcS",
    "outputId": "c5de03f9-bae1-42b0-b5de-169adee8cd17"
   },
   "outputs": [
    {
     "data": {
      "text/plain": [
       "array([[0., 0., 0., 0.],\n",
       "       [0., 0., 0., 0.],\n",
       "       [0., 0., 0., 0.],\n",
       "       [0., 0., 0., 0.],\n",
       "       [0., 0., 0., 0.],\n",
       "       [0., 0., 0., 0.],\n",
       "       [0., 0., 0., 0.],\n",
       "       [0., 0., 0., 0.],\n",
       "       [0., 0., 0., 0.],\n",
       "       [0., 0., 0., 0.]])"
      ]
     },
     "execution_count": 28,
     "metadata": {},
     "output_type": "execute_result"
    }
   ],
   "source": [
    "np.zeros([10,4])"
   ]
  },
  {
   "cell_type": "code",
   "execution_count": 29,
   "metadata": {
    "colab": {
     "base_uri": "https://localhost:8080/",
     "height": 35
    },
    "colab_type": "code",
    "executionInfo": {
     "elapsed": 430,
     "status": "ok",
     "timestamp": 1566179157793,
     "user": {
      "displayName": "Ruikang Wang",
      "photoUrl": "https://lh6.googleusercontent.com/-sxpbEWf-1Ng/AAAAAAAAAAI/AAAAAAAAAJ4/3m9qUw3an_4/s64/photo.jpg",
      "userId": "10914323651690992949"
     },
     "user_tz": 240
    },
    "id": "e4qVCIC_wqjz",
    "outputId": "18b1cdc2-b76c-49d0-cd76-a07abffd43cb"
   },
   "outputs": [
    {
     "data": {
      "text/plain": [
       "dtype('float64')"
      ]
     },
     "execution_count": 29,
     "metadata": {},
     "output_type": "execute_result"
    }
   ],
   "source": [
    "np.zeros([10,4]).dtype"
   ]
  },
  {
   "cell_type": "code",
   "execution_count": 38,
   "metadata": {
    "colab": {
     "base_uri": "https://localhost:8080/",
     "height": 69
    },
    "colab_type": "code",
    "executionInfo": {
     "elapsed": 396,
     "status": "ok",
     "timestamp": 1566179160029,
     "user": {
      "displayName": "Ruikang Wang",
      "photoUrl": "https://lh6.googleusercontent.com/-sxpbEWf-1Ng/AAAAAAAAAAI/AAAAAAAAAJ4/3m9qUw3an_4/s64/photo.jpg",
      "userId": "10914323651690992949"
     },
     "user_tz": 240
    },
    "id": "KWDHCRmawsOT",
    "outputId": "30c57a71-f222-489c-f3df-6218c1647992"
   },
   "outputs": [
    {
     "data": {
      "text/plain": [
       "array([[1., 1., 1., 1.],\n",
       "       [1., 1., 1., 1.],\n",
       "       [1., 1., 1., 1.]])"
      ]
     },
     "execution_count": 38,
     "metadata": {},
     "output_type": "execute_result"
    }
   ],
   "source": [
    "np.ones([3,4])"
   ]
  },
  {
   "cell_type": "code",
   "execution_count": 30,
   "metadata": {
    "colab": {
     "base_uri": "https://localhost:8080/",
     "height": 173
    },
    "colab_type": "code",
    "executionInfo": {
     "elapsed": 284,
     "status": "ok",
     "timestamp": 1566179160735,
     "user": {
      "displayName": "Ruikang Wang",
      "photoUrl": "https://lh6.googleusercontent.com/-sxpbEWf-1Ng/AAAAAAAAAAI/AAAAAAAAAJ4/3m9qUw3an_4/s64/photo.jpg",
      "userId": "10914323651690992949"
     },
     "user_tz": 240
    },
    "id": "SWsBxov0x5He",
    "outputId": "6e9f43fa-5af9-4ba9-9044-17f5ed540e20"
   },
   "outputs": [
    {
     "data": {
      "text/plain": [
       "array([[1., 0., 0., 0., 0., 0., 0., 0., 0.],\n",
       "       [0., 1., 0., 0., 0., 0., 0., 0., 0.],\n",
       "       [0., 0., 1., 0., 0., 0., 0., 0., 0.],\n",
       "       [0., 0., 0., 1., 0., 0., 0., 0., 0.],\n",
       "       [0., 0., 0., 0., 1., 0., 0., 0., 0.],\n",
       "       [0., 0., 0., 0., 0., 1., 0., 0., 0.],\n",
       "       [0., 0., 0., 0., 0., 0., 1., 0., 0.],\n",
       "       [0., 0., 0., 0., 0., 0., 0., 1., 0.],\n",
       "       [0., 0., 0., 0., 0., 0., 0., 0., 1.]])"
      ]
     },
     "execution_count": 30,
     "metadata": {},
     "output_type": "execute_result"
    }
   ],
   "source": [
    "np.identity(9)"
   ]
  },
  {
   "cell_type": "code",
   "execution_count": 32,
   "metadata": {
    "colab": {
     "base_uri": "https://localhost:8080/",
     "height": 52
    },
    "colab_type": "code",
    "executionInfo": {
     "elapsed": 372,
     "status": "ok",
     "timestamp": 1566179169168,
     "user": {
      "displayName": "Ruikang Wang",
      "photoUrl": "https://lh6.googleusercontent.com/-sxpbEWf-1Ng/AAAAAAAAAAI/AAAAAAAAAJ4/3m9qUw3an_4/s64/photo.jpg",
      "userId": "10914323651690992949"
     },
     "user_tz": 240
    },
    "id": "H700NLa_x2wx",
    "outputId": "c0fd2a07-fd0e-430f-abef-b5f3e5225484"
   },
   "outputs": [
    {
     "data": {
      "text/plain": [
       "array([[ 0.1109, -1.151 ,  0.3757, -0.6006, -0.2917],\n",
       "       [-0.6017,  1.8523, -0.0135, -1.0577,  0.8225]])"
      ]
     },
     "execution_count": 32,
     "metadata": {},
     "output_type": "execute_result"
    }
   ],
   "source": [
    "np.random.randn(2,5)"
   ]
  },
  {
   "cell_type": "markdown",
   "metadata": {},
   "source": [
    "dtype: data type"
   ]
  },
  {
   "cell_type": "code",
   "execution_count": 33,
   "metadata": {
    "colab": {
     "base_uri": "https://localhost:8080/",
     "height": 52
    },
    "colab_type": "code",
    "executionInfo": {
     "elapsed": 377,
     "status": "ok",
     "timestamp": 1566179170151,
     "user": {
      "displayName": "Ruikang Wang",
      "photoUrl": "https://lh6.googleusercontent.com/-sxpbEWf-1Ng/AAAAAAAAAAI/AAAAAAAAAJ4/3m9qUw3an_4/s64/photo.jpg",
      "userId": "10914323651690992949"
     },
     "user_tz": 240
    },
    "id": "UWGuul4m2zdX",
    "outputId": "bfe72ee2-acae-4b8e-da18-07ee120d8f40"
   },
   "outputs": [
    {
     "name": "stdout",
     "output_type": "stream",
     "text": [
      "int32\n",
      "float64\n"
     ]
    }
   ],
   "source": [
    "arr1 = np.array([1, 2, 3], dtype=np.float64)\n",
    "arr2 = np.array([1, 2, 3], dtype=np.int32)\n",
    "print(arr2.dtype)\n",
    "print(arr1.dtype)"
   ]
  },
  {
   "cell_type": "code",
   "execution_count": 34,
   "metadata": {
    "colab": {
     "base_uri": "https://localhost:8080/",
     "height": 35
    },
    "colab_type": "code",
    "executionInfo": {
     "elapsed": 373,
     "status": "ok",
     "timestamp": 1566179171390,
     "user": {
      "displayName": "Ruikang Wang",
      "photoUrl": "https://lh6.googleusercontent.com/-sxpbEWf-1Ng/AAAAAAAAAAI/AAAAAAAAAJ4/3m9qUw3an_4/s64/photo.jpg",
      "userId": "10914323651690992949"
     },
     "user_tz": 240
    },
    "id": "Je39KX4d3L4l",
    "outputId": "8b4eb26c-cf93-4ffd-a62a-169a77a9e0ab"
   },
   "outputs": [
    {
     "data": {
      "text/plain": [
       "dtype('float64')"
      ]
     },
     "execution_count": 34,
     "metadata": {},
     "output_type": "execute_result"
    }
   ],
   "source": [
    "arr = np.array([1, 2, 3, 4, 5.0])\n",
    "arr.dtype"
   ]
  },
  {
   "cell_type": "code",
   "execution_count": 35,
   "metadata": {
    "colab": {
     "base_uri": "https://localhost:8080/",
     "height": 35
    },
    "colab_type": "code",
    "executionInfo": {
     "elapsed": 318,
     "status": "ok",
     "timestamp": 1566179172530,
     "user": {
      "displayName": "Ruikang Wang",
      "photoUrl": "https://lh6.googleusercontent.com/-sxpbEWf-1Ng/AAAAAAAAAAI/AAAAAAAAAJ4/3m9qUw3an_4/s64/photo.jpg",
      "userId": "10914323651690992949"
     },
     "user_tz": 240
    },
    "id": "DTLToXW63Qhc",
    "outputId": "971505d6-b02f-4c1b-8da6-85ed6bf0bd5f"
   },
   "outputs": [
    {
     "data": {
      "text/plain": [
       "dtype('int32')"
      ]
     },
     "execution_count": 35,
     "metadata": {},
     "output_type": "execute_result"
    }
   ],
   "source": [
    "arr = np.array([1, 2, 3, 4, 5])\n",
    "arr.dtype"
   ]
  },
  {
   "cell_type": "code",
   "execution_count": 36,
   "metadata": {
    "colab": {
     "base_uri": "https://localhost:8080/",
     "height": 35
    },
    "colab_type": "code",
    "executionInfo": {
     "elapsed": 955,
     "status": "ok",
     "timestamp": 1566179173825,
     "user": {
      "displayName": "Ruikang Wang",
      "photoUrl": "https://lh6.googleusercontent.com/-sxpbEWf-1Ng/AAAAAAAAAAI/AAAAAAAAAJ4/3m9qUw3an_4/s64/photo.jpg",
      "userId": "10914323651690992949"
     },
     "user_tz": 240
    },
    "id": "arV3s63BTotd",
    "outputId": "30dbf5ed-41e3-4684-be3d-fdd500b0ea08"
   },
   "outputs": [
    {
     "data": {
      "text/plain": [
       "array([1, 2, 3, 4, 5])"
      ]
     },
     "execution_count": 36,
     "metadata": {},
     "output_type": "execute_result"
    }
   ],
   "source": [
    "arr"
   ]
  },
  {
   "cell_type": "code",
   "execution_count": 49,
   "metadata": {
    "colab": {
     "base_uri": "https://localhost:8080/",
     "height": 35
    },
    "colab_type": "code",
    "executionInfo": {
     "elapsed": 412,
     "status": "ok",
     "timestamp": 1566179175799,
     "user": {
      "displayName": "Ruikang Wang",
      "photoUrl": "https://lh6.googleusercontent.com/-sxpbEWf-1Ng/AAAAAAAAAAI/AAAAAAAAAJ4/3m9qUw3an_4/s64/photo.jpg",
      "userId": "10914323651690992949"
     },
     "user_tz": 240
    },
    "id": "eesENbEy3TGH",
    "outputId": "079d7d4c-bcb2-4871-f4dd-3ae95ac69d8c"
   },
   "outputs": [
    {
     "data": {
      "text/plain": [
       "array([1., 2., 3., 4., 5.])"
      ]
     },
     "execution_count": 49,
     "metadata": {},
     "output_type": "execute_result"
    }
   ],
   "source": [
    "## astype method can transform the data type in the array\n",
    "float_arr = arr.astype(numpy.float64)\n",
    "float_arr"
   ]
  },
  {
   "cell_type": "markdown",
   "metadata": {
    "colab_type": "text",
    "id": "PeBfos2H5Dg6"
   },
   "source": [
    "Vectorized computation:"
   ]
  },
  {
   "cell_type": "code",
   "execution_count": 37,
   "metadata": {
    "colab": {
     "base_uri": "https://localhost:8080/",
     "height": 35
    },
    "colab_type": "code",
    "executionInfo": {
     "elapsed": 367,
     "status": "ok",
     "timestamp": 1566179177474,
     "user": {
      "displayName": "Ruikang Wang",
      "photoUrl": "https://lh6.googleusercontent.com/-sxpbEWf-1Ng/AAAAAAAAAAI/AAAAAAAAAJ4/3m9qUw3an_4/s64/photo.jpg",
      "userId": "10914323651690992949"
     },
     "user_tz": 240
    },
    "id": "TljKE2aw3Zig",
    "outputId": "00c39bad-7d48-4afc-cb63-27bc4191112e"
   },
   "outputs": [
    {
     "data": {
      "text/plain": [
       "array([1, 2, 3, 4, 5])"
      ]
     },
     "execution_count": 37,
     "metadata": {},
     "output_type": "execute_result"
    }
   ],
   "source": [
    "arr"
   ]
  },
  {
   "cell_type": "code",
   "execution_count": 51,
   "metadata": {
    "colab": {
     "base_uri": "https://localhost:8080/",
     "height": 35
    },
    "colab_type": "code",
    "executionInfo": {
     "elapsed": 355,
     "status": "ok",
     "timestamp": 1566179178189,
     "user": {
      "displayName": "Ruikang Wang",
      "photoUrl": "https://lh6.googleusercontent.com/-sxpbEWf-1Ng/AAAAAAAAAAI/AAAAAAAAAJ4/3m9qUw3an_4/s64/photo.jpg",
      "userId": "10914323651690992949"
     },
     "user_tz": 240
    },
    "id": "KZaZQkNL5Gx0",
    "outputId": "e74b588c-878d-4847-d532-5ceb0950ad21"
   },
   "outputs": [
    {
     "data": {
      "text/plain": [
       "array([1.    , 0.5   , 0.3333, 0.25  , 0.2   ])"
      ]
     },
     "execution_count": 51,
     "metadata": {},
     "output_type": "execute_result"
    }
   ],
   "source": [
    "1 / arr"
   ]
  },
  {
   "cell_type": "code",
   "execution_count": 52,
   "metadata": {
    "colab": {
     "base_uri": "https://localhost:8080/",
     "height": 35
    },
    "colab_type": "code",
    "executionInfo": {
     "elapsed": 690,
     "status": "ok",
     "timestamp": 1566179179189,
     "user": {
      "displayName": "Ruikang Wang",
      "photoUrl": "https://lh6.googleusercontent.com/-sxpbEWf-1Ng/AAAAAAAAAAI/AAAAAAAAAJ4/3m9qUw3an_4/s64/photo.jpg",
      "userId": "10914323651690992949"
     },
     "user_tz": 240
    },
    "id": "-w78usBj5Hrp",
    "outputId": "0bf76837-d755-438d-c7f8-f684f0278220"
   },
   "outputs": [
    {
     "data": {
      "text/plain": [
       "array([ 1,  4,  9, 16, 25], dtype=int32)"
      ]
     },
     "execution_count": 52,
     "metadata": {},
     "output_type": "execute_result"
    }
   ],
   "source": [
    "arr ** 2"
   ]
  },
  {
   "cell_type": "code",
   "execution_count": 38,
   "metadata": {
    "colab": {
     "base_uri": "https://localhost:8080/",
     "height": 35
    },
    "colab_type": "code",
    "executionInfo": {
     "elapsed": 242,
     "status": "ok",
     "timestamp": 1566179179202,
     "user": {
      "displayName": "Ruikang Wang",
      "photoUrl": "https://lh6.googleusercontent.com/-sxpbEWf-1Ng/AAAAAAAAAAI/AAAAAAAAAJ4/3m9qUw3an_4/s64/photo.jpg",
      "userId": "10914323651690992949"
     },
     "user_tz": 240
    },
    "id": "R_11U6dj5I9q",
    "outputId": "18ef931a-5556-4fca-e6e7-7fb4338f9f99"
   },
   "outputs": [
    {
     "data": {
      "text/plain": [
       "array([ 1,  4,  9, 16, 25])"
      ]
     },
     "execution_count": 38,
     "metadata": {},
     "output_type": "execute_result"
    }
   ],
   "source": [
    "arr * arr"
   ]
  },
  {
   "cell_type": "markdown",
   "metadata": {
    "colab_type": "text",
    "id": "lSD3rYIU5iWT"
   },
   "source": [
    "Slicing and indexing:"
   ]
  },
  {
   "cell_type": "code",
   "execution_count": 40,
   "metadata": {
    "colab": {
     "base_uri": "https://localhost:8080/",
     "height": 52
    },
    "colab_type": "code",
    "executionInfo": {
     "elapsed": 411,
     "status": "ok",
     "timestamp": 1566179193852,
     "user": {
      "displayName": "Ruikang Wang",
      "photoUrl": "https://lh6.googleusercontent.com/-sxpbEWf-1Ng/AAAAAAAAAAI/AAAAAAAAAJ4/3m9qUw3an_4/s64/photo.jpg",
      "userId": "10914323651690992949"
     },
     "user_tz": 240
    },
    "id": "Qlhpb7G75KR4",
    "outputId": "34dd7238-fe64-4e77-b432-a20c04c80b31"
   },
   "outputs": [
    {
     "name": "stdout",
     "output_type": "stream",
     "text": [
      "arr is :  [0 1 2 3 4] int32\n"
     ]
    },
    {
     "data": {
      "text/plain": [
       "array([ True,  True,  True,  True,  True])"
      ]
     },
     "execution_count": 40,
     "metadata": {},
     "output_type": "execute_result"
    }
   ],
   "source": [
    "arr = np.arange(5)\n",
    "print(\"arr is : \",arr, arr.dtype)\n",
    "arr == [0,1,2,3,4]"
   ]
  },
  {
   "cell_type": "code",
   "execution_count": 41,
   "metadata": {
    "colab": {
     "base_uri": "https://localhost:8080/",
     "height": 35
    },
    "colab_type": "code",
    "executionInfo": {
     "elapsed": 265,
     "status": "ok",
     "timestamp": 1566179194541,
     "user": {
      "displayName": "Ruikang Wang",
      "photoUrl": "https://lh6.googleusercontent.com/-sxpbEWf-1Ng/AAAAAAAAAAI/AAAAAAAAAJ4/3m9qUw3an_4/s64/photo.jpg",
      "userId": "10914323651690992949"
     },
     "user_tz": 240
    },
    "id": "IbJx3xC46hJu",
    "outputId": "81ff1671-21f2-491a-c7be-3fe20b3c6bf3"
   },
   "outputs": [
    {
     "data": {
      "text/plain": [
       "False"
      ]
     },
     "execution_count": 41,
     "metadata": {},
     "output_type": "execute_result"
    }
   ],
   "source": [
    "## is v.s. ==\n",
    "arr is np.array([0,1,2,3,4])"
   ]
  },
  {
   "cell_type": "code",
   "execution_count": 42,
   "metadata": {
    "colab": {
     "base_uri": "https://localhost:8080/",
     "height": 35
    },
    "colab_type": "code",
    "executionInfo": {
     "elapsed": 352,
     "status": "ok",
     "timestamp": 1566179195351,
     "user": {
      "displayName": "Ruikang Wang",
      "photoUrl": "https://lh6.googleusercontent.com/-sxpbEWf-1Ng/AAAAAAAAAAI/AAAAAAAAAJ4/3m9qUw3an_4/s64/photo.jpg",
      "userId": "10914323651690992949"
     },
     "user_tz": 240
    },
    "id": "EAHm1TL77MOj",
    "outputId": "669032a5-80fa-41fa-9f9d-5b939729b897"
   },
   "outputs": [
    {
     "data": {
      "text/plain": [
       "array([ True,  True,  True,  True,  True])"
      ]
     },
     "execution_count": 42,
     "metadata": {},
     "output_type": "execute_result"
    }
   ],
   "source": [
    "arr == np.array([0,1,2,3,4])"
   ]
  },
  {
   "cell_type": "code",
   "execution_count": 43,
   "metadata": {
    "colab": {
     "base_uri": "https://localhost:8080/",
     "height": 35
    },
    "colab_type": "code",
    "executionInfo": {
     "elapsed": 264,
     "status": "ok",
     "timestamp": 1566179196072,
     "user": {
      "displayName": "Ruikang Wang",
      "photoUrl": "https://lh6.googleusercontent.com/-sxpbEWf-1Ng/AAAAAAAAAAI/AAAAAAAAAJ4/3m9qUw3an_4/s64/photo.jpg",
      "userId": "10914323651690992949"
     },
     "user_tz": 240
    },
    "id": "8uby_nID7NwN",
    "outputId": "16f25fff-229e-41d3-ade9-724f07dddde4"
   },
   "outputs": [
    {
     "data": {
      "text/plain": [
       "array([0, 1, 2, 3, 4, 5, 6, 7, 8, 9])"
      ]
     },
     "execution_count": 43,
     "metadata": {},
     "output_type": "execute_result"
    }
   ],
   "source": [
    "arr_2 = np.arange(10)\n",
    "arr_2"
   ]
  },
  {
   "cell_type": "code",
   "execution_count": 44,
   "metadata": {
    "colab": {
     "base_uri": "https://localhost:8080/",
     "height": 35
    },
    "colab_type": "code",
    "executionInfo": {
     "elapsed": 407,
     "status": "ok",
     "timestamp": 1566179197114,
     "user": {
      "displayName": "Ruikang Wang",
      "photoUrl": "https://lh6.googleusercontent.com/-sxpbEWf-1Ng/AAAAAAAAAAI/AAAAAAAAAJ4/3m9qUw3an_4/s64/photo.jpg",
      "userId": "10914323651690992949"
     },
     "user_tz": 240
    },
    "id": "UBS1LjPW7YQm",
    "outputId": "c1b9afa5-4d2e-4c2b-d03b-ce5ee5220196"
   },
   "outputs": [
    {
     "data": {
      "text/plain": [
       "array([5, 6, 7])"
      ]
     },
     "execution_count": 44,
     "metadata": {},
     "output_type": "execute_result"
    }
   ],
   "source": [
    "arr_2[5 : 8]"
   ]
  },
  {
   "cell_type": "code",
   "execution_count": 45,
   "metadata": {
    "colab": {
     "base_uri": "https://localhost:8080/",
     "height": 35
    },
    "colab_type": "code",
    "executionInfo": {
     "elapsed": 384,
     "status": "ok",
     "timestamp": 1566179198095,
     "user": {
      "displayName": "Ruikang Wang",
      "photoUrl": "https://lh6.googleusercontent.com/-sxpbEWf-1Ng/AAAAAAAAAAI/AAAAAAAAAJ4/3m9qUw3an_4/s64/photo.jpg",
      "userId": "10914323651690992949"
     },
     "user_tz": 240
    },
    "id": "1Z551Hwb7SwL",
    "outputId": "6ab6722b-b6b3-4ca3-bda5-71f9a1e0db65"
   },
   "outputs": [
    {
     "data": {
      "text/plain": [
       "array([ True,  True,  True])"
      ]
     },
     "execution_count": 45,
     "metadata": {},
     "output_type": "execute_result"
    }
   ],
   "source": [
    "arr_2[5 : 8] == np.array([5,6,7])"
   ]
  },
  {
   "cell_type": "code",
   "execution_count": 46,
   "metadata": {
    "colab": {
     "base_uri": "https://localhost:8080/",
     "height": 35
    },
    "colab_type": "code",
    "executionInfo": {
     "elapsed": 524,
     "status": "ok",
     "timestamp": 1566179199754,
     "user": {
      "displayName": "Ruikang Wang",
      "photoUrl": "https://lh6.googleusercontent.com/-sxpbEWf-1Ng/AAAAAAAAAAI/AAAAAAAAAJ4/3m9qUw3an_4/s64/photo.jpg",
      "userId": "10914323651690992949"
     },
     "user_tz": 240
    },
    "id": "HQ2HT_5n7WWB",
    "outputId": "a0a0c758-5ce7-4352-8733-557dc6ab5fed"
   },
   "outputs": [
    {
     "data": {
      "text/plain": [
       "array([  0,   1,   2, 100,   4,   5,   6,   7,   8,   9])"
      ]
     },
     "execution_count": 46,
     "metadata": {},
     "output_type": "execute_result"
    }
   ],
   "source": [
    "arr_2[3] = 100\n",
    "arr_2"
   ]
  },
  {
   "cell_type": "code",
   "execution_count": 47,
   "metadata": {
    "colab": {
     "base_uri": "https://localhost:8080/",
     "height": 35
    },
    "colab_type": "code",
    "executionInfo": {
     "elapsed": 399,
     "status": "ok",
     "timestamp": 1566179200038,
     "user": {
      "displayName": "Ruikang Wang",
      "photoUrl": "https://lh6.googleusercontent.com/-sxpbEWf-1Ng/AAAAAAAAAAI/AAAAAAAAAJ4/3m9qUw3an_4/s64/photo.jpg",
      "userId": "10914323651690992949"
     },
     "user_tz": 240
    },
    "id": "YgNcBrtU7joa",
    "outputId": "7c37d107-25b3-4da2-a30b-a2cfaf8be4d5"
   },
   "outputs": [
    {
     "data": {
      "text/plain": [
       "array([  0,   1,   2, 100,  42,  42,  42,   7,   8,   9])"
      ]
     },
     "execution_count": 47,
     "metadata": {},
     "output_type": "execute_result"
    }
   ],
   "source": [
    "arr_2[4:7] = 42\n",
    "arr_2"
   ]
  },
  {
   "cell_type": "code",
   "execution_count": 62,
   "metadata": {
    "colab": {
     "base_uri": "https://localhost:8080/",
     "height": 35
    },
    "colab_type": "code",
    "executionInfo": {
     "elapsed": 372,
     "status": "ok",
     "timestamp": 1566179200631,
     "user": {
      "displayName": "Ruikang Wang",
      "photoUrl": "https://lh6.googleusercontent.com/-sxpbEWf-1Ng/AAAAAAAAAAI/AAAAAAAAAJ4/3m9qUw3an_4/s64/photo.jpg",
      "userId": "10914323651690992949"
     },
     "user_tz": 240
    },
    "id": "5Bmieo2P9zHJ",
    "outputId": "e23001fd-23b8-4105-c339-0929014e5504"
   },
   "outputs": [
    {
     "data": {
      "text/plain": [
       "1"
      ]
     },
     "execution_count": 62,
     "metadata": {},
     "output_type": "execute_result"
    }
   ],
   "source": [
    "arr_2.ndim"
   ]
  },
  {
   "cell_type": "code",
   "execution_count": 48,
   "metadata": {
    "colab": {
     "base_uri": "https://localhost:8080/",
     "height": 52
    },
    "colab_type": "code",
    "executionInfo": {
     "elapsed": 488,
     "status": "ok",
     "timestamp": 1566179201372,
     "user": {
      "displayName": "Ruikang Wang",
      "photoUrl": "https://lh6.googleusercontent.com/-sxpbEWf-1Ng/AAAAAAAAAAI/AAAAAAAAAJ4/3m9qUw3an_4/s64/photo.jpg",
      "userId": "10914323651690992949"
     },
     "user_tz": 240
    },
    "id": "iDoFLTtk7oVn",
    "outputId": "bb515482-1425-4c02-c7f8-4e40fc1ba363"
   },
   "outputs": [
    {
     "data": {
      "text/plain": [
       "array([    0,     1,     2,     3,     4,     5, 12345,     7,     8,\n",
       "           9])"
      ]
     },
     "execution_count": 48,
     "metadata": {},
     "output_type": "execute_result"
    }
   ],
   "source": [
    "## Different from list:\n",
    "arr=np.arange(10)##np.arange\n",
    "arr_slice = arr[5:8]\n",
    "arr_slice[1] = 12345\n",
    "arr"
   ]
  },
  {
   "cell_type": "code",
   "execution_count": 49,
   "metadata": {
    "colab": {
     "base_uri": "https://localhost:8080/",
     "height": 35
    },
    "colab_type": "code",
    "executionInfo": {
     "elapsed": 338,
     "status": "ok",
     "timestamp": 1566179203962,
     "user": {
      "displayName": "Ruikang Wang",
      "photoUrl": "https://lh6.googleusercontent.com/-sxpbEWf-1Ng/AAAAAAAAAAI/AAAAAAAAAJ4/3m9qUw3an_4/s64/photo.jpg",
      "userId": "10914323651690992949"
     },
     "user_tz": 240
    },
    "id": "QIOXC6Oo8cur",
    "outputId": "5b699277-7840-4cef-897b-1bab00abf947"
   },
   "outputs": [
    {
     "data": {
      "text/plain": [
       "[0, 1, 2, 3, 4, 5, 6, 7, 8, 9]"
      ]
     },
     "execution_count": 49,
     "metadata": {},
     "output_type": "execute_result"
    }
   ],
   "source": [
    "list_1 = [0,1,2,3,4,5,6,7,8,9]\n",
    "var = list_1[3]\n",
    "var = 88\n",
    "list_1"
   ]
  },
  {
   "cell_type": "code",
   "execution_count": 51,
   "metadata": {
    "colab": {
     "base_uri": "https://localhost:8080/",
     "height": 52
    },
    "colab_type": "code",
    "executionInfo": {
     "elapsed": 389,
     "status": "ok",
     "timestamp": 1566179221834,
     "user": {
      "displayName": "Ruikang Wang",
      "photoUrl": "https://lh6.googleusercontent.com/-sxpbEWf-1Ng/AAAAAAAAAAI/AAAAAAAAAJ4/3m9qUw3an_4/s64/photo.jpg",
      "userId": "10914323651690992949"
     },
     "user_tz": 240
    },
    "id": "qrTxoz_h8lDI",
    "outputId": "d1e07472-c61d-4a86-a0bf-2b4b136e0c61"
   },
   "outputs": [
    {
     "name": "stdout",
     "output_type": "stream",
     "text": [
      "previous arr:  [ 0  1  2  3  4 42 42 42  8  9]\n",
      "now the arr is:  [ 0  1  2  3  4 42 42 42  8  9]\n"
     ]
    }
   ],
   "source": [
    "print('previous arr: ', arr)\n",
    "arr_slice[:] = 42\n",
    "print('now the arr is: ', arr)"
   ]
  },
  {
   "cell_type": "markdown",
   "metadata": {
    "colab_type": "text",
    "id": "n_KYbUQk9aLS"
   },
   "source": [
    "Slicing for multi-dimensional arrays:"
   ]
  },
  {
   "cell_type": "code",
   "execution_count": 53,
   "metadata": {
    "colab": {
     "base_uri": "https://localhost:8080/",
     "height": 52
    },
    "colab_type": "code",
    "executionInfo": {
     "elapsed": 346,
     "status": "ok",
     "timestamp": 1566179336348,
     "user": {
      "displayName": "Ruikang Wang",
      "photoUrl": "https://lh6.googleusercontent.com/-sxpbEWf-1Ng/AAAAAAAAAAI/AAAAAAAAAJ4/3m9qUw3an_4/s64/photo.jpg",
      "userId": "10914323651690992949"
     },
     "user_tz": 240
    },
    "id": "0QbmPsgs81LW",
    "outputId": "079db615-47bc-4b74-8d96-822951512d12"
   },
   "outputs": [
    {
     "data": {
      "text/plain": [
       "array([[1, 2, 3],\n",
       "       [4, 5, 6]])"
      ]
     },
     "execution_count": 53,
     "metadata": {},
     "output_type": "execute_result"
    }
   ],
   "source": [
    "arr2d = np.array([[1, 2, 3], [4, 5, 6], [7, 8, 9]])\n",
    "arr2d[:2]"
   ]
  },
  {
   "cell_type": "code",
   "execution_count": 57,
   "metadata": {},
   "outputs": [
    {
     "data": {
      "text/plain": [
       "(3, 3)"
      ]
     },
     "execution_count": 57,
     "metadata": {},
     "output_type": "execute_result"
    }
   ],
   "source": [
    "arr2d.shape"
   ]
  },
  {
   "cell_type": "code",
   "execution_count": 56,
   "metadata": {
    "colab": {
     "base_uri": "https://localhost:8080/",
     "height": 35
    },
    "colab_type": "code",
    "executionInfo": {
     "elapsed": 453,
     "status": "ok",
     "timestamp": 1566179364245,
     "user": {
      "displayName": "Ruikang Wang",
      "photoUrl": "https://lh6.googleusercontent.com/-sxpbEWf-1Ng/AAAAAAAAAAI/AAAAAAAAAJ4/3m9qUw3an_4/s64/photo.jpg",
      "userId": "10914323651690992949"
     },
     "user_tz": 240
    },
    "id": "gyqACx5f9fIH",
    "outputId": "a5fc7150-ffd2-4f5a-d202-e1e7872d9c1d"
   },
   "outputs": [
    {
     "data": {
      "text/plain": [
       "(3, 9)"
      ]
     },
     "execution_count": 56,
     "metadata": {},
     "output_type": "execute_result"
    }
   ],
   "source": [
    "(arr2d[0][2],arr2d[2, 2])"
   ]
  },
  {
   "cell_type": "code",
   "execution_count": 58,
   "metadata": {
    "colab": {
     "base_uri": "https://localhost:8080/",
     "height": 35
    },
    "colab_type": "code",
    "executionInfo": {
     "elapsed": 395,
     "status": "ok",
     "timestamp": 1566179387521,
     "user": {
      "displayName": "Ruikang Wang",
      "photoUrl": "https://lh6.googleusercontent.com/-sxpbEWf-1Ng/AAAAAAAAAAI/AAAAAAAAAJ4/3m9qUw3an_4/s64/photo.jpg",
      "userId": "10914323651690992949"
     },
     "user_tz": 240
    },
    "id": "JFHMVcEykIrr",
    "outputId": "fba35946-217b-4e9e-ada2-da76ea861818"
   },
   "outputs": [
    {
     "data": {
      "text/plain": [
       "3"
      ]
     },
     "execution_count": 58,
     "metadata": {},
     "output_type": "execute_result"
    }
   ],
   "source": [
    "arr2d[(0,2)]"
   ]
  },
  {
   "cell_type": "code",
   "execution_count": 69,
   "metadata": {
    "colab": {
     "base_uri": "https://localhost:8080/",
     "height": 35
    },
    "colab_type": "code",
    "executionInfo": {
     "elapsed": 427,
     "status": "ok",
     "timestamp": 1566179419361,
     "user": {
      "displayName": "Ruikang Wang",
      "photoUrl": "https://lh6.googleusercontent.com/-sxpbEWf-1Ng/AAAAAAAAAAI/AAAAAAAAAJ4/3m9qUw3an_4/s64/photo.jpg",
      "userId": "10914323651690992949"
     },
     "user_tz": 240
    },
    "id": "O-44l-Pu9jHu",
    "outputId": "5d8789db-0e2a-44a2-ea31-e0e4912a0ad1"
   },
   "outputs": [
    {
     "data": {
      "text/plain": [
       "(3, 3)"
      ]
     },
     "execution_count": 69,
     "metadata": {},
     "output_type": "execute_result"
    }
   ],
   "source": [
    "arr2d.shape"
   ]
  },
  {
   "cell_type": "code",
   "execution_count": 70,
   "metadata": {
    "colab": {
     "base_uri": "https://localhost:8080/",
     "height": 35
    },
    "colab_type": "code",
    "executionInfo": {
     "elapsed": 462,
     "status": "ok",
     "timestamp": 1566179420971,
     "user": {
      "displayName": "Ruikang Wang",
      "photoUrl": "https://lh6.googleusercontent.com/-sxpbEWf-1Ng/AAAAAAAAAAI/AAAAAAAAAJ4/3m9qUw3an_4/s64/photo.jpg",
      "userId": "10914323651690992949"
     },
     "user_tz": 240
    },
    "id": "KgeKHbse93EW",
    "outputId": "259d57ce-7f92-4dfd-d81c-185637e35486"
   },
   "outputs": [
    {
     "data": {
      "text/plain": [
       "2"
      ]
     },
     "execution_count": 70,
     "metadata": {},
     "output_type": "execute_result"
    }
   ],
   "source": [
    "arr2d.ndim"
   ]
  },
  {
   "cell_type": "code",
   "execution_count": 60,
   "metadata": {
    "colab": {
     "base_uri": "https://localhost:8080/",
     "height": 104
    },
    "colab_type": "code",
    "executionInfo": {
     "elapsed": 434,
     "status": "ok",
     "timestamp": 1566179443973,
     "user": {
      "displayName": "Ruikang Wang",
      "photoUrl": "https://lh6.googleusercontent.com/-sxpbEWf-1Ng/AAAAAAAAAAI/AAAAAAAAAJ4/3m9qUw3an_4/s64/photo.jpg",
      "userId": "10914323651690992949"
     },
     "user_tz": 240
    },
    "id": "yhrjvR6D9hRs",
    "outputId": "4f6966ef-467d-40cf-b988-e3a6678b56e3"
   },
   "outputs": [
    {
     "data": {
      "text/plain": [
       "array([[[ 1,  2,  3],\n",
       "        [ 4,  5,  6]],\n",
       "\n",
       "       [[ 7,  8,  9],\n",
       "        [10, 11, 12]]])"
      ]
     },
     "execution_count": 60,
     "metadata": {},
     "output_type": "execute_result"
    }
   ],
   "source": [
    "arr3d = np.array([[[1, 2, 3], [4, 5, 6]], [[7, 8, 9], [10, 11, 12]]])\n",
    "arr3d"
   ]
  },
  {
   "cell_type": "code",
   "execution_count": 61,
   "metadata": {
    "colab": {
     "base_uri": "https://localhost:8080/",
     "height": 35
    },
    "colab_type": "code",
    "executionInfo": {
     "elapsed": 480,
     "status": "ok",
     "timestamp": 1566179485854,
     "user": {
      "displayName": "Ruikang Wang",
      "photoUrl": "https://lh6.googleusercontent.com/-sxpbEWf-1Ng/AAAAAAAAAAI/AAAAAAAAAJ4/3m9qUw3an_4/s64/photo.jpg",
      "userId": "10914323651690992949"
     },
     "user_tz": 240
    },
    "id": "8MCjqzgQkcIp",
    "outputId": "d0b98e4a-4457-47c9-83d4-90b3ffa56a3b"
   },
   "outputs": [
    {
     "data": {
      "text/plain": [
       "3"
      ]
     },
     "execution_count": 61,
     "metadata": {},
     "output_type": "execute_result"
    }
   ],
   "source": [
    "arr3d.ndim"
   ]
  },
  {
   "cell_type": "code",
   "execution_count": 62,
   "metadata": {
    "colab": {
     "base_uri": "https://localhost:8080/",
     "height": 52
    },
    "colab_type": "code",
    "executionInfo": {
     "elapsed": 343,
     "status": "ok",
     "timestamp": 1566179489371,
     "user": {
      "displayName": "Ruikang Wang",
      "photoUrl": "https://lh6.googleusercontent.com/-sxpbEWf-1Ng/AAAAAAAAAAI/AAAAAAAAAJ4/3m9qUw3an_4/s64/photo.jpg",
      "userId": "10914323651690992949"
     },
     "user_tz": 240
    },
    "id": "FaeGwVeDkmWt",
    "outputId": "44e4f554-5a96-4f2e-92e3-126376a64552"
   },
   "outputs": [
    {
     "data": {
      "text/plain": [
       "array([[1, 2, 3],\n",
       "       [4, 5, 6]])"
      ]
     },
     "execution_count": 62,
     "metadata": {},
     "output_type": "execute_result"
    }
   ],
   "source": [
    "arr3d[0]"
   ]
  },
  {
   "cell_type": "code",
   "execution_count": 63,
   "metadata": {
    "colab": {
     "base_uri": "https://localhost:8080/",
     "height": 35
    },
    "colab_type": "code",
    "executionInfo": {
     "elapsed": 404,
     "status": "ok",
     "timestamp": 1566179514002,
     "user": {
      "displayName": "Ruikang Wang",
      "photoUrl": "https://lh6.googleusercontent.com/-sxpbEWf-1Ng/AAAAAAAAAAI/AAAAAAAAAJ4/3m9qUw3an_4/s64/photo.jpg",
      "userId": "10914323651690992949"
     },
     "user_tz": 240
    },
    "id": "MBoHsxnF9tnZ",
    "outputId": "6b880653-3a28-4a1a-cb51-0a244257701c"
   },
   "outputs": [
    {
     "data": {
      "text/plain": [
       "array([7, 8, 9])"
      ]
     },
     "execution_count": 63,
     "metadata": {},
     "output_type": "execute_result"
    }
   ],
   "source": [
    "arr3d[(1,0)]"
   ]
  },
  {
   "cell_type": "code",
   "execution_count": 64,
   "metadata": {
    "colab": {
     "base_uri": "https://localhost:8080/",
     "height": 35
    },
    "colab_type": "code",
    "executionInfo": {
     "elapsed": 450,
     "status": "ok",
     "timestamp": 1566179520148,
     "user": {
      "displayName": "Ruikang Wang",
      "photoUrl": "https://lh6.googleusercontent.com/-sxpbEWf-1Ng/AAAAAAAAAAI/AAAAAAAAAJ4/3m9qUw3an_4/s64/photo.jpg",
      "userId": "10914323651690992949"
     },
     "user_tz": 240
    },
    "id": "l_WngpM0ktQJ",
    "outputId": "2ee11307-a494-4396-f154-8b8573d8667f"
   },
   "outputs": [
    {
     "data": {
      "text/plain": [
       "array([7, 8, 9])"
      ]
     },
     "execution_count": 64,
     "metadata": {},
     "output_type": "execute_result"
    }
   ],
   "source": [
    "arr3d[1][0]"
   ]
  },
  {
   "cell_type": "code",
   "execution_count": 77,
   "metadata": {
    "colab": {
     "base_uri": "https://localhost:8080/",
     "height": 35
    },
    "colab_type": "code",
    "executionInfo": {
     "elapsed": 427,
     "status": "ok",
     "timestamp": 1566179537436,
     "user": {
      "displayName": "Ruikang Wang",
      "photoUrl": "https://lh6.googleusercontent.com/-sxpbEWf-1Ng/AAAAAAAAAAI/AAAAAAAAAJ4/3m9qUw3an_4/s64/photo.jpg",
      "userId": "10914323651690992949"
     },
     "user_tz": 240
    },
    "id": "zBtWLdmCCZuq",
    "outputId": "53a8e90f-7161-474d-8849-a160469afb48"
   },
   "outputs": [
    {
     "data": {
      "text/plain": [
       "array([ 1,  2,  3,  4, 42])"
      ]
     },
     "execution_count": 77,
     "metadata": {},
     "output_type": "execute_result"
    }
   ],
   "source": [
    "arr[1:6]"
   ]
  },
  {
   "cell_type": "code",
   "execution_count": 65,
   "metadata": {
    "colab": {
     "base_uri": "https://localhost:8080/",
     "height": 121
    },
    "colab_type": "code",
    "executionInfo": {
     "elapsed": 418,
     "status": "ok",
     "timestamp": 1566179555520,
     "user": {
      "displayName": "Ruikang Wang",
      "photoUrl": "https://lh6.googleusercontent.com/-sxpbEWf-1Ng/AAAAAAAAAAI/AAAAAAAAAJ4/3m9qUw3an_4/s64/photo.jpg",
      "userId": "10914323651690992949"
     },
     "user_tz": 240
    },
    "id": "7SZFXGxHCbZo",
    "outputId": "13c98ab5-112b-4da8-d47c-6289e9f85960"
   },
   "outputs": [
    {
     "name": "stdout",
     "output_type": "stream",
     "text": [
      "[[1 2 3]\n",
      " [4 5 6]\n",
      " [7 8 9]]\n",
      "----------\n",
      "[[1 2 3]\n",
      " [4 5 6]]\n"
     ]
    }
   ],
   "source": [
    "print(arr2d)\n",
    "print('----------')\n",
    "print(arr2d[:2])"
   ]
  },
  {
   "cell_type": "code",
   "execution_count": 66,
   "metadata": {
    "colab": {
     "base_uri": "https://localhost:8080/",
     "height": 69
    },
    "colab_type": "code",
    "executionInfo": {
     "elapsed": 326,
     "status": "ok",
     "timestamp": 1566179557110,
     "user": {
      "displayName": "Ruikang Wang",
      "photoUrl": "https://lh6.googleusercontent.com/-sxpbEWf-1Ng/AAAAAAAAAAI/AAAAAAAAAJ4/3m9qUw3an_4/s64/photo.jpg",
      "userId": "10914323651690992949"
     },
     "user_tz": 240
    },
    "id": "jciQaKWzk3X2",
    "outputId": "7daf6c3f-c055-4b1b-b3e9-6793220dd552"
   },
   "outputs": [
    {
     "data": {
      "text/plain": [
       "array([[1, 2, 3],\n",
       "       [4, 5, 6],\n",
       "       [7, 8, 9]])"
      ]
     },
     "execution_count": 66,
     "metadata": {},
     "output_type": "execute_result"
    }
   ],
   "source": [
    "arr2d"
   ]
  },
  {
   "cell_type": "code",
   "execution_count": 67,
   "metadata": {
    "colab": {
     "base_uri": "https://localhost:8080/",
     "height": 52
    },
    "colab_type": "code",
    "executionInfo": {
     "elapsed": 450,
     "status": "ok",
     "timestamp": 1566179641727,
     "user": {
      "displayName": "Ruikang Wang",
      "photoUrl": "https://lh6.googleusercontent.com/-sxpbEWf-1Ng/AAAAAAAAAAI/AAAAAAAAAJ4/3m9qUw3an_4/s64/photo.jpg",
      "userId": "10914323651690992949"
     },
     "user_tz": 240
    },
    "id": "38uIStHmCoz-",
    "outputId": "d9728dc9-2aaf-421e-d0cb-feeb3a95579f"
   },
   "outputs": [
    {
     "data": {
      "text/plain": [
       "array([[2, 3],\n",
       "       [5, 6]])"
      ]
     },
     "execution_count": 67,
     "metadata": {},
     "output_type": "execute_result"
    }
   ],
   "source": [
    "arr2d[:2,1:]"
   ]
  },
  {
   "cell_type": "code",
   "execution_count": 68,
   "metadata": {
    "colab": {
     "base_uri": "https://localhost:8080/",
     "height": 69
    },
    "colab_type": "code",
    "executionInfo": {
     "elapsed": 359,
     "status": "ok",
     "timestamp": 1566179700390,
     "user": {
      "displayName": "Ruikang Wang",
      "photoUrl": "https://lh6.googleusercontent.com/-sxpbEWf-1Ng/AAAAAAAAAAI/AAAAAAAAAJ4/3m9qUw3an_4/s64/photo.jpg",
      "userId": "10914323651690992949"
     },
     "user_tz": 240
    },
    "id": "Z7bakHq4lMbd",
    "outputId": "4b1e674a-ad31-4002-acad-38190aa15644"
   },
   "outputs": [
    {
     "data": {
      "text/plain": [
       "array([[1, 2],\n",
       "       [4, 5],\n",
       "       [7, 8]])"
      ]
     },
     "execution_count": 68,
     "metadata": {},
     "output_type": "execute_result"
    }
   ],
   "source": [
    "arr2d[:,:2]"
   ]
  },
  {
   "cell_type": "code",
   "execution_count": 71,
   "metadata": {
    "colab": {
     "base_uri": "https://localhost:8080/",
     "height": 35
    },
    "colab_type": "code",
    "executionInfo": {
     "elapsed": 364,
     "status": "ok",
     "timestamp": 1566179796682,
     "user": {
      "displayName": "Ruikang Wang",
      "photoUrl": "https://lh6.googleusercontent.com/-sxpbEWf-1Ng/AAAAAAAAAAI/AAAAAAAAAJ4/3m9qUw3an_4/s64/photo.jpg",
      "userId": "10914323651690992949"
     },
     "user_tz": 240
    },
    "id": "yW_5fFIcC6Sj",
    "outputId": "819af4f6-acb7-4697-a381-5502ef8a93c2"
   },
   "outputs": [
    {
     "data": {
      "text/plain": [
       "array([[4, 5, 6]])"
      ]
     },
     "execution_count": 71,
     "metadata": {},
     "output_type": "execute_result"
    }
   ],
   "source": [
    "arr2d[:2][1:]"
   ]
  },
  {
   "cell_type": "code",
   "execution_count": 72,
   "metadata": {
    "colab": {
     "base_uri": "https://localhost:8080/",
     "height": 69
    },
    "colab_type": "code",
    "executionInfo": {
     "elapsed": 373,
     "status": "ok",
     "timestamp": 1566179846091,
     "user": {
      "displayName": "Ruikang Wang",
      "photoUrl": "https://lh6.googleusercontent.com/-sxpbEWf-1Ng/AAAAAAAAAAI/AAAAAAAAAJ4/3m9qUw3an_4/s64/photo.jpg",
      "userId": "10914323651690992949"
     },
     "user_tz": 240
    },
    "id": "HYBdKD6lC8Ee",
    "outputId": "901d5b28-de9c-4acc-ba59-48c522a6a0ba"
   },
   "outputs": [
    {
     "data": {
      "text/plain": [
       "array([[1, 0, 0],\n",
       "       [4, 0, 0],\n",
       "       [7, 8, 9]])"
      ]
     },
     "execution_count": 72,
     "metadata": {},
     "output_type": "execute_result"
    }
   ],
   "source": [
    "arr2d[:2,1:] = 0\n",
    "arr2d"
   ]
  },
  {
   "cell_type": "markdown",
   "metadata": {
    "colab_type": "text",
    "id": "lTj7PYqND8h4"
   },
   "source": [
    "Slicing with boolean:"
   ]
  },
  {
   "cell_type": "code",
   "execution_count": 84,
   "metadata": {
    "colab": {
     "base_uri": "https://localhost:8080/",
     "height": 69
    },
    "colab_type": "code",
    "executionInfo": {
     "elapsed": 455,
     "status": "ok",
     "timestamp": 1566179853743,
     "user": {
      "displayName": "Ruikang Wang",
      "photoUrl": "https://lh6.googleusercontent.com/-sxpbEWf-1Ng/AAAAAAAAAAI/AAAAAAAAAJ4/3m9qUw3an_4/s64/photo.jpg",
      "userId": "10914323651690992949"
     },
     "user_tz": 240
    },
    "id": "KXIzdnkkD4Tl",
    "outputId": "8d62b9bb-beca-47c2-9598-a1a682fa2e25"
   },
   "outputs": [
    {
     "data": {
      "text/plain": [
       "array([[1, 0, 0],\n",
       "       [4, 0, 0],\n",
       "       [7, 8, 9]])"
      ]
     },
     "execution_count": 84,
     "metadata": {},
     "output_type": "execute_result"
    }
   ],
   "source": [
    "arr2d"
   ]
  },
  {
   "cell_type": "code",
   "execution_count": 85,
   "metadata": {
    "colab": {
     "base_uri": "https://localhost:8080/",
     "height": 69
    },
    "colab_type": "code",
    "executionInfo": {
     "elapsed": 791,
     "status": "ok",
     "timestamp": 1566179875583,
     "user": {
      "displayName": "Ruikang Wang",
      "photoUrl": "https://lh6.googleusercontent.com/-sxpbEWf-1Ng/AAAAAAAAAAI/AAAAAAAAAJ4/3m9qUw3an_4/s64/photo.jpg",
      "userId": "10914323651690992949"
     },
     "user_tz": 240
    },
    "id": "T-qM2f6ND_zK",
    "outputId": "876896ea-7893-4385-b1a4-918c81371354"
   },
   "outputs": [
    {
     "data": {
      "text/plain": [
       "array([[False,  True,  True],\n",
       "       [False,  True,  True],\n",
       "       [False, False, False]])"
      ]
     },
     "execution_count": 85,
     "metadata": {},
     "output_type": "execute_result"
    }
   ],
   "source": [
    "arr2d == 0"
   ]
  },
  {
   "cell_type": "code",
   "execution_count": 73,
   "metadata": {
    "colab": {
     "base_uri": "https://localhost:8080/",
     "height": 35
    },
    "colab_type": "code",
    "executionInfo": {
     "elapsed": 643,
     "status": "ok",
     "timestamp": 1566179900590,
     "user": {
      "displayName": "Ruikang Wang",
      "photoUrl": "https://lh6.googleusercontent.com/-sxpbEWf-1Ng/AAAAAAAAAAI/AAAAAAAAAJ4/3m9qUw3an_4/s64/photo.jpg",
      "userId": "10914323651690992949"
     },
     "user_tz": 240
    },
    "id": "wbYERX3gEA5C",
    "outputId": "4965a576-49fc-4cab-8f54-a0529299d5f3"
   },
   "outputs": [
    {
     "data": {
      "text/plain": [
       "array([ True,  True, False, False,  True, False, False])"
      ]
     },
     "execution_count": 73,
     "metadata": {},
     "output_type": "execute_result"
    }
   ],
   "source": [
    "index_to_select = np.array([1,1,2,3,1,8,13]) == 1\n",
    "index_to_select"
   ]
  },
  {
   "cell_type": "code",
   "execution_count": 74,
   "metadata": {
    "colab": {
     "base_uri": "https://localhost:8080/",
     "height": 138
    },
    "colab_type": "code",
    "executionInfo": {
     "elapsed": 420,
     "status": "ok",
     "timestamp": 1566179909062,
     "user": {
      "displayName": "Ruikang Wang",
      "photoUrl": "https://lh6.googleusercontent.com/-sxpbEWf-1Ng/AAAAAAAAAAI/AAAAAAAAAJ4/3m9qUw3an_4/s64/photo.jpg",
      "userId": "10914323651690992949"
     },
     "user_tz": 240
    },
    "id": "v96BtITtEeu-",
    "outputId": "b4d8dbeb-c03b-42db-bd18-584ad4100fa0"
   },
   "outputs": [
    {
     "data": {
      "text/plain": [
       "array([[-1.2208,  0.2089, -1.9597, -1.3282,  0.1969],\n",
       "       [ 0.7385,  0.1714, -0.1156, -0.3011, -1.4785],\n",
       "       [-0.7198, -0.4606,  1.0571,  0.3436, -1.763 ],\n",
       "       [ 0.3241, -0.3851, -0.6769,  0.6117,  1.031 ],\n",
       "       [ 0.9313, -0.8392, -0.3092,  0.3313,  0.9755],\n",
       "       [-0.4792, -0.1857, -1.1063, -1.1962,  0.8125],\n",
       "       [ 1.3562, -0.072 ,  1.0035,  0.3616, -0.6451]])"
      ]
     },
     "execution_count": 74,
     "metadata": {},
     "output_type": "execute_result"
    }
   ],
   "source": [
    "rd = np.random.randn(7,5)\n",
    "rd"
   ]
  },
  {
   "cell_type": "code",
   "execution_count": 75,
   "metadata": {
    "colab": {
     "base_uri": "https://localhost:8080/",
     "height": 35
    },
    "colab_type": "code",
    "executionInfo": {
     "elapsed": 378,
     "status": "ok",
     "timestamp": 1566179917864,
     "user": {
      "displayName": "Ruikang Wang",
      "photoUrl": "https://lh6.googleusercontent.com/-sxpbEWf-1Ng/AAAAAAAAAAI/AAAAAAAAAJ4/3m9qUw3an_4/s64/photo.jpg",
      "userId": "10914323651690992949"
     },
     "user_tz": 240
    },
    "id": "nEOIvlkOFRyz",
    "outputId": "eaaf6e22-0675-45fb-d8b5-102a9a9f3855"
   },
   "outputs": [
    {
     "data": {
      "text/plain": [
       "(7, 5)"
      ]
     },
     "execution_count": 75,
     "metadata": {},
     "output_type": "execute_result"
    }
   ],
   "source": [
    "rd.shape"
   ]
  },
  {
   "cell_type": "code",
   "execution_count": 77,
   "metadata": {
    "colab": {
     "base_uri": "https://localhost:8080/",
     "height": 69
    },
    "colab_type": "code",
    "executionInfo": {
     "elapsed": 426,
     "status": "ok",
     "timestamp": 1566179928914,
     "user": {
      "displayName": "Ruikang Wang",
      "photoUrl": "https://lh6.googleusercontent.com/-sxpbEWf-1Ng/AAAAAAAAAAI/AAAAAAAAAJ4/3m9qUw3an_4/s64/photo.jpg",
      "userId": "10914323651690992949"
     },
     "user_tz": 240
    },
    "id": "rTKilAUbFKKc",
    "outputId": "2e76985c-4895-405d-dac7-96a20a719600"
   },
   "outputs": [
    {
     "data": {
      "text/plain": [
       "array([[-1.2208,  0.2089, -1.9597, -1.3282,  0.1969],\n",
       "       [ 0.7385,  0.1714, -0.1156, -0.3011, -1.4785],\n",
       "       [ 0.9313, -0.8392, -0.3092,  0.3313,  0.9755]])"
      ]
     },
     "execution_count": 77,
     "metadata": {},
     "output_type": "execute_result"
    }
   ],
   "source": [
    "rd[np.array([1,1,2,3,1,8,13]) == 1]"
   ]
  },
  {
   "cell_type": "code",
   "execution_count": 78,
   "metadata": {
    "colab": {
     "base_uri": "https://localhost:8080/",
     "height": 69
    },
    "colab_type": "code",
    "executionInfo": {
     "elapsed": 532,
     "status": "ok",
     "timestamp": 1566179998816,
     "user": {
      "displayName": "Ruikang Wang",
      "photoUrl": "https://lh6.googleusercontent.com/-sxpbEWf-1Ng/AAAAAAAAAAI/AAAAAAAAAJ4/3m9qUw3an_4/s64/photo.jpg",
      "userId": "10914323651690992949"
     },
     "user_tz": 240
    },
    "id": "M59nlbnYFOEz",
    "outputId": "74191f78-d584-4b8a-df64-8faf2bb8f5a8"
   },
   "outputs": [
    {
     "data": {
      "text/plain": [
       "array([[-1.9597, -1.3282,  0.1969],\n",
       "       [-0.1156, -0.3011, -1.4785],\n",
       "       [-0.3092,  0.3313,  0.9755]])"
      ]
     },
     "execution_count": 78,
     "metadata": {},
     "output_type": "execute_result"
    }
   ],
   "source": [
    "rd[index_to_select,2:]"
   ]
  },
  {
   "cell_type": "code",
   "execution_count": 79,
   "metadata": {
    "colab": {
     "base_uri": "https://localhost:8080/",
     "height": 35
    },
    "colab_type": "code",
    "executionInfo": {
     "elapsed": 565,
     "status": "ok",
     "timestamp": 1566180026676,
     "user": {
      "displayName": "Ruikang Wang",
      "photoUrl": "https://lh6.googleusercontent.com/-sxpbEWf-1Ng/AAAAAAAAAAI/AAAAAAAAAJ4/3m9qUw3an_4/s64/photo.jpg",
      "userId": "10914323651690992949"
     },
     "user_tz": 240
    },
    "id": "_2_qEodHmjl1",
    "outputId": "bd8dc7f8-5add-4bd7-9c2e-b554c20a01dc"
   },
   "outputs": [
    {
     "data": {
      "text/plain": [
       "array([[ 0.9313, -0.8392, -0.3092,  0.3313,  0.9755]])"
      ]
     },
     "execution_count": 79,
     "metadata": {},
     "output_type": "execute_result"
    }
   ],
   "source": [
    "rd[index_to_select][2:]"
   ]
  },
  {
   "cell_type": "code",
   "execution_count": 80,
   "metadata": {
    "colab": {},
    "colab_type": "code",
    "id": "iPh6XdxemqXR"
   },
   "outputs": [
    {
     "data": {
      "text/plain": [
       "array([[-1.2208,  0.2089, -1.3282],\n",
       "       [ 0.7385,  0.1714, -0.3011],\n",
       "       [-0.7198, -0.4606,  0.3436],\n",
       "       [ 0.3241, -0.3851,  0.6117],\n",
       "       [ 0.9313, -0.8392,  0.3313],\n",
       "       [-0.4792, -0.1857, -1.1962],\n",
       "       [ 1.3562, -0.072 ,  0.3616]])"
      ]
     },
     "execution_count": 80,
     "metadata": {},
     "output_type": "execute_result"
    }
   ],
   "source": [
    "a = [True,True,False,True,False]\n",
    "rd[:, a ]"
   ]
  },
  {
   "cell_type": "code",
   "execution_count": 81,
   "metadata": {
    "colab": {
     "base_uri": "https://localhost:8080/",
     "height": 138
    },
    "colab_type": "code",
    "executionInfo": {
     "elapsed": 416,
     "status": "ok",
     "timestamp": 1566180093123,
     "user": {
      "displayName": "Ruikang Wang",
      "photoUrl": "https://lh6.googleusercontent.com/-sxpbEWf-1Ng/AAAAAAAAAAI/AAAAAAAAAJ4/3m9qUw3an_4/s64/photo.jpg",
      "userId": "10914323651690992949"
     },
     "user_tz": 240
    },
    "id": "6NFegOhfFXsk",
    "outputId": "00e493da-10e3-4216-a6a8-a01696aefadd"
   },
   "outputs": [
    {
     "data": {
      "text/plain": [
       "array([[ True, False,  True,  True, False],\n",
       "       [False, False,  True,  True,  True],\n",
       "       [ True,  True, False, False,  True],\n",
       "       [False,  True,  True, False, False],\n",
       "       [False,  True,  True, False, False],\n",
       "       [ True,  True,  True,  True, False],\n",
       "       [False,  True, False, False,  True]])"
      ]
     },
     "execution_count": 81,
     "metadata": {},
     "output_type": "execute_result"
    }
   ],
   "source": [
    "rd < 0"
   ]
  },
  {
   "cell_type": "code",
   "execution_count": 82,
   "metadata": {
    "colab": {
     "base_uri": "https://localhost:8080/",
     "height": 69
    },
    "colab_type": "code",
    "executionInfo": {
     "elapsed": 565,
     "status": "ok",
     "timestamp": 1566180101603,
     "user": {
      "displayName": "Ruikang Wang",
      "photoUrl": "https://lh6.googleusercontent.com/-sxpbEWf-1Ng/AAAAAAAAAAI/AAAAAAAAAJ4/3m9qUw3an_4/s64/photo.jpg",
      "userId": "10914323651690992949"
     },
     "user_tz": 240
    },
    "id": "LPL_dGpoGT90",
    "outputId": "f2ba5eaf-fcf3-41de-980f-cf6de294ff10"
   },
   "outputs": [
    {
     "data": {
      "text/plain": [
       "array([-1.2208, -1.9597, -1.3282, -0.1156, -0.3011, -1.4785, -0.7198,\n",
       "       -0.4606, -1.763 , -0.3851, -0.6769, -0.8392, -0.3092, -0.4792,\n",
       "       -0.1857, -1.1063, -1.1962, -0.072 , -0.6451])"
      ]
     },
     "execution_count": 82,
     "metadata": {},
     "output_type": "execute_result"
    }
   ],
   "source": [
    "rd[rd < 0]"
   ]
  },
  {
   "cell_type": "code",
   "execution_count": 83,
   "metadata": {
    "colab": {
     "base_uri": "https://localhost:8080/",
     "height": 138
    },
    "colab_type": "code",
    "executionInfo": {
     "elapsed": 380,
     "status": "ok",
     "timestamp": 1566180182151,
     "user": {
      "displayName": "Ruikang Wang",
      "photoUrl": "https://lh6.googleusercontent.com/-sxpbEWf-1Ng/AAAAAAAAAAI/AAAAAAAAAJ4/3m9qUw3an_4/s64/photo.jpg",
      "userId": "10914323651690992949"
     },
     "user_tz": 240
    },
    "id": "4nFlUvgFGV56",
    "outputId": "3e1d366b-475e-459e-9f5f-328a8b878567"
   },
   "outputs": [
    {
     "data": {
      "text/plain": [
       "array([[99.    ,  0.2089, 99.    , 99.    ,  0.1969],\n",
       "       [ 0.7385,  0.1714, 99.    , 99.    , 99.    ],\n",
       "       [99.    , 99.    ,  1.0571,  0.3436, 99.    ],\n",
       "       [ 0.3241, 99.    , 99.    ,  0.6117,  1.031 ],\n",
       "       [ 0.9313, 99.    , 99.    ,  0.3313,  0.9755],\n",
       "       [99.    , 99.    , 99.    , 99.    ,  0.8125],\n",
       "       [ 1.3562, 99.    ,  1.0035,  0.3616, 99.    ]])"
      ]
     },
     "execution_count": 83,
     "metadata": {},
     "output_type": "execute_result"
    }
   ],
   "source": [
    "rd[rd<0]  = 99\n",
    "rd"
   ]
  },
  {
   "cell_type": "markdown",
   "metadata": {
    "colab_type": "text",
    "id": "NmR5pt-sGgmZ"
   },
   "source": [
    "Reshape, transform:"
   ]
  },
  {
   "cell_type": "code",
   "execution_count": 84,
   "metadata": {
    "colab": {
     "base_uri": "https://localhost:8080/",
     "height": 35
    },
    "colab_type": "code",
    "executionInfo": {
     "elapsed": 424,
     "status": "ok",
     "timestamp": 1566180233859,
     "user": {
      "displayName": "Ruikang Wang",
      "photoUrl": "https://lh6.googleusercontent.com/-sxpbEWf-1Ng/AAAAAAAAAAI/AAAAAAAAAJ4/3m9qUw3an_4/s64/photo.jpg",
      "userId": "10914323651690992949"
     },
     "user_tz": 240
    },
    "id": "gw-nPDNEGbnK",
    "outputId": "740490dd-7a20-4f58-e833-505d3adeae63"
   },
   "outputs": [
    {
     "data": {
      "text/plain": [
       "(7, 5)"
      ]
     },
     "execution_count": 84,
     "metadata": {},
     "output_type": "execute_result"
    }
   ],
   "source": [
    "rd.shape"
   ]
  },
  {
   "cell_type": "code",
   "execution_count": 85,
   "metadata": {
    "colab": {
     "base_uri": "https://localhost:8080/",
     "height": 138
    },
    "colab_type": "code",
    "executionInfo": {
     "elapsed": 436,
     "status": "ok",
     "timestamp": 1566180235304,
     "user": {
      "displayName": "Ruikang Wang",
      "photoUrl": "https://lh6.googleusercontent.com/-sxpbEWf-1Ng/AAAAAAAAAAI/AAAAAAAAAJ4/3m9qUw3an_4/s64/photo.jpg",
      "userId": "10914323651690992949"
     },
     "user_tz": 240
    },
    "id": "Dp20xCuYnc_G",
    "outputId": "1e23be90-86ff-4184-c455-3bd70bead39a"
   },
   "outputs": [
    {
     "data": {
      "text/plain": [
       "array([[99.    ,  0.2089, 99.    , 99.    ,  0.1969],\n",
       "       [ 0.7385,  0.1714, 99.    , 99.    , 99.    ],\n",
       "       [99.    , 99.    ,  1.0571,  0.3436, 99.    ],\n",
       "       [ 0.3241, 99.    , 99.    ,  0.6117,  1.031 ],\n",
       "       [ 0.9313, 99.    , 99.    ,  0.3313,  0.9755],\n",
       "       [99.    , 99.    , 99.    , 99.    ,  0.8125],\n",
       "       [ 1.3562, 99.    ,  1.0035,  0.3616, 99.    ]])"
      ]
     },
     "execution_count": 85,
     "metadata": {},
     "output_type": "execute_result"
    }
   ],
   "source": [
    "rd"
   ]
  },
  {
   "cell_type": "code",
   "execution_count": 86,
   "metadata": {
    "colab": {
     "base_uri": "https://localhost:8080/",
     "height": 622
    },
    "colab_type": "code",
    "executionInfo": {
     "elapsed": 510,
     "status": "ok",
     "timestamp": 1566180224688,
     "user": {
      "displayName": "Ruikang Wang",
      "photoUrl": "https://lh6.googleusercontent.com/-sxpbEWf-1Ng/AAAAAAAAAAI/AAAAAAAAAJ4/3m9qUw3an_4/s64/photo.jpg",
      "userId": "10914323651690992949"
     },
     "user_tz": 240
    },
    "id": "euvor9OcGlBq",
    "outputId": "98eb71b6-5040-454e-aae3-06d7e19aa34b"
   },
   "outputs": [
    {
     "data": {
      "text/plain": [
       "array([[99.    ],\n",
       "       [ 0.2089],\n",
       "       [99.    ],\n",
       "       [99.    ],\n",
       "       [ 0.1969],\n",
       "       [ 0.7385],\n",
       "       [ 0.1714],\n",
       "       [99.    ],\n",
       "       [99.    ],\n",
       "       [99.    ],\n",
       "       [99.    ],\n",
       "       [99.    ],\n",
       "       [ 1.0571],\n",
       "       [ 0.3436],\n",
       "       [99.    ],\n",
       "       [ 0.3241],\n",
       "       [99.    ],\n",
       "       [99.    ],\n",
       "       [ 0.6117],\n",
       "       [ 1.031 ],\n",
       "       [ 0.9313],\n",
       "       [99.    ],\n",
       "       [99.    ],\n",
       "       [ 0.3313],\n",
       "       [ 0.9755],\n",
       "       [99.    ],\n",
       "       [99.    ],\n",
       "       [99.    ],\n",
       "       [99.    ],\n",
       "       [ 0.8125],\n",
       "       [ 1.3562],\n",
       "       [99.    ],\n",
       "       [ 1.0035],\n",
       "       [ 0.3616],\n",
       "       [99.    ]])"
      ]
     },
     "execution_count": 86,
     "metadata": {},
     "output_type": "execute_result"
    }
   ],
   "source": [
    "rd.reshape(35,1)"
   ]
  },
  {
   "cell_type": "code",
   "execution_count": 87,
   "metadata": {
    "colab": {
     "base_uri": "https://localhost:8080/",
     "height": 104
    },
    "colab_type": "code",
    "executionInfo": {
     "elapsed": 367,
     "status": "ok",
     "timestamp": 1566180263274,
     "user": {
      "displayName": "Ruikang Wang",
      "photoUrl": "https://lh6.googleusercontent.com/-sxpbEWf-1Ng/AAAAAAAAAAI/AAAAAAAAAJ4/3m9qUw3an_4/s64/photo.jpg",
      "userId": "10914323651690992949"
     },
     "user_tz": 240
    },
    "id": "EOkw0AomGnEy",
    "outputId": "13d6b04e-a9cb-4c3e-f74c-d729e16fcc2a"
   },
   "outputs": [
    {
     "data": {
      "text/plain": [
       "array([[99.    ,  0.2089, 99.    , 99.    ,  0.1969,  0.7385,  0.1714,\n",
       "        99.    , 99.    , 99.    , 99.    , 99.    ,  1.0571,  0.3436,\n",
       "        99.    ,  0.3241, 99.    , 99.    ,  0.6117,  1.031 ,  0.9313,\n",
       "        99.    , 99.    ,  0.3313,  0.9755, 99.    , 99.    , 99.    ,\n",
       "        99.    ,  0.8125,  1.3562, 99.    ,  1.0035,  0.3616, 99.    ]])"
      ]
     },
     "execution_count": 87,
     "metadata": {},
     "output_type": "execute_result"
    }
   ],
   "source": [
    "rd.reshape(1,35)"
   ]
  },
  {
   "cell_type": "markdown",
   "metadata": {
    "colab_type": "text",
    "id": "Z7ZkYP9wJnWV"
   },
   "source": [
    "same as rd.reshape(1,35)"
   ]
  },
  {
   "cell_type": "code",
   "execution_count": 88,
   "metadata": {
    "colab": {
     "base_uri": "https://localhost:8080/",
     "height": 104
    },
    "colab_type": "code",
    "executionInfo": {
     "elapsed": 465,
     "status": "ok",
     "timestamp": 1566180317424,
     "user": {
      "displayName": "Ruikang Wang",
      "photoUrl": "https://lh6.googleusercontent.com/-sxpbEWf-1Ng/AAAAAAAAAAI/AAAAAAAAAJ4/3m9qUw3an_4/s64/photo.jpg",
      "userId": "10914323651690992949"
     },
     "user_tz": 240
    },
    "id": "4d_epI40JZjY",
    "outputId": "a63bc677-9a3e-4391-fe04-c40a672f51bf"
   },
   "outputs": [
    {
     "data": {
      "text/plain": [
       "array([99.    ,  0.2089, 99.    , 99.    ,  0.1969,  0.7385,  0.1714,\n",
       "       99.    , 99.    , 99.    , 99.    , 99.    ,  1.0571,  0.3436,\n",
       "       99.    ,  0.3241, 99.    , 99.    ,  0.6117,  1.031 ,  0.9313,\n",
       "       99.    , 99.    ,  0.3313,  0.9755, 99.    , 99.    , 99.    ,\n",
       "       99.    ,  0.8125,  1.3562, 99.    ,  1.0035,  0.3616, 99.    ])"
      ]
     },
     "execution_count": 88,
     "metadata": {},
     "output_type": "execute_result"
    }
   ],
   "source": [
    "rd.reshape(-1)"
   ]
  },
  {
   "cell_type": "code",
   "execution_count": 89,
   "metadata": {
    "colab": {
     "base_uri": "https://localhost:8080/",
     "height": 104
    },
    "colab_type": "code",
    "executionInfo": {
     "elapsed": 368,
     "status": "ok",
     "timestamp": 1566180350553,
     "user": {
      "displayName": "Ruikang Wang",
      "photoUrl": "https://lh6.googleusercontent.com/-sxpbEWf-1Ng/AAAAAAAAAAI/AAAAAAAAAJ4/3m9qUw3an_4/s64/photo.jpg",
      "userId": "10914323651690992949"
     },
     "user_tz": 240
    },
    "id": "kTGi_4LFnxXw",
    "outputId": "e4edd7f3-19eb-4a2f-a9ff-053f5b66cc36"
   },
   "outputs": [
    {
     "data": {
      "text/plain": [
       "array([[99.    ,  0.2089, 99.    , 99.    ,  0.1969,  0.7385,  0.1714],\n",
       "       [99.    , 99.    , 99.    , 99.    , 99.    ,  1.0571,  0.3436],\n",
       "       [99.    ,  0.3241, 99.    , 99.    ,  0.6117,  1.031 ,  0.9313],\n",
       "       [99.    , 99.    ,  0.3313,  0.9755, 99.    , 99.    , 99.    ],\n",
       "       [99.    ,  0.8125,  1.3562, 99.    ,  1.0035,  0.3616, 99.    ]])"
      ]
     },
     "execution_count": 89,
     "metadata": {},
     "output_type": "execute_result"
    }
   ],
   "source": [
    "rd.reshape(5,-1)"
   ]
  },
  {
   "cell_type": "code",
   "execution_count": 90,
   "metadata": {
    "colab": {
     "base_uri": "https://localhost:8080/",
     "height": 138
    },
    "colab_type": "code",
    "executionInfo": {
     "elapsed": 450,
     "status": "ok",
     "timestamp": 1566180364296,
     "user": {
      "displayName": "Ruikang Wang",
      "photoUrl": "https://lh6.googleusercontent.com/-sxpbEWf-1Ng/AAAAAAAAAAI/AAAAAAAAAJ4/3m9qUw3an_4/s64/photo.jpg",
      "userId": "10914323651690992949"
     },
     "user_tz": 240
    },
    "id": "GS0IBEbrGo5Z",
    "outputId": "54b160de-d6a4-4156-ef5b-48a44d530886"
   },
   "outputs": [
    {
     "data": {
      "text/plain": [
       "array([[99.    ,  0.2089, 99.    , 99.    ,  0.1969],\n",
       "       [ 0.7385,  0.1714, 99.    , 99.    , 99.    ],\n",
       "       [99.    , 99.    ,  1.0571,  0.3436, 99.    ],\n",
       "       [ 0.3241, 99.    , 99.    ,  0.6117,  1.031 ],\n",
       "       [ 0.9313, 99.    , 99.    ,  0.3313,  0.9755],\n",
       "       [99.    , 99.    , 99.    , 99.    ,  0.8125],\n",
       "       [ 1.3562, 99.    ,  1.0035,  0.3616, 99.    ]])"
      ]
     },
     "execution_count": 90,
     "metadata": {},
     "output_type": "execute_result"
    }
   ],
   "source": [
    "rd"
   ]
  },
  {
   "cell_type": "code",
   "execution_count": 91,
   "metadata": {
    "colab": {
     "base_uri": "https://localhost:8080/",
     "height": 104
    },
    "colab_type": "code",
    "executionInfo": {
     "elapsed": 426,
     "status": "ok",
     "timestamp": 1566180370952,
     "user": {
      "displayName": "Ruikang Wang",
      "photoUrl": "https://lh6.googleusercontent.com/-sxpbEWf-1Ng/AAAAAAAAAAI/AAAAAAAAAJ4/3m9qUw3an_4/s64/photo.jpg",
      "userId": "10914323651690992949"
     },
     "user_tz": 240
    },
    "id": "Toxr9DNOGqeU",
    "outputId": "b297edb1-fbf8-47e9-a387-758f00158920"
   },
   "outputs": [
    {
     "data": {
      "text/plain": [
       "array([[99.    ,  0.7385, 99.    ,  0.3241,  0.9313, 99.    ,  1.3562],\n",
       "       [ 0.2089,  0.1714, 99.    , 99.    , 99.    , 99.    , 99.    ],\n",
       "       [99.    , 99.    ,  1.0571, 99.    , 99.    , 99.    ,  1.0035],\n",
       "       [99.    , 99.    ,  0.3436,  0.6117,  0.3313, 99.    ,  0.3616],\n",
       "       [ 0.1969, 99.    , 99.    ,  1.031 ,  0.9755,  0.8125, 99.    ]])"
      ]
     },
     "execution_count": 91,
     "metadata": {},
     "output_type": "execute_result"
    }
   ],
   "source": [
    "rd.T"
   ]
  },
  {
   "cell_type": "code",
   "execution_count": 92,
   "metadata": {
    "colab": {
     "base_uri": "https://localhost:8080/",
     "height": 104
    },
    "colab_type": "code",
    "executionInfo": {
     "elapsed": 463,
     "status": "ok",
     "timestamp": 1566180471837,
     "user": {
      "displayName": "Ruikang Wang",
      "photoUrl": "https://lh6.googleusercontent.com/-sxpbEWf-1Ng/AAAAAAAAAAI/AAAAAAAAAJ4/3m9qUw3an_4/s64/photo.jpg",
      "userId": "10914323651690992949"
     },
     "user_tz": 240
    },
    "id": "jg5Eg38WGrc0",
    "outputId": "29d78f9a-61ec-4d95-d7ab-69b87c949b48"
   },
   "outputs": [
    {
     "data": {
      "text/plain": [
       "array([[99.    ,  0.7385, 99.    ,  0.3241,  0.9313, 99.    ,  1.3562],\n",
       "       [ 0.2089,  0.1714, 99.    , 99.    , 99.    , 99.    , 99.    ],\n",
       "       [99.    , 99.    ,  1.0571, 99.    , 99.    , 99.    ,  1.0035],\n",
       "       [99.    , 99.    ,  0.3436,  0.6117,  0.3313, 99.    ,  0.3616],\n",
       "       [ 0.1969, 99.    , 99.    ,  1.031 ,  0.9755,  0.8125, 99.    ]])"
      ]
     },
     "execution_count": 92,
     "metadata": {},
     "output_type": "execute_result"
    }
   ],
   "source": [
    "rd.transpose()"
   ]
  },
  {
   "cell_type": "markdown",
   "metadata": {
    "colab_type": "text",
    "id": "icZO1yqIG5Zo"
   },
   "source": [
    "Some useful functions:"
   ]
  },
  {
   "cell_type": "code",
   "execution_count": 94,
   "metadata": {
    "colab": {
     "base_uri": "https://localhost:8080/",
     "height": 35
    },
    "colab_type": "code",
    "executionInfo": {
     "elapsed": 406,
     "status": "ok",
     "timestamp": 1566180491952,
     "user": {
      "displayName": "Ruikang Wang",
      "photoUrl": "https://lh6.googleusercontent.com/-sxpbEWf-1Ng/AAAAAAAAAAI/AAAAAAAAAJ4/3m9qUw3an_4/s64/photo.jpg",
      "userId": "10914323651690992949"
     },
     "user_tz": 240
    },
    "id": "TuH-EfBgGu_n",
    "outputId": "22b842f4-d42a-41b4-972a-4c037c7b88fe"
   },
   "outputs": [
    {
     "data": {
      "text/plain": [
       "99.0"
      ]
     },
     "execution_count": 94,
     "metadata": {},
     "output_type": "execute_result"
    }
   ],
   "source": [
    "rd.max()"
   ]
  },
  {
   "cell_type": "code",
   "execution_count": 95,
   "metadata": {},
   "outputs": [
    {
     "data": {
      "text/plain": [
       "99.0"
      ]
     },
     "execution_count": 95,
     "metadata": {},
     "output_type": "execute_result"
    }
   ],
   "source": [
    "np.max(rd)"
   ]
  },
  {
   "cell_type": "code",
   "execution_count": 96,
   "metadata": {
    "colab": {
     "base_uri": "https://localhost:8080/",
     "height": 35
    },
    "colab_type": "code",
    "executionInfo": {
     "elapsed": 448,
     "status": "ok",
     "timestamp": 1566180494663,
     "user": {
      "displayName": "Ruikang Wang",
      "photoUrl": "https://lh6.googleusercontent.com/-sxpbEWf-1Ng/AAAAAAAAAAI/AAAAAAAAAJ4/3m9qUw3an_4/s64/photo.jpg",
      "userId": "10914323651690992949"
     },
     "user_tz": 240
    },
    "id": "MisuEF2KG-vp",
    "outputId": "27c7652f-2352-4682-c5fb-3d98709aae6a"
   },
   "outputs": [
    {
     "data": {
      "text/plain": [
       "0.1713682811899705"
      ]
     },
     "execution_count": 96,
     "metadata": {},
     "output_type": "execute_result"
    }
   ],
   "source": [
    "rd.min()"
   ]
  },
  {
   "cell_type": "code",
   "execution_count": 97,
   "metadata": {
    "colab": {
     "base_uri": "https://localhost:8080/",
     "height": 138
    },
    "colab_type": "code",
    "executionInfo": {
     "elapsed": 634,
     "status": "ok",
     "timestamp": 1566180519385,
     "user": {
      "displayName": "Ruikang Wang",
      "photoUrl": "https://lh6.googleusercontent.com/-sxpbEWf-1Ng/AAAAAAAAAAI/AAAAAAAAAJ4/3m9qUw3an_4/s64/photo.jpg",
      "userId": "10914323651690992949"
     },
     "user_tz": 240
    },
    "id": "KZiOuomsG_ud",
    "outputId": "d8c87268-47d0-44cf-e2c8-38c51879b3b3"
   },
   "outputs": [
    {
     "data": {
      "text/plain": [
       "array([[9.9499, 0.457 , 9.9499, 9.9499, 0.4437],\n",
       "       [0.8593, 0.414 , 9.9499, 9.9499, 9.9499],\n",
       "       [9.9499, 9.9499, 1.0282, 0.5862, 9.9499],\n",
       "       [0.5693, 9.9499, 9.9499, 0.7821, 1.0154],\n",
       "       [0.965 , 9.9499, 9.9499, 0.5756, 0.9877],\n",
       "       [9.9499, 9.9499, 9.9499, 9.9499, 0.9014],\n",
       "       [1.1646, 9.9499, 1.0018, 0.6014, 9.9499]])"
      ]
     },
     "execution_count": 97,
     "metadata": {},
     "output_type": "execute_result"
    }
   ],
   "source": [
    "np.sqrt(rd)"
   ]
  },
  {
   "cell_type": "code",
   "execution_count": 98,
   "metadata": {
    "colab": {
     "base_uri": "https://localhost:8080/",
     "height": 69
    },
    "colab_type": "code",
    "executionInfo": {
     "elapsed": 343,
     "status": "ok",
     "timestamp": 1566180523483,
     "user": {
      "displayName": "Ruikang Wang",
      "photoUrl": "https://lh6.googleusercontent.com/-sxpbEWf-1Ng/AAAAAAAAAAI/AAAAAAAAAJ4/3m9qUw3an_4/s64/photo.jpg",
      "userId": "10914323651690992949"
     },
     "user_tz": 240
    },
    "id": "BZt1gjgRoioL",
    "outputId": "f23503f4-ef12-41a9-9d01-e30ca1bb457b"
   },
   "outputs": [
    {
     "name": "stderr",
     "output_type": "stream",
     "text": [
      "C:\\ProgramData\\Anaconda3\\envs\\DataAnalysis-ML\\lib\\site-packages\\ipykernel_launcher.py:1: RuntimeWarning: invalid value encountered in sqrt\n",
      "  \"\"\"Entry point for launching an IPython kernel.\n"
     ]
    },
    {
     "data": {
      "text/plain": [
       "nan"
      ]
     },
     "execution_count": 98,
     "metadata": {},
     "output_type": "execute_result"
    }
   ],
   "source": [
    "np.sqrt(-1)"
   ]
  },
  {
   "cell_type": "code",
   "execution_count": 99,
   "metadata": {
    "colab": {
     "base_uri": "https://localhost:8080/",
     "height": 138
    },
    "colab_type": "code",
    "executionInfo": {
     "elapsed": 490,
     "status": "ok",
     "timestamp": 1566180532973,
     "user": {
      "displayName": "Ruikang Wang",
      "photoUrl": "https://lh6.googleusercontent.com/-sxpbEWf-1Ng/AAAAAAAAAAI/AAAAAAAAAJ4/3m9qUw3an_4/s64/photo.jpg",
      "userId": "10914323651690992949"
     },
     "user_tz": 240
    },
    "id": "2iYl4Eu0HA_d",
    "outputId": "ca1b5380-0768-4299-d462-b6535b1f15e1"
   },
   "outputs": [
    {
     "data": {
      "text/plain": [
       "array([[9.8890e+42, 1.2323e+00, 9.8890e+42, 9.8890e+42, 1.2176e+00],\n",
       "       [2.0927e+00, 1.1869e+00, 9.8890e+42, 9.8890e+42, 9.8890e+42],\n",
       "       [9.8890e+42, 9.8890e+42, 2.8781e+00, 1.4100e+00, 9.8890e+42],\n",
       "       [1.3828e+00, 9.8890e+42, 9.8890e+42, 1.8435e+00, 2.8039e+00],\n",
       "       [2.5378e+00, 9.8890e+42, 9.8890e+42, 1.3927e+00, 2.6526e+00],\n",
       "       [9.8890e+42, 9.8890e+42, 9.8890e+42, 9.8890e+42, 2.2536e+00],\n",
       "       [3.8816e+00, 9.8890e+42, 2.7279e+00, 1.4357e+00, 9.8890e+42]])"
      ]
     },
     "execution_count": 99,
     "metadata": {},
     "output_type": "execute_result"
    }
   ],
   "source": [
    "np.exp(rd)"
   ]
  },
  {
   "cell_type": "code",
   "execution_count": 100,
   "metadata": {
    "colab": {
     "base_uri": "https://localhost:8080/",
     "height": 35
    },
    "colab_type": "code",
    "executionInfo": {
     "elapsed": 390,
     "status": "ok",
     "timestamp": 1566180552017,
     "user": {
      "displayName": "Ruikang Wang",
      "photoUrl": "https://lh6.googleusercontent.com/-sxpbEWf-1Ng/AAAAAAAAAAI/AAAAAAAAAJ4/3m9qUw3an_4/s64/photo.jpg",
      "userId": "10914323651690992949"
     },
     "user_tz": 240
    },
    "id": "MfIuaemmHOQL",
    "outputId": "3fa31287-4282-45f3-a55d-028946829d1c"
   },
   "outputs": [
    {
     "data": {
      "text/plain": [
       "54.041573812575"
      ]
     },
     "execution_count": 100,
     "metadata": {},
     "output_type": "execute_result"
    }
   ],
   "source": [
    "np.mean(rd)"
   ]
  },
  {
   "cell_type": "code",
   "execution_count": 101,
   "metadata": {
    "colab": {
     "base_uri": "https://localhost:8080/",
     "height": 136
    },
    "colab_type": "code",
    "executionInfo": {
     "elapsed": 3465,
     "status": "ok",
     "timestamp": 1560719382355,
     "user": {
      "displayName": "Rae Liang",
      "photoUrl": "",
      "userId": "08583492153170310616"
     },
     "user_tz": 240
    },
    "id": "Qzg2uusuHP4R",
    "outputId": "93b7e975-35a1-4ead-8411-5e6996aef679"
   },
   "outputs": [
    {
     "data": {
      "text/plain": [
       "array([[ 99.    ,   0.2089,  99.    ,  99.    ,   0.1969],\n",
       "       [ 99.7385,   0.3802, 198.    , 198.    ,  99.1969],\n",
       "       [198.7385,  99.3802, 199.0571, 198.3436, 198.1969],\n",
       "       [199.0626, 198.3802, 298.0571, 198.9553, 199.2279],\n",
       "       [199.9938, 297.3802, 397.0571, 199.2866, 200.2034],\n",
       "       [298.9938, 396.3802, 496.0571, 298.2866, 201.0159],\n",
       "       [300.3501, 495.3802, 497.0607, 298.6482, 300.0159]])"
      ]
     },
     "execution_count": 101,
     "metadata": {},
     "output_type": "execute_result"
    }
   ],
   "source": [
    "rd.cumsum(0)"
   ]
  },
  {
   "cell_type": "code",
   "execution_count": 103,
   "metadata": {
    "colab": {
     "base_uri": "https://localhost:8080/",
     "height": 255
    },
    "colab_type": "code",
    "executionInfo": {
     "elapsed": 3454,
     "status": "ok",
     "timestamp": 1560719382355,
     "user": {
      "displayName": "Rae Liang",
      "photoUrl": "",
      "userId": "08583492153170310616"
     },
     "user_tz": 240
    },
    "id": "0wRDzcXJHTHP",
    "outputId": "73c70026-6795-4a67-d5d7-73b90af33ec1"
   },
   "outputs": [
    {
     "data": {
      "text/plain": [
       "array([[      99.    ,       20.6775,     2047.0721,   202660.1374,\n",
       "           39895.9251],\n",
       "       [       0.7385,        0.1265,       12.5284,     1240.3141,\n",
       "          122791.0944],\n",
       "       [      99.    ,     9801.    ,    10360.8549,     3560.1793,\n",
       "          352457.746 ],\n",
       "       [       0.3241,       32.0843,     3176.347 ,     1942.8961,\n",
       "            2003.125 ],\n",
       "       [       0.9313,       92.1967,     9127.4764,     3023.5992,\n",
       "            2949.6574],\n",
       "       [      99.    ,     9801.    ,   970299.    , 96059601.    ,\n",
       "        78050906.3014],\n",
       "       [       1.3562,      134.2678,      134.7421,       48.7276,\n",
       "            4824.0328]])"
      ]
     },
     "execution_count": 103,
     "metadata": {},
     "output_type": "execute_result"
    }
   ],
   "source": [
    "rd.cumprod(1)"
   ]
  },
  {
   "cell_type": "code",
   "execution_count": 104,
   "metadata": {},
   "outputs": [
    {
     "data": {
      "text/plain": [
       "array([[9.9000e+01, 2.0886e-01, 9.9000e+01, 9.9000e+01, 1.9686e-01],\n",
       "       [7.3108e+01, 3.5793e-02, 9.8010e+03, 9.8010e+03, 1.9489e+01],\n",
       "       [7.2377e+03, 3.5435e+00, 1.0361e+04, 3.3678e+03, 1.9294e+03],\n",
       "       [2.3456e+03, 3.5080e+02, 1.0257e+06, 2.0600e+03, 1.9892e+03],\n",
       "       [2.1844e+03, 3.4730e+04, 1.0155e+08, 6.8240e+02, 1.9406e+03],\n",
       "       [2.1626e+05, 3.4382e+06, 1.0053e+10, 6.7558e+04, 1.5768e+03],\n",
       "       [2.9330e+05, 3.4038e+08, 1.0089e+10, 2.4431e+04, 1.5610e+05]])"
      ]
     },
     "execution_count": 104,
     "metadata": {},
     "output_type": "execute_result"
    }
   ],
   "source": [
    "rd.cumprod(0)"
   ]
  },
  {
   "cell_type": "code",
   "execution_count": 105,
   "metadata": {
    "colab": {
     "base_uri": "https://localhost:8080/",
     "height": 136
    },
    "colab_type": "code",
    "executionInfo": {
     "elapsed": 3986,
     "status": "ok",
     "timestamp": 1560719382893,
     "user": {
      "displayName": "Rae Liang",
      "photoUrl": "",
      "userId": "08583492153170310616"
     },
     "user_tz": 240
    },
    "id": "LUxG6EhpIsrC",
    "outputId": "15e3a48d-093c-4545-9ceb-f3cb4d5b5938"
   },
   "outputs": [
    {
     "data": {
      "text/plain": [
       "array([[ 0.1969,  0.2089, 99.    , 99.    , 99.    ],\n",
       "       [ 0.1714,  0.7385, 99.    , 99.    , 99.    ],\n",
       "       [ 0.3436,  1.0571, 99.    , 99.    , 99.    ],\n",
       "       [ 0.3241,  0.6117,  1.031 , 99.    , 99.    ],\n",
       "       [ 0.3313,  0.9313,  0.9755, 99.    , 99.    ],\n",
       "       [ 0.8125, 99.    , 99.    , 99.    , 99.    ],\n",
       "       [ 0.3616,  1.0035,  1.3562, 99.    , 99.    ]])"
      ]
     },
     "execution_count": 105,
     "metadata": {},
     "output_type": "execute_result"
    }
   ],
   "source": [
    "rd.sort()\n",
    "rd"
   ]
  },
  {
   "cell_type": "code",
   "execution_count": 107,
   "metadata": {
    "colab": {},
    "colab_type": "code",
    "id": "QZN9dkqDHD2J"
   },
   "outputs": [],
   "source": [
    "xarr = np.array([1.1, 1.2, 1.3, 1.4, 1.5])\n",
    "yarr = np.array([2.1, 2.2, 2.3, 2.4, 2.5])\n",
    "cond = np.array([True, False, True, True, False])"
   ]
  },
  {
   "cell_type": "code",
   "execution_count": 108,
   "metadata": {
    "colab": {
     "base_uri": "https://localhost:8080/",
     "height": 34
    },
    "colab_type": "code",
    "executionInfo": {
     "elapsed": 3983,
     "status": "ok",
     "timestamp": 1560719382898,
     "user": {
      "displayName": "Rae Liang",
      "photoUrl": "",
      "userId": "08583492153170310616"
     },
     "user_tz": 240
    },
    "id": "m-2GVc70HKpx",
    "outputId": "83ecea2c-47d9-4319-eff7-5e35a522c9c1"
   },
   "outputs": [
    {
     "data": {
      "text/plain": [
       "array([1.1, 2.2, 1.3, 1.4, 2.5])"
      ]
     },
     "execution_count": 108,
     "metadata": {},
     "output_type": "execute_result"
    }
   ],
   "source": [
    "result = np.where(cond, xarr, yarr)##true->first, false->second\n",
    "result"
   ]
  },
  {
   "cell_type": "markdown",
   "metadata": {
    "colab_type": "text",
    "id": "N0AZscWXI7Kk"
   },
   "source": [
    "Linear Algebra calculation:"
   ]
  },
  {
   "cell_type": "code",
   "execution_count": 109,
   "metadata": {
    "colab": {},
    "colab_type": "code",
    "id": "279JNOeRHMO2"
   },
   "outputs": [],
   "source": [
    "x = np.array([[1,2,3],[4,5,6]])\n",
    "y = np.array([[1,1,1],[2,2,2]])"
   ]
  },
  {
   "cell_type": "code",
   "execution_count": 110,
   "metadata": {
    "colab": {
     "base_uri": "https://localhost:8080/",
     "height": 68
    },
    "colab_type": "code",
    "executionInfo": {
     "elapsed": 3981,
     "status": "ok",
     "timestamp": 1560719382902,
     "user": {
      "displayName": "Rae Liang",
      "photoUrl": "",
      "userId": "08583492153170310616"
     },
     "user_tz": 240
    },
    "id": "dLLu1gOOJHIP",
    "outputId": "47378d38-af12-4ba2-e5fa-65747c9c2f34"
   },
   "outputs": [
    {
     "data": {
      "text/plain": [
       "array([[ 9,  9,  9],\n",
       "       [12, 12, 12],\n",
       "       [15, 15, 15]])"
      ]
     },
     "execution_count": 110,
     "metadata": {},
     "output_type": "execute_result"
    }
   ],
   "source": [
    "x.T.dot(y)"
   ]
  },
  {
   "cell_type": "code",
   "execution_count": 113,
   "metadata": {
    "colab": {
     "base_uri": "https://localhost:8080/",
     "height": 68
    },
    "colab_type": "code",
    "executionInfo": {
     "elapsed": 3975,
     "status": "ok",
     "timestamp": 1560719382903,
     "user": {
      "displayName": "Rae Liang",
      "photoUrl": "",
      "userId": "08583492153170310616"
     },
     "user_tz": 240
    },
    "id": "dINM3HOSJI6Q",
    "outputId": "54544a5b-c41c-4f28-ef0f-5739af4e7b0e"
   },
   "outputs": [
    {
     "data": {
      "text/plain": [
       "array([[ 9,  9,  9],\n",
       "       [12, 12, 12],\n",
       "       [15, 15, 15]])"
      ]
     },
     "execution_count": 113,
     "metadata": {},
     "output_type": "execute_result"
    }
   ],
   "source": [
    "np.dot(x.T,y)"
   ]
  },
  {
   "cell_type": "code",
   "execution_count": 115,
   "metadata": {
    "colab": {
     "base_uri": "https://localhost:8080/",
     "height": 119
    },
    "colab_type": "code",
    "executionInfo": {
     "elapsed": 3971,
     "status": "ok",
     "timestamp": 1560719382904,
     "user": {
      "displayName": "Rae Liang",
      "photoUrl": "",
      "userId": "08583492153170310616"
     },
     "user_tz": 240
    },
    "id": "niysrBu9JKvW",
    "outputId": "b43fd22f-d11b-4ecc-be57-183f4d0b6c5f"
   },
   "outputs": [
    {
     "name": "stdout",
     "output_type": "stream",
     "text": [
      "[[-1.9876 -0.2197  0.3571]\n",
      " [ 1.4779 -0.5183 -0.8085]\n",
      " [-0.5018  0.9154  0.3288]]\n",
      "[[-0.7864 -0.5509 -0.5006]\n",
      " [ 0.1107  0.6546  1.4896]\n",
      " [-1.5084 -2.6635 -1.87  ]]\n"
     ]
    }
   ],
   "source": [
    "from numpy.linalg import inv\n",
    "rd_2 = np.random.randn(3,3)\n",
    "print(rd_2)\n",
    "print(inv(rd_2))"
   ]
  },
  {
   "cell_type": "code",
   "execution_count": 117,
   "metadata": {
    "colab": {
     "base_uri": "https://localhost:8080/",
     "height": 68
    },
    "colab_type": "code",
    "executionInfo": {
     "elapsed": 3966,
     "status": "ok",
     "timestamp": 1560719382904,
     "user": {
      "displayName": "Rae Liang",
      "photoUrl": "",
      "userId": "08583492153170310616"
     },
     "user_tz": 240
    },
    "id": "d76W_e4jJQSJ",
    "outputId": "1020b63a-841e-4593-f768-3a0ea1fe3ee2"
   },
   "outputs": [
    {
     "data": {
      "text/plain": [
       "array([[ 1., -0., -0.],\n",
       "       [ 0.,  1., -0.],\n",
       "       [-0.,  0.,  1.]])"
      ]
     },
     "execution_count": 117,
     "metadata": {},
     "output_type": "execute_result"
    }
   ],
   "source": [
    "np.dot(rd_2,inv(rd_2))"
   ]
  },
  {
   "cell_type": "markdown",
   "metadata": {
    "colab_type": "text",
    "id": "WbPUcngTJm9J"
   },
   "source": [
    "Random number:"
   ]
  },
  {
   "cell_type": "code",
   "execution_count": 123,
   "metadata": {
    "colab": {
     "base_uri": "https://localhost:8080/",
     "height": 85
    },
    "colab_type": "code",
    "executionInfo": {
     "elapsed": 3961,
     "status": "ok",
     "timestamp": 1560719382905,
     "user": {
      "displayName": "Rae Liang",
      "photoUrl": "",
      "userId": "08583492153170310616"
     },
     "user_tz": 240
    },
    "id": "GB22UfxDJk7S",
    "outputId": "ad8b66ba-bd81-439c-b451-6ab819b839b3"
   },
   "outputs": [
    {
     "data": {
      "text/plain": [
       "array([[-1.4785, -0.7198, -0.4606,  1.0571],\n",
       "       [ 0.3436, -1.763 ,  0.3241, -0.3851],\n",
       "       [-0.6769,  0.6117,  1.031 ,  0.9313],\n",
       "       [-0.8392, -0.3092,  0.3313,  0.9755]])"
      ]
     },
     "execution_count": 123,
     "metadata": {},
     "output_type": "execute_result"
    }
   ],
   "source": [
    "np.random.randn(4,4)"
   ]
  },
  {
   "cell_type": "code",
   "execution_count": 118,
   "metadata": {
    "colab": {
     "base_uri": "https://localhost:8080/",
     "height": 68
    },
    "colab_type": "code",
    "executionInfo": {
     "elapsed": 3953,
     "status": "ok",
     "timestamp": 1560719382906,
     "user": {
      "displayName": "Rae Liang",
      "photoUrl": "",
      "userId": "08583492153170310616"
     },
     "user_tz": 240
    },
    "id": "O5-qYs3mJ1gu",
    "outputId": "7b7131af-a2f0-4f67-ca19-730764e15b70"
   },
   "outputs": [
    {
     "data": {
      "text/plain": [
       "array([[ 1.881 ,  6.0531,  4.3883],\n",
       "       [ 7.8746,  1.1918,  2.6894],\n",
       "       [ 2.4316, -1.8541,  5.1845]])"
      ]
     },
     "execution_count": 118,
     "metadata": {},
     "output_type": "execute_result"
    }
   ],
   "source": [
    "np.random.normal(4,4,(3,3))"
   ]
  },
  {
   "cell_type": "code",
   "execution_count": 0,
   "metadata": {
    "colab": {},
    "colab_type": "code",
    "id": "jXFTJ3HpJ5Su"
   },
   "outputs": [],
   "source": [
    "?"
   ]
  }
 ],
 "metadata": {
  "colab": {
   "collapsed_sections": [],
   "name": "Lecture2.ipynb",
   "provenance": [],
   "version": "0.3.2"
  },
  "kernelspec": {
   "display_name": "Python 3",
   "language": "python",
   "name": "python3"
  },
  "language_info": {
   "codemirror_mode": {
    "name": "ipython",
    "version": 3
   },
   "file_extension": ".py",
   "mimetype": "text/x-python",
   "name": "python",
   "nbconvert_exporter": "python",
   "pygments_lexer": "ipython3",
   "version": "3.7.3"
  }
 },
 "nbformat": 4,
 "nbformat_minor": 1
}
