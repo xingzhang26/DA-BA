{
 "cells": [
  {
   "cell_type": "markdown",
   "metadata": {
    "colab_type": "text",
    "id": "0yZNWW9lNskv"
   },
   "source": [
    "Pandas represents panel-data and python-data-analysis, from its name we can see that the basic objects of pandas are data series and data frame.\n",
    "\n",
    "It's like a key-value based data table.\n",
    "\n",
    "Pandas is based on NumPy, it's value of the series and dataframe are all numpy objects, once we are familiar with numpy, some pandas operation can be very easy.\n",
    "\n",
    "Pandas is widely used in financial data analysis."
   ]
  },
  {
   "cell_type": "markdown",
   "metadata": {
    "colab_type": "text",
    "id": "GrOLDpBhOvXE"
   },
   "source": [
    "Today we are going to cover those topics:\n",
    "\n",
    "\n",
    "\n",
    "1. Pandas basic data structure:\n",
    "    \n",
    "\n",
    "    *   Series\n",
    "    *   DataFrame\n",
    "\n",
    "\n",
    "2. Basic pandas functions\n",
    "\n",
    "3. Scientific computing\n",
    "\n"
   ]
  },
  {
   "cell_type": "code",
   "execution_count": 1,
   "metadata": {
    "colab": {},
    "colab_type": "code",
    "id": "ULzrJ2tiNaZZ"
   },
   "outputs": [],
   "source": [
    "import pandas as pd\n",
    "from pandas import Series, DataFrame"
   ]
  },
  {
   "cell_type": "code",
   "execution_count": 2,
   "metadata": {
    "colab": {},
    "colab_type": "code",
    "id": "UmzaQ8m-N4dt"
   },
   "outputs": [],
   "source": [
    "import numpy as np\n",
    "from numpy.random import randn\n",
    "import os\n",
    "import matplotlib.pyplot as plt\n",
    "import os\n",
    "np.random.seed(42)\n",
    "plt.rc('figure',figsize = (10,6))\n",
    "np.set_printoptions(precision = 4)"
   ]
  },
  {
   "cell_type": "markdown",
   "metadata": {
    "colab_type": "text",
    "id": "fzoAazXZQQ8U"
   },
   "source": [
    "Pandas series is like 1-dim data list, based on value and its corresponding index"
   ]
  },
  {
   "cell_type": "code",
   "execution_count": 3,
   "metadata": {
    "colab": {
     "base_uri": "https://localhost:8080/",
     "height": 121
    },
    "colab_type": "code",
    "executionInfo": {
     "elapsed": 7039,
     "status": "ok",
     "timestamp": 1567987076742,
     "user": {
      "displayName": "Ruikang Wang",
      "photoUrl": "https://lh3.googleusercontent.com/a-/AAuE7mC5vqtmalMngqfosazzXx4AVJwwWiYCV2nTgLIqgQ=s64",
      "userId": "10914323651690992949"
     },
     "user_tz": 240
    },
    "id": "7ho43YTzP3Tg",
    "outputId": "dc4d261a-9f82-4825-9275-579d58e96f18"
   },
   "outputs": [
    {
     "name": "stdout",
     "output_type": "stream",
     "text": [
      "0    1\n",
      "1    2\n",
      "2    3\n",
      "3    4\n",
      "dtype: int64\n",
      "<class 'pandas.core.series.Series'>\n"
     ]
    }
   ],
   "source": [
    "se = Series([1,2,3,4])\n",
    "print(se)\n",
    "print(type(se))"
   ]
  },
  {
   "cell_type": "code",
   "execution_count": 4,
   "metadata": {
    "colab": {
     "base_uri": "https://localhost:8080/",
     "height": 104
    },
    "colab_type": "code",
    "executionInfo": {
     "elapsed": 7020,
     "status": "ok",
     "timestamp": 1567987076743,
     "user": {
      "displayName": "Ruikang Wang",
      "photoUrl": "https://lh3.googleusercontent.com/a-/AAuE7mC5vqtmalMngqfosazzXx4AVJwwWiYCV2nTgLIqgQ=s64",
      "userId": "10914323651690992949"
     },
     "user_tz": 240
    },
    "id": "FkY1lhjKs0-4",
    "outputId": "f75fe7e5-7ef7-4d75-9948-1cad59b3868c"
   },
   "outputs": [
    {
     "data": {
      "text/plain": [
       "0    1\n",
       "1    2\n",
       "2    3\n",
       "3    4\n",
       "dtype: int32"
      ]
     },
     "execution_count": 4,
     "metadata": {},
     "output_type": "execute_result"
    }
   ],
   "source": [
    "se_np = Series(np.array([1,2,3,4]))\n",
    "se_np"
   ]
  },
  {
   "cell_type": "code",
   "execution_count": 6,
   "metadata": {
    "colab": {
     "base_uri": "https://localhost:8080/",
     "height": 52
    },
    "colab_type": "code",
    "executionInfo": {
     "elapsed": 6999,
     "status": "ok",
     "timestamp": 1567987076743,
     "user": {
      "displayName": "Ruikang Wang",
      "photoUrl": "https://lh3.googleusercontent.com/a-/AAuE7mC5vqtmalMngqfosazzXx4AVJwwWiYCV2nTgLIqgQ=s64",
      "userId": "10914323651690992949"
     },
     "user_tz": 240
    },
    "id": "iLMtNUo7QPzW",
    "outputId": "d94afe93-b188-43c1-a7d6-d5d40219c5a1"
   },
   "outputs": [
    {
     "name": "stdout",
     "output_type": "stream",
     "text": [
      "value:  [1 2 3 4]\n",
      "index:  RangeIndex(start=0, stop=4, step=1)\n"
     ]
    }
   ],
   "source": [
    "print(\"value: \", se.values)\n",
    "print(\"index: \", se.index)"
   ]
  },
  {
   "cell_type": "code",
   "execution_count": 5,
   "metadata": {
    "colab": {
     "base_uri": "https://localhost:8080/",
     "height": 35
    },
    "colab_type": "code",
    "executionInfo": {
     "elapsed": 7288,
     "status": "ok",
     "timestamp": 1567987077051,
     "user": {
      "displayName": "Ruikang Wang",
      "photoUrl": "https://lh3.googleusercontent.com/a-/AAuE7mC5vqtmalMngqfosazzXx4AVJwwWiYCV2nTgLIqgQ=s64",
      "userId": "10914323651690992949"
     },
     "user_tz": 240
    },
    "id": "w_mglSDPtCQx",
    "outputId": "099a0804-b6ba-4c6b-d795-3407d3b2cbe0"
   },
   "outputs": [
    {
     "name": "stdout",
     "output_type": "stream",
     "text": [
      "<class 'numpy.ndarray'>\n"
     ]
    }
   ],
   "source": [
    "print(type(se.values))"
   ]
  },
  {
   "cell_type": "code",
   "execution_count": 6,
   "metadata": {
    "colab": {
     "base_uri": "https://localhost:8080/",
     "height": 69
    },
    "colab_type": "code",
    "executionInfo": {
     "elapsed": 7273,
     "status": "ok",
     "timestamp": 1567987077055,
     "user": {
      "displayName": "Ruikang Wang",
      "photoUrl": "https://lh3.googleusercontent.com/a-/AAuE7mC5vqtmalMngqfosazzXx4AVJwwWiYCV2nTgLIqgQ=s64",
      "userId": "10914323651690992949"
     },
     "user_tz": 240
    },
    "id": "nw9arZkPUy1b",
    "outputId": "46bdf7af-59b8-4581-fc63-5d1aff845eb2"
   },
   "outputs": [
    {
     "data": {
      "text/plain": [
       "a    1\n",
       "b    2\n",
       "dtype: int64"
      ]
     },
     "execution_count": 6,
     "metadata": {},
     "output_type": "execute_result"
    }
   ],
   "source": [
    "## Customize index:\n",
    "se2 = Series({'a':1,'b':2})\n",
    "se2"
   ]
  },
  {
   "cell_type": "code",
   "execution_count": 7,
   "metadata": {
    "colab": {
     "base_uri": "https://localhost:8080/",
     "height": 52
    },
    "colab_type": "code",
    "executionInfo": {
     "elapsed": 7253,
     "status": "ok",
     "timestamp": 1567987077056,
     "user": {
      "displayName": "Ruikang Wang",
      "photoUrl": "https://lh3.googleusercontent.com/a-/AAuE7mC5vqtmalMngqfosazzXx4AVJwwWiYCV2nTgLIqgQ=s64",
      "userId": "10914323651690992949"
     },
     "user_tz": 240
    },
    "id": "7eUUwFeaU56O",
    "outputId": "c87ff642-6adf-432f-d126-d1b2735c3007"
   },
   "outputs": [
    {
     "name": "stdout",
     "output_type": "stream",
     "text": [
      "Value:  [1 2]\n",
      "Index:  Index(['a', 'b'], dtype='object')\n"
     ]
    }
   ],
   "source": [
    "print(\"Value: \", se2.values)\n",
    "print(\"Index: \", se2.index)"
   ]
  },
  {
   "cell_type": "code",
   "execution_count": 8,
   "metadata": {
    "colab": {
     "base_uri": "https://localhost:8080/",
     "height": 104
    },
    "colab_type": "code",
    "executionInfo": {
     "elapsed": 7226,
     "status": "ok",
     "timestamp": 1567987077056,
     "user": {
      "displayName": "Ruikang Wang",
      "photoUrl": "https://lh3.googleusercontent.com/a-/AAuE7mC5vqtmalMngqfosazzXx4AVJwwWiYCV2nTgLIqgQ=s64",
      "userId": "10914323651690992949"
     },
     "user_tz": 240
    },
    "id": "AlKVXB7xU_w8",
    "outputId": "f86e4ea4-6ba0-4964-9193-08fb0516b524"
   },
   "outputs": [
    {
     "data": {
      "text/plain": [
       "a    1\n",
       "b    2\n",
       "c    3\n",
       "d    4\n",
       "dtype: int32"
      ]
     },
     "execution_count": 8,
     "metadata": {},
     "output_type": "execute_result"
    }
   ],
   "source": [
    "## Pass in an numpy array to construct the series\n",
    "se3 = Series(np.array([1,2,3,4]), index = ['a','b','c','d'])\n",
    "se3"
   ]
  },
  {
   "cell_type": "code",
   "execution_count": 9,
   "metadata": {
    "colab": {
     "base_uri": "https://localhost:8080/",
     "height": 104
    },
    "colab_type": "code",
    "executionInfo": {
     "elapsed": 7197,
     "status": "ok",
     "timestamp": 1567987077057,
     "user": {
      "displayName": "Ruikang Wang",
      "photoUrl": "https://lh3.googleusercontent.com/a-/AAuE7mC5vqtmalMngqfosazzXx4AVJwwWiYCV2nTgLIqgQ=s64",
      "userId": "10914323651690992949"
     },
     "user_tz": 240
    },
    "id": "xhmQp3EeWMFr",
    "outputId": "7f57f729-fa31-48d4-8de6-9570c188f742"
   },
   "outputs": [
    {
     "data": {
      "text/plain": [
       "a    1\n",
       "b    2\n",
       "c    3\n",
       "d    4\n",
       "dtype: int64"
      ]
     },
     "execution_count": 9,
     "metadata": {},
     "output_type": "execute_result"
    }
   ],
   "source": [
    "## Pass in a python list to construct the series\n",
    "se4 = Series([1,2,3,4], index = ['a','b','c','d'])\n",
    "se4"
   ]
  },
  {
   "cell_type": "markdown",
   "metadata": {
    "colab_type": "text",
    "id": "XgQkbOoWXAWe"
   },
   "source": [
    "Visiting :"
   ]
  },
  {
   "cell_type": "code",
   "execution_count": 10,
   "metadata": {
    "colab": {
     "base_uri": "https://localhost:8080/",
     "height": 35
    },
    "colab_type": "code",
    "executionInfo": {
     "elapsed": 7178,
     "status": "ok",
     "timestamp": 1567987077059,
     "user": {
      "displayName": "Ruikang Wang",
      "photoUrl": "https://lh3.googleusercontent.com/a-/AAuE7mC5vqtmalMngqfosazzXx4AVJwwWiYCV2nTgLIqgQ=s64",
      "userId": "10914323651690992949"
     },
     "user_tz": 240
    },
    "id": "SzvkCoQ1WQis",
    "outputId": "ed727dda-bd35-4d96-a360-88a8434a0944"
   },
   "outputs": [
    {
     "data": {
      "text/plain": [
       "1"
      ]
     },
     "execution_count": 10,
     "metadata": {},
     "output_type": "execute_result"
    }
   ],
   "source": [
    "## We can visit the value by its index\n",
    "se4['a']"
   ]
  },
  {
   "cell_type": "code",
   "execution_count": 11,
   "metadata": {
    "colab": {
     "base_uri": "https://localhost:8080/",
     "height": 69
    },
    "colab_type": "code",
    "executionInfo": {
     "elapsed": 7155,
     "status": "ok",
     "timestamp": 1567987077060,
     "user": {
      "displayName": "Ruikang Wang",
      "photoUrl": "https://lh3.googleusercontent.com/a-/AAuE7mC5vqtmalMngqfosazzXx4AVJwwWiYCV2nTgLIqgQ=s64",
      "userId": "10914323651690992949"
     },
     "user_tz": 240
    },
    "id": "y9mv3MvAWo3Q",
    "outputId": "8f882712-afd4-4311-cafa-8e0d10f2ae7a"
   },
   "outputs": [
    {
     "data": {
      "text/plain": [
       "a    1\n",
       "b    2\n",
       "dtype: int64"
      ]
     },
     "execution_count": 11,
     "metadata": {},
     "output_type": "execute_result"
    }
   ],
   "source": [
    "se4[['a','b']]"
   ]
  },
  {
   "cell_type": "code",
   "execution_count": 12,
   "metadata": {
    "colab": {
     "base_uri": "https://localhost:8080/",
     "height": 69
    },
    "colab_type": "code",
    "executionInfo": {
     "elapsed": 7136,
     "status": "ok",
     "timestamp": 1567987077061,
     "user": {
      "displayName": "Ruikang Wang",
      "photoUrl": "https://lh3.googleusercontent.com/a-/AAuE7mC5vqtmalMngqfosazzXx4AVJwwWiYCV2nTgLIqgQ=s64",
      "userId": "10914323651690992949"
     },
     "user_tz": 240
    },
    "id": "9kQ3pXHAWt4e",
    "outputId": "a9e22928-5401-4a22-e81d-fd2f4dfddce0"
   },
   "outputs": [
    {
     "data": {
      "text/plain": [
       "a    1\n",
       "b    2\n",
       "dtype: int64"
      ]
     },
     "execution_count": 12,
     "metadata": {},
     "output_type": "execute_result"
    }
   ],
   "source": [
    "ind = ['a', 'b']\n",
    "se4[ind]"
   ]
  },
  {
   "cell_type": "markdown",
   "metadata": {
    "colab_type": "text",
    "id": "KXXm9bvRXNYQ"
   },
   "source": [
    "Apply numpy functions on pandas series:"
   ]
  },
  {
   "cell_type": "code",
   "execution_count": 17,
   "metadata": {
    "colab": {
     "base_uri": "https://localhost:8080/",
     "height": 104
    },
    "colab_type": "code",
    "executionInfo": {
     "elapsed": 7456,
     "status": "ok",
     "timestamp": 1567987077402,
     "user": {
      "displayName": "Ruikang Wang",
      "photoUrl": "https://lh3.googleusercontent.com/a-/AAuE7mC5vqtmalMngqfosazzXx4AVJwwWiYCV2nTgLIqgQ=s64",
      "userId": "10914323651690992949"
     },
     "user_tz": 240
    },
    "id": "6TKxbsdeW-Rc",
    "outputId": "97878a30-6ed3-4b8c-f5ac-fb7425f327af"
   },
   "outputs": [
    {
     "data": {
      "text/plain": [
       "a     2.718282\n",
       "b     7.389056\n",
       "c    20.085537\n",
       "d    54.598150\n",
       "dtype: float64"
      ]
     },
     "execution_count": 17,
     "metadata": {},
     "output_type": "execute_result"
    }
   ],
   "source": [
    "## function will work on values, not index\n",
    "np.exp(se4)"
   ]
  },
  {
   "cell_type": "code",
   "execution_count": 13,
   "metadata": {
    "colab": {
     "base_uri": "https://localhost:8080/",
     "height": 35
    },
    "colab_type": "code",
    "executionInfo": {
     "elapsed": 7439,
     "status": "ok",
     "timestamp": 1567987077405,
     "user": {
      "displayName": "Ruikang Wang",
      "photoUrl": "https://lh3.googleusercontent.com/a-/AAuE7mC5vqtmalMngqfosazzXx4AVJwwWiYCV2nTgLIqgQ=s64",
      "userId": "10914323651690992949"
     },
     "user_tz": 240
    },
    "id": "4Zw6q3fpcq15",
    "outputId": "81f0de6c-693b-4b43-9852-bc9f15ae3218"
   },
   "outputs": [
    {
     "data": {
      "text/plain": [
       "array([1, 2, 3, 4])"
      ]
     },
     "execution_count": 13,
     "metadata": {},
     "output_type": "execute_result"
    }
   ],
   "source": [
    "se3.values"
   ]
  },
  {
   "cell_type": "code",
   "execution_count": 14,
   "metadata": {
    "colab": {
     "base_uri": "https://localhost:8080/",
     "height": 35
    },
    "colab_type": "code",
    "executionInfo": {
     "elapsed": 7419,
     "status": "ok",
     "timestamp": 1567987077408,
     "user": {
      "displayName": "Ruikang Wang",
      "photoUrl": "https://lh3.googleusercontent.com/a-/AAuE7mC5vqtmalMngqfosazzXx4AVJwwWiYCV2nTgLIqgQ=s64",
      "userId": "10914323651690992949"
     },
     "user_tz": 240
    },
    "id": "_EOH8KMocsfB",
    "outputId": "e9a9ce54-6444-4a93-fddf-dbe74b6256a0"
   },
   "outputs": [
    {
     "data": {
      "text/plain": [
       "array([1, 2, 3, 4], dtype=int64)"
      ]
     },
     "execution_count": 14,
     "metadata": {},
     "output_type": "execute_result"
    }
   ],
   "source": [
    "se4.values"
   ]
  },
  {
   "cell_type": "code",
   "execution_count": 15,
   "metadata": {
    "colab": {
     "base_uri": "https://localhost:8080/",
     "height": 104
    },
    "colab_type": "code",
    "executionInfo": {
     "elapsed": 7395,
     "status": "ok",
     "timestamp": 1567987077409,
     "user": {
      "displayName": "Ruikang Wang",
      "photoUrl": "https://lh3.googleusercontent.com/a-/AAuE7mC5vqtmalMngqfosazzXx4AVJwwWiYCV2nTgLIqgQ=s64",
      "userId": "10914323651690992949"
     },
     "user_tz": 240
    },
    "id": "YShVg4DDfNQ-",
    "outputId": "e1b8e77e-3aad-4d11-b522-86c672e4df21"
   },
   "outputs": [
    {
     "data": {
      "text/plain": [
       "a    1\n",
       "b    2\n",
       "c    3\n",
       "d    4\n",
       "dtype: int32"
      ]
     },
     "execution_count": 15,
     "metadata": {},
     "output_type": "execute_result"
    }
   ],
   "source": [
    "se3"
   ]
  },
  {
   "cell_type": "code",
   "execution_count": 16,
   "metadata": {
    "colab": {
     "base_uri": "https://localhost:8080/",
     "height": 104
    },
    "colab_type": "code",
    "executionInfo": {
     "elapsed": 7366,
     "status": "ok",
     "timestamp": 1567987077411,
     "user": {
      "displayName": "Ruikang Wang",
      "photoUrl": "https://lh3.googleusercontent.com/a-/AAuE7mC5vqtmalMngqfosazzXx4AVJwwWiYCV2nTgLIqgQ=s64",
      "userId": "10914323651690992949"
     },
     "user_tz": 240
    },
    "id": "VZ3DHUPcX8pg",
    "outputId": "d0a53d63-3da2-43a0-998d-d74cbe91be5b"
   },
   "outputs": [
    {
     "data": {
      "text/plain": [
       "a    2\n",
       "b    4\n",
       "c    6\n",
       "d    8\n",
       "dtype: int64"
      ]
     },
     "execution_count": 16,
     "metadata": {},
     "output_type": "execute_result"
    }
   ],
   "source": [
    "## Add corresponding to the index, if have index\n",
    "se4 + se3"
   ]
  },
  {
   "cell_type": "code",
   "execution_count": 17,
   "metadata": {
    "colab": {
     "base_uri": "https://localhost:8080/",
     "height": 104
    },
    "colab_type": "code",
    "executionInfo": {
     "elapsed": 7351,
     "status": "ok",
     "timestamp": 1567987077418,
     "user": {
      "displayName": "Ruikang Wang",
      "photoUrl": "https://lh3.googleusercontent.com/a-/AAuE7mC5vqtmalMngqfosazzXx4AVJwwWiYCV2nTgLIqgQ=s64",
      "userId": "10914323651690992949"
     },
     "user_tz": 240
    },
    "id": "SSf-W4CKYH5z",
    "outputId": "3e719618-3779-43bc-ae57-f2c1217ef2fa"
   },
   "outputs": [
    {
     "data": {
      "text/plain": [
       "a    2\n",
       "b    4\n",
       "c    6\n",
       "d    8\n",
       "dtype: int64"
      ]
     },
     "execution_count": 17,
     "metadata": {},
     "output_type": "execute_result"
    }
   ],
   "source": [
    "se4 + np.array([1,2,3,4])"
   ]
  },
  {
   "cell_type": "code",
   "execution_count": 18,
   "metadata": {
    "colab": {
     "base_uri": "https://localhost:8080/",
     "height": 104
    },
    "colab_type": "code",
    "executionInfo": {
     "elapsed": 7335,
     "status": "ok",
     "timestamp": 1567987077421,
     "user": {
      "displayName": "Ruikang Wang",
      "photoUrl": "https://lh3.googleusercontent.com/a-/AAuE7mC5vqtmalMngqfosazzXx4AVJwwWiYCV2nTgLIqgQ=s64",
      "userId": "10914323651690992949"
     },
     "user_tz": 240
    },
    "id": "tQiEukJHdFvk",
    "outputId": "a9190ff9-ad5b-422b-abfb-9b21662a8613"
   },
   "outputs": [
    {
     "data": {
      "text/plain": [
       "a    2\n",
       "b    4\n",
       "c    6\n",
       "d    8\n",
       "dtype: int64"
      ]
     },
     "execution_count": 18,
     "metadata": {},
     "output_type": "execute_result"
    }
   ],
   "source": [
    "se4 + [1,2,3,4]"
   ]
  },
  {
   "cell_type": "markdown",
   "metadata": {
    "colab_type": "text",
    "id": "DP7KR6BhE_MZ"
   },
   "source": [
    "can also sum by scala"
   ]
  },
  {
   "cell_type": "code",
   "execution_count": 20,
   "metadata": {
    "colab": {
     "base_uri": "https://localhost:8080/",
     "height": 104
    },
    "colab_type": "code",
    "executionInfo": {
     "elapsed": 7320,
     "status": "ok",
     "timestamp": 1567987077423,
     "user": {
      "displayName": "Ruikang Wang",
      "photoUrl": "https://lh3.googleusercontent.com/a-/AAuE7mC5vqtmalMngqfosazzXx4AVJwwWiYCV2nTgLIqgQ=s64",
      "userId": "10914323651690992949"
     },
     "user_tz": 240
    },
    "id": "Y5mYzRhvE1YU",
    "outputId": "7c168e12-4f5f-44e9-db08-a06c36bdbdcc"
   },
   "outputs": [
    {
     "data": {
      "text/plain": [
       "a    3\n",
       "b    4\n",
       "c    5\n",
       "d    6\n",
       "dtype: int64"
      ]
     },
     "execution_count": 20,
     "metadata": {},
     "output_type": "execute_result"
    }
   ],
   "source": [
    "## Broadcast & Elementwise\n",
    "se4 + 2"
   ]
  },
  {
   "cell_type": "code",
   "execution_count": 23,
   "metadata": {
    "colab": {
     "base_uri": "https://localhost:8080/",
     "height": 104
    },
    "colab_type": "code",
    "executionInfo": {
     "elapsed": 7304,
     "status": "ok",
     "timestamp": 1567987077424,
     "user": {
      "displayName": "Ruikang Wang",
      "photoUrl": "https://lh3.googleusercontent.com/a-/AAuE7mC5vqtmalMngqfosazzXx4AVJwwWiYCV2nTgLIqgQ=s64",
      "userId": "10914323651690992949"
     },
     "user_tz": 240
    },
    "id": "9qvVvCzjdtNq",
    "outputId": "00a97fe7-1dde-4934-971c-4c19bc303767"
   },
   "outputs": [
    {
     "data": {
      "text/plain": [
       "a    False\n",
       "b     True\n",
       "c    False\n",
       "d     True\n",
       "dtype: bool"
      ]
     },
     "execution_count": 23,
     "metadata": {},
     "output_type": "execute_result"
    }
   ],
   "source": [
    "se4%2 == 0"
   ]
  },
  {
   "cell_type": "code",
   "execution_count": 24,
   "metadata": {
    "colab": {
     "base_uri": "https://localhost:8080/",
     "height": 104
    },
    "colab_type": "code",
    "executionInfo": {
     "elapsed": 7287,
     "status": "ok",
     "timestamp": 1567987077424,
     "user": {
      "displayName": "Ruikang Wang",
      "photoUrl": "https://lh3.googleusercontent.com/a-/AAuE7mC5vqtmalMngqfosazzXx4AVJwwWiYCV2nTgLIqgQ=s64",
      "userId": "10914323651690992949"
     },
     "user_tz": 240
    },
    "id": "kiNf3pHtdyiV",
    "outputId": "ae31bd14-a740-4d34-81f6-291fd1220bd7"
   },
   "outputs": [
    {
     "data": {
      "text/plain": [
       "a    1\n",
       "b    2\n",
       "c    3\n",
       "d    4\n",
       "dtype: int64"
      ]
     },
     "execution_count": 24,
     "metadata": {},
     "output_type": "execute_result"
    }
   ],
   "source": [
    "se4"
   ]
  },
  {
   "cell_type": "markdown",
   "metadata": {
    "colab_type": "text",
    "id": "pAiMTbo8YRX_"
   },
   "source": [
    "Get the value by using boolean:"
   ]
  },
  {
   "cell_type": "code",
   "execution_count": 25,
   "metadata": {
    "colab": {
     "base_uri": "https://localhost:8080/",
     "height": 69
    },
    "colab_type": "code",
    "executionInfo": {
     "elapsed": 7271,
     "status": "ok",
     "timestamp": 1567987077425,
     "user": {
      "displayName": "Ruikang Wang",
      "photoUrl": "https://lh3.googleusercontent.com/a-/AAuE7mC5vqtmalMngqfosazzXx4AVJwwWiYCV2nTgLIqgQ=s64",
      "userId": "10914323651690992949"
     },
     "user_tz": 240
    },
    "id": "ylDXOVOvYLVj",
    "outputId": "ee5e5bfb-96b3-4552-c272-ea1c2e6a7afd"
   },
   "outputs": [
    {
     "data": {
      "text/plain": [
       "a    1\n",
       "c    3\n",
       "dtype: int64"
      ]
     },
     "execution_count": 25,
     "metadata": {},
     "output_type": "execute_result"
    }
   ],
   "source": [
    "se4[se4%2 == 1]"
   ]
  },
  {
   "cell_type": "code",
   "execution_count": 27,
   "metadata": {
    "colab": {
     "base_uri": "https://localhost:8080/",
     "height": 35
    },
    "colab_type": "code",
    "executionInfo": {
     "elapsed": 7247,
     "status": "ok",
     "timestamp": 1567987077426,
     "user": {
      "displayName": "Ruikang Wang",
      "photoUrl": "https://lh3.googleusercontent.com/a-/AAuE7mC5vqtmalMngqfosazzXx4AVJwwWiYCV2nTgLIqgQ=s64",
      "userId": "10914323651690992949"
     },
     "user_tz": 240
    },
    "id": "PNIXaAkvYadl",
    "outputId": "3a314826-df07-43f9-f17e-a4019f80d6d1"
   },
   "outputs": [
    {
     "data": {
      "text/plain": [
       "True"
      ]
     },
     "execution_count": 27,
     "metadata": {},
     "output_type": "execute_result"
    }
   ],
   "source": [
    "2 in se4.values"
   ]
  },
  {
   "cell_type": "code",
   "execution_count": 28,
   "metadata": {
    "colab": {
     "base_uri": "https://localhost:8080/",
     "height": 35
    },
    "colab_type": "code",
    "executionInfo": {
     "elapsed": 7223,
     "status": "ok",
     "timestamp": 1567987077426,
     "user": {
      "displayName": "Ruikang Wang",
      "photoUrl": "https://lh3.googleusercontent.com/a-/AAuE7mC5vqtmalMngqfosazzXx4AVJwwWiYCV2nTgLIqgQ=s64",
      "userId": "10914323651690992949"
     },
     "user_tz": 240
    },
    "id": "9oIiV7F1Yf94",
    "outputId": "478db0f8-2410-42b3-96e8-ed7f200c37b9"
   },
   "outputs": [
    {
     "data": {
      "text/plain": [
       "False"
      ]
     },
     "execution_count": 28,
     "metadata": {},
     "output_type": "execute_result"
    }
   ],
   "source": [
    "10 in se4.values"
   ]
  },
  {
   "cell_type": "markdown",
   "metadata": {
    "colab_type": "text",
    "id": "kS4xUi5xrT3q"
   },
   "source": [
    "The 'in' operation only effective for index, not value:"
   ]
  },
  {
   "cell_type": "code",
   "execution_count": 29,
   "metadata": {
    "colab": {
     "base_uri": "https://localhost:8080/",
     "height": 35
    },
    "colab_type": "code",
    "executionInfo": {
     "elapsed": 7202,
     "status": "ok",
     "timestamp": 1567987077427,
     "user": {
      "displayName": "Ruikang Wang",
      "photoUrl": "https://lh3.googleusercontent.com/a-/AAuE7mC5vqtmalMngqfosazzXx4AVJwwWiYCV2nTgLIqgQ=s64",
      "userId": "10914323651690992949"
     },
     "user_tz": 240
    },
    "id": "k3skQ4SUYhWO",
    "outputId": "c19280c1-2f91-4d4c-a228-ba25ce1b7124"
   },
   "outputs": [
    {
     "data": {
      "text/plain": [
       "False"
      ]
     },
     "execution_count": 29,
     "metadata": {},
     "output_type": "execute_result"
    }
   ],
   "source": [
    "2 in se4"
   ]
  },
  {
   "cell_type": "code",
   "execution_count": 30,
   "metadata": {
    "colab": {
     "base_uri": "https://localhost:8080/",
     "height": 35
    },
    "colab_type": "code",
    "executionInfo": {
     "elapsed": 7175,
     "status": "ok",
     "timestamp": 1567987077428,
     "user": {
      "displayName": "Ruikang Wang",
      "photoUrl": "https://lh3.googleusercontent.com/a-/AAuE7mC5vqtmalMngqfosazzXx4AVJwwWiYCV2nTgLIqgQ=s64",
      "userId": "10914323651690992949"
     },
     "user_tz": 240
    },
    "id": "95GFD9w3YkZE",
    "outputId": "6504cd68-a9d8-4dc2-fad3-da83b75e89ff"
   },
   "outputs": [
    {
     "data": {
      "text/plain": [
       "True"
      ]
     },
     "execution_count": 30,
     "metadata": {},
     "output_type": "execute_result"
    }
   ],
   "source": [
    "'a' in se4"
   ]
  },
  {
   "cell_type": "markdown",
   "metadata": {
    "colab_type": "text",
    "id": "ni08XZlnYrab"
   },
   "source": [
    "The most intuitive way is using python dictionary to construct the Series:"
   ]
  },
  {
   "cell_type": "code",
   "execution_count": 31,
   "metadata": {
    "colab": {
     "base_uri": "https://localhost:8080/",
     "height": 104
    },
    "colab_type": "code",
    "executionInfo": {
     "elapsed": 7135,
     "status": "ok",
     "timestamp": 1567987077428,
     "user": {
      "displayName": "Ruikang Wang",
      "photoUrl": "https://lh3.googleusercontent.com/a-/AAuE7mC5vqtmalMngqfosazzXx4AVJwwWiYCV2nTgLIqgQ=s64",
      "userId": "10914323651690992949"
     },
     "user_tz": 240
    },
    "id": "C37h_4i4Yo0f",
    "outputId": "2f67e331-d362-42f5-e29f-7ee013bf2b06"
   },
   "outputs": [
    {
     "data": {
      "text/plain": [
       "Ohio      35000\n",
       "Texas     71000\n",
       "Oregon    16000\n",
       "Utah       5000\n",
       "dtype: int64"
      ]
     },
     "execution_count": 31,
     "metadata": {},
     "output_type": "execute_result"
    }
   ],
   "source": [
    "sdata = {'Ohio': 35000, 'Texas': 71000, 'Oregon': 16000, 'Utah': 5000}\n",
    "obj3 = Series(sdata)\n",
    "obj3"
   ]
  },
  {
   "cell_type": "code",
   "execution_count": 32,
   "metadata": {
    "colab": {
     "base_uri": "https://localhost:8080/",
     "height": 104
    },
    "colab_type": "code",
    "executionInfo": {
     "elapsed": 7107,
     "status": "ok",
     "timestamp": 1567987077429,
     "user": {
      "displayName": "Ruikang Wang",
      "photoUrl": "https://lh3.googleusercontent.com/a-/AAuE7mC5vqtmalMngqfosazzXx4AVJwwWiYCV2nTgLIqgQ=s64",
      "userId": "10914323651690992949"
     },
     "user_tz": 240
    },
    "id": "gi_5zR36Zpsf",
    "outputId": "8502aeb0-223d-4aa8-c647-9f4e4499b52f"
   },
   "outputs": [
    {
     "data": {
      "text/plain": [
       "California        NaN\n",
       "Ohio          35000.0\n",
       "Oregon        16000.0\n",
       "Texas         71000.0\n",
       "dtype: float64"
      ]
     },
     "execution_count": 32,
     "metadata": {},
     "output_type": "execute_result"
    }
   ],
   "source": [
    "states = ['California', 'Ohio', 'Oregon', 'Texas']\n",
    "obj4 = Series(sdata, index=states)\n",
    "obj4\n",
    "         "
   ]
  },
  {
   "cell_type": "code",
   "execution_count": 33,
   "metadata": {
    "colab": {
     "base_uri": "https://localhost:8080/",
     "height": 104
    },
    "colab_type": "code",
    "executionInfo": {
     "elapsed": 7082,
     "status": "ok",
     "timestamp": 1567987077429,
     "user": {
      "displayName": "Ruikang Wang",
      "photoUrl": "https://lh3.googleusercontent.com/a-/AAuE7mC5vqtmalMngqfosazzXx4AVJwwWiYCV2nTgLIqgQ=s64",
      "userId": "10914323651690992949"
     },
     "user_tz": 240
    },
    "id": "w7n45tZqZrk2",
    "outputId": "7f6f22f4-4f50-4bd4-a5ce-5750562d728f"
   },
   "outputs": [
    {
     "data": {
      "text/plain": [
       "California     True\n",
       "Ohio          False\n",
       "Oregon        False\n",
       "Texas         False\n",
       "dtype: bool"
      ]
     },
     "execution_count": 33,
     "metadata": {},
     "output_type": "execute_result"
    }
   ],
   "source": [
    "pd.isnull(obj4)"
   ]
  },
  {
   "cell_type": "markdown",
   "metadata": {
    "colab_type": "text",
    "id": "LD4C67bIFy5s"
   },
   "source": [
    "select the row with NaN values"
   ]
  },
  {
   "cell_type": "code",
   "execution_count": 34,
   "metadata": {
    "colab": {
     "base_uri": "https://localhost:8080/",
     "height": 52
    },
    "colab_type": "code",
    "executionInfo": {
     "elapsed": 7058,
     "status": "ok",
     "timestamp": 1567987077430,
     "user": {
      "displayName": "Ruikang Wang",
      "photoUrl": "https://lh3.googleusercontent.com/a-/AAuE7mC5vqtmalMngqfosazzXx4AVJwwWiYCV2nTgLIqgQ=s64",
      "userId": "10914323651690992949"
     },
     "user_tz": 240
    },
    "id": "zy4oQ8KPFe3_",
    "outputId": "144f6ad1-d7ed-45d0-c8f0-5469a9f2d97f"
   },
   "outputs": [
    {
     "data": {
      "text/plain": [
       "California   NaN\n",
       "dtype: float64"
      ]
     },
     "execution_count": 34,
     "metadata": {},
     "output_type": "execute_result"
    }
   ],
   "source": [
    "obj4[pd.isnull(obj4)]"
   ]
  },
  {
   "cell_type": "markdown",
   "metadata": {
    "colab_type": "text",
    "id": "ddR9C2-rrbsq"
   },
   "source": [
    "Series will automatically calculated based on index :"
   ]
  },
  {
   "cell_type": "code",
   "execution_count": 35,
   "metadata": {
    "colab": {
     "base_uri": "https://localhost:8080/",
     "height": 104
    },
    "colab_type": "code",
    "executionInfo": {
     "elapsed": 7025,
     "status": "ok",
     "timestamp": 1567987077430,
     "user": {
      "displayName": "Ruikang Wang",
      "photoUrl": "https://lh3.googleusercontent.com/a-/AAuE7mC5vqtmalMngqfosazzXx4AVJwwWiYCV2nTgLIqgQ=s64",
      "userId": "10914323651690992949"
     },
     "user_tz": 240
    },
    "id": "7Fx2Gax6Zvz8",
    "outputId": "605db59c-cfb4-4205-db45-380750879a4f"
   },
   "outputs": [
    {
     "data": {
      "text/plain": [
       "Ohio      35000\n",
       "Texas     71000\n",
       "Oregon    16000\n",
       "Utah       5000\n",
       "dtype: int64"
      ]
     },
     "execution_count": 35,
     "metadata": {},
     "output_type": "execute_result"
    }
   ],
   "source": [
    "obj3"
   ]
  },
  {
   "cell_type": "code",
   "execution_count": 36,
   "metadata": {
    "colab": {
     "base_uri": "https://localhost:8080/",
     "height": 104
    },
    "colab_type": "code",
    "executionInfo": {
     "elapsed": 7460,
     "status": "ok",
     "timestamp": 1567987077891,
     "user": {
      "displayName": "Ruikang Wang",
      "photoUrl": "https://lh3.googleusercontent.com/a-/AAuE7mC5vqtmalMngqfosazzXx4AVJwwWiYCV2nTgLIqgQ=s64",
      "userId": "10914323651690992949"
     },
     "user_tz": 240
    },
    "id": "4CDcNu_5sTdH",
    "outputId": "adfc5a00-3914-4ea1-95fd-ca50cd428336"
   },
   "outputs": [
    {
     "data": {
      "text/plain": [
       "California        NaN\n",
       "Ohio          35000.0\n",
       "Oregon        16000.0\n",
       "Texas         71000.0\n",
       "dtype: float64"
      ]
     },
     "execution_count": 36,
     "metadata": {},
     "output_type": "execute_result"
    }
   ],
   "source": [
    "obj4"
   ]
  },
  {
   "cell_type": "code",
   "execution_count": 37,
   "metadata": {
    "colab": {
     "base_uri": "https://localhost:8080/",
     "height": 121
    },
    "colab_type": "code",
    "executionInfo": {
     "elapsed": 7438,
     "status": "ok",
     "timestamp": 1567987077895,
     "user": {
      "displayName": "Ruikang Wang",
      "photoUrl": "https://lh3.googleusercontent.com/a-/AAuE7mC5vqtmalMngqfosazzXx4AVJwwWiYCV2nTgLIqgQ=s64",
      "userId": "10914323651690992949"
     },
     "user_tz": 240
    },
    "id": "ppnDCMxysU52",
    "outputId": "c874667f-5373-4851-fa24-157852912535"
   },
   "outputs": [
    {
     "data": {
      "text/plain": [
       "California         NaN\n",
       "Ohio           70000.0\n",
       "Oregon         32000.0\n",
       "Texas         142000.0\n",
       "Utah               NaN\n",
       "dtype: float64"
      ]
     },
     "execution_count": 37,
     "metadata": {},
     "output_type": "execute_result"
    }
   ],
   "source": [
    "obj3 + obj4"
   ]
  },
  {
   "cell_type": "markdown",
   "metadata": {
    "colab_type": "text",
    "id": "abn1L2xOsbwd"
   },
   "source": [
    "We can change index by assigning values:"
   ]
  },
  {
   "cell_type": "code",
   "execution_count": 38,
   "metadata": {
    "colab": {
     "base_uri": "https://localhost:8080/",
     "height": 104
    },
    "colab_type": "code",
    "executionInfo": {
     "elapsed": 7377,
     "status": "ok",
     "timestamp": 1567987077903,
     "user": {
      "displayName": "Ruikang Wang",
      "photoUrl": "https://lh3.googleusercontent.com/a-/AAuE7mC5vqtmalMngqfosazzXx4AVJwwWiYCV2nTgLIqgQ=s64",
      "userId": "10914323651690992949"
     },
     "user_tz": 240
    },
    "id": "AxuxhOPjsX6Z",
    "outputId": "31b111ca-7a8a-4fad-ddab-b16c6f6c87a5"
   },
   "outputs": [
    {
     "data": {
      "text/plain": [
       "0    1\n",
       "1    2\n",
       "2    3\n",
       "3    4\n",
       "dtype: int64"
      ]
     },
     "execution_count": 38,
     "metadata": {},
     "output_type": "execute_result"
    }
   ],
   "source": [
    "se"
   ]
  },
  {
   "cell_type": "code",
   "execution_count": 39,
   "metadata": {
    "colab": {
     "base_uri": "https://localhost:8080/",
     "height": 104
    },
    "colab_type": "code",
    "executionInfo": {
     "elapsed": 7351,
     "status": "ok",
     "timestamp": 1567987077904,
     "user": {
      "displayName": "Ruikang Wang",
      "photoUrl": "https://lh3.googleusercontent.com/a-/AAuE7mC5vqtmalMngqfosazzXx4AVJwwWiYCV2nTgLIqgQ=s64",
      "userId": "10914323651690992949"
     },
     "user_tz": 240
    },
    "id": "yX3UK9VEsfH1",
    "outputId": "8760679c-a009-4d7e-8a2a-886f2876264a"
   },
   "outputs": [
    {
     "data": {
      "text/plain": [
       "Jason       1\n",
       "Schwartz    2\n",
       "Katie       3\n",
       "Flood       4\n",
       "dtype: int64"
      ]
     },
     "execution_count": 39,
     "metadata": {},
     "output_type": "execute_result"
    }
   ],
   "source": [
    "se.index = ['Jason','Schwartz','Katie','Flood']\n",
    "se"
   ]
  },
  {
   "cell_type": "code",
   "execution_count": 40,
   "metadata": {
    "colab": {
     "base_uri": "https://localhost:8080/",
     "height": 35
    },
    "colab_type": "code",
    "executionInfo": {
     "elapsed": 450,
     "status": "ok",
     "timestamp": 1567987207557,
     "user": {
      "displayName": "Ruikang Wang",
      "photoUrl": "https://lh3.googleusercontent.com/a-/AAuE7mC5vqtmalMngqfosazzXx4AVJwwWiYCV2nTgLIqgQ=s64",
      "userId": "10914323651690992949"
     },
     "user_tz": 240
    },
    "id": "hAp42yRUskzx",
    "outputId": "a025e6fa-c0bf-4d0f-ed8d-d22131a0501e"
   },
   "outputs": [
    {
     "data": {
      "text/plain": [
       "Index(['Jason', 'Schwartz', 'Katie', 'Flood'], dtype='object')"
      ]
     },
     "execution_count": 40,
     "metadata": {},
     "output_type": "execute_result"
    }
   ],
   "source": [
    "se.index"
   ]
  },
  {
   "cell_type": "markdown",
   "metadata": {
    "colab_type": "text",
    "id": "4bB1tXXdsn7e"
   },
   "source": [
    "DataFrame\n",
    "\n",
    "Dataframe is a table like datastructure, it contains a whole series of columns, each column can be different data type (numerical, string, boolean, etc.)\n",
    "\n",
    "Dataframe has both column and row index, it can be seen as dictionary based on Series. (with same indexing)\n",
    "\n",
    "The most common way to build DataFrame is to pass in a dictionary"
   ]
  },
  {
   "cell_type": "code",
   "execution_count": 41,
   "metadata": {
    "colab": {
     "base_uri": "https://localhost:8080/",
     "height": 319
    },
    "colab_type": "code",
    "executionInfo": {
     "elapsed": 345,
     "status": "ok",
     "timestamp": 1567987209036,
     "user": {
      "displayName": "Ruikang Wang",
      "photoUrl": "https://lh3.googleusercontent.com/a-/AAuE7mC5vqtmalMngqfosazzXx4AVJwwWiYCV2nTgLIqgQ=s64",
      "userId": "10914323651690992949"
     },
     "user_tz": 240
    },
    "id": "KpvY8obcslKQ",
    "outputId": "3380230f-5253-4699-a0a6-51e15989eb82"
   },
   "outputs": [
    {
     "name": "stdout",
     "output_type": "stream",
     "text": [
      "state    Ohio\n",
      "year     2001\n",
      "pop       1.7\n",
      "Name: 1, dtype: object \n",
      "\n",
      "RangeIndex(start=0, stop=5, step=1) \n",
      "\n"
     ]
    },
    {
     "data": {
      "text/html": [
       "<div>\n",
       "<style scoped>\n",
       "    .dataframe tbody tr th:only-of-type {\n",
       "        vertical-align: middle;\n",
       "    }\n",
       "\n",
       "    .dataframe tbody tr th {\n",
       "        vertical-align: top;\n",
       "    }\n",
       "\n",
       "    .dataframe thead th {\n",
       "        text-align: right;\n",
       "    }\n",
       "</style>\n",
       "<table border=\"1\" class=\"dataframe\">\n",
       "  <thead>\n",
       "    <tr style=\"text-align: right;\">\n",
       "      <th></th>\n",
       "      <th>state</th>\n",
       "      <th>year</th>\n",
       "      <th>pop</th>\n",
       "    </tr>\n",
       "  </thead>\n",
       "  <tbody>\n",
       "    <tr>\n",
       "      <th>0</th>\n",
       "      <td>Ohio</td>\n",
       "      <td>2000</td>\n",
       "      <td>1.5</td>\n",
       "    </tr>\n",
       "    <tr>\n",
       "      <th>1</th>\n",
       "      <td>Ohio</td>\n",
       "      <td>2001</td>\n",
       "      <td>1.7</td>\n",
       "    </tr>\n",
       "    <tr>\n",
       "      <th>2</th>\n",
       "      <td>Ohio</td>\n",
       "      <td>2002</td>\n",
       "      <td>3.6</td>\n",
       "    </tr>\n",
       "    <tr>\n",
       "      <th>3</th>\n",
       "      <td>Nevada</td>\n",
       "      <td>2001</td>\n",
       "      <td>2.4</td>\n",
       "    </tr>\n",
       "    <tr>\n",
       "      <th>4</th>\n",
       "      <td>Nevada</td>\n",
       "      <td>2002</td>\n",
       "      <td>2.9</td>\n",
       "    </tr>\n",
       "  </tbody>\n",
       "</table>\n",
       "</div>"
      ],
      "text/plain": [
       "    state  year  pop\n",
       "0    Ohio  2000  1.5\n",
       "1    Ohio  2001  1.7\n",
       "2    Ohio  2002  3.6\n",
       "3  Nevada  2001  2.4\n",
       "4  Nevada  2002  2.9"
      ]
     },
     "execution_count": 41,
     "metadata": {},
     "output_type": "execute_result"
    }
   ],
   "source": [
    "data = {'state': ['Ohio', 'Ohio', 'Ohio', 'Nevada', 'Nevada'],\n",
    "        'year': [2000, 2001, 2002, 2001, 2002],\n",
    "        'pop': [1.5, 1.7, 3.6, 2.4, 2.9]}\n",
    "\n",
    "frame = DataFrame(data)\n",
    "\n",
    "print(frame.iloc[1],'\\n')\n",
    "print(frame.index,'\\n')\n",
    "frame"
   ]
  },
  {
   "cell_type": "markdown",
   "metadata": {
    "colab_type": "text",
    "id": "QqBZvyFjzoJ1"
   },
   "source": [
    "Re-order the columns:"
   ]
  },
  {
   "cell_type": "code",
   "execution_count": 42,
   "metadata": {
    "colab": {
     "base_uri": "https://localhost:8080/",
     "height": 198
    },
    "colab_type": "code",
    "executionInfo": {
     "elapsed": 339,
     "status": "ok",
     "timestamp": 1567987212147,
     "user": {
      "displayName": "Ruikang Wang",
      "photoUrl": "https://lh3.googleusercontent.com/a-/AAuE7mC5vqtmalMngqfosazzXx4AVJwwWiYCV2nTgLIqgQ=s64",
      "userId": "10914323651690992949"
     },
     "user_tz": 240
    },
    "id": "O26IHc0gzb2N",
    "outputId": "28cb87fa-9d9e-4c0d-dc38-b0b47dc87a94"
   },
   "outputs": [
    {
     "data": {
      "text/html": [
       "<div>\n",
       "<style scoped>\n",
       "    .dataframe tbody tr th:only-of-type {\n",
       "        vertical-align: middle;\n",
       "    }\n",
       "\n",
       "    .dataframe tbody tr th {\n",
       "        vertical-align: top;\n",
       "    }\n",
       "\n",
       "    .dataframe thead th {\n",
       "        text-align: right;\n",
       "    }\n",
       "</style>\n",
       "<table border=\"1\" class=\"dataframe\">\n",
       "  <thead>\n",
       "    <tr style=\"text-align: right;\">\n",
       "      <th></th>\n",
       "      <th>year</th>\n",
       "      <th>state</th>\n",
       "      <th>pop</th>\n",
       "    </tr>\n",
       "  </thead>\n",
       "  <tbody>\n",
       "    <tr>\n",
       "      <th>0</th>\n",
       "      <td>2000</td>\n",
       "      <td>Ohio</td>\n",
       "      <td>1.5</td>\n",
       "    </tr>\n",
       "    <tr>\n",
       "      <th>1</th>\n",
       "      <td>2001</td>\n",
       "      <td>Ohio</td>\n",
       "      <td>1.7</td>\n",
       "    </tr>\n",
       "    <tr>\n",
       "      <th>2</th>\n",
       "      <td>2002</td>\n",
       "      <td>Ohio</td>\n",
       "      <td>3.6</td>\n",
       "    </tr>\n",
       "    <tr>\n",
       "      <th>3</th>\n",
       "      <td>2001</td>\n",
       "      <td>Nevada</td>\n",
       "      <td>2.4</td>\n",
       "    </tr>\n",
       "    <tr>\n",
       "      <th>4</th>\n",
       "      <td>2002</td>\n",
       "      <td>Nevada</td>\n",
       "      <td>2.9</td>\n",
       "    </tr>\n",
       "  </tbody>\n",
       "</table>\n",
       "</div>"
      ],
      "text/plain": [
       "   year   state  pop\n",
       "0  2000    Ohio  1.5\n",
       "1  2001    Ohio  1.7\n",
       "2  2002    Ohio  3.6\n",
       "3  2001  Nevada  2.4\n",
       "4  2002  Nevada  2.9"
      ]
     },
     "execution_count": 42,
     "metadata": {},
     "output_type": "execute_result"
    }
   ],
   "source": [
    "DataFrame(data, columns=['year', 'state', 'pop'])"
   ]
  },
  {
   "cell_type": "markdown",
   "metadata": {
    "colab_type": "text",
    "id": "ImL7LN_az42r"
   },
   "source": [
    "If the data does not exist, there would be NA:"
   ]
  },
  {
   "cell_type": "code",
   "execution_count": 44,
   "metadata": {
    "colab": {
     "base_uri": "https://localhost:8080/",
     "height": 198
    },
    "colab_type": "code",
    "executionInfo": {
     "elapsed": 360,
     "status": "ok",
     "timestamp": 1567987213327,
     "user": {
      "displayName": "Ruikang Wang",
      "photoUrl": "https://lh3.googleusercontent.com/a-/AAuE7mC5vqtmalMngqfosazzXx4AVJwwWiYCV2nTgLIqgQ=s64",
      "userId": "10914323651690992949"
     },
     "user_tz": 240
    },
    "id": "00JBHUY3zr4K",
    "outputId": "ad466fbd-3762-4ee9-fb07-c9b722ae044d"
   },
   "outputs": [
    {
     "data": {
      "text/html": [
       "<div>\n",
       "<style scoped>\n",
       "    .dataframe tbody tr th:only-of-type {\n",
       "        vertical-align: middle;\n",
       "    }\n",
       "\n",
       "    .dataframe tbody tr th {\n",
       "        vertical-align: top;\n",
       "    }\n",
       "\n",
       "    .dataframe thead th {\n",
       "        text-align: right;\n",
       "    }\n",
       "</style>\n",
       "<table border=\"1\" class=\"dataframe\">\n",
       "  <thead>\n",
       "    <tr style=\"text-align: right;\">\n",
       "      <th></th>\n",
       "      <th>year</th>\n",
       "      <th>state</th>\n",
       "      <th>pop</th>\n",
       "      <th>debt</th>\n",
       "    </tr>\n",
       "  </thead>\n",
       "  <tbody>\n",
       "    <tr>\n",
       "      <th>one</th>\n",
       "      <td>2000</td>\n",
       "      <td>Ohio</td>\n",
       "      <td>1.5</td>\n",
       "      <td>NaN</td>\n",
       "    </tr>\n",
       "    <tr>\n",
       "      <th>two</th>\n",
       "      <td>2001</td>\n",
       "      <td>Ohio</td>\n",
       "      <td>1.7</td>\n",
       "      <td>NaN</td>\n",
       "    </tr>\n",
       "    <tr>\n",
       "      <th>three</th>\n",
       "      <td>2002</td>\n",
       "      <td>Ohio</td>\n",
       "      <td>3.6</td>\n",
       "      <td>NaN</td>\n",
       "    </tr>\n",
       "    <tr>\n",
       "      <th>four</th>\n",
       "      <td>2001</td>\n",
       "      <td>Nevada</td>\n",
       "      <td>2.4</td>\n",
       "      <td>NaN</td>\n",
       "    </tr>\n",
       "    <tr>\n",
       "      <th>five</th>\n",
       "      <td>2002</td>\n",
       "      <td>Nevada</td>\n",
       "      <td>2.9</td>\n",
       "      <td>NaN</td>\n",
       "    </tr>\n",
       "  </tbody>\n",
       "</table>\n",
       "</div>"
      ],
      "text/plain": [
       "       year   state  pop debt\n",
       "one    2000    Ohio  1.5  NaN\n",
       "two    2001    Ohio  1.7  NaN\n",
       "three  2002    Ohio  3.6  NaN\n",
       "four   2001  Nevada  2.4  NaN\n",
       "five   2002  Nevada  2.9  NaN"
      ]
     },
     "execution_count": 44,
     "metadata": {},
     "output_type": "execute_result"
    }
   ],
   "source": [
    "\n",
    "frame2 = DataFrame(data, columns=['year', 'state', 'pop', 'debt'],\n",
    "                   index=['one', 'two', 'three', 'four', 'five'])\n",
    "frame2\n"
   ]
  },
  {
   "cell_type": "markdown",
   "metadata": {
    "colab_type": "text",
    "id": "shxxm0280aGC"
   },
   "source": [
    "By referencing a column, we can get a Series:"
   ]
  },
  {
   "cell_type": "code",
   "execution_count": 47,
   "metadata": {
    "colab": {
     "base_uri": "https://localhost:8080/",
     "height": 587
    },
    "colab_type": "code",
    "executionInfo": {
     "elapsed": 384,
     "status": "ok",
     "timestamp": 1567987215416,
     "user": {
      "displayName": "Ruikang Wang",
      "photoUrl": "https://lh3.googleusercontent.com/a-/AAuE7mC5vqtmalMngqfosazzXx4AVJwwWiYCV2nTgLIqgQ=s64",
      "userId": "10914323651690992949"
     },
     "user_tz": 240
    },
    "id": "ky6VNCWbz8MI",
    "outputId": "43c346a3-82f2-491e-90f4-fccda75d5165"
   },
   "outputs": [
    {
     "name": "stdout",
     "output_type": "stream",
     "text": [
      "one        Ohio\n",
      "two        Ohio\n",
      "three      Ohio\n",
      "four     Nevada\n",
      "five     Nevada\n",
      "Name: state, dtype: object\n",
      "one        Ohio\n",
      "two        Ohio\n",
      "three      Ohio\n",
      "four     Nevada\n",
      "five     Nevada\n",
      "Name: state, dtype: object\n",
      "\n",
      " <class 'pandas.core.series.Series'>\n",
      "\n",
      " <class 'pandas.core.series.Series'>\n",
      "\n",
      " <class 'pandas.core.series.Series'>\n",
      "\n",
      " year       2001\n",
      "state    Nevada\n",
      "pop         2.4\n",
      "debt        NaN\n",
      "Name: four, dtype: object\n",
      "\n",
      " <class 'pandas.core.series.Series'>\n",
      "\n",
      " one      2000\n",
      "two      2001\n",
      "three    2002\n",
      "four     2001\n",
      "five     2002\n",
      "Name: year, dtype: int64\n"
     ]
    }
   ],
   "source": [
    "print(frame2['state'])\n",
    "\n",
    "print(frame2.state)\n",
    "\n",
    "# print(frame2.state == frame2['state'])\n",
    "\n",
    "print('\\n',type(frame2.debt))\n",
    "print('\\n',type(frame2.iloc[0]))\n",
    "print('\\n',type(frame2.loc['four']))\n",
    "print('\\n',frame2.loc['four'])\n",
    "print('\\n',type(frame2['year']))\n",
    "print('\\n',frame2['year'])"
   ]
  },
  {
   "cell_type": "markdown",
   "metadata": {
    "colab_type": "text",
    "id": "mYRcO59I1BNe"
   },
   "source": [
    "How to get the row? using .iloc[number] or loc[index] method\n",
    " -- How to iter rows?"
   ]
  },
  {
   "cell_type": "code",
   "execution_count": 48,
   "metadata": {
    "colab": {
     "base_uri": "https://localhost:8080/",
     "height": 104
    },
    "colab_type": "code",
    "executionInfo": {
     "elapsed": 644,
     "status": "ok",
     "timestamp": 1567987224855,
     "user": {
      "displayName": "Ruikang Wang",
      "photoUrl": "https://lh3.googleusercontent.com/a-/AAuE7mC5vqtmalMngqfosazzXx4AVJwwWiYCV2nTgLIqgQ=s64",
      "userId": "10914323651690992949"
     },
     "user_tz": 240
    },
    "id": "ZF7AqQPX0gt9",
    "outputId": "a16af1be-95d8-4f83-91da-be3d79f2eb53"
   },
   "outputs": [
    {
     "data": {
      "text/plain": [
       "year     2001\n",
       "state    Ohio\n",
       "pop       1.7\n",
       "debt      NaN\n",
       "Name: two, dtype: object"
      ]
     },
     "execution_count": 48,
     "metadata": {},
     "output_type": "execute_result"
    }
   ],
   "source": [
    "frame2.iloc[1]"
   ]
  },
  {
   "cell_type": "code",
   "execution_count": 49,
   "metadata": {
    "colab": {
     "base_uri": "https://localhost:8080/",
     "height": 104
    },
    "colab_type": "code",
    "executionInfo": {
     "elapsed": 382,
     "status": "ok",
     "timestamp": 1567987226073,
     "user": {
      "displayName": "Ruikang Wang",
      "photoUrl": "https://lh3.googleusercontent.com/a-/AAuE7mC5vqtmalMngqfosazzXx4AVJwwWiYCV2nTgLIqgQ=s64",
      "userId": "10914323651690992949"
     },
     "user_tz": 240
    },
    "id": "pDCKv8dY1Hy2",
    "outputId": "1755fc73-fef5-475e-98a7-88f2d63189a8"
   },
   "outputs": [
    {
     "data": {
      "text/plain": [
       "year     2001\n",
       "state    Ohio\n",
       "pop       1.7\n",
       "debt      NaN\n",
       "Name: two, dtype: object"
      ]
     },
     "execution_count": 49,
     "metadata": {},
     "output_type": "execute_result"
    }
   ],
   "source": [
    "frame2.loc['two']"
   ]
  },
  {
   "cell_type": "code",
   "execution_count": 50,
   "metadata": {
    "colab": {
     "base_uri": "https://localhost:8080/",
     "height": 104
    },
    "colab_type": "code",
    "executionInfo": {
     "elapsed": 419,
     "status": "ok",
     "timestamp": 1567987227384,
     "user": {
      "displayName": "Ruikang Wang",
      "photoUrl": "https://lh3.googleusercontent.com/a-/AAuE7mC5vqtmalMngqfosazzXx4AVJwwWiYCV2nTgLIqgQ=s64",
      "userId": "10914323651690992949"
     },
     "user_tz": 240
    },
    "id": "CrhYA-de1Pxu",
    "outputId": "ac650372-2469-437d-d0de-f91f5f0a4c14"
   },
   "outputs": [
    {
     "data": {
      "text/plain": [
       "year      True\n",
       "state     True\n",
       "pop       True\n",
       "debt     False\n",
       "Name: two, dtype: bool"
      ]
     },
     "execution_count": 50,
     "metadata": {},
     "output_type": "execute_result"
    }
   ],
   "source": [
    "frame2.iloc[1] == frame2.loc['two']"
   ]
  },
  {
   "cell_type": "code",
   "execution_count": 51,
   "metadata": {
    "colab": {
     "base_uri": "https://localhost:8080/",
     "height": 215
    },
    "colab_type": "code",
    "executionInfo": {
     "elapsed": 364,
     "status": "ok",
     "timestamp": 1567987230329,
     "user": {
      "displayName": "Ruikang Wang",
      "photoUrl": "https://lh3.googleusercontent.com/a-/AAuE7mC5vqtmalMngqfosazzXx4AVJwwWiYCV2nTgLIqgQ=s64",
      "userId": "10914323651690992949"
     },
     "user_tz": 240
    },
    "id": "e7OyF78h1WfB",
    "outputId": "065b85de-756f-47f4-f9df-00703e7d8b09"
   },
   "outputs": [
    {
     "name": "stdout",
     "output_type": "stream",
     "text": [
      "1\n"
     ]
    },
    {
     "data": {
      "text/html": [
       "<div>\n",
       "<style scoped>\n",
       "    .dataframe tbody tr th:only-of-type {\n",
       "        vertical-align: middle;\n",
       "    }\n",
       "\n",
       "    .dataframe tbody tr th {\n",
       "        vertical-align: top;\n",
       "    }\n",
       "\n",
       "    .dataframe thead th {\n",
       "        text-align: right;\n",
       "    }\n",
       "</style>\n",
       "<table border=\"1\" class=\"dataframe\">\n",
       "  <thead>\n",
       "    <tr style=\"text-align: right;\">\n",
       "      <th></th>\n",
       "      <th>year</th>\n",
       "      <th>state</th>\n",
       "      <th>pop</th>\n",
       "      <th>debt</th>\n",
       "    </tr>\n",
       "  </thead>\n",
       "  <tbody>\n",
       "    <tr>\n",
       "      <th>one</th>\n",
       "      <td>2000</td>\n",
       "      <td>Ohio</td>\n",
       "      <td>1.5</td>\n",
       "      <td>1</td>\n",
       "    </tr>\n",
       "    <tr>\n",
       "      <th>two</th>\n",
       "      <td>2001</td>\n",
       "      <td>Ohio</td>\n",
       "      <td>1.7</td>\n",
       "      <td>2</td>\n",
       "    </tr>\n",
       "    <tr>\n",
       "      <th>three</th>\n",
       "      <td>2002</td>\n",
       "      <td>Ohio</td>\n",
       "      <td>3.6</td>\n",
       "      <td>3</td>\n",
       "    </tr>\n",
       "    <tr>\n",
       "      <th>four</th>\n",
       "      <td>2001</td>\n",
       "      <td>Nevada</td>\n",
       "      <td>2.4</td>\n",
       "      <td>4</td>\n",
       "    </tr>\n",
       "    <tr>\n",
       "      <th>five</th>\n",
       "      <td>2002</td>\n",
       "      <td>Nevada</td>\n",
       "      <td>2.9</td>\n",
       "      <td>4</td>\n",
       "    </tr>\n",
       "  </tbody>\n",
       "</table>\n",
       "</div>"
      ],
      "text/plain": [
       "       year   state  pop  debt\n",
       "one    2000    Ohio  1.5     1\n",
       "two    2001    Ohio  1.7     2\n",
       "three  2002    Ohio  3.6     3\n",
       "four   2001  Nevada  2.4     4\n",
       "five   2002  Nevada  2.9     4"
      ]
     },
     "execution_count": 51,
     "metadata": {},
     "output_type": "execute_result"
    }
   ],
   "source": [
    "frame2['debt'] = [1,2,3,4,4]\n",
    "print(frame2['debt']['one'])\n",
    "frame2"
   ]
  },
  {
   "cell_type": "markdown",
   "metadata": {
    "colab_type": "text",
    "id": "6B4TkKpe1jxP"
   },
   "source": [
    "Use list or np.array to assign value, need to match the length of the DataFrame"
   ]
  },
  {
   "cell_type": "code",
   "execution_count": 52,
   "metadata": {
    "colab": {
     "base_uri": "https://localhost:8080/",
     "height": 121
    },
    "colab_type": "code",
    "executionInfo": {
     "elapsed": 381,
     "status": "ok",
     "timestamp": 1567987232740,
     "user": {
      "displayName": "Ruikang Wang",
      "photoUrl": "https://lh3.googleusercontent.com/a-/AAuE7mC5vqtmalMngqfosazzXx4AVJwwWiYCV2nTgLIqgQ=s64",
      "userId": "10914323651690992949"
     },
     "user_tz": 240
    },
    "id": "XUGd6vUR1hPn",
    "outputId": "a76d75b7-0910-4b41-aad5-7e0ce976e63a"
   },
   "outputs": [
    {
     "name": "stdout",
     "output_type": "stream",
     "text": [
      "<class 'numpy.ndarray'>\n"
     ]
    },
    {
     "data": {
      "text/plain": [
       "array([[2000, 'Ohio', 1.5, 0.0],\n",
       "       [2001, 'Ohio', 1.7, 1.0],\n",
       "       [2002, 'Ohio', 3.6, 2.0],\n",
       "       [2001, 'Nevada', 2.4, 3.0],\n",
       "       [2002, 'Nevada', 2.9, 4.0]], dtype=object)"
      ]
     },
     "execution_count": 52,
     "metadata": {},
     "output_type": "execute_result"
    }
   ],
   "source": [
    "frame2['debt'] = np.arange(5.)\n",
    "print(type(frame2.values))\n",
    "frame2.values"
   ]
  },
  {
   "cell_type": "markdown",
   "metadata": {
    "colab_type": "text",
    "id": "4g2s03Vy2SSz"
   },
   "source": [
    "If you assign a Series,  the assignment will be finished with matching the index"
   ]
  },
  {
   "cell_type": "code",
   "execution_count": 54,
   "metadata": {
    "colab": {
     "base_uri": "https://localhost:8080/",
     "height": 207
    },
    "colab_type": "code",
    "executionInfo": {
     "elapsed": 471,
     "status": "ok",
     "timestamp": 1567987234809,
     "user": {
      "displayName": "Ruikang Wang",
      "photoUrl": "https://lh3.googleusercontent.com/a-/AAuE7mC5vqtmalMngqfosazzXx4AVJwwWiYCV2nTgLIqgQ=s64",
      "userId": "10914323651690992949"
     },
     "user_tz": 240
    },
    "id": "PYch_H6O2Qhk",
    "outputId": "17cd26b8-9553-4b70-9ace-8185fa1c8ec8"
   },
   "outputs": [
    {
     "name": "stdout",
     "output_type": "stream",
     "text": [
      "       year   state  pop  debt\n",
      "one    2000    Ohio  1.5   NaN\n",
      "two    2001    Ohio  1.7  -1.2\n",
      "three  2002    Ohio  3.6   NaN\n",
      "four   2001  Nevada  2.4  -1.5\n",
      "five   2002  Nevada  2.9  -1.7\n",
      "[[2000 'Ohio' 1.5 nan]\n",
      " [2001 'Ohio' 1.7 -1.2]\n",
      " [2002 'Ohio' 3.6 nan]\n",
      " [2001 'Nevada' 2.4 -1.5]\n",
      " [2002 'Nevada' 2.9 -1.7]]\n"
     ]
    }
   ],
   "source": [
    "val = Series([-1.2, -1.5, -1.7], index=['two', 'four', 'five'])\n",
    "frame2['debt'] = val\n",
    "print(frame2)\n",
    "\n",
    "print(frame2.values)"
   ]
  },
  {
   "cell_type": "code",
   "execution_count": 55,
   "metadata": {},
   "outputs": [
    {
     "data": {
      "text/html": [
       "<div>\n",
       "<style scoped>\n",
       "    .dataframe tbody tr th:only-of-type {\n",
       "        vertical-align: middle;\n",
       "    }\n",
       "\n",
       "    .dataframe tbody tr th {\n",
       "        vertical-align: top;\n",
       "    }\n",
       "\n",
       "    .dataframe thead th {\n",
       "        text-align: right;\n",
       "    }\n",
       "</style>\n",
       "<table border=\"1\" class=\"dataframe\">\n",
       "  <thead>\n",
       "    <tr style=\"text-align: right;\">\n",
       "      <th></th>\n",
       "      <th>year</th>\n",
       "      <th>state</th>\n",
       "      <th>pop</th>\n",
       "      <th>debt</th>\n",
       "    </tr>\n",
       "  </thead>\n",
       "  <tbody>\n",
       "    <tr>\n",
       "      <th>one</th>\n",
       "      <td>2000</td>\n",
       "      <td>Ohio</td>\n",
       "      <td>1.5</td>\n",
       "      <td>NaN</td>\n",
       "    </tr>\n",
       "    <tr>\n",
       "      <th>two</th>\n",
       "      <td>2001</td>\n",
       "      <td>Ohio</td>\n",
       "      <td>1.7</td>\n",
       "      <td>-1.2</td>\n",
       "    </tr>\n",
       "    <tr>\n",
       "      <th>three</th>\n",
       "      <td>2002</td>\n",
       "      <td>Ohio</td>\n",
       "      <td>3.6</td>\n",
       "      <td>NaN</td>\n",
       "    </tr>\n",
       "    <tr>\n",
       "      <th>four</th>\n",
       "      <td>2001</td>\n",
       "      <td>Nevada</td>\n",
       "      <td>2.4</td>\n",
       "      <td>-1.5</td>\n",
       "    </tr>\n",
       "    <tr>\n",
       "      <th>five</th>\n",
       "      <td>2002</td>\n",
       "      <td>Nevada</td>\n",
       "      <td>2.9</td>\n",
       "      <td>-1.7</td>\n",
       "    </tr>\n",
       "  </tbody>\n",
       "</table>\n",
       "</div>"
      ],
      "text/plain": [
       "       year   state  pop  debt\n",
       "one    2000    Ohio  1.5   NaN\n",
       "two    2001    Ohio  1.7  -1.2\n",
       "three  2002    Ohio  3.6   NaN\n",
       "four   2001  Nevada  2.4  -1.5\n",
       "five   2002  Nevada  2.9  -1.7"
      ]
     },
     "execution_count": 55,
     "metadata": {},
     "output_type": "execute_result"
    }
   ],
   "source": [
    "frame2"
   ]
  },
  {
   "cell_type": "code",
   "execution_count": 53,
   "metadata": {
    "colab": {
     "base_uri": "https://localhost:8080/",
     "height": 121
    },
    "colab_type": "code",
    "executionInfo": {
     "elapsed": 368,
     "status": "ok",
     "timestamp": 1567987238284,
     "user": {
      "displayName": "Ruikang Wang",
      "photoUrl": "https://lh3.googleusercontent.com/a-/AAuE7mC5vqtmalMngqfosazzXx4AVJwwWiYCV2nTgLIqgQ=s64",
      "userId": "10914323651690992949"
     },
     "user_tz": 240
    },
    "id": "Oqv4O7GLi4Hf",
    "outputId": "d18219d8-80a5-4320-e88e-d10c3260c94c"
   },
   "outputs": [
    {
     "data": {
      "text/plain": [
       "one       True\n",
       "two       True\n",
       "three     True\n",
       "four     False\n",
       "five     False\n",
       "Name: state, dtype: bool"
      ]
     },
     "execution_count": 53,
     "metadata": {},
     "output_type": "execute_result"
    }
   ],
   "source": [
    "frame2.state == 'Ohio'"
   ]
  },
  {
   "cell_type": "code",
   "execution_count": 63,
   "metadata": {
    "colab": {
     "base_uri": "https://localhost:8080/",
     "height": 198
    },
    "colab_type": "code",
    "executionInfo": {
     "elapsed": 534,
     "status": "ok",
     "timestamp": 1567987241595,
     "user": {
      "displayName": "Ruikang Wang",
      "photoUrl": "https://lh3.googleusercontent.com/a-/AAuE7mC5vqtmalMngqfosazzXx4AVJwwWiYCV2nTgLIqgQ=s64",
      "userId": "10914323651690992949"
     },
     "user_tz": 240
    },
    "id": "mo9FQnoJ7Uxw",
    "outputId": "4e861fee-7c4d-495c-8393-7b9983535549"
   },
   "outputs": [
    {
     "data": {
      "text/html": [
       "<div>\n",
       "<style scoped>\n",
       "    .dataframe tbody tr th:only-of-type {\n",
       "        vertical-align: middle;\n",
       "    }\n",
       "\n",
       "    .dataframe tbody tr th {\n",
       "        vertical-align: top;\n",
       "    }\n",
       "\n",
       "    .dataframe thead th {\n",
       "        text-align: right;\n",
       "    }\n",
       "</style>\n",
       "<table border=\"1\" class=\"dataframe\">\n",
       "  <thead>\n",
       "    <tr style=\"text-align: right;\">\n",
       "      <th></th>\n",
       "      <th>year</th>\n",
       "      <th>state</th>\n",
       "      <th>eastern</th>\n",
       "    </tr>\n",
       "  </thead>\n",
       "  <tbody>\n",
       "    <tr>\n",
       "      <th>one</th>\n",
       "      <td>2000</td>\n",
       "      <td>Ohio</td>\n",
       "      <td>True</td>\n",
       "    </tr>\n",
       "    <tr>\n",
       "      <th>two</th>\n",
       "      <td>2001</td>\n",
       "      <td>Ohio</td>\n",
       "      <td>True</td>\n",
       "    </tr>\n",
       "    <tr>\n",
       "      <th>three</th>\n",
       "      <td>2002</td>\n",
       "      <td>Ohio</td>\n",
       "      <td>True</td>\n",
       "    </tr>\n",
       "    <tr>\n",
       "      <th>four</th>\n",
       "      <td>2001</td>\n",
       "      <td>Nevada</td>\n",
       "      <td>False</td>\n",
       "    </tr>\n",
       "    <tr>\n",
       "      <th>five</th>\n",
       "      <td>2002</td>\n",
       "      <td>Nevada</td>\n",
       "      <td>False</td>\n",
       "    </tr>\n",
       "  </tbody>\n",
       "</table>\n",
       "</div>"
      ],
      "text/plain": [
       "       year   state  eastern\n",
       "one    2000    Ohio     True\n",
       "two    2001    Ohio     True\n",
       "three  2002    Ohio     True\n",
       "four   2001  Nevada    False\n",
       "five   2002  Nevada    False"
      ]
     },
     "execution_count": 63,
     "metadata": {},
     "output_type": "execute_result"
    }
   ],
   "source": [
    "frame2['eastern'] = (frame2.state == 'Ohio')\n",
    "frame2"
   ]
  },
  {
   "cell_type": "code",
   "execution_count": 61,
   "metadata": {},
   "outputs": [],
   "source": [
    "frame2 = frame2[['year','state']]"
   ]
  },
  {
   "cell_type": "code",
   "execution_count": 62,
   "metadata": {},
   "outputs": [
    {
     "data": {
      "text/html": [
       "<div>\n",
       "<style scoped>\n",
       "    .dataframe tbody tr th:only-of-type {\n",
       "        vertical-align: middle;\n",
       "    }\n",
       "\n",
       "    .dataframe tbody tr th {\n",
       "        vertical-align: top;\n",
       "    }\n",
       "\n",
       "    .dataframe thead th {\n",
       "        text-align: right;\n",
       "    }\n",
       "</style>\n",
       "<table border=\"1\" class=\"dataframe\">\n",
       "  <thead>\n",
       "    <tr style=\"text-align: right;\">\n",
       "      <th></th>\n",
       "      <th>year</th>\n",
       "      <th>state</th>\n",
       "    </tr>\n",
       "  </thead>\n",
       "  <tbody>\n",
       "    <tr>\n",
       "      <th>one</th>\n",
       "      <td>2000</td>\n",
       "      <td>Ohio</td>\n",
       "    </tr>\n",
       "    <tr>\n",
       "      <th>two</th>\n",
       "      <td>2001</td>\n",
       "      <td>Ohio</td>\n",
       "    </tr>\n",
       "    <tr>\n",
       "      <th>three</th>\n",
       "      <td>2002</td>\n",
       "      <td>Ohio</td>\n",
       "    </tr>\n",
       "    <tr>\n",
       "      <th>four</th>\n",
       "      <td>2001</td>\n",
       "      <td>Nevada</td>\n",
       "    </tr>\n",
       "    <tr>\n",
       "      <th>five</th>\n",
       "      <td>2002</td>\n",
       "      <td>Nevada</td>\n",
       "    </tr>\n",
       "  </tbody>\n",
       "</table>\n",
       "</div>"
      ],
      "text/plain": [
       "       year   state\n",
       "one    2000    Ohio\n",
       "two    2001    Ohio\n",
       "three  2002    Ohio\n",
       "four   2001  Nevada\n",
       "five   2002  Nevada"
      ]
     },
     "execution_count": 62,
     "metadata": {},
     "output_type": "execute_result"
    }
   ],
   "source": [
    "frame2"
   ]
  },
  {
   "cell_type": "code",
   "execution_count": 64,
   "metadata": {
    "colab": {
     "base_uri": "https://localhost:8080/",
     "height": 198
    },
    "colab_type": "code",
    "executionInfo": {
     "elapsed": 357,
     "status": "ok",
     "timestamp": 1567987252319,
     "user": {
      "displayName": "Ruikang Wang",
      "photoUrl": "https://lh3.googleusercontent.com/a-/AAuE7mC5vqtmalMngqfosazzXx4AVJwwWiYCV2nTgLIqgQ=s64",
      "userId": "10914323651690992949"
     },
     "user_tz": 240
    },
    "id": "cMGFFHz07eCG",
    "outputId": "1c4579cb-9f32-4816-d775-9b259745d8ae"
   },
   "outputs": [
    {
     "data": {
      "text/html": [
       "<div>\n",
       "<style scoped>\n",
       "    .dataframe tbody tr th:only-of-type {\n",
       "        vertical-align: middle;\n",
       "    }\n",
       "\n",
       "    .dataframe tbody tr th {\n",
       "        vertical-align: top;\n",
       "    }\n",
       "\n",
       "    .dataframe thead th {\n",
       "        text-align: right;\n",
       "    }\n",
       "</style>\n",
       "<table border=\"1\" class=\"dataframe\">\n",
       "  <thead>\n",
       "    <tr style=\"text-align: right;\">\n",
       "      <th></th>\n",
       "      <th>year</th>\n",
       "      <th>state</th>\n",
       "    </tr>\n",
       "  </thead>\n",
       "  <tbody>\n",
       "    <tr>\n",
       "      <th>one</th>\n",
       "      <td>2000</td>\n",
       "      <td>Ohio</td>\n",
       "    </tr>\n",
       "    <tr>\n",
       "      <th>two</th>\n",
       "      <td>2001</td>\n",
       "      <td>Ohio</td>\n",
       "    </tr>\n",
       "    <tr>\n",
       "      <th>three</th>\n",
       "      <td>2002</td>\n",
       "      <td>Ohio</td>\n",
       "    </tr>\n",
       "    <tr>\n",
       "      <th>four</th>\n",
       "      <td>2001</td>\n",
       "      <td>Nevada</td>\n",
       "    </tr>\n",
       "    <tr>\n",
       "      <th>five</th>\n",
       "      <td>2002</td>\n",
       "      <td>Nevada</td>\n",
       "    </tr>\n",
       "  </tbody>\n",
       "</table>\n",
       "</div>"
      ],
      "text/plain": [
       "       year   state\n",
       "one    2000    Ohio\n",
       "two    2001    Ohio\n",
       "three  2002    Ohio\n",
       "four   2001  Nevada\n",
       "five   2002  Nevada"
      ]
     },
     "execution_count": 64,
     "metadata": {},
     "output_type": "execute_result"
    }
   ],
   "source": [
    "del frame2['eastern']\n",
    "frame2"
   ]
  },
  {
   "cell_type": "markdown",
   "metadata": {
    "colab_type": "text",
    "id": "oK3TMz8F7lJ6"
   },
   "source": [
    "When passing dictionary as the argument for DataFrame, the out layer is the column, and the inner layer is the row index"
   ]
  },
  {
   "cell_type": "code",
   "execution_count": 65,
   "metadata": {
    "colab": {
     "base_uri": "https://localhost:8080/",
     "height": 138
    },
    "colab_type": "code",
    "executionInfo": {
     "elapsed": 572,
     "status": "ok",
     "timestamp": 1567987258208,
     "user": {
      "displayName": "Ruikang Wang",
      "photoUrl": "https://lh3.googleusercontent.com/a-/AAuE7mC5vqtmalMngqfosazzXx4AVJwwWiYCV2nTgLIqgQ=s64",
      "userId": "10914323651690992949"
     },
     "user_tz": 240
    },
    "id": "wshZYMAW7gR9",
    "outputId": "0a8f66a3-ebbe-4ecf-afb1-bd22023f47d4"
   },
   "outputs": [
    {
     "data": {
      "text/html": [
       "<div>\n",
       "<style scoped>\n",
       "    .dataframe tbody tr th:only-of-type {\n",
       "        vertical-align: middle;\n",
       "    }\n",
       "\n",
       "    .dataframe tbody tr th {\n",
       "        vertical-align: top;\n",
       "    }\n",
       "\n",
       "    .dataframe thead th {\n",
       "        text-align: right;\n",
       "    }\n",
       "</style>\n",
       "<table border=\"1\" class=\"dataframe\">\n",
       "  <thead>\n",
       "    <tr style=\"text-align: right;\">\n",
       "      <th></th>\n",
       "      <th>Nevada</th>\n",
       "      <th>Ohio</th>\n",
       "    </tr>\n",
       "  </thead>\n",
       "  <tbody>\n",
       "    <tr>\n",
       "      <th>2000</th>\n",
       "      <td>NaN</td>\n",
       "      <td>1.5</td>\n",
       "    </tr>\n",
       "    <tr>\n",
       "      <th>2001</th>\n",
       "      <td>2.4</td>\n",
       "      <td>1.7</td>\n",
       "    </tr>\n",
       "    <tr>\n",
       "      <th>2002</th>\n",
       "      <td>2.9</td>\n",
       "      <td>3.6</td>\n",
       "    </tr>\n",
       "  </tbody>\n",
       "</table>\n",
       "</div>"
      ],
      "text/plain": [
       "      Nevada  Ohio\n",
       "2000     NaN   1.5\n",
       "2001     2.4   1.7\n",
       "2002     2.9   3.6"
      ]
     },
     "execution_count": 65,
     "metadata": {},
     "output_type": "execute_result"
    }
   ],
   "source": [
    "pop = {'Nevada': {2001: 2.4, 2002: 2.9},\n",
    "       'Ohio': {2000: 1.5, 2001: 1.7, 2002: 3.6}}\n",
    "frame3 = DataFrame(pop)\n",
    "frame3"
   ]
  },
  {
   "cell_type": "markdown",
   "metadata": {
    "colab_type": "text",
    "id": "nSOptUEi8R9r"
   },
   "source": [
    "We can also transpose a dataframe:"
   ]
  },
  {
   "cell_type": "code",
   "execution_count": 66,
   "metadata": {
    "colab": {
     "base_uri": "https://localhost:8080/",
     "height": 108
    },
    "colab_type": "code",
    "executionInfo": {
     "elapsed": 327,
     "status": "ok",
     "timestamp": 1567987277220,
     "user": {
      "displayName": "Ruikang Wang",
      "photoUrl": "https://lh3.googleusercontent.com/a-/AAuE7mC5vqtmalMngqfosazzXx4AVJwwWiYCV2nTgLIqgQ=s64",
      "userId": "10914323651690992949"
     },
     "user_tz": 240
    },
    "id": "p2ANZiKw8PEq",
    "outputId": "cb3248db-2dc6-4539-860d-6c545a02a91c"
   },
   "outputs": [
    {
     "data": {
      "text/html": [
       "<div>\n",
       "<style scoped>\n",
       "    .dataframe tbody tr th:only-of-type {\n",
       "        vertical-align: middle;\n",
       "    }\n",
       "\n",
       "    .dataframe tbody tr th {\n",
       "        vertical-align: top;\n",
       "    }\n",
       "\n",
       "    .dataframe thead th {\n",
       "        text-align: right;\n",
       "    }\n",
       "</style>\n",
       "<table border=\"1\" class=\"dataframe\">\n",
       "  <thead>\n",
       "    <tr style=\"text-align: right;\">\n",
       "      <th></th>\n",
       "      <th>2000</th>\n",
       "      <th>2001</th>\n",
       "      <th>2002</th>\n",
       "    </tr>\n",
       "  </thead>\n",
       "  <tbody>\n",
       "    <tr>\n",
       "      <th>Nevada</th>\n",
       "      <td>NaN</td>\n",
       "      <td>2.4</td>\n",
       "      <td>2.9</td>\n",
       "    </tr>\n",
       "    <tr>\n",
       "      <th>Ohio</th>\n",
       "      <td>1.5</td>\n",
       "      <td>1.7</td>\n",
       "      <td>3.6</td>\n",
       "    </tr>\n",
       "  </tbody>\n",
       "</table>\n",
       "</div>"
      ],
      "text/plain": [
       "        2000  2001  2002\n",
       "Nevada   NaN   2.4   2.9\n",
       "Ohio     1.5   1.7   3.6"
      ]
     },
     "execution_count": 66,
     "metadata": {},
     "output_type": "execute_result"
    }
   ],
   "source": [
    "frame3.T"
   ]
  },
  {
   "cell_type": "markdown",
   "metadata": {
    "colab_type": "text",
    "id": "qZznyB-t8nDS"
   },
   "source": [
    "The value of dataframe is ndarray:"
   ]
  },
  {
   "cell_type": "code",
   "execution_count": 68,
   "metadata": {
    "colab": {
     "base_uri": "https://localhost:8080/",
     "height": 69
    },
    "colab_type": "code",
    "executionInfo": {
     "elapsed": 355,
     "status": "ok",
     "timestamp": 1567987279170,
     "user": {
      "displayName": "Ruikang Wang",
      "photoUrl": "https://lh3.googleusercontent.com/a-/AAuE7mC5vqtmalMngqfosazzXx4AVJwwWiYCV2nTgLIqgQ=s64",
      "userId": "10914323651690992949"
     },
     "user_tz": 240
    },
    "id": "ThSjKWEJ8Ww_",
    "outputId": "fae1fe96-0c72-48bf-db36-87bba9c17373"
   },
   "outputs": [
    {
     "data": {
      "text/plain": [
       "array([[nan, 1.5],\n",
       "       [2.4, 1.7],\n",
       "       [2.9, 3.6]])"
      ]
     },
     "execution_count": 68,
     "metadata": {},
     "output_type": "execute_result"
    }
   ],
   "source": [
    "frame3.values"
   ]
  },
  {
   "cell_type": "code",
   "execution_count": 69,
   "metadata": {
    "colab": {
     "base_uri": "https://localhost:8080/",
     "height": 121
    },
    "colab_type": "code",
    "executionInfo": {
     "elapsed": 547,
     "status": "ok",
     "timestamp": 1567987280417,
     "user": {
      "displayName": "Ruikang Wang",
      "photoUrl": "https://lh3.googleusercontent.com/a-/AAuE7mC5vqtmalMngqfosazzXx4AVJwwWiYCV2nTgLIqgQ=s64",
      "userId": "10914323651690992949"
     },
     "user_tz": 240
    },
    "id": "_vMpD5TT8trS",
    "outputId": "5ffdd641-60ff-47b8-9480-2334cec7df6e"
   },
   "outputs": [
    {
     "name": "stdout",
     "output_type": "stream",
     "text": [
      "[[2000 'Ohio']\n",
      " [2001 'Ohio']\n",
      " [2002 'Ohio']\n",
      " [2001 'Nevada']\n",
      " [2002 'Nevada']]\n",
      "<class 'numpy.ndarray'>\n"
     ]
    }
   ],
   "source": [
    "print(frame2.values)\n",
    "print(type(frame2.values))"
   ]
  },
  {
   "cell_type": "markdown",
   "metadata": {
    "colab_type": "text",
    "id": "753jGvBV-x03"
   },
   "source": [
    "We can also assign value for the DataFrame directly for generation:"
   ]
  },
  {
   "cell_type": "code",
   "execution_count": 70,
   "metadata": {
    "colab": {
     "base_uri": "https://localhost:8080/",
     "height": 138
    },
    "colab_type": "code",
    "executionInfo": {
     "elapsed": 401,
     "status": "ok",
     "timestamp": 1567987283437,
     "user": {
      "displayName": "Ruikang Wang",
      "photoUrl": "https://lh3.googleusercontent.com/a-/AAuE7mC5vqtmalMngqfosazzXx4AVJwwWiYCV2nTgLIqgQ=s64",
      "userId": "10914323651690992949"
     },
     "user_tz": 240
    },
    "id": "-u-jY1Rw-oCq",
    "outputId": "a3b8cb70-fd30-4ae0-eabc-9e0bf87a0b9a"
   },
   "outputs": [
    {
     "data": {
      "text/html": [
       "<div>\n",
       "<style scoped>\n",
       "    .dataframe tbody tr th:only-of-type {\n",
       "        vertical-align: middle;\n",
       "    }\n",
       "\n",
       "    .dataframe tbody tr th {\n",
       "        vertical-align: top;\n",
       "    }\n",
       "\n",
       "    .dataframe thead th {\n",
       "        text-align: right;\n",
       "    }\n",
       "</style>\n",
       "<table border=\"1\" class=\"dataframe\">\n",
       "  <thead>\n",
       "    <tr style=\"text-align: right;\">\n",
       "      <th></th>\n",
       "      <th>Nevada</th>\n",
       "      <th>Ohio</th>\n",
       "    </tr>\n",
       "  </thead>\n",
       "  <tbody>\n",
       "    <tr>\n",
       "      <th>2001</th>\n",
       "      <td>0.0</td>\n",
       "      <td>1.5</td>\n",
       "    </tr>\n",
       "    <tr>\n",
       "      <th>2002</th>\n",
       "      <td>2.4</td>\n",
       "      <td>1.7</td>\n",
       "    </tr>\n",
       "    <tr>\n",
       "      <th>2003</th>\n",
       "      <td>2.9</td>\n",
       "      <td>3.6</td>\n",
       "    </tr>\n",
       "  </tbody>\n",
       "</table>\n",
       "</div>"
      ],
      "text/plain": [
       "      Nevada  Ohio\n",
       "2001     0.0   1.5\n",
       "2002     2.4   1.7\n",
       "2003     2.9   3.6"
      ]
     },
     "execution_count": 70,
     "metadata": {},
     "output_type": "execute_result"
    }
   ],
   "source": [
    "frame4=DataFrame(np.array([[0, 1.5],\n",
    "                           [ 2.4,  1.7],\n",
    "                           [ 2.9,  3.6]]),\n",
    "                 index=['2001','2002','2003'],\n",
    "                 columns=['Nevada','Ohio'])\n",
    "frame4"
   ]
  },
  {
   "cell_type": "markdown",
   "metadata": {
    "colab_type": "text",
    "id": "wdFFqhZCANcu"
   },
   "source": [
    "Drop a row:"
   ]
  },
  {
   "cell_type": "code",
   "execution_count": 72,
   "metadata": {
    "colab": {
     "base_uri": "https://localhost:8080/",
     "height": 190
    },
    "colab_type": "code",
    "executionInfo": {
     "elapsed": 428,
     "status": "ok",
     "timestamp": 1567987285486,
     "user": {
      "displayName": "Ruikang Wang",
      "photoUrl": "https://lh3.googleusercontent.com/a-/AAuE7mC5vqtmalMngqfosazzXx4AVJwwWiYCV2nTgLIqgQ=s64",
      "userId": "10914323651690992949"
     },
     "user_tz": 240
    },
    "id": "uZbTEw9Y-4tn",
    "outputId": "d53ff455-d256-4fec-e5c7-03cb62c2641d"
   },
   "outputs": [
    {
     "name": "stdout",
     "output_type": "stream",
     "text": [
      "a    0.0\n",
      "b    1.0\n",
      "c    2.0\n",
      "d    3.0\n",
      "e    4.0\n",
      "dtype: float64\n"
     ]
    },
    {
     "data": {
      "text/plain": [
       "a    0.0\n",
       "b    1.0\n",
       "e    4.0\n",
       "dtype: float64"
      ]
     },
     "execution_count": 72,
     "metadata": {},
     "output_type": "execute_result"
    }
   ],
   "source": [
    "obj = Series(np.arange(5.), index=['a', 'b', 'c', 'd', 'e'])\n",
    "print(obj)\n",
    "\n",
    "obj.drop(['d', 'c'])\n"
   ]
  },
  {
   "cell_type": "markdown",
   "metadata": {
    "colab_type": "text",
    "id": "x_fZCXoZASOK"
   },
   "source": [
    "If specify that axis=1, will delete the column:"
   ]
  },
  {
   "cell_type": "code",
   "execution_count": 76,
   "metadata": {
    "colab": {
     "base_uri": "https://localhost:8080/",
     "height": 168
    },
    "colab_type": "code",
    "executionInfo": {
     "elapsed": 422,
     "status": "ok",
     "timestamp": 1567987288353,
     "user": {
      "displayName": "Ruikang Wang",
      "photoUrl": "https://lh3.googleusercontent.com/a-/AAuE7mC5vqtmalMngqfosazzXx4AVJwwWiYCV2nTgLIqgQ=s64",
      "userId": "10914323651690992949"
     },
     "user_tz": 240
    },
    "id": "tccy_oV7AQaE",
    "outputId": "ab21a0f4-9546-4178-fc1d-36a8c93ce69d"
   },
   "outputs": [
    {
     "data": {
      "text/html": [
       "<div>\n",
       "<style scoped>\n",
       "    .dataframe tbody tr th:only-of-type {\n",
       "        vertical-align: middle;\n",
       "    }\n",
       "\n",
       "    .dataframe tbody tr th {\n",
       "        vertical-align: top;\n",
       "    }\n",
       "\n",
       "    .dataframe thead th {\n",
       "        text-align: right;\n",
       "    }\n",
       "</style>\n",
       "<table border=\"1\" class=\"dataframe\">\n",
       "  <thead>\n",
       "    <tr style=\"text-align: right;\">\n",
       "      <th></th>\n",
       "      <th>one</th>\n",
       "      <th>two</th>\n",
       "      <th>three</th>\n",
       "      <th>four</th>\n",
       "    </tr>\n",
       "  </thead>\n",
       "  <tbody>\n",
       "    <tr>\n",
       "      <th>Ohio</th>\n",
       "      <td>0</td>\n",
       "      <td>1</td>\n",
       "      <td>2</td>\n",
       "      <td>3</td>\n",
       "    </tr>\n",
       "    <tr>\n",
       "      <th>Colorado</th>\n",
       "      <td>4</td>\n",
       "      <td>5</td>\n",
       "      <td>6</td>\n",
       "      <td>7</td>\n",
       "    </tr>\n",
       "    <tr>\n",
       "      <th>Utah</th>\n",
       "      <td>8</td>\n",
       "      <td>9</td>\n",
       "      <td>10</td>\n",
       "      <td>11</td>\n",
       "    </tr>\n",
       "    <tr>\n",
       "      <th>New York</th>\n",
       "      <td>12</td>\n",
       "      <td>13</td>\n",
       "      <td>14</td>\n",
       "      <td>15</td>\n",
       "    </tr>\n",
       "  </tbody>\n",
       "</table>\n",
       "</div>"
      ],
      "text/plain": [
       "          one  two  three  four\n",
       "Ohio        0    1      2     3\n",
       "Colorado    4    5      6     7\n",
       "Utah        8    9     10    11\n",
       "New York   12   13     14    15"
      ]
     },
     "execution_count": 76,
     "metadata": {},
     "output_type": "execute_result"
    }
   ],
   "source": [
    "data = DataFrame(np.arange(16).reshape((4, 4)),\n",
    "                 index=['Ohio', 'Colorado', 'Utah', 'New York'],\n",
    "                 columns=['one', 'two', 'three', 'four'])\n",
    "data"
   ]
  },
  {
   "cell_type": "code",
   "execution_count": 77,
   "metadata": {},
   "outputs": [],
   "source": [
    "data = data.drop(['Ohio', 'Colorado'])"
   ]
  },
  {
   "cell_type": "code",
   "execution_count": 78,
   "metadata": {},
   "outputs": [
    {
     "data": {
      "text/html": [
       "<div>\n",
       "<style scoped>\n",
       "    .dataframe tbody tr th:only-of-type {\n",
       "        vertical-align: middle;\n",
       "    }\n",
       "\n",
       "    .dataframe tbody tr th {\n",
       "        vertical-align: top;\n",
       "    }\n",
       "\n",
       "    .dataframe thead th {\n",
       "        text-align: right;\n",
       "    }\n",
       "</style>\n",
       "<table border=\"1\" class=\"dataframe\">\n",
       "  <thead>\n",
       "    <tr style=\"text-align: right;\">\n",
       "      <th></th>\n",
       "      <th>one</th>\n",
       "      <th>two</th>\n",
       "      <th>three</th>\n",
       "      <th>four</th>\n",
       "    </tr>\n",
       "  </thead>\n",
       "  <tbody>\n",
       "    <tr>\n",
       "      <th>Utah</th>\n",
       "      <td>8</td>\n",
       "      <td>9</td>\n",
       "      <td>10</td>\n",
       "      <td>11</td>\n",
       "    </tr>\n",
       "    <tr>\n",
       "      <th>New York</th>\n",
       "      <td>12</td>\n",
       "      <td>13</td>\n",
       "      <td>14</td>\n",
       "      <td>15</td>\n",
       "    </tr>\n",
       "  </tbody>\n",
       "</table>\n",
       "</div>"
      ],
      "text/plain": [
       "          one  two  three  four\n",
       "Utah        8    9     10    11\n",
       "New York   12   13     14    15"
      ]
     },
     "execution_count": 78,
     "metadata": {},
     "output_type": "execute_result"
    }
   ],
   "source": [
    "data"
   ]
  },
  {
   "cell_type": "code",
   "execution_count": 79,
   "metadata": {
    "colab": {
     "base_uri": "https://localhost:8080/",
     "height": 327
    },
    "colab_type": "code",
    "executionInfo": {
     "elapsed": 513,
     "status": "error",
     "timestamp": 1567987289632,
     "user": {
      "displayName": "Ruikang Wang",
      "photoUrl": "https://lh3.googleusercontent.com/a-/AAuE7mC5vqtmalMngqfosazzXx4AVJwwWiYCV2nTgLIqgQ=s64",
      "userId": "10914323651690992949"
     },
     "user_tz": 240
    },
    "id": "PMz6XDraAeBa",
    "outputId": "9bb66966-c5af-4b53-eeb6-f814c3223d3a"
   },
   "outputs": [
    {
     "ename": "KeyError",
     "evalue": "\"['two' 'four'] not found in axis\"",
     "output_type": "error",
     "traceback": [
      "\u001b[1;31m---------------------------------------------------------------------------\u001b[0m",
      "\u001b[1;31mKeyError\u001b[0m                                  Traceback (most recent call last)",
      "\u001b[1;32m<ipython-input-79-53f80944fba2>\u001b[0m in \u001b[0;36m<module>\u001b[1;34m\u001b[0m\n\u001b[1;32m----> 1\u001b[1;33m \u001b[0mdata\u001b[0m\u001b[1;33m.\u001b[0m\u001b[0mdrop\u001b[0m\u001b[1;33m(\u001b[0m\u001b[1;33m[\u001b[0m\u001b[1;34m'two'\u001b[0m\u001b[1;33m,\u001b[0m\u001b[1;34m'four'\u001b[0m\u001b[1;33m]\u001b[0m\u001b[1;33m,\u001b[0m\u001b[0maxis\u001b[0m\u001b[1;33m=\u001b[0m\u001b[1;36m0\u001b[0m\u001b[1;33m)\u001b[0m\u001b[1;33m\u001b[0m\u001b[1;33m\u001b[0m\u001b[0m\n\u001b[0m",
      "\u001b[1;32mC:\\ProgramData\\Anaconda3\\envs\\DataAnalysis-ML\\lib\\site-packages\\pandas\\core\\frame.py\u001b[0m in \u001b[0;36mdrop\u001b[1;34m(self, labels, axis, index, columns, level, inplace, errors)\u001b[0m\n\u001b[0;32m   3938\u001b[0m                                            \u001b[0mindex\u001b[0m\u001b[1;33m=\u001b[0m\u001b[0mindex\u001b[0m\u001b[1;33m,\u001b[0m \u001b[0mcolumns\u001b[0m\u001b[1;33m=\u001b[0m\u001b[0mcolumns\u001b[0m\u001b[1;33m,\u001b[0m\u001b[1;33m\u001b[0m\u001b[1;33m\u001b[0m\u001b[0m\n\u001b[0;32m   3939\u001b[0m                                            \u001b[0mlevel\u001b[0m\u001b[1;33m=\u001b[0m\u001b[0mlevel\u001b[0m\u001b[1;33m,\u001b[0m \u001b[0minplace\u001b[0m\u001b[1;33m=\u001b[0m\u001b[0minplace\u001b[0m\u001b[1;33m,\u001b[0m\u001b[1;33m\u001b[0m\u001b[1;33m\u001b[0m\u001b[0m\n\u001b[1;32m-> 3940\u001b[1;33m                                            errors=errors)\n\u001b[0m\u001b[0;32m   3941\u001b[0m \u001b[1;33m\u001b[0m\u001b[0m\n\u001b[0;32m   3942\u001b[0m     @rewrite_axis_style_signature('mapper', [('copy', True),\n",
      "\u001b[1;32mC:\\ProgramData\\Anaconda3\\envs\\DataAnalysis-ML\\lib\\site-packages\\pandas\\core\\generic.py\u001b[0m in \u001b[0;36mdrop\u001b[1;34m(self, labels, axis, index, columns, level, inplace, errors)\u001b[0m\n\u001b[0;32m   3778\u001b[0m         \u001b[1;32mfor\u001b[0m \u001b[0maxis\u001b[0m\u001b[1;33m,\u001b[0m \u001b[0mlabels\u001b[0m \u001b[1;32min\u001b[0m \u001b[0maxes\u001b[0m\u001b[1;33m.\u001b[0m\u001b[0mitems\u001b[0m\u001b[1;33m(\u001b[0m\u001b[1;33m)\u001b[0m\u001b[1;33m:\u001b[0m\u001b[1;33m\u001b[0m\u001b[1;33m\u001b[0m\u001b[0m\n\u001b[0;32m   3779\u001b[0m             \u001b[1;32mif\u001b[0m \u001b[0mlabels\u001b[0m \u001b[1;32mis\u001b[0m \u001b[1;32mnot\u001b[0m \u001b[1;32mNone\u001b[0m\u001b[1;33m:\u001b[0m\u001b[1;33m\u001b[0m\u001b[1;33m\u001b[0m\u001b[0m\n\u001b[1;32m-> 3780\u001b[1;33m                 \u001b[0mobj\u001b[0m \u001b[1;33m=\u001b[0m \u001b[0mobj\u001b[0m\u001b[1;33m.\u001b[0m\u001b[0m_drop_axis\u001b[0m\u001b[1;33m(\u001b[0m\u001b[0mlabels\u001b[0m\u001b[1;33m,\u001b[0m \u001b[0maxis\u001b[0m\u001b[1;33m,\u001b[0m \u001b[0mlevel\u001b[0m\u001b[1;33m=\u001b[0m\u001b[0mlevel\u001b[0m\u001b[1;33m,\u001b[0m \u001b[0merrors\u001b[0m\u001b[1;33m=\u001b[0m\u001b[0merrors\u001b[0m\u001b[1;33m)\u001b[0m\u001b[1;33m\u001b[0m\u001b[1;33m\u001b[0m\u001b[0m\n\u001b[0m\u001b[0;32m   3781\u001b[0m \u001b[1;33m\u001b[0m\u001b[0m\n\u001b[0;32m   3782\u001b[0m         \u001b[1;32mif\u001b[0m \u001b[0minplace\u001b[0m\u001b[1;33m:\u001b[0m\u001b[1;33m\u001b[0m\u001b[1;33m\u001b[0m\u001b[0m\n",
      "\u001b[1;32mC:\\ProgramData\\Anaconda3\\envs\\DataAnalysis-ML\\lib\\site-packages\\pandas\\core\\generic.py\u001b[0m in \u001b[0;36m_drop_axis\u001b[1;34m(self, labels, axis, level, errors)\u001b[0m\n\u001b[0;32m   3810\u001b[0m                 \u001b[0mnew_axis\u001b[0m \u001b[1;33m=\u001b[0m \u001b[0maxis\u001b[0m\u001b[1;33m.\u001b[0m\u001b[0mdrop\u001b[0m\u001b[1;33m(\u001b[0m\u001b[0mlabels\u001b[0m\u001b[1;33m,\u001b[0m \u001b[0mlevel\u001b[0m\u001b[1;33m=\u001b[0m\u001b[0mlevel\u001b[0m\u001b[1;33m,\u001b[0m \u001b[0merrors\u001b[0m\u001b[1;33m=\u001b[0m\u001b[0merrors\u001b[0m\u001b[1;33m)\u001b[0m\u001b[1;33m\u001b[0m\u001b[1;33m\u001b[0m\u001b[0m\n\u001b[0;32m   3811\u001b[0m             \u001b[1;32melse\u001b[0m\u001b[1;33m:\u001b[0m\u001b[1;33m\u001b[0m\u001b[1;33m\u001b[0m\u001b[0m\n\u001b[1;32m-> 3812\u001b[1;33m                 \u001b[0mnew_axis\u001b[0m \u001b[1;33m=\u001b[0m \u001b[0maxis\u001b[0m\u001b[1;33m.\u001b[0m\u001b[0mdrop\u001b[0m\u001b[1;33m(\u001b[0m\u001b[0mlabels\u001b[0m\u001b[1;33m,\u001b[0m \u001b[0merrors\u001b[0m\u001b[1;33m=\u001b[0m\u001b[0merrors\u001b[0m\u001b[1;33m)\u001b[0m\u001b[1;33m\u001b[0m\u001b[1;33m\u001b[0m\u001b[0m\n\u001b[0m\u001b[0;32m   3813\u001b[0m             \u001b[0mresult\u001b[0m \u001b[1;33m=\u001b[0m \u001b[0mself\u001b[0m\u001b[1;33m.\u001b[0m\u001b[0mreindex\u001b[0m\u001b[1;33m(\u001b[0m\u001b[1;33m**\u001b[0m\u001b[1;33m{\u001b[0m\u001b[0maxis_name\u001b[0m\u001b[1;33m:\u001b[0m \u001b[0mnew_axis\u001b[0m\u001b[1;33m}\u001b[0m\u001b[1;33m)\u001b[0m\u001b[1;33m\u001b[0m\u001b[1;33m\u001b[0m\u001b[0m\n\u001b[0;32m   3814\u001b[0m \u001b[1;33m\u001b[0m\u001b[0m\n",
      "\u001b[1;32mC:\\ProgramData\\Anaconda3\\envs\\DataAnalysis-ML\\lib\\site-packages\\pandas\\core\\indexes\\base.py\u001b[0m in \u001b[0;36mdrop\u001b[1;34m(self, labels, errors)\u001b[0m\n\u001b[0;32m   4963\u001b[0m             \u001b[1;32mif\u001b[0m \u001b[0merrors\u001b[0m \u001b[1;33m!=\u001b[0m \u001b[1;34m'ignore'\u001b[0m\u001b[1;33m:\u001b[0m\u001b[1;33m\u001b[0m\u001b[1;33m\u001b[0m\u001b[0m\n\u001b[0;32m   4964\u001b[0m                 raise KeyError(\n\u001b[1;32m-> 4965\u001b[1;33m                     '{} not found in axis'.format(labels[mask]))\n\u001b[0m\u001b[0;32m   4966\u001b[0m             \u001b[0mindexer\u001b[0m \u001b[1;33m=\u001b[0m \u001b[0mindexer\u001b[0m\u001b[1;33m[\u001b[0m\u001b[1;33m~\u001b[0m\u001b[0mmask\u001b[0m\u001b[1;33m]\u001b[0m\u001b[1;33m\u001b[0m\u001b[1;33m\u001b[0m\u001b[0m\n\u001b[0;32m   4967\u001b[0m         \u001b[1;32mreturn\u001b[0m \u001b[0mself\u001b[0m\u001b[1;33m.\u001b[0m\u001b[0mdelete\u001b[0m\u001b[1;33m(\u001b[0m\u001b[0mindexer\u001b[0m\u001b[1;33m)\u001b[0m\u001b[1;33m\u001b[0m\u001b[1;33m\u001b[0m\u001b[0m\n",
      "\u001b[1;31mKeyError\u001b[0m: \"['two' 'four'] not found in axis\""
     ]
    }
   ],
   "source": [
    "data.drop(['two','four'],axis=0)"
   ]
  },
  {
   "cell_type": "code",
   "execution_count": 80,
   "metadata": {
    "colab": {
     "base_uri": "https://localhost:8080/",
     "height": 108
    },
    "colab_type": "code",
    "executionInfo": {
     "elapsed": 346,
     "status": "ok",
     "timestamp": 1567987296681,
     "user": {
      "displayName": "Ruikang Wang",
      "photoUrl": "https://lh3.googleusercontent.com/a-/AAuE7mC5vqtmalMngqfosazzXx4AVJwwWiYCV2nTgLIqgQ=s64",
      "userId": "10914323651690992949"
     },
     "user_tz": 240
    },
    "id": "PgpPptypkgur",
    "outputId": "ab23c27c-bfa4-41da-cbbe-7b2c440393d4"
   },
   "outputs": [
    {
     "data": {
      "text/html": [
       "<div>\n",
       "<style scoped>\n",
       "    .dataframe tbody tr th:only-of-type {\n",
       "        vertical-align: middle;\n",
       "    }\n",
       "\n",
       "    .dataframe tbody tr th {\n",
       "        vertical-align: top;\n",
       "    }\n",
       "\n",
       "    .dataframe thead th {\n",
       "        text-align: right;\n",
       "    }\n",
       "</style>\n",
       "<table border=\"1\" class=\"dataframe\">\n",
       "  <thead>\n",
       "    <tr style=\"text-align: right;\">\n",
       "      <th></th>\n",
       "      <th>one</th>\n",
       "      <th>three</th>\n",
       "    </tr>\n",
       "  </thead>\n",
       "  <tbody>\n",
       "    <tr>\n",
       "      <th>Utah</th>\n",
       "      <td>8</td>\n",
       "      <td>10</td>\n",
       "    </tr>\n",
       "    <tr>\n",
       "      <th>New York</th>\n",
       "      <td>12</td>\n",
       "      <td>14</td>\n",
       "    </tr>\n",
       "  </tbody>\n",
       "</table>\n",
       "</div>"
      ],
      "text/plain": [
       "          one  three\n",
       "Utah        8     10\n",
       "New York   12     14"
      ]
     },
     "execution_count": 80,
     "metadata": {},
     "output_type": "execute_result"
    }
   ],
   "source": [
    "data.drop(['two','four'],axis = 1)"
   ]
  },
  {
   "cell_type": "markdown",
   "metadata": {
    "colab_type": "text",
    "id": "PKgXAg4PA-D6"
   },
   "source": [
    "Indexing, selection and filtering:\n",
    "\n",
    "\n",
    "*   Series can use index, int, boolean for selection\n",
    "*   DataFrame's indexing can get one or several columns\n",
    "*   If want to manipulate row, need to use iloc\n",
    "\n"
   ]
  },
  {
   "cell_type": "code",
   "execution_count": 84,
   "metadata": {
    "colab": {
     "base_uri": "https://localhost:8080/",
     "height": 121
    },
    "colab_type": "code",
    "executionInfo": {
     "elapsed": 369,
     "status": "ok",
     "timestamp": 1567987301002,
     "user": {
      "displayName": "Ruikang Wang",
      "photoUrl": "https://lh3.googleusercontent.com/a-/AAuE7mC5vqtmalMngqfosazzXx4AVJwwWiYCV2nTgLIqgQ=s64",
      "userId": "10914323651690992949"
     },
     "user_tz": 240
    },
    "id": "-9-cCCmXA6Ih",
    "outputId": "836c4ce2-687f-41a7-a662-c6cbfd33ccb8"
   },
   "outputs": [
    {
     "name": "stdout",
     "output_type": "stream",
     "text": [
      "float64\n",
      "1.0\n",
      "b    1.0\n",
      "a    0.0\n",
      "d    3.0\n",
      "dtype: float64\n"
     ]
    }
   ],
   "source": [
    "obj = Series(np.arange(4.0), index=['a', 'b', 'c', 'd'])\n",
    "print(obj.dtype)\n",
    "\n",
    "print(obj['b']) # index\n",
    "print(obj[['b', 'a', 'd']])\n"
   ]
  },
  {
   "cell_type": "code",
   "execution_count": 85,
   "metadata": {},
   "outputs": [
    {
     "data": {
      "text/plain": [
       "a    0.0\n",
       "b    1.0\n",
       "c    2.0\n",
       "d    3.0\n",
       "dtype: float64"
      ]
     },
     "execution_count": 85,
     "metadata": {},
     "output_type": "execute_result"
    }
   ],
   "source": [
    "obj"
   ]
  },
  {
   "cell_type": "code",
   "execution_count": 86,
   "metadata": {
    "colab": {
     "base_uri": "https://localhost:8080/",
     "height": 190
    },
    "colab_type": "code",
    "executionInfo": {
     "elapsed": 346,
     "status": "ok",
     "timestamp": 1567987302132,
     "user": {
      "displayName": "Ruikang Wang",
      "photoUrl": "https://lh3.googleusercontent.com/a-/AAuE7mC5vqtmalMngqfosazzXx4AVJwwWiYCV2nTgLIqgQ=s64",
      "userId": "10914323651690992949"
     },
     "user_tz": 240
    },
    "id": "WWJ4-mUBBTfm",
    "outputId": "1272e14c-49d2-4f7a-afa7-6636018c6d34"
   },
   "outputs": [
    {
     "name": "stdout",
     "output_type": "stream",
     "text": [
      "1.0\n",
      "b    1.0\n",
      "c    2.0\n",
      "dtype: float64\n",
      "b    1.0\n",
      "d    3.0\n",
      "dtype: float64\n",
      "b    1.0\n",
      "d    3.0\n",
      "dtype: float64\n"
     ]
    }
   ],
   "source": [
    "## by using int or list\n",
    "print(obj[1])\n",
    "print(obj[1:3])\n",
    "print(obj[[1,3]])\n",
    "print(obj[['b', 'd']])"
   ]
  },
  {
   "cell_type": "code",
   "execution_count": 87,
   "metadata": {
    "colab": {
     "base_uri": "https://localhost:8080/",
     "height": 104
    },
    "colab_type": "code",
    "executionInfo": {
     "elapsed": 682,
     "status": "ok",
     "timestamp": 1567987303290,
     "user": {
      "displayName": "Ruikang Wang",
      "photoUrl": "https://lh3.googleusercontent.com/a-/AAuE7mC5vqtmalMngqfosazzXx4AVJwwWiYCV2nTgLIqgQ=s64",
      "userId": "10914323651690992949"
     },
     "user_tz": 240
    },
    "id": "9KfraOwblV-6",
    "outputId": "15262eff-23c0-4d0a-8b33-e025d66c6545"
   },
   "outputs": [
    {
     "data": {
      "text/plain": [
       "a    0.0\n",
       "b    1.0\n",
       "c    2.0\n",
       "d    3.0\n",
       "dtype: float64"
      ]
     },
     "execution_count": 87,
     "metadata": {},
     "output_type": "execute_result"
    }
   ],
   "source": [
    "obj"
   ]
  },
  {
   "cell_type": "code",
   "execution_count": 88,
   "metadata": {
    "colab": {
     "base_uri": "https://localhost:8080/",
     "height": 52
    },
    "colab_type": "code",
    "executionInfo": {
     "elapsed": 249,
     "status": "ok",
     "timestamp": 1567987303522,
     "user": {
      "displayName": "Ruikang Wang",
      "photoUrl": "https://lh3.googleusercontent.com/a-/AAuE7mC5vqtmalMngqfosazzXx4AVJwwWiYCV2nTgLIqgQ=s64",
      "userId": "10914323651690992949"
     },
     "user_tz": 240
    },
    "id": "Y7RVIEwbDClX",
    "outputId": "3e25f703-5982-41d6-b2ed-c6120a093fca"
   },
   "outputs": [
    {
     "data": {
      "text/plain": [
       "a    0.0\n",
       "dtype: float64"
      ]
     },
     "execution_count": 88,
     "metadata": {},
     "output_type": "execute_result"
    }
   ],
   "source": [
    "obj[[True,False,False,False]]"
   ]
  },
  {
   "cell_type": "code",
   "execution_count": 68,
   "metadata": {
    "colab": {
     "base_uri": "https://localhost:8080/",
     "height": 155
    },
    "colab_type": "code",
    "executionInfo": {
     "elapsed": 379,
     "status": "ok",
     "timestamp": 1567987306343,
     "user": {
      "displayName": "Ruikang Wang",
      "photoUrl": "https://lh3.googleusercontent.com/a-/AAuE7mC5vqtmalMngqfosazzXx4AVJwwWiYCV2nTgLIqgQ=s64",
      "userId": "10914323651690992949"
     },
     "user_tz": 240
    },
    "id": "0W0ZaQA2DGMK",
    "outputId": "04dbf77d-4d57-4ac5-a6b3-da90be272f94"
   },
   "outputs": [
    {
     "name": "stdout",
     "output_type": "stream",
     "text": [
      "a     True\n",
      "b     True\n",
      "c    False\n",
      "d    False\n",
      "dtype: bool\n",
      "a    0.0\n",
      "b    1.0\n",
      "dtype: float64\n"
     ]
    }
   ],
   "source": [
    "print(obj<2)\n",
    "print(obj[obj<2])"
   ]
  },
  {
   "cell_type": "code",
   "execution_count": 98,
   "metadata": {
    "colab": {
     "base_uri": "https://localhost:8080/",
     "height": 168
    },
    "colab_type": "code",
    "executionInfo": {
     "elapsed": 931,
     "status": "ok",
     "timestamp": 1567987307660,
     "user": {
      "displayName": "Ruikang Wang",
      "photoUrl": "https://lh3.googleusercontent.com/a-/AAuE7mC5vqtmalMngqfosazzXx4AVJwwWiYCV2nTgLIqgQ=s64",
      "userId": "10914323651690992949"
     },
     "user_tz": 240
    },
    "id": "NT6956ksDLUI",
    "outputId": "0464b342-a023-4e74-ec6f-45b14b5e3690"
   },
   "outputs": [
    {
     "data": {
      "text/html": [
       "<div>\n",
       "<style scoped>\n",
       "    .dataframe tbody tr th:only-of-type {\n",
       "        vertical-align: middle;\n",
       "    }\n",
       "\n",
       "    .dataframe tbody tr th {\n",
       "        vertical-align: top;\n",
       "    }\n",
       "\n",
       "    .dataframe thead th {\n",
       "        text-align: right;\n",
       "    }\n",
       "</style>\n",
       "<table border=\"1\" class=\"dataframe\">\n",
       "  <thead>\n",
       "    <tr style=\"text-align: right;\">\n",
       "      <th></th>\n",
       "      <th>one</th>\n",
       "      <th>two</th>\n",
       "      <th>three</th>\n",
       "      <th>four</th>\n",
       "    </tr>\n",
       "  </thead>\n",
       "  <tbody>\n",
       "    <tr>\n",
       "      <th>Ohio</th>\n",
       "      <td>0</td>\n",
       "      <td>1</td>\n",
       "      <td>2</td>\n",
       "      <td>3</td>\n",
       "    </tr>\n",
       "    <tr>\n",
       "      <th>Colorado</th>\n",
       "      <td>4</td>\n",
       "      <td>5</td>\n",
       "      <td>6</td>\n",
       "      <td>7</td>\n",
       "    </tr>\n",
       "    <tr>\n",
       "      <th>Utah</th>\n",
       "      <td>8</td>\n",
       "      <td>9</td>\n",
       "      <td>10</td>\n",
       "      <td>11</td>\n",
       "    </tr>\n",
       "    <tr>\n",
       "      <th>New York</th>\n",
       "      <td>12</td>\n",
       "      <td>13</td>\n",
       "      <td>14</td>\n",
       "      <td>15</td>\n",
       "    </tr>\n",
       "  </tbody>\n",
       "</table>\n",
       "</div>"
      ],
      "text/plain": [
       "          one  two  three  four\n",
       "Ohio        0    1      2     3\n",
       "Colorado    4    5      6     7\n",
       "Utah        8    9     10    11\n",
       "New York   12   13     14    15"
      ]
     },
     "execution_count": 98,
     "metadata": {},
     "output_type": "execute_result"
    }
   ],
   "source": [
    "data = DataFrame(np.arange(16).reshape((4, 4)),\n",
    "                 index=['Ohio', 'Colorado', 'Utah', 'New York'],\n",
    "                 columns=['one', 'two', 'three', 'four'])\n",
    "data"
   ]
  },
  {
   "cell_type": "code",
   "execution_count": 90,
   "metadata": {
    "colab": {
     "base_uri": "https://localhost:8080/",
     "height": 104
    },
    "colab_type": "code",
    "executionInfo": {
     "elapsed": 406,
     "status": "ok",
     "timestamp": 1567987307795,
     "user": {
      "displayName": "Ruikang Wang",
      "photoUrl": "https://lh3.googleusercontent.com/a-/AAuE7mC5vqtmalMngqfosazzXx4AVJwwWiYCV2nTgLIqgQ=s64",
      "userId": "10914323651690992949"
     },
     "user_tz": 240
    },
    "id": "gxHqUzoWDWD-",
    "outputId": "d1d05b2f-037f-423b-c5fd-77d70ddb0012"
   },
   "outputs": [
    {
     "data": {
      "text/plain": [
       "Ohio         1\n",
       "Colorado     5\n",
       "Utah         9\n",
       "New York    13\n",
       "Name: two, dtype: int32"
      ]
     },
     "execution_count": 90,
     "metadata": {},
     "output_type": "execute_result"
    }
   ],
   "source": [
    "data['two']"
   ]
  },
  {
   "cell_type": "code",
   "execution_count": 91,
   "metadata": {
    "colab": {
     "base_uri": "https://localhost:8080/",
     "height": 104
    },
    "colab_type": "code",
    "executionInfo": {
     "elapsed": 425,
     "status": "ok",
     "timestamp": 1567987308582,
     "user": {
      "displayName": "Ruikang Wang",
      "photoUrl": "https://lh3.googleusercontent.com/a-/AAuE7mC5vqtmalMngqfosazzXx4AVJwwWiYCV2nTgLIqgQ=s64",
      "userId": "10914323651690992949"
     },
     "user_tz": 240
    },
    "id": "n65CzpI1Dbml",
    "outputId": "6279dd8c-e15f-4630-e4f0-004ce9494aef"
   },
   "outputs": [
    {
     "data": {
      "text/plain": [
       "one      0\n",
       "two      1\n",
       "three    2\n",
       "four     3\n",
       "Name: Ohio, dtype: int32"
      ]
     },
     "execution_count": 91,
     "metadata": {},
     "output_type": "execute_result"
    }
   ],
   "source": [
    "data.iloc[0]"
   ]
  },
  {
   "cell_type": "code",
   "execution_count": 92,
   "metadata": {
    "colab": {
     "base_uri": "https://localhost:8080/",
     "height": 104
    },
    "colab_type": "code",
    "executionInfo": {
     "elapsed": 316,
     "status": "ok",
     "timestamp": 1567987309376,
     "user": {
      "displayName": "Ruikang Wang",
      "photoUrl": "https://lh3.googleusercontent.com/a-/AAuE7mC5vqtmalMngqfosazzXx4AVJwwWiYCV2nTgLIqgQ=s64",
      "userId": "10914323651690992949"
     },
     "user_tz": 240
    },
    "id": "wPaM_Gl4Dc6m",
    "outputId": "8e8f1c54-4c12-4c7c-9009-db091cc9f880"
   },
   "outputs": [
    {
     "data": {
      "text/plain": [
       "one      0\n",
       "two      1\n",
       "three    2\n",
       "four     3\n",
       "Name: Ohio, dtype: int32"
      ]
     },
     "execution_count": 92,
     "metadata": {},
     "output_type": "execute_result"
    }
   ],
   "source": [
    "data.loc['Ohio']"
   ]
  },
  {
   "cell_type": "code",
   "execution_count": 93,
   "metadata": {
    "colab": {
     "base_uri": "https://localhost:8080/",
     "height": 168
    },
    "colab_type": "code",
    "executionInfo": {
     "elapsed": 397,
     "status": "ok",
     "timestamp": 1567987311867,
     "user": {
      "displayName": "Ruikang Wang",
      "photoUrl": "https://lh3.googleusercontent.com/a-/AAuE7mC5vqtmalMngqfosazzXx4AVJwwWiYCV2nTgLIqgQ=s64",
      "userId": "10914323651690992949"
     },
     "user_tz": 240
    },
    "id": "kZgpDvsJDogI",
    "outputId": "9365894c-63d1-40bf-f067-c99dd8d70d71"
   },
   "outputs": [
    {
     "data": {
      "text/html": [
       "<div>\n",
       "<style scoped>\n",
       "    .dataframe tbody tr th:only-of-type {\n",
       "        vertical-align: middle;\n",
       "    }\n",
       "\n",
       "    .dataframe tbody tr th {\n",
       "        vertical-align: top;\n",
       "    }\n",
       "\n",
       "    .dataframe thead th {\n",
       "        text-align: right;\n",
       "    }\n",
       "</style>\n",
       "<table border=\"1\" class=\"dataframe\">\n",
       "  <thead>\n",
       "    <tr style=\"text-align: right;\">\n",
       "      <th></th>\n",
       "      <th>one</th>\n",
       "      <th>two</th>\n",
       "      <th>three</th>\n",
       "      <th>four</th>\n",
       "    </tr>\n",
       "  </thead>\n",
       "  <tbody>\n",
       "    <tr>\n",
       "      <th>Ohio</th>\n",
       "      <td>0</td>\n",
       "      <td>1</td>\n",
       "      <td>2</td>\n",
       "      <td>3</td>\n",
       "    </tr>\n",
       "    <tr>\n",
       "      <th>Colorado</th>\n",
       "      <td>4</td>\n",
       "      <td>5</td>\n",
       "      <td>6</td>\n",
       "      <td>7</td>\n",
       "    </tr>\n",
       "    <tr>\n",
       "      <th>Utah</th>\n",
       "      <td>8</td>\n",
       "      <td>9</td>\n",
       "      <td>10</td>\n",
       "      <td>11</td>\n",
       "    </tr>\n",
       "    <tr>\n",
       "      <th>New York</th>\n",
       "      <td>12</td>\n",
       "      <td>13</td>\n",
       "      <td>14</td>\n",
       "      <td>15</td>\n",
       "    </tr>\n",
       "  </tbody>\n",
       "</table>\n",
       "</div>"
      ],
      "text/plain": [
       "          one  two  three  four\n",
       "Ohio        0    1      2     3\n",
       "Colorado    4    5      6     7\n",
       "Utah        8    9     10    11\n",
       "New York   12   13     14    15"
      ]
     },
     "execution_count": 93,
     "metadata": {},
     "output_type": "execute_result"
    }
   ],
   "source": [
    "data.loc['Ohio':]"
   ]
  },
  {
   "cell_type": "code",
   "execution_count": 74,
   "metadata": {
    "colab": {
     "base_uri": "https://localhost:8080/",
     "height": 108
    },
    "colab_type": "code",
    "executionInfo": {
     "elapsed": 377,
     "status": "ok",
     "timestamp": 1567987324289,
     "user": {
      "displayName": "Ruikang Wang",
      "photoUrl": "https://lh3.googleusercontent.com/a-/AAuE7mC5vqtmalMngqfosazzXx4AVJwwWiYCV2nTgLIqgQ=s64",
      "userId": "10914323651690992949"
     },
     "user_tz": 240
    },
    "id": "-7mFfPaEDsKj",
    "outputId": "66039c5f-55df-4929-83d2-162cfdf698bb"
   },
   "outputs": [
    {
     "data": {
      "text/html": [
       "<div>\n",
       "<style scoped>\n",
       "    .dataframe tbody tr th:only-of-type {\n",
       "        vertical-align: middle;\n",
       "    }\n",
       "\n",
       "    .dataframe tbody tr th {\n",
       "        vertical-align: top;\n",
       "    }\n",
       "\n",
       "    .dataframe thead th {\n",
       "        text-align: right;\n",
       "    }\n",
       "</style>\n",
       "<table border=\"1\" class=\"dataframe\">\n",
       "  <thead>\n",
       "    <tr style=\"text-align: right;\">\n",
       "      <th></th>\n",
       "      <th>one</th>\n",
       "      <th>two</th>\n",
       "      <th>three</th>\n",
       "      <th>four</th>\n",
       "    </tr>\n",
       "  </thead>\n",
       "  <tbody>\n",
       "    <tr>\n",
       "      <th>Utah</th>\n",
       "      <td>8</td>\n",
       "      <td>9</td>\n",
       "      <td>10</td>\n",
       "      <td>11</td>\n",
       "    </tr>\n",
       "    <tr>\n",
       "      <th>New York</th>\n",
       "      <td>12</td>\n",
       "      <td>13</td>\n",
       "      <td>14</td>\n",
       "      <td>15</td>\n",
       "    </tr>\n",
       "  </tbody>\n",
       "</table>\n",
       "</div>"
      ],
      "text/plain": [
       "          one  two  three  four\n",
       "Utah        8    9     10    11\n",
       "New York   12   13     14    15"
      ]
     },
     "execution_count": 74,
     "metadata": {},
     "output_type": "execute_result"
    }
   ],
   "source": [
    "data.loc['Utah':]"
   ]
  },
  {
   "cell_type": "code",
   "execution_count": 94,
   "metadata": {
    "colab": {
     "base_uri": "https://localhost:8080/",
     "height": 138
    },
    "colab_type": "code",
    "executionInfo": {
     "elapsed": 224,
     "status": "ok",
     "timestamp": 1567987325045,
     "user": {
      "displayName": "Ruikang Wang",
      "photoUrl": "https://lh3.googleusercontent.com/a-/AAuE7mC5vqtmalMngqfosazzXx4AVJwwWiYCV2nTgLIqgQ=s64",
      "userId": "10914323651690992949"
     },
     "user_tz": 240
    },
    "id": "-nSpxxHUDu-8",
    "outputId": "90495dbe-7456-4cf0-a8e7-90e8fc0e83da"
   },
   "outputs": [
    {
     "data": {
      "text/html": [
       "<div>\n",
       "<style scoped>\n",
       "    .dataframe tbody tr th:only-of-type {\n",
       "        vertical-align: middle;\n",
       "    }\n",
       "\n",
       "    .dataframe tbody tr th {\n",
       "        vertical-align: top;\n",
       "    }\n",
       "\n",
       "    .dataframe thead th {\n",
       "        text-align: right;\n",
       "    }\n",
       "</style>\n",
       "<table border=\"1\" class=\"dataframe\">\n",
       "  <thead>\n",
       "    <tr style=\"text-align: right;\">\n",
       "      <th></th>\n",
       "      <th>one</th>\n",
       "      <th>two</th>\n",
       "      <th>three</th>\n",
       "      <th>four</th>\n",
       "    </tr>\n",
       "  </thead>\n",
       "  <tbody>\n",
       "    <tr>\n",
       "      <th>Ohio</th>\n",
       "      <td>0</td>\n",
       "      <td>1</td>\n",
       "      <td>2</td>\n",
       "      <td>3</td>\n",
       "    </tr>\n",
       "    <tr>\n",
       "      <th>Colorado</th>\n",
       "      <td>4</td>\n",
       "      <td>5</td>\n",
       "      <td>6</td>\n",
       "      <td>7</td>\n",
       "    </tr>\n",
       "    <tr>\n",
       "      <th>Utah</th>\n",
       "      <td>8</td>\n",
       "      <td>9</td>\n",
       "      <td>10</td>\n",
       "      <td>11</td>\n",
       "    </tr>\n",
       "  </tbody>\n",
       "</table>\n",
       "</div>"
      ],
      "text/plain": [
       "          one  two  three  four\n",
       "Ohio        0    1      2     3\n",
       "Colorado    4    5      6     7\n",
       "Utah        8    9     10    11"
      ]
     },
     "execution_count": 94,
     "metadata": {},
     "output_type": "execute_result"
    }
   ],
   "source": [
    "data.loc[:'Utah']"
   ]
  },
  {
   "cell_type": "code",
   "execution_count": 95,
   "metadata": {
    "colab": {
     "base_uri": "https://localhost:8080/",
     "height": 138
    },
    "colab_type": "code",
    "executionInfo": {
     "elapsed": 378,
     "status": "ok",
     "timestamp": 1567987326176,
     "user": {
      "displayName": "Ruikang Wang",
      "photoUrl": "https://lh3.googleusercontent.com/a-/AAuE7mC5vqtmalMngqfosazzXx4AVJwwWiYCV2nTgLIqgQ=s64",
      "userId": "10914323651690992949"
     },
     "user_tz": 240
    },
    "id": "MpzLkALSDxqg",
    "outputId": "70913951-b9fb-4d74-9871-aea79db4cf26"
   },
   "outputs": [
    {
     "data": {
      "text/html": [
       "<div>\n",
       "<style scoped>\n",
       "    .dataframe tbody tr th:only-of-type {\n",
       "        vertical-align: middle;\n",
       "    }\n",
       "\n",
       "    .dataframe tbody tr th {\n",
       "        vertical-align: top;\n",
       "    }\n",
       "\n",
       "    .dataframe thead th {\n",
       "        text-align: right;\n",
       "    }\n",
       "</style>\n",
       "<table border=\"1\" class=\"dataframe\">\n",
       "  <thead>\n",
       "    <tr style=\"text-align: right;\">\n",
       "      <th></th>\n",
       "      <th>one</th>\n",
       "      <th>two</th>\n",
       "      <th>three</th>\n",
       "      <th>four</th>\n",
       "    </tr>\n",
       "  </thead>\n",
       "  <tbody>\n",
       "    <tr>\n",
       "      <th>Colorado</th>\n",
       "      <td>4</td>\n",
       "      <td>5</td>\n",
       "      <td>6</td>\n",
       "      <td>7</td>\n",
       "    </tr>\n",
       "    <tr>\n",
       "      <th>Utah</th>\n",
       "      <td>8</td>\n",
       "      <td>9</td>\n",
       "      <td>10</td>\n",
       "      <td>11</td>\n",
       "    </tr>\n",
       "    <tr>\n",
       "      <th>New York</th>\n",
       "      <td>12</td>\n",
       "      <td>13</td>\n",
       "      <td>14</td>\n",
       "      <td>15</td>\n",
       "    </tr>\n",
       "  </tbody>\n",
       "</table>\n",
       "</div>"
      ],
      "text/plain": [
       "          one  two  three  four\n",
       "Colorado    4    5      6     7\n",
       "Utah        8    9     10    11\n",
       "New York   12   13     14    15"
      ]
     },
     "execution_count": 95,
     "metadata": {},
     "output_type": "execute_result"
    }
   ],
   "source": [
    "data[1:]"
   ]
  },
  {
   "cell_type": "code",
   "execution_count": 96,
   "metadata": {
    "colab": {
     "base_uri": "https://localhost:8080/",
     "height": 138
    },
    "colab_type": "code",
    "executionInfo": {
     "elapsed": 898,
     "status": "ok",
     "timestamp": 1567987327572,
     "user": {
      "displayName": "Ruikang Wang",
      "photoUrl": "https://lh3.googleusercontent.com/a-/AAuE7mC5vqtmalMngqfosazzXx4AVJwwWiYCV2nTgLIqgQ=s64",
      "userId": "10914323651690992949"
     },
     "user_tz": 240
    },
    "id": "qC47Nf_VDzqi",
    "outputId": "6136a831-1ecb-47d6-8fb7-7012dbc0b5e7"
   },
   "outputs": [
    {
     "data": {
      "text/html": [
       "<div>\n",
       "<style scoped>\n",
       "    .dataframe tbody tr th:only-of-type {\n",
       "        vertical-align: middle;\n",
       "    }\n",
       "\n",
       "    .dataframe tbody tr th {\n",
       "        vertical-align: top;\n",
       "    }\n",
       "\n",
       "    .dataframe thead th {\n",
       "        text-align: right;\n",
       "    }\n",
       "</style>\n",
       "<table border=\"1\" class=\"dataframe\">\n",
       "  <thead>\n",
       "    <tr style=\"text-align: right;\">\n",
       "      <th></th>\n",
       "      <th>one</th>\n",
       "      <th>two</th>\n",
       "      <th>three</th>\n",
       "      <th>four</th>\n",
       "    </tr>\n",
       "  </thead>\n",
       "  <tbody>\n",
       "    <tr>\n",
       "      <th>Colorado</th>\n",
       "      <td>4</td>\n",
       "      <td>5</td>\n",
       "      <td>6</td>\n",
       "      <td>7</td>\n",
       "    </tr>\n",
       "    <tr>\n",
       "      <th>Utah</th>\n",
       "      <td>8</td>\n",
       "      <td>9</td>\n",
       "      <td>10</td>\n",
       "      <td>11</td>\n",
       "    </tr>\n",
       "    <tr>\n",
       "      <th>New York</th>\n",
       "      <td>12</td>\n",
       "      <td>13</td>\n",
       "      <td>14</td>\n",
       "      <td>15</td>\n",
       "    </tr>\n",
       "  </tbody>\n",
       "</table>\n",
       "</div>"
      ],
      "text/plain": [
       "          one  two  three  four\n",
       "Colorado    4    5      6     7\n",
       "Utah        8    9     10    11\n",
       "New York   12   13     14    15"
      ]
     },
     "execution_count": 96,
     "metadata": {},
     "output_type": "execute_result"
    }
   ],
   "source": [
    "data.iloc[1:]"
   ]
  },
  {
   "cell_type": "code",
   "execution_count": 99,
   "metadata": {
    "colab": {
     "base_uri": "https://localhost:8080/",
     "height": 168
    },
    "colab_type": "code",
    "executionInfo": {
     "elapsed": 651,
     "status": "ok",
     "timestamp": 1566783786718,
     "user": {
      "displayName": "Ruikang Wang",
      "photoUrl": "https://lh3.googleusercontent.com/a-/AAuE7mC5vqtmalMngqfosazzXx4AVJwwWiYCV2nTgLIqgQ=s64",
      "userId": "10914323651690992949"
     },
     "user_tz": 240
    },
    "id": "MQaZIr34D1Qb",
    "outputId": "c0094449-dac3-48b1-9c38-ac85f0a56716"
   },
   "outputs": [
    {
     "data": {
      "text/html": [
       "<div>\n",
       "<style scoped>\n",
       "    .dataframe tbody tr th:only-of-type {\n",
       "        vertical-align: middle;\n",
       "    }\n",
       "\n",
       "    .dataframe tbody tr th {\n",
       "        vertical-align: top;\n",
       "    }\n",
       "\n",
       "    .dataframe thead th {\n",
       "        text-align: right;\n",
       "    }\n",
       "</style>\n",
       "<table border=\"1\" class=\"dataframe\">\n",
       "  <thead>\n",
       "    <tr style=\"text-align: right;\">\n",
       "      <th></th>\n",
       "      <th>one</th>\n",
       "      <th>two</th>\n",
       "      <th>three</th>\n",
       "      <th>four</th>\n",
       "    </tr>\n",
       "  </thead>\n",
       "  <tbody>\n",
       "    <tr>\n",
       "      <th>Ohio</th>\n",
       "      <td>False</td>\n",
       "      <td>False</td>\n",
       "      <td>False</td>\n",
       "      <td>False</td>\n",
       "    </tr>\n",
       "    <tr>\n",
       "      <th>Colorado</th>\n",
       "      <td>False</td>\n",
       "      <td>False</td>\n",
       "      <td>True</td>\n",
       "      <td>True</td>\n",
       "    </tr>\n",
       "    <tr>\n",
       "      <th>Utah</th>\n",
       "      <td>True</td>\n",
       "      <td>True</td>\n",
       "      <td>True</td>\n",
       "      <td>True</td>\n",
       "    </tr>\n",
       "    <tr>\n",
       "      <th>New York</th>\n",
       "      <td>True</td>\n",
       "      <td>True</td>\n",
       "      <td>True</td>\n",
       "      <td>True</td>\n",
       "    </tr>\n",
       "  </tbody>\n",
       "</table>\n",
       "</div>"
      ],
      "text/plain": [
       "            one    two  three   four\n",
       "Ohio      False  False  False  False\n",
       "Colorado  False  False   True   True\n",
       "Utah       True   True   True   True\n",
       "New York   True   True   True   True"
      ]
     },
     "execution_count": 99,
     "metadata": {},
     "output_type": "execute_result"
    }
   ],
   "source": [
    "data>5"
   ]
  },
  {
   "cell_type": "code",
   "execution_count": 101,
   "metadata": {
    "colab": {
     "base_uri": "https://localhost:8080/",
     "height": 168
    },
    "colab_type": "code",
    "executionInfo": {
     "elapsed": 391,
     "status": "ok",
     "timestamp": 1567987345622,
     "user": {
      "displayName": "Ruikang Wang",
      "photoUrl": "https://lh3.googleusercontent.com/a-/AAuE7mC5vqtmalMngqfosazzXx4AVJwwWiYCV2nTgLIqgQ=s64",
      "userId": "10914323651690992949"
     },
     "user_tz": 240
    },
    "id": "41KAYr9lGXav",
    "outputId": "bcb43ef9-b752-46c0-c826-592f117c51f0"
   },
   "outputs": [
    {
     "data": {
      "text/html": [
       "<div>\n",
       "<style scoped>\n",
       "    .dataframe tbody tr th:only-of-type {\n",
       "        vertical-align: middle;\n",
       "    }\n",
       "\n",
       "    .dataframe tbody tr th {\n",
       "        vertical-align: top;\n",
       "    }\n",
       "\n",
       "    .dataframe thead th {\n",
       "        text-align: right;\n",
       "    }\n",
       "</style>\n",
       "<table border=\"1\" class=\"dataframe\">\n",
       "  <thead>\n",
       "    <tr style=\"text-align: right;\">\n",
       "      <th></th>\n",
       "      <th>one</th>\n",
       "      <th>two</th>\n",
       "      <th>three</th>\n",
       "      <th>four</th>\n",
       "    </tr>\n",
       "  </thead>\n",
       "  <tbody>\n",
       "    <tr>\n",
       "      <th>Ohio</th>\n",
       "      <td>NaN</td>\n",
       "      <td>NaN</td>\n",
       "      <td>NaN</td>\n",
       "      <td>NaN</td>\n",
       "    </tr>\n",
       "    <tr>\n",
       "      <th>Colorado</th>\n",
       "      <td>NaN</td>\n",
       "      <td>NaN</td>\n",
       "      <td>6.0</td>\n",
       "      <td>7.0</td>\n",
       "    </tr>\n",
       "    <tr>\n",
       "      <th>Utah</th>\n",
       "      <td>8.0</td>\n",
       "      <td>9.0</td>\n",
       "      <td>10.0</td>\n",
       "      <td>11.0</td>\n",
       "    </tr>\n",
       "    <tr>\n",
       "      <th>New York</th>\n",
       "      <td>12.0</td>\n",
       "      <td>13.0</td>\n",
       "      <td>14.0</td>\n",
       "      <td>15.0</td>\n",
       "    </tr>\n",
       "  </tbody>\n",
       "</table>\n",
       "</div>"
      ],
      "text/plain": [
       "           one   two  three  four\n",
       "Ohio       NaN   NaN    NaN   NaN\n",
       "Colorado   NaN   NaN    6.0   7.0\n",
       "Utah       8.0   9.0   10.0  11.0\n",
       "New York  12.0  13.0   14.0  15.0"
      ]
     },
     "execution_count": 101,
     "metadata": {},
     "output_type": "execute_result"
    }
   ],
   "source": [
    "data[data>5]"
   ]
  },
  {
   "cell_type": "code",
   "execution_count": 102,
   "metadata": {},
   "outputs": [
    {
     "data": {
      "text/html": [
       "<div>\n",
       "<style scoped>\n",
       "    .dataframe tbody tr th:only-of-type {\n",
       "        vertical-align: middle;\n",
       "    }\n",
       "\n",
       "    .dataframe tbody tr th {\n",
       "        vertical-align: top;\n",
       "    }\n",
       "\n",
       "    .dataframe thead th {\n",
       "        text-align: right;\n",
       "    }\n",
       "</style>\n",
       "<table border=\"1\" class=\"dataframe\">\n",
       "  <thead>\n",
       "    <tr style=\"text-align: right;\">\n",
       "      <th></th>\n",
       "      <th>one</th>\n",
       "      <th>two</th>\n",
       "      <th>three</th>\n",
       "      <th>four</th>\n",
       "    </tr>\n",
       "  </thead>\n",
       "  <tbody>\n",
       "    <tr>\n",
       "      <th>Ohio</th>\n",
       "      <td>0</td>\n",
       "      <td>1</td>\n",
       "      <td>2</td>\n",
       "      <td>3</td>\n",
       "    </tr>\n",
       "    <tr>\n",
       "      <th>Colorado</th>\n",
       "      <td>4</td>\n",
       "      <td>5</td>\n",
       "      <td>6</td>\n",
       "      <td>7</td>\n",
       "    </tr>\n",
       "    <tr>\n",
       "      <th>Utah</th>\n",
       "      <td>8</td>\n",
       "      <td>9</td>\n",
       "      <td>10</td>\n",
       "      <td>11</td>\n",
       "    </tr>\n",
       "    <tr>\n",
       "      <th>New York</th>\n",
       "      <td>12</td>\n",
       "      <td>13</td>\n",
       "      <td>14</td>\n",
       "      <td>15</td>\n",
       "    </tr>\n",
       "  </tbody>\n",
       "</table>\n",
       "</div>"
      ],
      "text/plain": [
       "          one  two  three  four\n",
       "Ohio        0    1      2     3\n",
       "Colorado    4    5      6     7\n",
       "Utah        8    9     10    11\n",
       "New York   12   13     14    15"
      ]
     },
     "execution_count": 102,
     "metadata": {},
     "output_type": "execute_result"
    }
   ],
   "source": [
    "data"
   ]
  },
  {
   "cell_type": "code",
   "execution_count": 105,
   "metadata": {
    "colab": {
     "base_uri": "https://localhost:8080/",
     "height": 69
    },
    "colab_type": "code",
    "executionInfo": {
     "elapsed": 324,
     "status": "ok",
     "timestamp": 1567987346762,
     "user": {
      "displayName": "Ruikang Wang",
      "photoUrl": "https://lh3.googleusercontent.com/a-/AAuE7mC5vqtmalMngqfosazzXx4AVJwwWiYCV2nTgLIqgQ=s64",
      "userId": "10914323651690992949"
     },
     "user_tz": 240
    },
    "id": "djHDDQkRGZVt",
    "outputId": "48c33bb1-2cf3-4bb5-ac1e-c0cd71656e85"
   },
   "outputs": [
    {
     "data": {
      "text/plain": [
       "Colorado    4\n",
       "Utah        8\n",
       "Name: one, dtype: int32"
      ]
     },
     "execution_count": 105,
     "metadata": {},
     "output_type": "execute_result"
    }
   ],
   "source": [
    "data.loc[['Colorado','Utah']]['one']"
   ]
  },
  {
   "cell_type": "code",
   "execution_count": 106,
   "metadata": {
    "colab": {
     "base_uri": "https://localhost:8080/",
     "height": 168
    },
    "colab_type": "code",
    "executionInfo": {
     "elapsed": 412,
     "status": "ok",
     "timestamp": 1567987348993,
     "user": {
      "displayName": "Ruikang Wang",
      "photoUrl": "https://lh3.googleusercontent.com/a-/AAuE7mC5vqtmalMngqfosazzXx4AVJwwWiYCV2nTgLIqgQ=s64",
      "userId": "10914323651690992949"
     },
     "user_tz": 240
    },
    "id": "ktC5r8R4mUGS",
    "outputId": "3847aad0-d7b1-4750-8881-517270d4df23"
   },
   "outputs": [
    {
     "data": {
      "text/html": [
       "<div>\n",
       "<style scoped>\n",
       "    .dataframe tbody tr th:only-of-type {\n",
       "        vertical-align: middle;\n",
       "    }\n",
       "\n",
       "    .dataframe tbody tr th {\n",
       "        vertical-align: top;\n",
       "    }\n",
       "\n",
       "    .dataframe thead th {\n",
       "        text-align: right;\n",
       "    }\n",
       "</style>\n",
       "<table border=\"1\" class=\"dataframe\">\n",
       "  <thead>\n",
       "    <tr style=\"text-align: right;\">\n",
       "      <th></th>\n",
       "      <th>one</th>\n",
       "      <th>two</th>\n",
       "      <th>three</th>\n",
       "      <th>four</th>\n",
       "    </tr>\n",
       "  </thead>\n",
       "  <tbody>\n",
       "    <tr>\n",
       "      <th>Ohio</th>\n",
       "      <td>0</td>\n",
       "      <td>1</td>\n",
       "      <td>2</td>\n",
       "      <td>3</td>\n",
       "    </tr>\n",
       "    <tr>\n",
       "      <th>Colorado</th>\n",
       "      <td>4</td>\n",
       "      <td>5</td>\n",
       "      <td>6</td>\n",
       "      <td>7</td>\n",
       "    </tr>\n",
       "    <tr>\n",
       "      <th>Utah</th>\n",
       "      <td>8</td>\n",
       "      <td>9</td>\n",
       "      <td>10</td>\n",
       "      <td>11</td>\n",
       "    </tr>\n",
       "    <tr>\n",
       "      <th>New York</th>\n",
       "      <td>12</td>\n",
       "      <td>13</td>\n",
       "      <td>14</td>\n",
       "      <td>15</td>\n",
       "    </tr>\n",
       "  </tbody>\n",
       "</table>\n",
       "</div>"
      ],
      "text/plain": [
       "          one  two  three  four\n",
       "Ohio        0    1      2     3\n",
       "Colorado    4    5      6     7\n",
       "Utah        8    9     10    11\n",
       "New York   12   13     14    15"
      ]
     },
     "execution_count": 106,
     "metadata": {},
     "output_type": "execute_result"
    }
   ],
   "source": [
    "data"
   ]
  },
  {
   "cell_type": "code",
   "execution_count": 111,
   "metadata": {
    "colab": {
     "base_uri": "https://localhost:8080/",
     "height": 276
    },
    "colab_type": "code",
    "executionInfo": {
     "elapsed": 271,
     "status": "ok",
     "timestamp": 1567987349915,
     "user": {
      "displayName": "Ruikang Wang",
      "photoUrl": "https://lh3.googleusercontent.com/a-/AAuE7mC5vqtmalMngqfosazzXx4AVJwwWiYCV2nTgLIqgQ=s64",
      "userId": "10914323651690992949"
     },
     "user_tz": 240
    },
    "id": "yM__EM5lGhwv",
    "outputId": "46eba6bf-95c6-4f8f-c191-bed84a5029b7"
   },
   "outputs": [
    {
     "name": "stderr",
     "output_type": "stream",
     "text": [
      "C:\\ProgramData\\Anaconda3\\envs\\DataAnalysis-ML\\lib\\site-packages\\ipykernel_launcher.py:1: DeprecationWarning: \n",
      ".ix is deprecated. Please use\n",
      ".loc for label based indexing or\n",
      ".iloc for positional indexing\n",
      "\n",
      "See the documentation here:\n",
      "http://pandas.pydata.org/pandas-docs/stable/indexing.html#ix-indexer-is-deprecated\n",
      "  \"\"\"Entry point for launching an IPython kernel.\n"
     ]
    },
    {
     "data": {
      "text/html": [
       "<div>\n",
       "<style scoped>\n",
       "    .dataframe tbody tr th:only-of-type {\n",
       "        vertical-align: middle;\n",
       "    }\n",
       "\n",
       "    .dataframe tbody tr th {\n",
       "        vertical-align: top;\n",
       "    }\n",
       "\n",
       "    .dataframe thead th {\n",
       "        text-align: right;\n",
       "    }\n",
       "</style>\n",
       "<table border=\"1\" class=\"dataframe\">\n",
       "  <thead>\n",
       "    <tr style=\"text-align: right;\">\n",
       "      <th></th>\n",
       "      <th>one</th>\n",
       "      <th>two</th>\n",
       "    </tr>\n",
       "  </thead>\n",
       "  <tbody>\n",
       "    <tr>\n",
       "      <th>Colorado</th>\n",
       "      <td>4</td>\n",
       "      <td>5</td>\n",
       "    </tr>\n",
       "    <tr>\n",
       "      <th>Utah</th>\n",
       "      <td>8</td>\n",
       "      <td>9</td>\n",
       "    </tr>\n",
       "    <tr>\n",
       "      <th>New York</th>\n",
       "      <td>12</td>\n",
       "      <td>13</td>\n",
       "    </tr>\n",
       "  </tbody>\n",
       "</table>\n",
       "</div>"
      ],
      "text/plain": [
       "          one  two\n",
       "Colorado    4    5\n",
       "Utah        8    9\n",
       "New York   12   13"
      ]
     },
     "execution_count": 111,
     "metadata": {},
     "output_type": "execute_result"
    }
   ],
   "source": [
    "data.ix[data.three > 5, :2] "
   ]
  },
  {
   "cell_type": "code",
   "execution_count": 113,
   "metadata": {
    "colab": {
     "base_uri": "https://localhost:8080/",
     "height": 138
    },
    "colab_type": "code",
    "executionInfo": {
     "elapsed": 422,
     "status": "ok",
     "timestamp": 1567987350992,
     "user": {
      "displayName": "Ruikang Wang",
      "photoUrl": "https://lh3.googleusercontent.com/a-/AAuE7mC5vqtmalMngqfosazzXx4AVJwwWiYCV2nTgLIqgQ=s64",
      "userId": "10914323651690992949"
     },
     "user_tz": 240
    },
    "id": "7txGmzXDmhGq",
    "outputId": "00ae32e1-b180-4aa4-d70e-bdcf9b6f0416"
   },
   "outputs": [
    {
     "data": {
      "text/html": [
       "<div>\n",
       "<style scoped>\n",
       "    .dataframe tbody tr th:only-of-type {\n",
       "        vertical-align: middle;\n",
       "    }\n",
       "\n",
       "    .dataframe tbody tr th {\n",
       "        vertical-align: top;\n",
       "    }\n",
       "\n",
       "    .dataframe thead th {\n",
       "        text-align: right;\n",
       "    }\n",
       "</style>\n",
       "<table border=\"1\" class=\"dataframe\">\n",
       "  <thead>\n",
       "    <tr style=\"text-align: right;\">\n",
       "      <th></th>\n",
       "      <th>one</th>\n",
       "      <th>two</th>\n",
       "    </tr>\n",
       "  </thead>\n",
       "  <tbody>\n",
       "    <tr>\n",
       "      <th>Colorado</th>\n",
       "      <td>4</td>\n",
       "      <td>5</td>\n",
       "    </tr>\n",
       "    <tr>\n",
       "      <th>Utah</th>\n",
       "      <td>8</td>\n",
       "      <td>9</td>\n",
       "    </tr>\n",
       "    <tr>\n",
       "      <th>New York</th>\n",
       "      <td>12</td>\n",
       "      <td>13</td>\n",
       "    </tr>\n",
       "  </tbody>\n",
       "</table>\n",
       "</div>"
      ],
      "text/plain": [
       "          one  two\n",
       "Colorado    4    5\n",
       "Utah        8    9\n",
       "New York   12   13"
      ]
     },
     "execution_count": 113,
     "metadata": {},
     "output_type": "execute_result"
    }
   ],
   "source": [
    "data[data.three > 5].T.iloc[:2].T"
   ]
  },
  {
   "cell_type": "code",
   "execution_count": 115,
   "metadata": {
    "colab": {
     "base_uri": "https://localhost:8080/",
     "height": 501
    },
    "colab_type": "code",
    "executionInfo": {
     "elapsed": 404,
     "status": "ok",
     "timestamp": 1567987351962,
     "user": {
      "displayName": "Ruikang Wang",
      "photoUrl": "https://lh3.googleusercontent.com/a-/AAuE7mC5vqtmalMngqfosazzXx4AVJwwWiYCV2nTgLIqgQ=s64",
      "userId": "10914323651690992949"
     },
     "user_tz": 240
    },
    "id": "bVxsbVnENEZR",
    "outputId": "aefc43df-5e69-440b-b786-7e63c73302b5"
   },
   "outputs": [
    {
     "name": "stdout",
     "output_type": "stream",
     "text": [
      "          one  two  three  four\n",
      "Ohio        0    1      2     3\n",
      "Colorado    4    5      6     7\n",
      "Utah        8    9     10    11\n",
      "New York   12   13     14    15\n",
      "          four  one  two\n",
      "Colorado     7    4    5\n",
      "Utah        11    8    9\n",
      "          one  two\n",
      "Colorado    4    5\n",
      "Utah        8    9\n",
      "New York   12   13\n"
     ]
    },
    {
     "name": "stderr",
     "output_type": "stream",
     "text": [
      "C:\\ProgramData\\Anaconda3\\envs\\DataAnalysis-ML\\lib\\site-packages\\ipykernel_launcher.py:1: DeprecationWarning: \n",
      ".ix is deprecated. Please use\n",
      ".loc for label based indexing or\n",
      ".iloc for positional indexing\n",
      "\n",
      "See the documentation here:\n",
      "http://pandas.pydata.org/pandas-docs/stable/indexing.html#ix-indexer-is-deprecated\n",
      "  \"\"\"Entry point for launching an IPython kernel.\n",
      "C:\\ProgramData\\Anaconda3\\envs\\DataAnalysis-ML\\lib\\site-packages\\ipykernel_launcher.py:3: DeprecationWarning: \n",
      ".ix is deprecated. Please use\n",
      ".loc for label based indexing or\n",
      ".iloc for positional indexing\n",
      "\n",
      "See the documentation here:\n",
      "http://pandas.pydata.org/pandas-docs/stable/indexing.html#ix-indexer-is-deprecated\n",
      "  This is separate from the ipykernel package so we can avoid doing imports until\n"
     ]
    }
   ],
   "source": [
    "data2=data.ix[['Colorado', 'Utah'], [3, 0, 1]]\n",
    " \n",
    "data3=data.ix[data.three > 5, :2] \n",
    "\n",
    "print(data)\n",
    "print(data2)\n",
    "print(data3)\n"
   ]
  },
  {
   "cell_type": "markdown",
   "metadata": {
    "colab_type": "text",
    "id": "837QxaguadMn"
   },
   "source": [
    "Calculation:\n",
    "The basic idea is to calculate based on index."
   ]
  },
  {
   "cell_type": "code",
   "execution_count": 116,
   "metadata": {
    "colab": {
     "base_uri": "https://localhost:8080/",
     "height": 138
    },
    "colab_type": "code",
    "executionInfo": {
     "elapsed": 769,
     "status": "ok",
     "timestamp": 1567987354715,
     "user": {
      "displayName": "Ruikang Wang",
      "photoUrl": "https://lh3.googleusercontent.com/a-/AAuE7mC5vqtmalMngqfosazzXx4AVJwwWiYCV2nTgLIqgQ=s64",
      "userId": "10914323651690992949"
     },
     "user_tz": 240
    },
    "id": "gbrcg_6BNTlK",
    "outputId": "8ad3e8a6-35e9-4e29-f5a7-ed19c10dc5d7"
   },
   "outputs": [
    {
     "data": {
      "text/plain": [
       "a   -15.33\n",
       "c    -9.00\n",
       "d      NaN\n",
       "e    -2.25\n",
       "f      NaN\n",
       "g      NaN\n",
       "dtype: float64"
      ]
     },
     "execution_count": 116,
     "metadata": {},
     "output_type": "execute_result"
    }
   ],
   "source": [
    "s1 = Series([7.3, -2.5, 3.4, 1.5], index=['a', 'c', 'd', 'e'])\n",
    "s2 = Series([-2.1, 3.6, -1.5, 4, 3.1], index=['a', 'c', 'e', 'f', 'g'])\n",
    "s1 * s2"
   ]
  },
  {
   "cell_type": "code",
   "execution_count": 117,
   "metadata": {
    "colab": {
     "base_uri": "https://localhost:8080/",
     "height": 276
    },
    "colab_type": "code",
    "executionInfo": {
     "elapsed": 518,
     "status": "ok",
     "timestamp": 1567987354868,
     "user": {
      "displayName": "Ruikang Wang",
      "photoUrl": "https://lh3.googleusercontent.com/a-/AAuE7mC5vqtmalMngqfosazzXx4AVJwwWiYCV2nTgLIqgQ=s64",
      "userId": "10914323651690992949"
     },
     "user_tz": 240
    },
    "id": "i6xRAf1San7O",
    "outputId": "f807512a-af2a-48bf-d009-6b5a66bcea70"
   },
   "outputs": [
    {
     "name": "stdout",
     "output_type": "stream",
     "text": [
      "           as   xi   ba\n",
      "Ohio      0.0  1.0  2.0\n",
      "Texas     3.0  4.0  5.0\n",
      "Colorado  6.0  7.0  8.0\n",
      "         as     b     e\n",
      "Utah    0.0   1.0   2.0\n",
      "Ohio    3.0   4.0   5.0\n",
      "Texas   6.0   7.0   8.0\n",
      "Oregon  9.0  10.0  11.0\n",
      "           as   b  ba   e  xi\n",
      "Colorado  NaN NaN NaN NaN NaN\n",
      "Ohio      3.0 NaN NaN NaN NaN\n",
      "Oregon    NaN NaN NaN NaN NaN\n",
      "Texas     9.0 NaN NaN NaN NaN\n",
      "Utah      NaN NaN NaN NaN NaN\n"
     ]
    }
   ],
   "source": [
    "df1 = DataFrame(np.arange(9.).reshape((3, 3)), columns=['as','xi','ba'],\n",
    "                index=['Ohio', 'Texas', 'Colorado'])\n",
    "\n",
    "print(df1)\n",
    "df2 = DataFrame(np.arange(12.).reshape((4, 3)), columns=['as','b','e'],\n",
    "                index=['Utah', 'Ohio', 'Texas', 'Oregon'])\n",
    "print(df2)\n",
    "print(df1 + df2)"
   ]
  },
  {
   "cell_type": "markdown",
   "metadata": {
    "colab_type": "text",
    "id": "YUxnOVvqayVn"
   },
   "source": [
    "Fill NA:"
   ]
  },
  {
   "cell_type": "code",
   "execution_count": 121,
   "metadata": {
    "colab": {
     "base_uri": "https://localhost:8080/",
     "height": 259
    },
    "colab_type": "code",
    "executionInfo": {
     "elapsed": 428,
     "status": "ok",
     "timestamp": 1567987400423,
     "user": {
      "displayName": "Ruikang Wang",
      "photoUrl": "https://lh3.googleusercontent.com/a-/AAuE7mC5vqtmalMngqfosazzXx4AVJwwWiYCV2nTgLIqgQ=s64",
      "userId": "10914323651690992949"
     },
     "user_tz": 240
    },
    "id": "CT2pmksPawjs",
    "outputId": "b7e80432-7f44-4e5b-c4a8-5ed25dbaf43e"
   },
   "outputs": [
    {
     "name": "stdout",
     "output_type": "stream",
     "text": [
      "     a    b     c     d\n",
      "0  0.0  1.0   2.0   3.0\n",
      "1  4.0  5.0   6.0   7.0\n",
      "2  8.0  9.0  10.0  11.0\n",
      "      a     b     c     d     e\n",
      "0   0.0   1.0   2.0   3.0   4.0\n",
      "1   5.0   6.0   7.0   8.0   9.0\n",
      "2  10.0  11.0  12.0  13.0  14.0\n",
      "3  15.0  16.0  17.0  18.0  19.0\n"
     ]
    },
    {
     "data": {
      "text/html": [
       "<div>\n",
       "<style scoped>\n",
       "    .dataframe tbody tr th:only-of-type {\n",
       "        vertical-align: middle;\n",
       "    }\n",
       "\n",
       "    .dataframe tbody tr th {\n",
       "        vertical-align: top;\n",
       "    }\n",
       "\n",
       "    .dataframe thead th {\n",
       "        text-align: right;\n",
       "    }\n",
       "</style>\n",
       "<table border=\"1\" class=\"dataframe\">\n",
       "  <thead>\n",
       "    <tr style=\"text-align: right;\">\n",
       "      <th></th>\n",
       "      <th>a</th>\n",
       "      <th>b</th>\n",
       "      <th>c</th>\n",
       "      <th>d</th>\n",
       "      <th>e</th>\n",
       "    </tr>\n",
       "  </thead>\n",
       "  <tbody>\n",
       "    <tr>\n",
       "      <th>0</th>\n",
       "      <td>0.0</td>\n",
       "      <td>2.0</td>\n",
       "      <td>4.0</td>\n",
       "      <td>6.0</td>\n",
       "      <td>4.0</td>\n",
       "    </tr>\n",
       "    <tr>\n",
       "      <th>1</th>\n",
       "      <td>9.0</td>\n",
       "      <td>11.0</td>\n",
       "      <td>13.0</td>\n",
       "      <td>15.0</td>\n",
       "      <td>9.0</td>\n",
       "    </tr>\n",
       "    <tr>\n",
       "      <th>2</th>\n",
       "      <td>18.0</td>\n",
       "      <td>20.0</td>\n",
       "      <td>22.0</td>\n",
       "      <td>24.0</td>\n",
       "      <td>14.0</td>\n",
       "    </tr>\n",
       "    <tr>\n",
       "      <th>3</th>\n",
       "      <td>15.0</td>\n",
       "      <td>16.0</td>\n",
       "      <td>17.0</td>\n",
       "      <td>18.0</td>\n",
       "      <td>19.0</td>\n",
       "    </tr>\n",
       "  </tbody>\n",
       "</table>\n",
       "</div>"
      ],
      "text/plain": [
       "      a     b     c     d     e\n",
       "0   0.0   2.0   4.0   6.0   4.0\n",
       "1   9.0  11.0  13.0  15.0   9.0\n",
       "2  18.0  20.0  22.0  24.0  14.0\n",
       "3  15.0  16.0  17.0  18.0  19.0"
      ]
     },
     "execution_count": 121,
     "metadata": {},
     "output_type": "execute_result"
    }
   ],
   "source": [
    "df1 = DataFrame(np.arange(12.).reshape((3, 4)), columns=list('abcd'))\n",
    "df2 = DataFrame(np.arange(20.).reshape((4, 5)), columns=list('abcde'))\n",
    "#dfadd=df1+df2\n",
    "dfaddfill0=df1.add(df2, fill_value=0)\n",
    "print(df1)\n",
    "print(df2)\n",
    "dfaddfill0"
   ]
  },
  {
   "cell_type": "code",
   "execution_count": 120,
   "metadata": {
    "colab": {
     "base_uri": "https://localhost:8080/",
     "height": 168
    },
    "colab_type": "code",
    "executionInfo": {
     "elapsed": 380,
     "status": "ok",
     "timestamp": 1567987402373,
     "user": {
      "displayName": "Ruikang Wang",
      "photoUrl": "https://lh3.googleusercontent.com/a-/AAuE7mC5vqtmalMngqfosazzXx4AVJwwWiYCV2nTgLIqgQ=s64",
      "userId": "10914323651690992949"
     },
     "user_tz": 240
    },
    "id": "HfWr61PwnpeG",
    "outputId": "915ac052-4b50-46eb-e4ae-785e777774ab"
   },
   "outputs": [
    {
     "data": {
      "text/html": [
       "<div>\n",
       "<style scoped>\n",
       "    .dataframe tbody tr th:only-of-type {\n",
       "        vertical-align: middle;\n",
       "    }\n",
       "\n",
       "    .dataframe tbody tr th {\n",
       "        vertical-align: top;\n",
       "    }\n",
       "\n",
       "    .dataframe thead th {\n",
       "        text-align: right;\n",
       "    }\n",
       "</style>\n",
       "<table border=\"1\" class=\"dataframe\">\n",
       "  <thead>\n",
       "    <tr style=\"text-align: right;\">\n",
       "      <th></th>\n",
       "      <th>a</th>\n",
       "      <th>b</th>\n",
       "      <th>c</th>\n",
       "      <th>d</th>\n",
       "      <th>e</th>\n",
       "    </tr>\n",
       "  </thead>\n",
       "  <tbody>\n",
       "    <tr>\n",
       "      <th>0</th>\n",
       "      <td>0.0</td>\n",
       "      <td>2.0</td>\n",
       "      <td>4.0</td>\n",
       "      <td>6.0</td>\n",
       "      <td>NaN</td>\n",
       "    </tr>\n",
       "    <tr>\n",
       "      <th>1</th>\n",
       "      <td>9.0</td>\n",
       "      <td>11.0</td>\n",
       "      <td>13.0</td>\n",
       "      <td>15.0</td>\n",
       "      <td>NaN</td>\n",
       "    </tr>\n",
       "    <tr>\n",
       "      <th>2</th>\n",
       "      <td>18.0</td>\n",
       "      <td>20.0</td>\n",
       "      <td>22.0</td>\n",
       "      <td>24.0</td>\n",
       "      <td>NaN</td>\n",
       "    </tr>\n",
       "    <tr>\n",
       "      <th>3</th>\n",
       "      <td>NaN</td>\n",
       "      <td>NaN</td>\n",
       "      <td>NaN</td>\n",
       "      <td>NaN</td>\n",
       "      <td>NaN</td>\n",
       "    </tr>\n",
       "  </tbody>\n",
       "</table>\n",
       "</div>"
      ],
      "text/plain": [
       "      a     b     c     d   e\n",
       "0   0.0   2.0   4.0   6.0 NaN\n",
       "1   9.0  11.0  13.0  15.0 NaN\n",
       "2  18.0  20.0  22.0  24.0 NaN\n",
       "3   NaN   NaN   NaN   NaN NaN"
      ]
     },
     "execution_count": 120,
     "metadata": {},
     "output_type": "execute_result"
    }
   ],
   "source": [
    "df1 + df2"
   ]
  },
  {
   "cell_type": "markdown",
   "metadata": {
    "colab_type": "text",
    "id": "k2sOFJLha7rQ"
   },
   "source": [
    "DataFrame vs Series:"
   ]
  },
  {
   "cell_type": "code",
   "execution_count": 122,
   "metadata": {
    "colab": {
     "base_uri": "https://localhost:8080/",
     "height": 69
    },
    "colab_type": "code",
    "executionInfo": {
     "elapsed": 373,
     "status": "ok",
     "timestamp": 1567987435845,
     "user": {
      "displayName": "Ruikang Wang",
      "photoUrl": "https://lh3.googleusercontent.com/a-/AAuE7mC5vqtmalMngqfosazzXx4AVJwwWiYCV2nTgLIqgQ=s64",
      "userId": "10914323651690992949"
     },
     "user_tz": 240
    },
    "id": "VsQrsc8Za2X8",
    "outputId": "34d72d71-4e22-4d69-c211-92a4be303604"
   },
   "outputs": [
    {
     "data": {
      "text/plain": [
       "array([[0., 0., 0., 0.],\n",
       "       [4., 4., 4., 4.],\n",
       "       [8., 8., 8., 8.]])"
      ]
     },
     "execution_count": 122,
     "metadata": {},
     "output_type": "execute_result"
    }
   ],
   "source": [
    "arr = np.arange(12.).reshape((3, 4))\n",
    "arr - arr[0]"
   ]
  },
  {
   "cell_type": "code",
   "execution_count": 123,
   "metadata": {
    "colab": {
     "base_uri": "https://localhost:8080/",
     "height": 69
    },
    "colab_type": "code",
    "executionInfo": {
     "elapsed": 314,
     "status": "ok",
     "timestamp": 1567987436814,
     "user": {
      "displayName": "Ruikang Wang",
      "photoUrl": "https://lh3.googleusercontent.com/a-/AAuE7mC5vqtmalMngqfosazzXx4AVJwwWiYCV2nTgLIqgQ=s64",
      "userId": "10914323651690992949"
     },
     "user_tz": 240
    },
    "id": "yrf5Gka6a_Qb",
    "outputId": "21bc3ab0-265a-4132-ab8e-318846bf1cfe"
   },
   "outputs": [
    {
     "data": {
      "text/plain": [
       "array([[-4., -4., -4., -4.],\n",
       "       [ 0.,  0.,  0.,  0.],\n",
       "       [ 4.,  4.,  4.,  4.]])"
      ]
     },
     "execution_count": 123,
     "metadata": {},
     "output_type": "execute_result"
    }
   ],
   "source": [
    "arr - arr[1]"
   ]
  },
  {
   "cell_type": "code",
   "execution_count": 125,
   "metadata": {
    "colab": {
     "base_uri": "https://localhost:8080/",
     "height": 363
    },
    "colab_type": "code",
    "executionInfo": {
     "elapsed": 326,
     "status": "ok",
     "timestamp": 1567987437850,
     "user": {
      "displayName": "Ruikang Wang",
      "photoUrl": "https://lh3.googleusercontent.com/a-/AAuE7mC5vqtmalMngqfosazzXx4AVJwwWiYCV2nTgLIqgQ=s64",
      "userId": "10914323651690992949"
     },
     "user_tz": 240
    },
    "id": "WH9i31E9bAtW",
    "outputId": "6e918d6d-a96a-4182-e3b5-ff1b84617e61"
   },
   "outputs": [
    {
     "name": "stdout",
     "output_type": "stream",
     "text": [
      "frame \n",
      "           b     d     e\n",
      "Utah    0.0   1.0   2.0\n",
      "Ohio    3.0   4.0   5.0\n",
      "Texas   6.0   7.0   8.0\n",
      "Oregon  9.0  10.0  11.0\n",
      "fsubr \n",
      "           b    d    e\n",
      "Utah    0.0  0.0  0.0\n",
      "Ohio    3.0  3.0  3.0\n",
      "Texas   6.0  6.0  6.0\n",
      "Oregon  9.0  9.0  9.0\n"
     ]
    },
    {
     "name": "stderr",
     "output_type": "stream",
     "text": [
      "C:\\ProgramData\\Anaconda3\\envs\\DataAnalysis-ML\\lib\\site-packages\\ipykernel_launcher.py:3: DeprecationWarning: \n",
      ".ix is deprecated. Please use\n",
      ".loc for label based indexing or\n",
      ".iloc for positional indexing\n",
      "\n",
      "See the documentation here:\n",
      "http://pandas.pydata.org/pandas-docs/stable/indexing.html#ix-indexer-is-deprecated\n",
      "  This is separate from the ipykernel package so we can avoid doing imports until\n"
     ]
    }
   ],
   "source": [
    "frame = DataFrame(np.arange(12.).reshape((4, 3)), columns=list('bde'),\n",
    "                  index=['Utah', 'Ohio', 'Texas', 'Oregon'])\n",
    "series = frame.ix[0]\n",
    "fsubr=frame - series\n",
    "print('frame \\n',frame)\n",
    "print('fsubr \\n', fsubr)"
   ]
  },
  {
   "cell_type": "code",
   "execution_count": 126,
   "metadata": {},
   "outputs": [
    {
     "data": {
      "text/plain": [
       "b    0.0\n",
       "d    1.0\n",
       "e    2.0\n",
       "Name: Utah, dtype: float64"
      ]
     },
     "execution_count": 126,
     "metadata": {},
     "output_type": "execute_result"
    }
   ],
   "source": [
    "series"
   ]
  },
  {
   "cell_type": "code",
   "execution_count": 127,
   "metadata": {
    "colab": {
     "base_uri": "https://localhost:8080/",
     "height": 168
    },
    "colab_type": "code",
    "executionInfo": {
     "elapsed": 511,
     "status": "ok",
     "timestamp": 1567987441881,
     "user": {
      "displayName": "Ruikang Wang",
      "photoUrl": "https://lh3.googleusercontent.com/a-/AAuE7mC5vqtmalMngqfosazzXx4AVJwwWiYCV2nTgLIqgQ=s64",
      "userId": "10914323651690992949"
     },
     "user_tz": 240
    },
    "id": "lHNzZfJgc-DJ",
    "outputId": "a45e4b09-122f-458b-ce46-121dbc8c22f3"
   },
   "outputs": [
    {
     "data": {
      "text/html": [
       "<div>\n",
       "<style scoped>\n",
       "    .dataframe tbody tr th:only-of-type {\n",
       "        vertical-align: middle;\n",
       "    }\n",
       "\n",
       "    .dataframe tbody tr th {\n",
       "        vertical-align: top;\n",
       "    }\n",
       "\n",
       "    .dataframe thead th {\n",
       "        text-align: right;\n",
       "    }\n",
       "</style>\n",
       "<table border=\"1\" class=\"dataframe\">\n",
       "  <thead>\n",
       "    <tr style=\"text-align: right;\">\n",
       "      <th></th>\n",
       "      <th>b</th>\n",
       "      <th>d</th>\n",
       "      <th>e</th>\n",
       "      <th>f</th>\n",
       "    </tr>\n",
       "  </thead>\n",
       "  <tbody>\n",
       "    <tr>\n",
       "      <th>Utah</th>\n",
       "      <td>0.0</td>\n",
       "      <td>NaN</td>\n",
       "      <td>3.0</td>\n",
       "      <td>NaN</td>\n",
       "    </tr>\n",
       "    <tr>\n",
       "      <th>Ohio</th>\n",
       "      <td>3.0</td>\n",
       "      <td>NaN</td>\n",
       "      <td>6.0</td>\n",
       "      <td>NaN</td>\n",
       "    </tr>\n",
       "    <tr>\n",
       "      <th>Texas</th>\n",
       "      <td>6.0</td>\n",
       "      <td>NaN</td>\n",
       "      <td>9.0</td>\n",
       "      <td>NaN</td>\n",
       "    </tr>\n",
       "    <tr>\n",
       "      <th>Oregon</th>\n",
       "      <td>9.0</td>\n",
       "      <td>NaN</td>\n",
       "      <td>12.0</td>\n",
       "      <td>NaN</td>\n",
       "    </tr>\n",
       "  </tbody>\n",
       "</table>\n",
       "</div>"
      ],
      "text/plain": [
       "          b   d     e   f\n",
       "Utah    0.0 NaN   3.0 NaN\n",
       "Ohio    3.0 NaN   6.0 NaN\n",
       "Texas   6.0 NaN   9.0 NaN\n",
       "Oregon  9.0 NaN  12.0 NaN"
      ]
     },
     "execution_count": 127,
     "metadata": {},
     "output_type": "execute_result"
    }
   ],
   "source": [
    "series2 = Series(range(3), index=['b', 'e', 'f'])\n",
    "frame + series2"
   ]
  },
  {
   "cell_type": "markdown",
   "metadata": {
    "colab_type": "text",
    "id": "npBwO4UhdC0l"
   },
   "source": [
    "Broadcast: by default is by row, if you want to broadcast by columns, you need to claim that axis=0"
   ]
  },
  {
   "cell_type": "code",
   "execution_count": 128,
   "metadata": {
    "colab": {
     "base_uri": "https://localhost:8080/",
     "height": 104
    },
    "colab_type": "code",
    "executionInfo": {
     "elapsed": 381,
     "status": "ok",
     "timestamp": 1567987482671,
     "user": {
      "displayName": "Ruikang Wang",
      "photoUrl": "https://lh3.googleusercontent.com/a-/AAuE7mC5vqtmalMngqfosazzXx4AVJwwWiYCV2nTgLIqgQ=s64",
      "userId": "10914323651690992949"
     },
     "user_tz": 240
    },
    "id": "_C3BI9AeVhUG",
    "outputId": "2aebbe98-6245-4fea-e410-897843ab8e15"
   },
   "outputs": [
    {
     "data": {
      "text/plain": [
       "Utah       1.0\n",
       "Ohio       4.0\n",
       "Texas      7.0\n",
       "Oregon    10.0\n",
       "Name: d, dtype: float64"
      ]
     },
     "execution_count": 128,
     "metadata": {},
     "output_type": "execute_result"
    }
   ],
   "source": [
    "frame['d']"
   ]
  },
  {
   "cell_type": "code",
   "execution_count": 129,
   "metadata": {
    "colab": {
     "base_uri": "https://localhost:8080/",
     "height": 190
    },
    "colab_type": "code",
    "executionInfo": {
     "elapsed": 457,
     "status": "ok",
     "timestamp": 1567987529229,
     "user": {
      "displayName": "Ruikang Wang",
      "photoUrl": "https://lh3.googleusercontent.com/a-/AAuE7mC5vqtmalMngqfosazzXx4AVJwwWiYCV2nTgLIqgQ=s64",
      "userId": "10914323651690992949"
     },
     "user_tz": 240
    },
    "id": "gxbS1XXydBPd",
    "outputId": "472069fa-e51a-4fff-8220-903bbb791b4f"
   },
   "outputs": [
    {
     "name": "stdout",
     "output_type": "stream",
     "text": [
      "          b     d     e\n",
      "Utah    0.0   1.0   2.0\n",
      "Ohio    3.0   4.0   5.0\n",
      "Texas   6.0   7.0   8.0\n",
      "Oregon  9.0  10.0  11.0\n",
      "          b    d    e\n",
      "Utah   -1.0  0.0  1.0\n",
      "Ohio   -1.0  0.0  1.0\n",
      "Texas  -1.0  0.0  1.0\n",
      "Oregon -1.0  0.0  1.0\n"
     ]
    }
   ],
   "source": [
    "series3 = frame['d']\n",
    "fsubc=frame.sub(series3, axis=0)\n",
    "print(frame)\n",
    "print(fsubc)\n"
   ]
  },
  {
   "cell_type": "markdown",
   "metadata": {
    "colab_type": "text",
    "id": "RP_9xEAfeEHI"
   },
   "source": [
    "numpy functions can also be applied to dataframe:"
   ]
  },
  {
   "cell_type": "code",
   "execution_count": 130,
   "metadata": {
    "colab": {},
    "colab_type": "code",
    "id": "6mGDeiNZeIMI"
   },
   "outputs": [],
   "source": [
    "frame = DataFrame(np.random.randn(4, 3), columns=list('bde'),\n",
    "                  index=['Utah', 'Ohio', 'Texas', 'Oregon'])\n",
    "fabs=np.abs(frame)"
   ]
  },
  {
   "cell_type": "code",
   "execution_count": 131,
   "metadata": {
    "colab": {
     "base_uri": "https://localhost:8080/",
     "height": 168
    },
    "colab_type": "code",
    "executionInfo": {
     "elapsed": 418,
     "status": "ok",
     "timestamp": 1567987565321,
     "user": {
      "displayName": "Ruikang Wang",
      "photoUrl": "https://lh3.googleusercontent.com/a-/AAuE7mC5vqtmalMngqfosazzXx4AVJwwWiYCV2nTgLIqgQ=s64",
      "userId": "10914323651690992949"
     },
     "user_tz": 240
    },
    "id": "EdN2YWUhdOX9",
    "outputId": "09f3eaa2-8270-46d8-929d-732e038d1540"
   },
   "outputs": [
    {
     "data": {
      "text/html": [
       "<div>\n",
       "<style scoped>\n",
       "    .dataframe tbody tr th:only-of-type {\n",
       "        vertical-align: middle;\n",
       "    }\n",
       "\n",
       "    .dataframe tbody tr th {\n",
       "        vertical-align: top;\n",
       "    }\n",
       "\n",
       "    .dataframe thead th {\n",
       "        text-align: right;\n",
       "    }\n",
       "</style>\n",
       "<table border=\"1\" class=\"dataframe\">\n",
       "  <thead>\n",
       "    <tr style=\"text-align: right;\">\n",
       "      <th></th>\n",
       "      <th>b</th>\n",
       "      <th>d</th>\n",
       "      <th>e</th>\n",
       "    </tr>\n",
       "  </thead>\n",
       "  <tbody>\n",
       "    <tr>\n",
       "      <th>Utah</th>\n",
       "      <td>0.496714</td>\n",
       "      <td>-0.138264</td>\n",
       "      <td>0.647689</td>\n",
       "    </tr>\n",
       "    <tr>\n",
       "      <th>Ohio</th>\n",
       "      <td>1.523030</td>\n",
       "      <td>-0.234153</td>\n",
       "      <td>-0.234137</td>\n",
       "    </tr>\n",
       "    <tr>\n",
       "      <th>Texas</th>\n",
       "      <td>1.579213</td>\n",
       "      <td>0.767435</td>\n",
       "      <td>-0.469474</td>\n",
       "    </tr>\n",
       "    <tr>\n",
       "      <th>Oregon</th>\n",
       "      <td>0.542560</td>\n",
       "      <td>-0.463418</td>\n",
       "      <td>-0.465730</td>\n",
       "    </tr>\n",
       "  </tbody>\n",
       "</table>\n",
       "</div>"
      ],
      "text/plain": [
       "               b         d         e\n",
       "Utah    0.496714 -0.138264  0.647689\n",
       "Ohio    1.523030 -0.234153 -0.234137\n",
       "Texas   1.579213  0.767435 -0.469474\n",
       "Oregon  0.542560 -0.463418 -0.465730"
      ]
     },
     "execution_count": 131,
     "metadata": {},
     "output_type": "execute_result"
    }
   ],
   "source": [
    "frame"
   ]
  },
  {
   "cell_type": "code",
   "execution_count": 132,
   "metadata": {
    "colab": {
     "base_uri": "https://localhost:8080/",
     "height": 168
    },
    "colab_type": "code",
    "executionInfo": {
     "elapsed": 577,
     "status": "ok",
     "timestamp": 1567987571629,
     "user": {
      "displayName": "Ruikang Wang",
      "photoUrl": "https://lh3.googleusercontent.com/a-/AAuE7mC5vqtmalMngqfosazzXx4AVJwwWiYCV2nTgLIqgQ=s64",
      "userId": "10914323651690992949"
     },
     "user_tz": 240
    },
    "id": "PPb3N6Eco7N9",
    "outputId": "f8fc128f-c07f-4651-ad29-14208296f3ae"
   },
   "outputs": [
    {
     "data": {
      "text/html": [
       "<div>\n",
       "<style scoped>\n",
       "    .dataframe tbody tr th:only-of-type {\n",
       "        vertical-align: middle;\n",
       "    }\n",
       "\n",
       "    .dataframe tbody tr th {\n",
       "        vertical-align: top;\n",
       "    }\n",
       "\n",
       "    .dataframe thead th {\n",
       "        text-align: right;\n",
       "    }\n",
       "</style>\n",
       "<table border=\"1\" class=\"dataframe\">\n",
       "  <thead>\n",
       "    <tr style=\"text-align: right;\">\n",
       "      <th></th>\n",
       "      <th>b</th>\n",
       "      <th>d</th>\n",
       "      <th>e</th>\n",
       "    </tr>\n",
       "  </thead>\n",
       "  <tbody>\n",
       "    <tr>\n",
       "      <th>Utah</th>\n",
       "      <td>0.496714</td>\n",
       "      <td>0.138264</td>\n",
       "      <td>0.647689</td>\n",
       "    </tr>\n",
       "    <tr>\n",
       "      <th>Ohio</th>\n",
       "      <td>1.523030</td>\n",
       "      <td>0.234153</td>\n",
       "      <td>0.234137</td>\n",
       "    </tr>\n",
       "    <tr>\n",
       "      <th>Texas</th>\n",
       "      <td>1.579213</td>\n",
       "      <td>0.767435</td>\n",
       "      <td>0.469474</td>\n",
       "    </tr>\n",
       "    <tr>\n",
       "      <th>Oregon</th>\n",
       "      <td>0.542560</td>\n",
       "      <td>0.463418</td>\n",
       "      <td>0.465730</td>\n",
       "    </tr>\n",
       "  </tbody>\n",
       "</table>\n",
       "</div>"
      ],
      "text/plain": [
       "               b         d         e\n",
       "Utah    0.496714  0.138264  0.647689\n",
       "Ohio    1.523030  0.234153  0.234137\n",
       "Texas   1.579213  0.767435  0.469474\n",
       "Oregon  0.542560  0.463418  0.465730"
      ]
     },
     "execution_count": 132,
     "metadata": {},
     "output_type": "execute_result"
    }
   ],
   "source": [
    "fabs"
   ]
  },
  {
   "cell_type": "code",
   "execution_count": 133,
   "metadata": {
    "colab": {
     "base_uri": "https://localhost:8080/",
     "height": 86
    },
    "colab_type": "code",
    "executionInfo": {
     "elapsed": 682,
     "status": "ok",
     "timestamp": 1567987704527,
     "user": {
      "displayName": "Ruikang Wang",
      "photoUrl": "https://lh3.googleusercontent.com/a-/AAuE7mC5vqtmalMngqfosazzXx4AVJwwWiYCV2nTgLIqgQ=s64",
      "userId": "10914323651690992949"
     },
     "user_tz": 240
    },
    "id": "nz4ukOAWeC2E",
    "outputId": "e9181de6-3f74-4002-9c0e-3d21b233ee2e"
   },
   "outputs": [
    {
     "data": {
      "text/plain": [
       "b    1.082499\n",
       "d    1.230852\n",
       "e    1.117163\n",
       "dtype: float64"
      ]
     },
     "execution_count": 133,
     "metadata": {},
     "output_type": "execute_result"
    }
   ],
   "source": [
    "f = lambda x: x.max() - x.min()\n",
    "frame.apply(f)"
   ]
  },
  {
   "cell_type": "code",
   "execution_count": 134,
   "metadata": {
    "colab": {
     "base_uri": "https://localhost:8080/",
     "height": 86
    },
    "colab_type": "code",
    "executionInfo": {
     "elapsed": 389,
     "status": "ok",
     "timestamp": 1567987707371,
     "user": {
      "displayName": "Ruikang Wang",
      "photoUrl": "https://lh3.googleusercontent.com/a-/AAuE7mC5vqtmalMngqfosazzXx4AVJwwWiYCV2nTgLIqgQ=s64",
      "userId": "10914323651690992949"
     },
     "user_tz": 240
    },
    "id": "fMXMV2lIWZ7E",
    "outputId": "4792c605-7202-465a-a4ed-3d83a54d29d0"
   },
   "outputs": [
    {
     "data": {
      "text/plain": [
       "b    1.082499\n",
       "d    1.230852\n",
       "e    1.117163\n",
       "dtype: float64"
      ]
     },
     "execution_count": 134,
     "metadata": {},
     "output_type": "execute_result"
    }
   ],
   "source": [
    "f(frame)"
   ]
  },
  {
   "cell_type": "code",
   "execution_count": 135,
   "metadata": {
    "colab": {
     "base_uri": "https://localhost:8080/",
     "height": 168
    },
    "colab_type": "code",
    "executionInfo": {
     "elapsed": 404,
     "status": "ok",
     "timestamp": 1567987688565,
     "user": {
      "displayName": "Ruikang Wang",
      "photoUrl": "https://lh3.googleusercontent.com/a-/AAuE7mC5vqtmalMngqfosazzXx4AVJwwWiYCV2nTgLIqgQ=s64",
      "userId": "10914323651690992949"
     },
     "user_tz": 240
    },
    "id": "7MvNHc8SgPWz",
    "outputId": "cf48f700-bcca-4a09-b9c8-aa338f7485b2"
   },
   "outputs": [
    {
     "data": {
      "text/html": [
       "<div>\n",
       "<style scoped>\n",
       "    .dataframe tbody tr th:only-of-type {\n",
       "        vertical-align: middle;\n",
       "    }\n",
       "\n",
       "    .dataframe tbody tr th {\n",
       "        vertical-align: top;\n",
       "    }\n",
       "\n",
       "    .dataframe thead th {\n",
       "        text-align: right;\n",
       "    }\n",
       "</style>\n",
       "<table border=\"1\" class=\"dataframe\">\n",
       "  <thead>\n",
       "    <tr style=\"text-align: right;\">\n",
       "      <th></th>\n",
       "      <th>b</th>\n",
       "      <th>d</th>\n",
       "      <th>e</th>\n",
       "    </tr>\n",
       "  </thead>\n",
       "  <tbody>\n",
       "    <tr>\n",
       "      <th>Utah</th>\n",
       "      <td>0.496714</td>\n",
       "      <td>-0.138264</td>\n",
       "      <td>0.647689</td>\n",
       "    </tr>\n",
       "    <tr>\n",
       "      <th>Ohio</th>\n",
       "      <td>1.523030</td>\n",
       "      <td>-0.234153</td>\n",
       "      <td>-0.234137</td>\n",
       "    </tr>\n",
       "    <tr>\n",
       "      <th>Texas</th>\n",
       "      <td>1.579213</td>\n",
       "      <td>0.767435</td>\n",
       "      <td>-0.469474</td>\n",
       "    </tr>\n",
       "    <tr>\n",
       "      <th>Oregon</th>\n",
       "      <td>0.542560</td>\n",
       "      <td>-0.463418</td>\n",
       "      <td>-0.465730</td>\n",
       "    </tr>\n",
       "  </tbody>\n",
       "</table>\n",
       "</div>"
      ],
      "text/plain": [
       "               b         d         e\n",
       "Utah    0.496714 -0.138264  0.647689\n",
       "Ohio    1.523030 -0.234153 -0.234137\n",
       "Texas   1.579213  0.767435 -0.469474\n",
       "Oregon  0.542560 -0.463418 -0.465730"
      ]
     },
     "execution_count": 135,
     "metadata": {},
     "output_type": "execute_result"
    }
   ],
   "source": [
    "frame"
   ]
  },
  {
   "cell_type": "code",
   "execution_count": 136,
   "metadata": {
    "colab": {
     "base_uri": "https://localhost:8080/",
     "height": 104
    },
    "colab_type": "code",
    "executionInfo": {
     "elapsed": 468,
     "status": "ok",
     "timestamp": 1567987727031,
     "user": {
      "displayName": "Ruikang Wang",
      "photoUrl": "https://lh3.googleusercontent.com/a-/AAuE7mC5vqtmalMngqfosazzXx4AVJwwWiYCV2nTgLIqgQ=s64",
      "userId": "10914323651690992949"
     },
     "user_tz": 240
    },
    "id": "9m6lqpfpgQQa",
    "outputId": "1928c620-0832-4ff7-d2fd-d8b77e46995d"
   },
   "outputs": [
    {
     "data": {
      "text/plain": [
       "Utah      0.785953\n",
       "Ohio      1.757183\n",
       "Texas     2.048687\n",
       "Oregon    1.008290\n",
       "dtype: float64"
      ]
     },
     "execution_count": 136,
     "metadata": {},
     "output_type": "execute_result"
    }
   ],
   "source": [
    "frame.apply(f,axis=1)"
   ]
  },
  {
   "cell_type": "code",
   "execution_count": 137,
   "metadata": {
    "colab": {
     "base_uri": "https://localhost:8080/",
     "height": 108
    },
    "colab_type": "code",
    "executionInfo": {
     "elapsed": 454,
     "status": "ok",
     "timestamp": 1567987768690,
     "user": {
      "displayName": "Ruikang Wang",
      "photoUrl": "https://lh3.googleusercontent.com/a-/AAuE7mC5vqtmalMngqfosazzXx4AVJwwWiYCV2nTgLIqgQ=s64",
      "userId": "10914323651690992949"
     },
     "user_tz": 240
    },
    "id": "hkI0bTjIgS9E",
    "outputId": "7189a62e-6f3a-45a4-f146-58275e58fb6e"
   },
   "outputs": [
    {
     "data": {
      "text/html": [
       "<div>\n",
       "<style scoped>\n",
       "    .dataframe tbody tr th:only-of-type {\n",
       "        vertical-align: middle;\n",
       "    }\n",
       "\n",
       "    .dataframe tbody tr th {\n",
       "        vertical-align: top;\n",
       "    }\n",
       "\n",
       "    .dataframe thead th {\n",
       "        text-align: right;\n",
       "    }\n",
       "</style>\n",
       "<table border=\"1\" class=\"dataframe\">\n",
       "  <thead>\n",
       "    <tr style=\"text-align: right;\">\n",
       "      <th></th>\n",
       "      <th>b</th>\n",
       "      <th>d</th>\n",
       "      <th>e</th>\n",
       "    </tr>\n",
       "  </thead>\n",
       "  <tbody>\n",
       "    <tr>\n",
       "      <th>min</th>\n",
       "      <td>0.496714</td>\n",
       "      <td>-0.463418</td>\n",
       "      <td>-0.469474</td>\n",
       "    </tr>\n",
       "    <tr>\n",
       "      <th>max</th>\n",
       "      <td>1.579213</td>\n",
       "      <td>0.767435</td>\n",
       "      <td>0.647689</td>\n",
       "    </tr>\n",
       "  </tbody>\n",
       "</table>\n",
       "</div>"
      ],
      "text/plain": [
       "            b         d         e\n",
       "min  0.496714 -0.463418 -0.469474\n",
       "max  1.579213  0.767435  0.647689"
      ]
     },
     "execution_count": 137,
     "metadata": {},
     "output_type": "execute_result"
    }
   ],
   "source": [
    "## When return value has multiple dims\n",
    "def nf(x):\n",
    "    return Series([x.min(), x.max()], index=['min','max'])\n",
    "frame.apply(nf,axis = 0)"
   ]
  },
  {
   "cell_type": "code",
   "execution_count": 138,
   "metadata": {
    "colab": {
     "base_uri": "https://localhost:8080/",
     "height": 168
    },
    "colab_type": "code",
    "executionInfo": {
     "elapsed": 586,
     "status": "ok",
     "timestamp": 1567987775217,
     "user": {
      "displayName": "Ruikang Wang",
      "photoUrl": "https://lh3.googleusercontent.com/a-/AAuE7mC5vqtmalMngqfosazzXx4AVJwwWiYCV2nTgLIqgQ=s64",
      "userId": "10914323651690992949"
     },
     "user_tz": 240
    },
    "id": "srGX3RgGgjDe",
    "outputId": "7ef8fb04-8807-48c2-cc5e-0f4ca7b796a7"
   },
   "outputs": [
    {
     "data": {
      "text/html": [
       "<div>\n",
       "<style scoped>\n",
       "    .dataframe tbody tr th:only-of-type {\n",
       "        vertical-align: middle;\n",
       "    }\n",
       "\n",
       "    .dataframe tbody tr th {\n",
       "        vertical-align: top;\n",
       "    }\n",
       "\n",
       "    .dataframe thead th {\n",
       "        text-align: right;\n",
       "    }\n",
       "</style>\n",
       "<table border=\"1\" class=\"dataframe\">\n",
       "  <thead>\n",
       "    <tr style=\"text-align: right;\">\n",
       "      <th></th>\n",
       "      <th>b</th>\n",
       "      <th>d</th>\n",
       "      <th>e</th>\n",
       "    </tr>\n",
       "  </thead>\n",
       "  <tbody>\n",
       "    <tr>\n",
       "      <th>Utah</th>\n",
       "      <td>1.643313</td>\n",
       "      <td>0.870868</td>\n",
       "      <td>1.911118</td>\n",
       "    </tr>\n",
       "    <tr>\n",
       "      <th>Ohio</th>\n",
       "      <td>4.586099</td>\n",
       "      <td>0.791240</td>\n",
       "      <td>0.791253</td>\n",
       "    </tr>\n",
       "    <tr>\n",
       "      <th>Texas</th>\n",
       "      <td>4.851136</td>\n",
       "      <td>2.154233</td>\n",
       "      <td>0.625331</td>\n",
       "    </tr>\n",
       "    <tr>\n",
       "      <th>Oregon</th>\n",
       "      <td>1.720406</td>\n",
       "      <td>0.629130</td>\n",
       "      <td>0.627677</td>\n",
       "    </tr>\n",
       "  </tbody>\n",
       "</table>\n",
       "</div>"
      ],
      "text/plain": [
       "               b         d         e\n",
       "Utah    1.643313  0.870868  1.911118\n",
       "Ohio    4.586099  0.791240  0.791253\n",
       "Texas   4.851136  2.154233  0.625331\n",
       "Oregon  1.720406  0.629130  0.627677"
      ]
     },
     "execution_count": 138,
     "metadata": {},
     "output_type": "execute_result"
    }
   ],
   "source": [
    "## elementwise function\n",
    "frame.apply(np.exp)"
   ]
  },
  {
   "cell_type": "code",
   "execution_count": 139,
   "metadata": {
    "colab": {
     "base_uri": "https://localhost:8080/",
     "height": 168
    },
    "colab_type": "code",
    "executionInfo": {
     "elapsed": 404,
     "status": "ok",
     "timestamp": 1567987783258,
     "user": {
      "displayName": "Ruikang Wang",
      "photoUrl": "https://lh3.googleusercontent.com/a-/AAuE7mC5vqtmalMngqfosazzXx4AVJwwWiYCV2nTgLIqgQ=s64",
      "userId": "10914323651690992949"
     },
     "user_tz": 240
    },
    "id": "luAcers5WrMg",
    "outputId": "36026bcb-021b-424a-c35e-efde015571d5"
   },
   "outputs": [
    {
     "data": {
      "text/html": [
       "<div>\n",
       "<style scoped>\n",
       "    .dataframe tbody tr th:only-of-type {\n",
       "        vertical-align: middle;\n",
       "    }\n",
       "\n",
       "    .dataframe tbody tr th {\n",
       "        vertical-align: top;\n",
       "    }\n",
       "\n",
       "    .dataframe thead th {\n",
       "        text-align: right;\n",
       "    }\n",
       "</style>\n",
       "<table border=\"1\" class=\"dataframe\">\n",
       "  <thead>\n",
       "    <tr style=\"text-align: right;\">\n",
       "      <th></th>\n",
       "      <th>b</th>\n",
       "      <th>d</th>\n",
       "      <th>e</th>\n",
       "    </tr>\n",
       "  </thead>\n",
       "  <tbody>\n",
       "    <tr>\n",
       "      <th>Utah</th>\n",
       "      <td>1.643313</td>\n",
       "      <td>0.870868</td>\n",
       "      <td>1.911118</td>\n",
       "    </tr>\n",
       "    <tr>\n",
       "      <th>Ohio</th>\n",
       "      <td>4.586099</td>\n",
       "      <td>0.791240</td>\n",
       "      <td>0.791253</td>\n",
       "    </tr>\n",
       "    <tr>\n",
       "      <th>Texas</th>\n",
       "      <td>4.851136</td>\n",
       "      <td>2.154233</td>\n",
       "      <td>0.625331</td>\n",
       "    </tr>\n",
       "    <tr>\n",
       "      <th>Oregon</th>\n",
       "      <td>1.720406</td>\n",
       "      <td>0.629130</td>\n",
       "      <td>0.627677</td>\n",
       "    </tr>\n",
       "  </tbody>\n",
       "</table>\n",
       "</div>"
      ],
      "text/plain": [
       "               b         d         e\n",
       "Utah    1.643313  0.870868  1.911118\n",
       "Ohio    4.586099  0.791240  0.791253\n",
       "Texas   4.851136  2.154233  0.625331\n",
       "Oregon  1.720406  0.629130  0.627677"
      ]
     },
     "execution_count": 139,
     "metadata": {},
     "output_type": "execute_result"
    }
   ],
   "source": [
    "np.exp(frame)"
   ]
  },
  {
   "cell_type": "code",
   "execution_count": 140,
   "metadata": {
    "colab": {
     "base_uri": "https://localhost:8080/",
     "height": 168
    },
    "colab_type": "code",
    "executionInfo": {
     "elapsed": 347,
     "status": "ok",
     "timestamp": 1567987789682,
     "user": {
      "displayName": "Ruikang Wang",
      "photoUrl": "https://lh3.googleusercontent.com/a-/AAuE7mC5vqtmalMngqfosazzXx4AVJwwWiYCV2nTgLIqgQ=s64",
      "userId": "10914323651690992949"
     },
     "user_tz": 240
    },
    "id": "1hpwFhz-pgJM",
    "outputId": "816290f7-13c5-4759-9b78-2702888afdd7"
   },
   "outputs": [
    {
     "data": {
      "text/html": [
       "<div>\n",
       "<style scoped>\n",
       "    .dataframe tbody tr th:only-of-type {\n",
       "        vertical-align: middle;\n",
       "    }\n",
       "\n",
       "    .dataframe tbody tr th {\n",
       "        vertical-align: top;\n",
       "    }\n",
       "\n",
       "    .dataframe thead th {\n",
       "        text-align: right;\n",
       "    }\n",
       "</style>\n",
       "<table border=\"1\" class=\"dataframe\">\n",
       "  <thead>\n",
       "    <tr style=\"text-align: right;\">\n",
       "      <th></th>\n",
       "      <th>b</th>\n",
       "      <th>d</th>\n",
       "      <th>e</th>\n",
       "    </tr>\n",
       "  </thead>\n",
       "  <tbody>\n",
       "    <tr>\n",
       "      <th>Utah</th>\n",
       "      <td>1.643313</td>\n",
       "      <td>0.870868</td>\n",
       "      <td>1.911118</td>\n",
       "    </tr>\n",
       "    <tr>\n",
       "      <th>Ohio</th>\n",
       "      <td>4.586099</td>\n",
       "      <td>0.791240</td>\n",
       "      <td>0.791253</td>\n",
       "    </tr>\n",
       "    <tr>\n",
       "      <th>Texas</th>\n",
       "      <td>4.851136</td>\n",
       "      <td>2.154233</td>\n",
       "      <td>0.625331</td>\n",
       "    </tr>\n",
       "    <tr>\n",
       "      <th>Oregon</th>\n",
       "      <td>1.720406</td>\n",
       "      <td>0.629130</td>\n",
       "      <td>0.627677</td>\n",
       "    </tr>\n",
       "  </tbody>\n",
       "</table>\n",
       "</div>"
      ],
      "text/plain": [
       "               b         d         e\n",
       "Utah    1.643313  0.870868  1.911118\n",
       "Ohio    4.586099  0.791240  0.791253\n",
       "Texas   4.851136  2.154233  0.625331\n",
       "Oregon  1.720406  0.629130  0.627677"
      ]
     },
     "execution_count": 140,
     "metadata": {},
     "output_type": "execute_result"
    }
   ],
   "source": [
    "np.exp(frame)"
   ]
  },
  {
   "cell_type": "markdown",
   "metadata": {
    "colab_type": "text",
    "id": "21Lo97T-hFDW"
   },
   "source": [
    "Order:\n",
    "\n",
    "\n",
    "1.   Ordering based on keyword, using sort_index\n",
    "2.   When soring the dataframe, by default we will sort wrt rows, if want to operate on columns, need to claim that axis = 1\n",
    "3.   accending = True or False to control the order\n",
    "4.    If want to sort based on values of Series, need to use sort_values. Missing data will be appended to the end\n",
    "5.    To sort the DataFrame's value, need to pass value by the column name\n",
    "\n"
   ]
  },
  {
   "cell_type": "code",
   "execution_count": 141,
   "metadata": {
    "colab": {
     "base_uri": "https://localhost:8080/",
     "height": 190
    },
    "colab_type": "code",
    "executionInfo": {
     "elapsed": 471,
     "status": "ok",
     "timestamp": 1567987822403,
     "user": {
      "displayName": "Ruikang Wang",
      "photoUrl": "https://lh3.googleusercontent.com/a-/AAuE7mC5vqtmalMngqfosazzXx4AVJwwWiYCV2nTgLIqgQ=s64",
      "userId": "10914323651690992949"
     },
     "user_tz": 240
    },
    "id": "gc706k62g8aS",
    "outputId": "a8ce8b78-1c7b-4f40-88c3-87b9c040d72c"
   },
   "outputs": [
    {
     "name": "stdout",
     "output_type": "stream",
     "text": [
      "a    0\n",
      "c    1\n",
      "d    2\n",
      "b    3\n",
      "dtype: int32\n"
     ]
    },
    {
     "data": {
      "text/plain": [
       "a    0\n",
       "b    3\n",
       "c    1\n",
       "d    2\n",
       "dtype: int32"
      ]
     },
     "execution_count": 141,
     "metadata": {},
     "output_type": "execute_result"
    }
   ],
   "source": [
    "obj = Series(np.arange(4), index = ['a','c','d','b'])\n",
    "print(obj)\n",
    "obj.sort_index()"
   ]
  },
  {
   "cell_type": "code",
   "execution_count": 142,
   "metadata": {
    "colab": {
     "base_uri": "https://localhost:8080/",
     "height": 104
    },
    "colab_type": "code",
    "executionInfo": {
     "elapsed": 466,
     "status": "ok",
     "timestamp": 1567987840870,
     "user": {
      "displayName": "Ruikang Wang",
      "photoUrl": "https://lh3.googleusercontent.com/a-/AAuE7mC5vqtmalMngqfosazzXx4AVJwwWiYCV2nTgLIqgQ=s64",
      "userId": "10914323651690992949"
     },
     "user_tz": 240
    },
    "id": "9JQK1jEkiyVk",
    "outputId": "91e4497f-6ded-49f6-e417-0950e32236a7"
   },
   "outputs": [
    {
     "data": {
      "text/plain": [
       "a    0\n",
       "c    1\n",
       "d    2\n",
       "b    3\n",
       "dtype: int32"
      ]
     },
     "execution_count": 142,
     "metadata": {},
     "output_type": "execute_result"
    }
   ],
   "source": [
    "obj.sort_values()"
   ]
  },
  {
   "cell_type": "code",
   "execution_count": 143,
   "metadata": {
    "colab": {
     "base_uri": "https://localhost:8080/",
     "height": 160
    },
    "colab_type": "code",
    "executionInfo": {
     "elapsed": 391,
     "status": "ok",
     "timestamp": 1567987929481,
     "user": {
      "displayName": "Ruikang Wang",
      "photoUrl": "https://lh3.googleusercontent.com/a-/AAuE7mC5vqtmalMngqfosazzXx4AVJwwWiYCV2nTgLIqgQ=s64",
      "userId": "10914323651690992949"
     },
     "user_tz": 240
    },
    "id": "3nDI_h4qizym",
    "outputId": "fa51eb8d-078f-4c9e-ccc0-6917276bc0d2"
   },
   "outputs": [
    {
     "name": "stdout",
     "output_type": "stream",
     "text": [
      "       d  a  b  c\n",
      "three  0  1  2  3\n",
      "one    4  5  6  7\n"
     ]
    },
    {
     "data": {
      "text/html": [
       "<div>\n",
       "<style scoped>\n",
       "    .dataframe tbody tr th:only-of-type {\n",
       "        vertical-align: middle;\n",
       "    }\n",
       "\n",
       "    .dataframe tbody tr th {\n",
       "        vertical-align: top;\n",
       "    }\n",
       "\n",
       "    .dataframe thead th {\n",
       "        text-align: right;\n",
       "    }\n",
       "</style>\n",
       "<table border=\"1\" class=\"dataframe\">\n",
       "  <thead>\n",
       "    <tr style=\"text-align: right;\">\n",
       "      <th></th>\n",
       "      <th>d</th>\n",
       "      <th>a</th>\n",
       "      <th>b</th>\n",
       "      <th>c</th>\n",
       "    </tr>\n",
       "  </thead>\n",
       "  <tbody>\n",
       "    <tr>\n",
       "      <th>one</th>\n",
       "      <td>4</td>\n",
       "      <td>5</td>\n",
       "      <td>6</td>\n",
       "      <td>7</td>\n",
       "    </tr>\n",
       "    <tr>\n",
       "      <th>three</th>\n",
       "      <td>0</td>\n",
       "      <td>1</td>\n",
       "      <td>2</td>\n",
       "      <td>3</td>\n",
       "    </tr>\n",
       "  </tbody>\n",
       "</table>\n",
       "</div>"
      ],
      "text/plain": [
       "       d  a  b  c\n",
       "one    4  5  6  7\n",
       "three  0  1  2  3"
      ]
     },
     "execution_count": 143,
     "metadata": {},
     "output_type": "execute_result"
    }
   ],
   "source": [
    "frame = DataFrame(np.arange(8).reshape((2, 4)), index=['three', 'one'],\n",
    "                  columns=['d', 'a', 'b', 'c'])\n",
    "print(frame)\n",
    "frame.sort_index()\n"
   ]
  },
  {
   "cell_type": "code",
   "execution_count": 144,
   "metadata": {
    "colab": {
     "base_uri": "https://localhost:8080/",
     "height": 108
    },
    "colab_type": "code",
    "executionInfo": {
     "elapsed": 313,
     "status": "ok",
     "timestamp": 1567987955624,
     "user": {
      "displayName": "Ruikang Wang",
      "photoUrl": "https://lh3.googleusercontent.com/a-/AAuE7mC5vqtmalMngqfosazzXx4AVJwwWiYCV2nTgLIqgQ=s64",
      "userId": "10914323651690992949"
     },
     "user_tz": 240
    },
    "id": "vakVuvMji5ge",
    "outputId": "f2ab48fa-4ca0-4a3a-e49d-c993305e01e5"
   },
   "outputs": [
    {
     "data": {
      "text/html": [
       "<div>\n",
       "<style scoped>\n",
       "    .dataframe tbody tr th:only-of-type {\n",
       "        vertical-align: middle;\n",
       "    }\n",
       "\n",
       "    .dataframe tbody tr th {\n",
       "        vertical-align: top;\n",
       "    }\n",
       "\n",
       "    .dataframe thead th {\n",
       "        text-align: right;\n",
       "    }\n",
       "</style>\n",
       "<table border=\"1\" class=\"dataframe\">\n",
       "  <thead>\n",
       "    <tr style=\"text-align: right;\">\n",
       "      <th></th>\n",
       "      <th>d</th>\n",
       "      <th>a</th>\n",
       "      <th>b</th>\n",
       "      <th>c</th>\n",
       "    </tr>\n",
       "  </thead>\n",
       "  <tbody>\n",
       "    <tr>\n",
       "      <th>three</th>\n",
       "      <td>0</td>\n",
       "      <td>1</td>\n",
       "      <td>2</td>\n",
       "      <td>3</td>\n",
       "    </tr>\n",
       "    <tr>\n",
       "      <th>one</th>\n",
       "      <td>4</td>\n",
       "      <td>5</td>\n",
       "      <td>6</td>\n",
       "      <td>7</td>\n",
       "    </tr>\n",
       "  </tbody>\n",
       "</table>\n",
       "</div>"
      ],
      "text/plain": [
       "       d  a  b  c\n",
       "three  0  1  2  3\n",
       "one    4  5  6  7"
      ]
     },
     "execution_count": 144,
     "metadata": {},
     "output_type": "execute_result"
    }
   ],
   "source": [
    "frame.sort_values(by='a')"
   ]
  },
  {
   "cell_type": "code",
   "execution_count": 145,
   "metadata": {
    "colab": {
     "base_uri": "https://localhost:8080/",
     "height": 108
    },
    "colab_type": "code",
    "executionInfo": {
     "elapsed": 671,
     "status": "ok",
     "timestamp": 1567987946815,
     "user": {
      "displayName": "Ruikang Wang",
      "photoUrl": "https://lh3.googleusercontent.com/a-/AAuE7mC5vqtmalMngqfosazzXx4AVJwwWiYCV2nTgLIqgQ=s64",
      "userId": "10914323651690992949"
     },
     "user_tz": 240
    },
    "id": "pUDdd7nhXNx8",
    "outputId": "fedc4266-9590-417c-cbfe-a2ad2d26e857"
   },
   "outputs": [
    {
     "data": {
      "text/html": [
       "<div>\n",
       "<style scoped>\n",
       "    .dataframe tbody tr th:only-of-type {\n",
       "        vertical-align: middle;\n",
       "    }\n",
       "\n",
       "    .dataframe tbody tr th {\n",
       "        vertical-align: top;\n",
       "    }\n",
       "\n",
       "    .dataframe thead th {\n",
       "        text-align: right;\n",
       "    }\n",
       "</style>\n",
       "<table border=\"1\" class=\"dataframe\">\n",
       "  <thead>\n",
       "    <tr style=\"text-align: right;\">\n",
       "      <th></th>\n",
       "      <th>d</th>\n",
       "      <th>a</th>\n",
       "      <th>b</th>\n",
       "      <th>c</th>\n",
       "    </tr>\n",
       "  </thead>\n",
       "  <tbody>\n",
       "    <tr>\n",
       "      <th>three</th>\n",
       "      <td>0</td>\n",
       "      <td>1</td>\n",
       "      <td>2</td>\n",
       "      <td>3</td>\n",
       "    </tr>\n",
       "    <tr>\n",
       "      <th>one</th>\n",
       "      <td>4</td>\n",
       "      <td>5</td>\n",
       "      <td>6</td>\n",
       "      <td>7</td>\n",
       "    </tr>\n",
       "  </tbody>\n",
       "</table>\n",
       "</div>"
      ],
      "text/plain": [
       "       d  a  b  c\n",
       "three  0  1  2  3\n",
       "one    4  5  6  7"
      ]
     },
     "execution_count": 145,
     "metadata": {},
     "output_type": "execute_result"
    }
   ],
   "source": [
    "frame"
   ]
  },
  {
   "cell_type": "code",
   "execution_count": 146,
   "metadata": {
    "colab": {
     "base_uri": "https://localhost:8080/",
     "height": 108
    },
    "colab_type": "code",
    "executionInfo": {
     "elapsed": 340,
     "status": "ok",
     "timestamp": 1567987995982,
     "user": {
      "displayName": "Ruikang Wang",
      "photoUrl": "https://lh3.googleusercontent.com/a-/AAuE7mC5vqtmalMngqfosazzXx4AVJwwWiYCV2nTgLIqgQ=s64",
      "userId": "10914323651690992949"
     },
     "user_tz": 240
    },
    "id": "m4rdGW4ai7CN",
    "outputId": "96bca196-411d-4587-8ad4-b787415d6bef"
   },
   "outputs": [
    {
     "data": {
      "text/html": [
       "<div>\n",
       "<style scoped>\n",
       "    .dataframe tbody tr th:only-of-type {\n",
       "        vertical-align: middle;\n",
       "    }\n",
       "\n",
       "    .dataframe tbody tr th {\n",
       "        vertical-align: top;\n",
       "    }\n",
       "\n",
       "    .dataframe thead th {\n",
       "        text-align: right;\n",
       "    }\n",
       "</style>\n",
       "<table border=\"1\" class=\"dataframe\">\n",
       "  <thead>\n",
       "    <tr style=\"text-align: right;\">\n",
       "      <th></th>\n",
       "      <th>d</th>\n",
       "      <th>a</th>\n",
       "      <th>b</th>\n",
       "      <th>c</th>\n",
       "    </tr>\n",
       "  </thead>\n",
       "  <tbody>\n",
       "    <tr>\n",
       "      <th>one</th>\n",
       "      <td>4</td>\n",
       "      <td>5</td>\n",
       "      <td>6</td>\n",
       "      <td>7</td>\n",
       "    </tr>\n",
       "    <tr>\n",
       "      <th>three</th>\n",
       "      <td>0</td>\n",
       "      <td>1</td>\n",
       "      <td>2</td>\n",
       "      <td>3</td>\n",
       "    </tr>\n",
       "  </tbody>\n",
       "</table>\n",
       "</div>"
      ],
      "text/plain": [
       "       d  a  b  c\n",
       "one    4  5  6  7\n",
       "three  0  1  2  3"
      ]
     },
     "execution_count": 146,
     "metadata": {},
     "output_type": "execute_result"
    }
   ],
   "source": [
    "frame.sort_values(by='a',ascending=False)"
   ]
  },
  {
   "cell_type": "code",
   "execution_count": 147,
   "metadata": {
    "colab": {
     "base_uri": "https://localhost:8080/",
     "height": 173
    },
    "colab_type": "code",
    "executionInfo": {
     "elapsed": 441,
     "status": "ok",
     "timestamp": 1567988013663,
     "user": {
      "displayName": "Ruikang Wang",
      "photoUrl": "https://lh3.googleusercontent.com/a-/AAuE7mC5vqtmalMngqfosazzXx4AVJwwWiYCV2nTgLIqgQ=s64",
      "userId": "10914323651690992949"
     },
     "user_tz": 240
    },
    "id": "idT59pnlj4NK",
    "outputId": "8e215619-aa00-4364-88a6-a2fec75592c5"
   },
   "outputs": [
    {
     "data": {
      "text/plain": [
       "1     1.0\n",
       "3     2.0\n",
       "0     5.0\n",
       "2     7.0\n",
       "5    23.0\n",
       "6    57.0\n",
       "4     NaN\n",
       "7     NaN\n",
       "dtype: float64"
      ]
     },
     "execution_count": 147,
     "metadata": {},
     "output_type": "execute_result"
    }
   ],
   "source": [
    "obj = Series([5,1,7,2,np.nan, 23,57,np.nan])\n",
    "obj.sort_values()"
   ]
  },
  {
   "cell_type": "code",
   "execution_count": 149,
   "metadata": {
    "colab": {
     "base_uri": "https://localhost:8080/",
     "height": 155
    },
    "colab_type": "code",
    "executionInfo": {
     "elapsed": 507,
     "status": "ok",
     "timestamp": 1567988220683,
     "user": {
      "displayName": "Ruikang Wang",
      "photoUrl": "https://lh3.googleusercontent.com/a-/AAuE7mC5vqtmalMngqfosazzXx4AVJwwWiYCV2nTgLIqgQ=s64",
      "userId": "10914323651690992949"
     },
     "user_tz": 240
    },
    "id": "BifEYLkMkCgK",
    "outputId": "a61b9dc9-657e-48e2-8233-5ea9c094f94b"
   },
   "outputs": [
    {
     "data": {
      "text/plain": [
       "0    6.0\n",
       "1    1.0\n",
       "2    6.0\n",
       "3    4.0\n",
       "4    3.0\n",
       "5    2.0\n",
       "6    4.0\n",
       "dtype: float64"
      ]
     },
     "execution_count": 149,
     "metadata": {},
     "output_type": "execute_result"
    }
   ],
   "source": [
    "obj = Series([7, -5,  7, 4, 2, 0, 4])\n",
    "obj.rank(method = 'min')"
   ]
  },
  {
   "cell_type": "code",
   "execution_count": 150,
   "metadata": {
    "colab": {
     "base_uri": "https://localhost:8080/",
     "height": 155
    },
    "colab_type": "code",
    "executionInfo": {
     "elapsed": 413,
     "status": "ok",
     "timestamp": 1567988226884,
     "user": {
      "displayName": "Ruikang Wang",
      "photoUrl": "https://lh3.googleusercontent.com/a-/AAuE7mC5vqtmalMngqfosazzXx4AVJwwWiYCV2nTgLIqgQ=s64",
      "userId": "10914323651690992949"
     },
     "user_tz": 240
    },
    "id": "L-9REpB0YX-3",
    "outputId": "f9163316-15a4-4bed-877a-7c5443397b17"
   },
   "outputs": [
    {
     "data": {
      "text/plain": [
       "0    6.5\n",
       "1    1.0\n",
       "2    6.5\n",
       "3    4.5\n",
       "4    3.0\n",
       "5    2.0\n",
       "6    4.5\n",
       "dtype: float64"
      ]
     },
     "execution_count": 150,
     "metadata": {},
     "output_type": "execute_result"
    }
   ],
   "source": [
    "obj = Series([7, -5,  7, 4, 2, 0, 4])\n",
    "obj.rank()"
   ]
  },
  {
   "cell_type": "code",
   "execution_count": 151,
   "metadata": {
    "colab": {
     "base_uri": "https://localhost:8080/",
     "height": 155
    },
    "colab_type": "code",
    "executionInfo": {
     "elapsed": 398,
     "status": "ok",
     "timestamp": 1567988281526,
     "user": {
      "displayName": "Ruikang Wang",
      "photoUrl": "https://lh3.googleusercontent.com/a-/AAuE7mC5vqtmalMngqfosazzXx4AVJwwWiYCV2nTgLIqgQ=s64",
      "userId": "10914323651690992949"
     },
     "user_tz": 240
    },
    "id": "nkwywGUjlXQQ",
    "outputId": "201f1ee4-860e-49ad-8972-c34941e8ff5b"
   },
   "outputs": [
    {
     "data": {
      "text/plain": [
       "0    2.0\n",
       "1    7.0\n",
       "2    2.0\n",
       "3    4.0\n",
       "4    5.0\n",
       "5    6.0\n",
       "6    4.0\n",
       "dtype: float64"
      ]
     },
     "execution_count": 151,
     "metadata": {},
     "output_type": "execute_result"
    }
   ],
   "source": [
    "obj.rank(ascending = False, method = 'max')"
   ]
  },
  {
   "cell_type": "code",
   "execution_count": 152,
   "metadata": {
    "colab": {
     "base_uri": "https://localhost:8080/",
     "height": 190
    },
    "colab_type": "code",
    "executionInfo": {
     "elapsed": 429,
     "status": "ok",
     "timestamp": 1567988295337,
     "user": {
      "displayName": "Ruikang Wang",
      "photoUrl": "https://lh3.googleusercontent.com/a-/AAuE7mC5vqtmalMngqfosazzXx4AVJwwWiYCV2nTgLIqgQ=s64",
      "userId": "10914323651690992949"
     },
     "user_tz": 240
    },
    "id": "tytnaqHjlfbh",
    "outputId": "31cd744d-caca-4dbc-8d72-abec942c7dd2"
   },
   "outputs": [
    {
     "name": "stdout",
     "output_type": "stream",
     "text": [
      "     b  a    c\n",
      "0  4.3  0 -2.0\n",
      "1  7.0  1  5.0\n",
      "2 -3.0  0  8.0\n",
      "3  2.0  1 -2.5\n",
      "     b    a    c\n",
      "0  3.0  1.5  2.0\n",
      "1  4.0  3.5  3.0\n",
      "2  1.0  1.5  4.0\n",
      "3  2.0  3.5  1.0\n"
     ]
    }
   ],
   "source": [
    "frame = DataFrame({'b': [4.3, 7, -3, 2], 'a': [0, 1, 0, 1],\n",
    "                   'c': [-2, 5, 8, -2.5]})\n",
    "print(frame)\n",
    "print(frame.rank())"
   ]
  },
  {
   "cell_type": "code",
   "execution_count": 121,
   "metadata": {
    "colab": {
     "base_uri": "https://localhost:8080/",
     "height": 168
    },
    "colab_type": "code",
    "executionInfo": {
     "elapsed": 445,
     "status": "ok",
     "timestamp": 1567988309874,
     "user": {
      "displayName": "Ruikang Wang",
      "photoUrl": "https://lh3.googleusercontent.com/a-/AAuE7mC5vqtmalMngqfosazzXx4AVJwwWiYCV2nTgLIqgQ=s64",
      "userId": "10914323651690992949"
     },
     "user_tz": 240
    },
    "id": "T2Br7JBclmZf",
    "outputId": "1d4d85b9-b9d4-46d2-fc44-30fcca830cd5"
   },
   "outputs": [
    {
     "data": {
      "text/html": [
       "<div>\n",
       "<style scoped>\n",
       "    .dataframe tbody tr th:only-of-type {\n",
       "        vertical-align: middle;\n",
       "    }\n",
       "\n",
       "    .dataframe tbody tr th {\n",
       "        vertical-align: top;\n",
       "    }\n",
       "\n",
       "    .dataframe thead th {\n",
       "        text-align: right;\n",
       "    }\n",
       "</style>\n",
       "<table border=\"1\" class=\"dataframe\">\n",
       "  <thead>\n",
       "    <tr style=\"text-align: right;\">\n",
       "      <th></th>\n",
       "      <th>b</th>\n",
       "      <th>a</th>\n",
       "      <th>c</th>\n",
       "    </tr>\n",
       "  </thead>\n",
       "  <tbody>\n",
       "    <tr>\n",
       "      <th>0</th>\n",
       "      <td>3.0</td>\n",
       "      <td>2.0</td>\n",
       "      <td>1.0</td>\n",
       "    </tr>\n",
       "    <tr>\n",
       "      <th>1</th>\n",
       "      <td>3.0</td>\n",
       "      <td>1.0</td>\n",
       "      <td>2.0</td>\n",
       "    </tr>\n",
       "    <tr>\n",
       "      <th>2</th>\n",
       "      <td>1.0</td>\n",
       "      <td>2.0</td>\n",
       "      <td>3.0</td>\n",
       "    </tr>\n",
       "    <tr>\n",
       "      <th>3</th>\n",
       "      <td>3.0</td>\n",
       "      <td>2.0</td>\n",
       "      <td>1.0</td>\n",
       "    </tr>\n",
       "  </tbody>\n",
       "</table>\n",
       "</div>"
      ],
      "text/plain": [
       "     b    a    c\n",
       "0  3.0  2.0  1.0\n",
       "1  3.0  1.0  2.0\n",
       "2  1.0  2.0  3.0\n",
       "3  3.0  2.0  1.0"
      ]
     },
     "execution_count": 121,
     "metadata": {},
     "output_type": "execute_result"
    }
   ],
   "source": [
    "frame.rank(axis = 1)"
   ]
  },
  {
   "cell_type": "markdown",
   "metadata": {
    "colab_type": "text",
    "id": "C777pzc5l_sJ"
   },
   "source": [
    "Duplicated indices:"
   ]
  },
  {
   "cell_type": "code",
   "execution_count": 153,
   "metadata": {
    "colab": {
     "base_uri": "https://localhost:8080/",
     "height": 121
    },
    "colab_type": "code",
    "executionInfo": {
     "elapsed": 373,
     "status": "ok",
     "timestamp": 1567988338325,
     "user": {
      "displayName": "Ruikang Wang",
      "photoUrl": "https://lh3.googleusercontent.com/a-/AAuE7mC5vqtmalMngqfosazzXx4AVJwwWiYCV2nTgLIqgQ=s64",
      "userId": "10914323651690992949"
     },
     "user_tz": 240
    },
    "id": "wATu_RxYluQ-",
    "outputId": "81208fac-4787-4389-95b6-7602b7a7cb69"
   },
   "outputs": [
    {
     "data": {
      "text/plain": [
       "a    0\n",
       "a    1\n",
       "b    2\n",
       "b    3\n",
       "c    4\n",
       "dtype: int64"
      ]
     },
     "execution_count": 153,
     "metadata": {},
     "output_type": "execute_result"
    }
   ],
   "source": [
    "obj = Series(range(5), index=['a', 'a', 'b', 'b', 'c'])\n",
    "obj"
   ]
  },
  {
   "cell_type": "code",
   "execution_count": 154,
   "metadata": {
    "colab": {
     "base_uri": "https://localhost:8080/",
     "height": 69
    },
    "colab_type": "code",
    "executionInfo": {
     "elapsed": 349,
     "status": "ok",
     "timestamp": 1567988340341,
     "user": {
      "displayName": "Ruikang Wang",
      "photoUrl": "https://lh3.googleusercontent.com/a-/AAuE7mC5vqtmalMngqfosazzXx4AVJwwWiYCV2nTgLIqgQ=s64",
      "userId": "10914323651690992949"
     },
     "user_tz": 240
    },
    "id": "G2zdwh_lm_nv",
    "outputId": "481d4434-b16b-4524-b164-d81c5d088373"
   },
   "outputs": [
    {
     "data": {
      "text/plain": [
       "a    0\n",
       "a    1\n",
       "dtype: int64"
      ]
     },
     "execution_count": 154,
     "metadata": {},
     "output_type": "execute_result"
    }
   ],
   "source": [
    "obj['a']"
   ]
  },
  {
   "cell_type": "code",
   "execution_count": 155,
   "metadata": {
    "colab": {
     "base_uri": "https://localhost:8080/",
     "height": 168
    },
    "colab_type": "code",
    "executionInfo": {
     "elapsed": 532,
     "status": "ok",
     "timestamp": 1567988450530,
     "user": {
      "displayName": "Ruikang Wang",
      "photoUrl": "https://lh3.googleusercontent.com/a-/AAuE7mC5vqtmalMngqfosazzXx4AVJwwWiYCV2nTgLIqgQ=s64",
      "userId": "10914323651690992949"
     },
     "user_tz": 240
    },
    "id": "akHTGOR_nBf5",
    "outputId": "059d9e02-3fba-4c38-f728-e9b4aed27822"
   },
   "outputs": [
    {
     "data": {
      "text/html": [
       "<div>\n",
       "<style scoped>\n",
       "    .dataframe tbody tr th:only-of-type {\n",
       "        vertical-align: middle;\n",
       "    }\n",
       "\n",
       "    .dataframe tbody tr th {\n",
       "        vertical-align: top;\n",
       "    }\n",
       "\n",
       "    .dataframe thead th {\n",
       "        text-align: right;\n",
       "    }\n",
       "</style>\n",
       "<table border=\"1\" class=\"dataframe\">\n",
       "  <thead>\n",
       "    <tr style=\"text-align: right;\">\n",
       "      <th></th>\n",
       "      <th>0</th>\n",
       "      <th>1</th>\n",
       "      <th>2</th>\n",
       "    </tr>\n",
       "  </thead>\n",
       "  <tbody>\n",
       "    <tr>\n",
       "      <th>a</th>\n",
       "      <td>0.241962</td>\n",
       "      <td>-1.913280</td>\n",
       "      <td>-1.724918</td>\n",
       "    </tr>\n",
       "    <tr>\n",
       "      <th>a</th>\n",
       "      <td>-0.562288</td>\n",
       "      <td>-1.012831</td>\n",
       "      <td>0.314247</td>\n",
       "    </tr>\n",
       "    <tr>\n",
       "      <th>b</th>\n",
       "      <td>-0.908024</td>\n",
       "      <td>-1.412304</td>\n",
       "      <td>1.465649</td>\n",
       "    </tr>\n",
       "    <tr>\n",
       "      <th>b</th>\n",
       "      <td>-0.225776</td>\n",
       "      <td>0.067528</td>\n",
       "      <td>-1.424748</td>\n",
       "    </tr>\n",
       "  </tbody>\n",
       "</table>\n",
       "</div>"
      ],
      "text/plain": [
       "          0         1         2\n",
       "a  0.241962 -1.913280 -1.724918\n",
       "a -0.562288 -1.012831  0.314247\n",
       "b -0.908024 -1.412304  1.465649\n",
       "b -0.225776  0.067528 -1.424748"
      ]
     },
     "execution_count": 155,
     "metadata": {},
     "output_type": "execute_result"
    }
   ],
   "source": [
    "df = DataFrame(np.random.randn(4, 3), index=['a', 'a', 'b', 'b'])\n",
    "df\n"
   ]
  },
  {
   "cell_type": "code",
   "execution_count": 156,
   "metadata": {
    "colab": {
     "base_uri": "https://localhost:8080/",
     "height": 108
    },
    "colab_type": "code",
    "executionInfo": {
     "elapsed": 411,
     "status": "ok",
     "timestamp": 1567988452185,
     "user": {
      "displayName": "Ruikang Wang",
      "photoUrl": "https://lh3.googleusercontent.com/a-/AAuE7mC5vqtmalMngqfosazzXx4AVJwwWiYCV2nTgLIqgQ=s64",
      "userId": "10914323651690992949"
     },
     "user_tz": 240
    },
    "id": "srygpYJanUsz",
    "outputId": "122326e7-1350-41c3-a2be-714929f9c867"
   },
   "outputs": [
    {
     "data": {
      "text/html": [
       "<div>\n",
       "<style scoped>\n",
       "    .dataframe tbody tr th:only-of-type {\n",
       "        vertical-align: middle;\n",
       "    }\n",
       "\n",
       "    .dataframe tbody tr th {\n",
       "        vertical-align: top;\n",
       "    }\n",
       "\n",
       "    .dataframe thead th {\n",
       "        text-align: right;\n",
       "    }\n",
       "</style>\n",
       "<table border=\"1\" class=\"dataframe\">\n",
       "  <thead>\n",
       "    <tr style=\"text-align: right;\">\n",
       "      <th></th>\n",
       "      <th>0</th>\n",
       "      <th>1</th>\n",
       "      <th>2</th>\n",
       "    </tr>\n",
       "  </thead>\n",
       "  <tbody>\n",
       "    <tr>\n",
       "      <th>a</th>\n",
       "      <td>0.241962</td>\n",
       "      <td>-1.913280</td>\n",
       "      <td>-1.724918</td>\n",
       "    </tr>\n",
       "    <tr>\n",
       "      <th>a</th>\n",
       "      <td>-0.562288</td>\n",
       "      <td>-1.012831</td>\n",
       "      <td>0.314247</td>\n",
       "    </tr>\n",
       "  </tbody>\n",
       "</table>\n",
       "</div>"
      ],
      "text/plain": [
       "          0         1         2\n",
       "a  0.241962 -1.913280 -1.724918\n",
       "a -0.562288 -1.012831  0.314247"
      ]
     },
     "execution_count": 156,
     "metadata": {},
     "output_type": "execute_result"
    }
   ],
   "source": [
    "df.loc['a']"
   ]
  },
  {
   "cell_type": "markdown",
   "metadata": {
    "colab_type": "text",
    "id": "LAhl6BjSnZMq"
   },
   "source": [
    "Some simple calculation:"
   ]
  },
  {
   "cell_type": "code",
   "execution_count": 157,
   "metadata": {
    "colab": {
     "base_uri": "https://localhost:8080/",
     "height": 168
    },
    "colab_type": "code",
    "executionInfo": {
     "elapsed": 511,
     "status": "ok",
     "timestamp": 1567988457618,
     "user": {
      "displayName": "Ruikang Wang",
      "photoUrl": "https://lh3.googleusercontent.com/a-/AAuE7mC5vqtmalMngqfosazzXx4AVJwwWiYCV2nTgLIqgQ=s64",
      "userId": "10914323651690992949"
     },
     "user_tz": 240
    },
    "id": "-pqjaoy5nW8h",
    "outputId": "104a6201-f09c-429b-870c-131a37bce514"
   },
   "outputs": [
    {
     "data": {
      "text/html": [
       "<div>\n",
       "<style scoped>\n",
       "    .dataframe tbody tr th:only-of-type {\n",
       "        vertical-align: middle;\n",
       "    }\n",
       "\n",
       "    .dataframe tbody tr th {\n",
       "        vertical-align: top;\n",
       "    }\n",
       "\n",
       "    .dataframe thead th {\n",
       "        text-align: right;\n",
       "    }\n",
       "</style>\n",
       "<table border=\"1\" class=\"dataframe\">\n",
       "  <thead>\n",
       "    <tr style=\"text-align: right;\">\n",
       "      <th></th>\n",
       "      <th>one</th>\n",
       "      <th>two</th>\n",
       "    </tr>\n",
       "  </thead>\n",
       "  <tbody>\n",
       "    <tr>\n",
       "      <th>a</th>\n",
       "      <td>1.40</td>\n",
       "      <td>NaN</td>\n",
       "    </tr>\n",
       "    <tr>\n",
       "      <th>b</th>\n",
       "      <td>7.10</td>\n",
       "      <td>-4.5</td>\n",
       "    </tr>\n",
       "    <tr>\n",
       "      <th>c</th>\n",
       "      <td>NaN</td>\n",
       "      <td>NaN</td>\n",
       "    </tr>\n",
       "    <tr>\n",
       "      <th>d</th>\n",
       "      <td>0.75</td>\n",
       "      <td>-1.3</td>\n",
       "    </tr>\n",
       "  </tbody>\n",
       "</table>\n",
       "</div>"
      ],
      "text/plain": [
       "    one  two\n",
       "a  1.40  NaN\n",
       "b  7.10 -4.5\n",
       "c   NaN  NaN\n",
       "d  0.75 -1.3"
      ]
     },
     "execution_count": 157,
     "metadata": {},
     "output_type": "execute_result"
    }
   ],
   "source": [
    "df = DataFrame([[1.4, np.nan], [7.1, -4.5],\n",
    "                [np.nan, np.nan], [0.75, -1.3]],\n",
    "               index=['a', 'b', 'c', 'd'],\n",
    "               columns=['one', 'two'])\n",
    "df"
   ]
  },
  {
   "cell_type": "code",
   "execution_count": 158,
   "metadata": {
    "colab": {
     "base_uri": "https://localhost:8080/",
     "height": 69
    },
    "colab_type": "code",
    "executionInfo": {
     "elapsed": 255,
     "status": "ok",
     "timestamp": 1567988474658,
     "user": {
      "displayName": "Ruikang Wang",
      "photoUrl": "https://lh3.googleusercontent.com/a-/AAuE7mC5vqtmalMngqfosazzXx4AVJwwWiYCV2nTgLIqgQ=s64",
      "userId": "10914323651690992949"
     },
     "user_tz": 240
    },
    "id": "3bX1C9WkndWO",
    "outputId": "89c0b403-812d-4f4b-cbf5-2477a6f986f6"
   },
   "outputs": [
    {
     "data": {
      "text/plain": [
       "one    9.25\n",
       "two   -5.80\n",
       "dtype: float64"
      ]
     },
     "execution_count": 158,
     "metadata": {},
     "output_type": "execute_result"
    }
   ],
   "source": [
    "df.sum()"
   ]
  },
  {
   "cell_type": "code",
   "execution_count": 159,
   "metadata": {
    "colab": {
     "base_uri": "https://localhost:8080/",
     "height": 104
    },
    "colab_type": "code",
    "executionInfo": {
     "elapsed": 391,
     "status": "ok",
     "timestamp": 1567988472769,
     "user": {
      "displayName": "Ruikang Wang",
      "photoUrl": "https://lh3.googleusercontent.com/a-/AAuE7mC5vqtmalMngqfosazzXx4AVJwwWiYCV2nTgLIqgQ=s64",
      "userId": "10914323651690992949"
     },
     "user_tz": 240
    },
    "id": "AwLKxXiIneRY",
    "outputId": "5de0d3af-28a0-4ccb-d324-29c77453c674"
   },
   "outputs": [
    {
     "data": {
      "text/plain": [
       "a    1.40\n",
       "b    2.60\n",
       "c    0.00\n",
       "d   -0.55\n",
       "dtype: float64"
      ]
     },
     "execution_count": 159,
     "metadata": {},
     "output_type": "execute_result"
    }
   ],
   "source": [
    "df.sum(axis = 1)"
   ]
  },
  {
   "cell_type": "code",
   "execution_count": 129,
   "metadata": {
    "colab": {
     "base_uri": "https://localhost:8080/",
     "height": 104
    },
    "colab_type": "code",
    "executionInfo": {
     "elapsed": 412,
     "status": "ok",
     "timestamp": 1567988510501,
     "user": {
      "displayName": "Ruikang Wang",
      "photoUrl": "https://lh3.googleusercontent.com/a-/AAuE7mC5vqtmalMngqfosazzXx4AVJwwWiYCV2nTgLIqgQ=s64",
      "userId": "10914323651690992949"
     },
     "user_tz": 240
    },
    "id": "sCPF_BOVnf0K",
    "outputId": "9c6085e8-42b6-4776-8d44-d980fc99cf2f"
   },
   "outputs": [
    {
     "data": {
      "text/plain": [
       "a      NaN\n",
       "b    1.300\n",
       "c      NaN\n",
       "d   -0.275\n",
       "dtype: float64"
      ]
     },
     "execution_count": 129,
     "metadata": {},
     "output_type": "execute_result"
    }
   ],
   "source": [
    "df.mean(axis = 1, skipna=False)"
   ]
  },
  {
   "cell_type": "code",
   "execution_count": 160,
   "metadata": {
    "colab": {
     "base_uri": "https://localhost:8080/",
     "height": 69
    },
    "colab_type": "code",
    "executionInfo": {
     "elapsed": 380,
     "status": "ok",
     "timestamp": 1567988540992,
     "user": {
      "displayName": "Ruikang Wang",
      "photoUrl": "https://lh3.googleusercontent.com/a-/AAuE7mC5vqtmalMngqfosazzXx4AVJwwWiYCV2nTgLIqgQ=s64",
      "userId": "10914323651690992949"
     },
     "user_tz": 240
    },
    "id": "cKAwd32znkpq",
    "outputId": "ffedd339-b8d5-41b4-91d5-f5006ee274b7"
   },
   "outputs": [
    {
     "data": {
      "text/plain": [
       "one    b\n",
       "two    d\n",
       "dtype: object"
      ]
     },
     "execution_count": 160,
     "metadata": {},
     "output_type": "execute_result"
    }
   ],
   "source": [
    "df.idxmax()"
   ]
  },
  {
   "cell_type": "code",
   "execution_count": 161,
   "metadata": {
    "colab": {
     "base_uri": "https://localhost:8080/",
     "height": 168
    },
    "colab_type": "code",
    "executionInfo": {
     "elapsed": 333,
     "status": "ok",
     "timestamp": 1567988571748,
     "user": {
      "displayName": "Ruikang Wang",
      "photoUrl": "https://lh3.googleusercontent.com/a-/AAuE7mC5vqtmalMngqfosazzXx4AVJwwWiYCV2nTgLIqgQ=s64",
      "userId": "10914323651690992949"
     },
     "user_tz": 240
    },
    "id": "ctWkoEvuobkL",
    "outputId": "5667db2b-331c-4e24-e442-71dfcf86fe40"
   },
   "outputs": [
    {
     "data": {
      "text/html": [
       "<div>\n",
       "<style scoped>\n",
       "    .dataframe tbody tr th:only-of-type {\n",
       "        vertical-align: middle;\n",
       "    }\n",
       "\n",
       "    .dataframe tbody tr th {\n",
       "        vertical-align: top;\n",
       "    }\n",
       "\n",
       "    .dataframe thead th {\n",
       "        text-align: right;\n",
       "    }\n",
       "</style>\n",
       "<table border=\"1\" class=\"dataframe\">\n",
       "  <thead>\n",
       "    <tr style=\"text-align: right;\">\n",
       "      <th></th>\n",
       "      <th>one</th>\n",
       "      <th>two</th>\n",
       "    </tr>\n",
       "  </thead>\n",
       "  <tbody>\n",
       "    <tr>\n",
       "      <th>a</th>\n",
       "      <td>1.4</td>\n",
       "      <td>NaN</td>\n",
       "    </tr>\n",
       "    <tr>\n",
       "      <th>b</th>\n",
       "      <td>8.5</td>\n",
       "      <td>NaN</td>\n",
       "    </tr>\n",
       "    <tr>\n",
       "      <th>c</th>\n",
       "      <td>NaN</td>\n",
       "      <td>NaN</td>\n",
       "    </tr>\n",
       "    <tr>\n",
       "      <th>d</th>\n",
       "      <td>NaN</td>\n",
       "      <td>NaN</td>\n",
       "    </tr>\n",
       "  </tbody>\n",
       "</table>\n",
       "</div>"
      ],
      "text/plain": [
       "   one  two\n",
       "a  1.4  NaN\n",
       "b  8.5  NaN\n",
       "c  NaN  NaN\n",
       "d  NaN  NaN"
      ]
     },
     "execution_count": 161,
     "metadata": {},
     "output_type": "execute_result"
    }
   ],
   "source": [
    "df.cumsum(skipna = False)"
   ]
  },
  {
   "cell_type": "code",
   "execution_count": 163,
   "metadata": {
    "colab": {
     "base_uri": "https://localhost:8080/",
     "height": 35
    },
    "colab_type": "code",
    "executionInfo": {
     "elapsed": 355,
     "status": "ok",
     "timestamp": 1567988635077,
     "user": {
      "displayName": "Ruikang Wang",
      "photoUrl": "https://lh3.googleusercontent.com/a-/AAuE7mC5vqtmalMngqfosazzXx4AVJwwWiYCV2nTgLIqgQ=s64",
      "userId": "10914323651690992949"
     },
     "user_tz": 240
    },
    "id": "m_EdiRONof1-",
    "outputId": "37313344-cbe3-4b9a-8b4a-77e04ef75f6f"
   },
   "outputs": [
    {
     "data": {
      "text/plain": [
       "array([1.4 , 7.1 ,  nan, 0.75])"
      ]
     },
     "execution_count": 163,
     "metadata": {},
     "output_type": "execute_result"
    }
   ],
   "source": [
    "df['one'].unique()"
   ]
  },
  {
   "cell_type": "markdown",
   "metadata": {
    "colab_type": "text",
    "id": "dcd3OIkvox6T"
   },
   "source": [
    "Data Merge:\n",
    "\n",
    "pandas.merge will combine row by row, i.e. horizontally\n",
    "\n",
    "pandas.concat will combine column by column, i.e. vertically"
   ]
  },
  {
   "cell_type": "code",
   "execution_count": 164,
   "metadata": {
    "colab": {
     "base_uri": "https://localhost:8080/",
     "height": 363
    },
    "colab_type": "code",
    "executionInfo": {
     "elapsed": 434,
     "status": "ok",
     "timestamp": 1567988763905,
     "user": {
      "displayName": "Ruikang Wang",
      "photoUrl": "https://lh3.googleusercontent.com/a-/AAuE7mC5vqtmalMngqfosazzXx4AVJwwWiYCV2nTgLIqgQ=s64",
      "userId": "10914323651690992949"
     },
     "user_tz": 240
    },
    "id": "zQgA0K8voijz",
    "outputId": "d1594f69-3aa1-4ecd-97a3-70c3f4c26a73"
   },
   "outputs": [
    {
     "name": "stdout",
     "output_type": "stream",
     "text": [
      "  key  data1\n",
      "0   b      0\n",
      "1   b      1\n",
      "2   a      2\n",
      "3   c      3\n",
      "4   a      4\n",
      "5   a      5\n",
      "6   b      6\n",
      "RangeIndex(start=0, stop=7, step=1)\n",
      "  key  data2\n",
      "0   a      0\n",
      "1   b      1\n",
      "2   b      2\n",
      "3   d      3\n",
      "  key  data2\n",
      "0   a      0\n",
      "1   b      1\n",
      "2   b      2\n",
      "3   d      3\n",
      "4   e      4\n"
     ]
    }
   ],
   "source": [
    "df1 = DataFrame({'key': ['b', 'b', 'a', 'c', 'a', 'a', 'b'],\n",
    "                 'data1': range(7)})\n",
    "df2 = DataFrame({'key': ['a', 'b','b', 'd'],\n",
    "                 'data2': range(4)})\n",
    "df3 = DataFrame({'key': ['a', 'b','b', 'd','e'],\n",
    "                 'data2': range(5)})\n",
    "\n",
    "print(df1)\n",
    "print(df1.index)\n",
    "\n",
    "print(df2)\n",
    "\n",
    "print(df3)"
   ]
  },
  {
   "cell_type": "markdown",
   "metadata": {
    "colab_type": "text",
    "id": "DqNsbBCyrsJ1"
   },
   "source": [
    "If not specify based on which cretiria, pandas will use the overlapped column as the key and concat/merge based on that\n",
    "\n",
    "pd.merge include different methods, like inner(default), left, right, outer"
   ]
  },
  {
   "cell_type": "code",
   "execution_count": 165,
   "metadata": {
    "colab": {
     "base_uri": "https://localhost:8080/",
     "height": 187
    },
    "colab_type": "code",
    "executionInfo": {
     "elapsed": 9626,
     "status": "ok",
     "timestamp": 1560719156785,
     "user": {
      "displayName": "Rae Liang",
      "photoUrl": "",
      "userId": "08583492153170310616"
     },
     "user_tz": 240
    },
    "id": "yWX2z8vso7xe",
    "outputId": "452240a9-714b-47ce-d190-b521975549cc"
   },
   "outputs": [
    {
     "name": "stdout",
     "output_type": "stream",
     "text": [
      "  key  data1  data2\n",
      "0   b      0      1\n",
      "1   b      0      2\n",
      "2   b      1      1\n",
      "3   b      1      2\n",
      "4   b      6      1\n",
      "5   b      6      2\n",
      "6   a      2      0\n",
      "7   a      4      0\n",
      "8   a      5      0\n"
     ]
    }
   ],
   "source": [
    "dfmerge1=pd.merge(df1, df2)\n",
    "print (dfmerge1)"
   ]
  },
  {
   "cell_type": "code",
   "execution_count": 166,
   "metadata": {
    "colab": {
     "base_uri": "https://localhost:8080/",
     "height": 1000
    },
    "colab_type": "code",
    "executionInfo": {
     "elapsed": 377,
     "status": "ok",
     "timestamp": 1567988975950,
     "user": {
      "displayName": "Ruikang Wang",
      "photoUrl": "https://lh3.googleusercontent.com/a-/AAuE7mC5vqtmalMngqfosazzXx4AVJwwWiYCV2nTgLIqgQ=s64",
      "userId": "10914323651690992949"
     },
     "user_tz": 240
    },
    "id": "ShEzAjA9rZDZ",
    "outputId": "11457082-6395-4492-8952-c4ab6d4a6cab"
   },
   "outputs": [
    {
     "name": "stdout",
     "output_type": "stream",
     "text": [
      "  key  data1\n",
      "0   b      0\n",
      "1   b      1\n",
      "2   a      2\n",
      "3   c      3\n",
      "4   a      4\n",
      "5   a      5\n",
      "6   b      6\n",
      "  key  data2\n",
      "0   a      0\n",
      "1   b      1\n",
      "2   b      2\n",
      "3   d      3\n",
      "  key  data1  data2\n",
      "0   b      0      1\n",
      "1   b      0      2\n",
      "2   b      1      1\n",
      "3   b      1      2\n",
      "4   b      6      1\n",
      "5   b      6      2\n",
      "6   a      2      0\n",
      "7   a      4      0\n",
      "8   a      5      0\n",
      "  key  data1  data2\n",
      "0   b      0    1.0\n",
      "1   b      0    2.0\n",
      "2   b      1    1.0\n",
      "3   b      1    2.0\n",
      "4   a      2    0.0\n",
      "5   c      3    NaN\n",
      "6   a      4    0.0\n",
      "7   a      5    0.0\n",
      "8   b      6    1.0\n",
      "9   b      6    2.0\n",
      "  key  data1  data2\n",
      "0   b    0.0      1\n",
      "1   b    1.0      1\n",
      "2   b    6.0      1\n",
      "3   b    0.0      2\n",
      "4   b    1.0      2\n",
      "5   b    6.0      2\n",
      "6   a    2.0      0\n",
      "7   a    4.0      0\n",
      "8   a    5.0      0\n",
      "9   d    NaN      3\n",
      "   key  data1  data2\n",
      "0    b    0.0    1.0\n",
      "1    b    0.0    2.0\n",
      "2    b    1.0    1.0\n",
      "3    b    1.0    2.0\n",
      "4    b    6.0    1.0\n",
      "5    b    6.0    2.0\n",
      "6    a    2.0    0.0\n",
      "7    a    4.0    0.0\n",
      "8    a    5.0    0.0\n",
      "9    c    3.0    NaN\n",
      "10   d    NaN    3.0\n"
     ]
    }
   ],
   "source": [
    "dfmerge1=pd.merge(df1, df2,on='key')\n",
    "dfmerge2=pd.merge(df1, df2, on='key',how=\"left\")\n",
    "dfmerge3=pd.merge(df1, df2, on='key',how=\"right\")\n",
    "dfmerge4=pd.merge(df1, df2, on='key',how=\"outer\")\n",
    "print(df1)\n",
    "print(df2)\n",
    "print(dfmerge1)\n",
    "print(dfmerge2)\n",
    "print(dfmerge3)\n",
    "print(dfmerge4)"
   ]
  },
  {
   "cell_type": "markdown",
   "metadata": {
    "colab_type": "text",
    "id": "_y4OY3eltWTs"
   },
   "source": [
    "If merge based on key, and we have duplicated keys:"
   ]
  },
  {
   "cell_type": "code",
   "execution_count": 167,
   "metadata": {
    "colab": {
     "base_uri": "https://localhost:8080/",
     "height": 173
    },
    "colab_type": "code",
    "executionInfo": {
     "elapsed": 560,
     "status": "ok",
     "timestamp": 1567988988861,
     "user": {
      "displayName": "Ruikang Wang",
      "photoUrl": "https://lh3.googleusercontent.com/a-/AAuE7mC5vqtmalMngqfosazzXx4AVJwwWiYCV2nTgLIqgQ=s64",
      "userId": "10914323651690992949"
     },
     "user_tz": 240
    },
    "id": "PnCSyoxssLNR",
    "outputId": "288649ef-b06f-49d3-e815-8efcb5000a2c"
   },
   "outputs": [
    {
     "name": "stdout",
     "output_type": "stream",
     "text": [
      "  key  data1\n",
      "0   a      0\n",
      "1   b      1\n",
      "  key  data2\n",
      "0   b      0\n",
      "1   b      1\n",
      "  key  data1  data2\n",
      "0   b      1      0\n",
      "1   b      1      1\n"
     ]
    }
   ],
   "source": [
    "df1 = DataFrame({'key': ['a', 'b'],\n",
    "                 'data1': range(2)})\n",
    "df2 = DataFrame({'key': ['b',  'b' ],\n",
    "                 'data2': range(2)})\n",
    "merge4=pd.merge(df1, df2, how='inner')\n",
    "print(df1)\n",
    "print(df2)\n",
    "print(merge4)"
   ]
  },
  {
   "cell_type": "code",
   "execution_count": 168,
   "metadata": {
    "colab": {
     "base_uri": "https://localhost:8080/",
     "height": 363
    },
    "colab_type": "code",
    "executionInfo": {
     "elapsed": 416,
     "status": "ok",
     "timestamp": 1567989089304,
     "user": {
      "displayName": "Ruikang Wang",
      "photoUrl": "https://lh3.googleusercontent.com/a-/AAuE7mC5vqtmalMngqfosazzXx4AVJwwWiYCV2nTgLIqgQ=s64",
      "userId": "10914323651690992949"
     },
     "user_tz": 240
    },
    "id": "2LWQg21qt-lU",
    "outputId": "abd76c01-26b4-454a-c881-2f972d069e1f"
   },
   "outputs": [
    {
     "name": "stdout",
     "output_type": "stream",
     "text": [
      "    代码 key2  lval\n",
      "0  foo  one     1\n",
      "1  foo  two     2\n",
      "2  bar  one     3\n",
      "    代码 key2  rval\n",
      "0  foo  one     4\n",
      "1  foo  one     5\n",
      "2  bar  one     6\n",
      "3  bar  two     7\n",
      "    代码 key2_x  lval key2_y  rval\n",
      "0  foo    one     1    one     4\n",
      "1  foo    one     1    one     5\n",
      "2  foo    two     2    one     4\n",
      "3  foo    two     2    one     5\n",
      "4  bar    one     3    one     6\n",
      "5  bar    one     3    two     7\n",
      "    代码 key2  lval  rval\n",
      "0  foo  one     1     4\n",
      "1  foo  one     1     5\n",
      "2  bar  one     3     6\n"
     ]
    }
   ],
   "source": [
    "left = DataFrame({'代码': ['foo', 'foo', 'bar'],\n",
    "                  'key2': ['one', 'two', 'one'],\n",
    "                  'lval': [1, 2, 3]}) \n",
    "right = DataFrame({'代码': ['foo', 'foo', 'bar', 'bar'],\n",
    "                   'key2': ['one', 'one', 'one', 'two'],\n",
    "                   'rval': [4, 5, 6, 7]})\n",
    "merge5=pd.merge(left, right, on='代码', how='outer')\n",
    "merge6=pd.merge(left, right, on=['代码', 'key2'], how='inner')\n",
    "print(left)\n",
    "print(right)\n",
    "print(merge5)\n",
    "print(merge6)\n"
   ]
  },
  {
   "cell_type": "code",
   "execution_count": 169,
   "metadata": {
    "colab": {
     "base_uri": "https://localhost:8080/",
     "height": 198
    },
    "colab_type": "code",
    "executionInfo": {
     "elapsed": 374,
     "status": "ok",
     "timestamp": 1567989179603,
     "user": {
      "displayName": "Ruikang Wang",
      "photoUrl": "https://lh3.googleusercontent.com/a-/AAuE7mC5vqtmalMngqfosazzXx4AVJwwWiYCV2nTgLIqgQ=s64",
      "userId": "10914323651690992949"
     },
     "user_tz": 240
    },
    "id": "gc9yx3FRuaPq",
    "outputId": "68f4638e-3531-4822-98aa-d5b24c298cc7"
   },
   "outputs": [
    {
     "data": {
      "text/html": [
       "<div>\n",
       "<style scoped>\n",
       "    .dataframe tbody tr th:only-of-type {\n",
       "        vertical-align: middle;\n",
       "    }\n",
       "\n",
       "    .dataframe tbody tr th {\n",
       "        vertical-align: top;\n",
       "    }\n",
       "\n",
       "    .dataframe thead th {\n",
       "        text-align: right;\n",
       "    }\n",
       "</style>\n",
       "<table border=\"1\" class=\"dataframe\">\n",
       "  <thead>\n",
       "    <tr style=\"text-align: right;\">\n",
       "      <th></th>\n",
       "      <th>代码</th>\n",
       "      <th>value</th>\n",
       "      <th>平均值</th>\n",
       "    </tr>\n",
       "  </thead>\n",
       "  <tbody>\n",
       "    <tr>\n",
       "      <th>0</th>\n",
       "      <td>a</td>\n",
       "      <td>0</td>\n",
       "      <td>3.5</td>\n",
       "    </tr>\n",
       "    <tr>\n",
       "      <th>2</th>\n",
       "      <td>a</td>\n",
       "      <td>2</td>\n",
       "      <td>3.5</td>\n",
       "    </tr>\n",
       "    <tr>\n",
       "      <th>3</th>\n",
       "      <td>a</td>\n",
       "      <td>3</td>\n",
       "      <td>3.5</td>\n",
       "    </tr>\n",
       "    <tr>\n",
       "      <th>1</th>\n",
       "      <td>b</td>\n",
       "      <td>1</td>\n",
       "      <td>7.0</td>\n",
       "    </tr>\n",
       "    <tr>\n",
       "      <th>4</th>\n",
       "      <td>b</td>\n",
       "      <td>4</td>\n",
       "      <td>7.0</td>\n",
       "    </tr>\n",
       "  </tbody>\n",
       "</table>\n",
       "</div>"
      ],
      "text/plain": [
       "  代码  value  平均值\n",
       "0  a      0  3.5\n",
       "2  a      2  3.5\n",
       "3  a      3  3.5\n",
       "1  b      1  7.0\n",
       "4  b      4  7.0"
      ]
     },
     "execution_count": 169,
     "metadata": {},
     "output_type": "execute_result"
    }
   ],
   "source": [
    "left1 = DataFrame({'代码': ['a', 'b', 'a', 'a', 'b', 'c'],\n",
    "                  'value': range(6)})\n",
    "right1 = DataFrame({'平均值': [3.5, 7]}, index=['a', 'b'])\n",
    "\n",
    "\n",
    "pm2=pd.merge(left1, right1, left_on='代码', right_index=True)\n",
    "pm2"
   ]
  },
  {
   "cell_type": "code",
   "execution_count": 170,
   "metadata": {
    "colab": {
     "base_uri": "https://localhost:8080/",
     "height": 69
    },
    "colab_type": "code",
    "executionInfo": {
     "elapsed": 340,
     "status": "ok",
     "timestamp": 1567989188185,
     "user": {
      "displayName": "Ruikang Wang",
      "photoUrl": "https://lh3.googleusercontent.com/a-/AAuE7mC5vqtmalMngqfosazzXx4AVJwwWiYCV2nTgLIqgQ=s64",
      "userId": "10914323651690992949"
     },
     "user_tz": 240
    },
    "id": "rzJJ3vfDugyQ",
    "outputId": "2e2032c6-aeae-439e-ece3-6c15a89e95fa"
   },
   "outputs": [
    {
     "data": {
      "text/plain": [
       "array([[ 0,  1,  2,  3],\n",
       "       [ 4,  5,  6,  7],\n",
       "       [ 8,  9, 10, 11]])"
      ]
     },
     "execution_count": 170,
     "metadata": {},
     "output_type": "execute_result"
    }
   ],
   "source": [
    "arr = np.arange(12).reshape((3, 4))\n",
    "arr\n"
   ]
  },
  {
   "cell_type": "code",
   "execution_count": 171,
   "metadata": {
    "colab": {
     "base_uri": "https://localhost:8080/",
     "height": 121
    },
    "colab_type": "code",
    "executionInfo": {
     "elapsed": 459,
     "status": "ok",
     "timestamp": 1567989226770,
     "user": {
      "displayName": "Ruikang Wang",
      "photoUrl": "https://lh3.googleusercontent.com/a-/AAuE7mC5vqtmalMngqfosazzXx4AVJwwWiYCV2nTgLIqgQ=s64",
      "userId": "10914323651690992949"
     },
     "user_tz": 240
    },
    "id": "XXYqFK8Uuj34",
    "outputId": "59d566a4-641e-4d9f-f52a-9ced3ae2c763"
   },
   "outputs": [
    {
     "data": {
      "text/plain": [
       "array([[ 0,  1,  2,  3],\n",
       "       [ 4,  5,  6,  7],\n",
       "       [ 8,  9, 10, 11],\n",
       "       [ 0,  1,  2,  3],\n",
       "       [ 4,  5,  6,  7],\n",
       "       [ 8,  9, 10, 11]])"
      ]
     },
     "execution_count": 171,
     "metadata": {},
     "output_type": "execute_result"
    }
   ],
   "source": [
    "np.concatenate([arr, arr], axis=0)"
   ]
  },
  {
   "cell_type": "code",
   "execution_count": 172,
   "metadata": {
    "colab": {
     "base_uri": "https://localhost:8080/",
     "height": 69
    },
    "colab_type": "code",
    "executionInfo": {
     "elapsed": 502,
     "status": "ok",
     "timestamp": 1567989224503,
     "user": {
      "displayName": "Ruikang Wang",
      "photoUrl": "https://lh3.googleusercontent.com/a-/AAuE7mC5vqtmalMngqfosazzXx4AVJwwWiYCV2nTgLIqgQ=s64",
      "userId": "10914323651690992949"
     },
     "user_tz": 240
    },
    "id": "blAyLUjUul7h",
    "outputId": "4454de0e-9988-4fe8-f670-ba10aa16b0ed"
   },
   "outputs": [
    {
     "data": {
      "text/plain": [
       "array([[ 0,  1,  2,  3,  0,  1,  2,  3],\n",
       "       [ 4,  5,  6,  7,  4,  5,  6,  7],\n",
       "       [ 8,  9, 10, 11,  8,  9, 10, 11]])"
      ]
     },
     "execution_count": 172,
     "metadata": {},
     "output_type": "execute_result"
    }
   ],
   "source": [
    "np.concatenate([arr, arr], axis=1)"
   ]
  },
  {
   "cell_type": "code",
   "execution_count": 173,
   "metadata": {
    "colab": {
     "base_uri": "https://localhost:8080/",
     "height": 328
    },
    "colab_type": "code",
    "executionInfo": {
     "elapsed": 465,
     "status": "ok",
     "timestamp": 1567989237784,
     "user": {
      "displayName": "Ruikang Wang",
      "photoUrl": "https://lh3.googleusercontent.com/a-/AAuE7mC5vqtmalMngqfosazzXx4AVJwwWiYCV2nTgLIqgQ=s64",
      "userId": "10914323651690992949"
     },
     "user_tz": 240
    },
    "id": "BYtkXixwumqr",
    "outputId": "d2cd6337-dd82-41af-a137-412fdfeff311"
   },
   "outputs": [
    {
     "name": "stdout",
     "output_type": "stream",
     "text": [
      "a    0\n",
      "b    1\n",
      "dtype: int64\n",
      "c    2\n",
      "d    3\n",
      "e    4\n",
      "dtype: int64\n",
      "c    5\n",
      "g    6\n",
      "dtype: int64\n",
      "a    0\n",
      "b    1\n",
      "c    2\n",
      "d    3\n",
      "e    4\n",
      "c    5\n",
      "g    6\n",
      "dtype: int64\n"
     ]
    }
   ],
   "source": [
    "s1 = Series([0, 1], index=['a', 'b'])\n",
    "s2 = Series([2, 3, 4], index=['c', 'd', 'e'])\n",
    "s3 = Series([5, 6], index=['c', 'g'])\n",
    "s_all = pd.concat([s1, s2, s3])\n",
    "print(s1)\n",
    "print(s2)\n",
    "print(s3)\n",
    "print(s_all)"
   ]
  },
  {
   "cell_type": "code",
   "execution_count": 174,
   "metadata": {
    "colab": {
     "base_uri": "https://localhost:8080/",
     "height": 386
    },
    "colab_type": "code",
    "executionInfo": {
     "elapsed": 455,
     "status": "ok",
     "timestamp": 1567989257568,
     "user": {
      "displayName": "Ruikang Wang",
      "photoUrl": "https://lh3.googleusercontent.com/a-/AAuE7mC5vqtmalMngqfosazzXx4AVJwwWiYCV2nTgLIqgQ=s64",
      "userId": "10914323651690992949"
     },
     "user_tz": 240
    },
    "id": "qzZEtTwzupGk",
    "outputId": "e04fc1cb-9dcb-4dd1-b72c-d412925274f7"
   },
   "outputs": [
    {
     "name": "stderr",
     "output_type": "stream",
     "text": [
      "C:\\ProgramData\\Anaconda3\\envs\\DataAnalysis-ML\\lib\\site-packages\\ipykernel_launcher.py:1: FutureWarning: Sorting because non-concatenation axis is not aligned. A future version\n",
      "of pandas will change to not sort by default.\n",
      "\n",
      "To accept the future behavior, pass 'sort=False'.\n",
      "\n",
      "To retain the current behavior and silence the warning, pass 'sort=True'.\n",
      "\n",
      "  \"\"\"Entry point for launching an IPython kernel.\n"
     ]
    },
    {
     "data": {
      "text/html": [
       "<div>\n",
       "<style scoped>\n",
       "    .dataframe tbody tr th:only-of-type {\n",
       "        vertical-align: middle;\n",
       "    }\n",
       "\n",
       "    .dataframe tbody tr th {\n",
       "        vertical-align: top;\n",
       "    }\n",
       "\n",
       "    .dataframe thead th {\n",
       "        text-align: right;\n",
       "    }\n",
       "</style>\n",
       "<table border=\"1\" class=\"dataframe\">\n",
       "  <thead>\n",
       "    <tr style=\"text-align: right;\">\n",
       "      <th></th>\n",
       "      <th>0</th>\n",
       "      <th>1</th>\n",
       "      <th>2</th>\n",
       "    </tr>\n",
       "  </thead>\n",
       "  <tbody>\n",
       "    <tr>\n",
       "      <th>a</th>\n",
       "      <td>0.0</td>\n",
       "      <td>NaN</td>\n",
       "      <td>NaN</td>\n",
       "    </tr>\n",
       "    <tr>\n",
       "      <th>b</th>\n",
       "      <td>1.0</td>\n",
       "      <td>NaN</td>\n",
       "      <td>NaN</td>\n",
       "    </tr>\n",
       "    <tr>\n",
       "      <th>c</th>\n",
       "      <td>NaN</td>\n",
       "      <td>2.0</td>\n",
       "      <td>5.0</td>\n",
       "    </tr>\n",
       "    <tr>\n",
       "      <th>d</th>\n",
       "      <td>NaN</td>\n",
       "      <td>3.0</td>\n",
       "      <td>NaN</td>\n",
       "    </tr>\n",
       "    <tr>\n",
       "      <th>e</th>\n",
       "      <td>NaN</td>\n",
       "      <td>4.0</td>\n",
       "      <td>NaN</td>\n",
       "    </tr>\n",
       "    <tr>\n",
       "      <th>g</th>\n",
       "      <td>NaN</td>\n",
       "      <td>NaN</td>\n",
       "      <td>6.0</td>\n",
       "    </tr>\n",
       "  </tbody>\n",
       "</table>\n",
       "</div>"
      ],
      "text/plain": [
       "     0    1    2\n",
       "a  0.0  NaN  NaN\n",
       "b  1.0  NaN  NaN\n",
       "c  NaN  2.0  5.0\n",
       "d  NaN  3.0  NaN\n",
       "e  NaN  4.0  NaN\n",
       "g  NaN  NaN  6.0"
      ]
     },
     "execution_count": 174,
     "metadata": {},
     "output_type": "execute_result"
    }
   ],
   "source": [
    "pd.concat([s1, s2, s3], axis=1)"
   ]
  },
  {
   "cell_type": "code",
   "execution_count": 176,
   "metadata": {
    "colab": {
     "base_uri": "https://localhost:8080/",
     "height": 365
    },
    "colab_type": "code",
    "executionInfo": {
     "elapsed": 514,
     "status": "ok",
     "timestamp": 1567989292746,
     "user": {
      "displayName": "Ruikang Wang",
      "photoUrl": "https://lh3.googleusercontent.com/a-/AAuE7mC5vqtmalMngqfosazzXx4AVJwwWiYCV2nTgLIqgQ=s64",
      "userId": "10914323651690992949"
     },
     "user_tz": 240
    },
    "id": "VJUnQxmWurBZ",
    "outputId": "9768cb45-8e1a-42a7-9e4b-c91da1f42ac2"
   },
   "outputs": [
    {
     "name": "stdout",
     "output_type": "stream",
     "text": [
      "   one  two\n",
      "a    0    1\n",
      "b    2    3\n",
      "c    4    5\n",
      "   three  four\n",
      "a      5     6\n",
      "c      7     8\n",
      "   one  two  three  four\n",
      "a    0    1    5.0   6.0\n",
      "b    2    3    NaN   NaN\n",
      "c    4    5    7.0   8.0\n"
     ]
    },
    {
     "name": "stderr",
     "output_type": "stream",
     "text": [
      "C:\\ProgramData\\Anaconda3\\envs\\DataAnalysis-ML\\lib\\site-packages\\ipykernel_launcher.py:5: FutureWarning: Sorting because non-concatenation axis is not aligned. A future version\n",
      "of pandas will change to not sort by default.\n",
      "\n",
      "To accept the future behavior, pass 'sort=False'.\n",
      "\n",
      "To retain the current behavior and silence the warning, pass 'sort=True'.\n",
      "\n",
      "  \"\"\"\n"
     ]
    }
   ],
   "source": [
    "df1 = DataFrame(np.arange(6).reshape(3, 2), index=['a', 'b', 'c'],\n",
    "                columns=['one', 'two'])\n",
    "df2 = DataFrame(5 + np.arange(4).reshape(2, 2), index=['a', 'c'],\n",
    "                columns=['three', 'four'])\n",
    "cdf = pd.concat([df1, df2], axis=1)\n",
    "print(df1)\n",
    "print(df2)\n",
    "print(cdf)"
   ]
  },
  {
   "cell_type": "code",
   "execution_count": 178,
   "metadata": {
    "colab": {
     "base_uri": "https://localhost:8080/",
     "height": 242
    },
    "colab_type": "code",
    "executionInfo": {
     "elapsed": 475,
     "status": "ok",
     "timestamp": 1567989307472,
     "user": {
      "displayName": "Ruikang Wang",
      "photoUrl": "https://lh3.googleusercontent.com/a-/AAuE7mC5vqtmalMngqfosazzXx4AVJwwWiYCV2nTgLIqgQ=s64",
      "userId": "10914323651690992949"
     },
     "user_tz": 240
    },
    "id": "hNNMwSERx9RR",
    "outputId": "4baba4b5-e910-4cf5-cef5-7b6a117e5d04"
   },
   "outputs": [
    {
     "name": "stdout",
     "output_type": "stream",
     "text": [
      "    k1  k2\n",
      "0  one   1\n",
      "1  one   1\n",
      "2  one   2\n",
      "3  two   3\n",
      "4  two   3\n",
      "5  two   4\n",
      "6  two   4\n",
      "    k1  k2\n",
      "0  one   1\n",
      "2  one   2\n",
      "3  two   3\n",
      "5  two   4\n"
     ]
    }
   ],
   "source": [
    "data = DataFrame({'k1': ['one'] * 3 + ['two'] * 4,\n",
    "                  'k2': [1, 1, 2, 3, 3, 4, 4]})\n",
    "newdata1=data.drop_duplicates()\n",
    "print(data)\n",
    "print(newdata1)"
   ]
  },
  {
   "cell_type": "code",
   "execution_count": 180,
   "metadata": {
    "colab": {
     "base_uri": "https://localhost:8080/",
     "height": 294
    },
    "colab_type": "code",
    "executionInfo": {
     "elapsed": 431,
     "status": "ok",
     "timestamp": 1567989373797,
     "user": {
      "displayName": "Ruikang Wang",
      "photoUrl": "https://lh3.googleusercontent.com/a-/AAuE7mC5vqtmalMngqfosazzXx4AVJwwWiYCV2nTgLIqgQ=s64",
      "userId": "10914323651690992949"
     },
     "user_tz": 240
    },
    "id": "fAwXbyWFzSZq",
    "outputId": "a0de3962-cd22-4041-cf55-a1b35e21e212"
   },
   "outputs": [
    {
     "name": "stdout",
     "output_type": "stream",
     "text": [
      "    k1  k2  v1\n",
      "0  one   1   0\n",
      "1  one   1   1\n",
      "2  one   2   2\n",
      "3  two   3   3\n",
      "4  two   3   4\n",
      "5  two   4   5\n",
      "6  two   4   6\n",
      "    k1  k2  v1\n",
      "0  one   1   0\n",
      "3  two   3   3\n",
      "    k1  k2  v1\n",
      "1  one   1   1\n",
      "2  one   2   2\n",
      "4  two   3   4\n",
      "6  two   4   6\n"
     ]
    }
   ],
   "source": [
    "data['v1'] = range(7)##data is a dataframe\n",
    "\n",
    "newdata2=data.drop_duplicates(['k1'])\n",
    "newdata3=data.drop_duplicates(['k1', 'k2'], keep='last')\n",
    "\n",
    "print(data)\n",
    "print(newdata2)\n",
    "print(newdata3)"
   ]
  },
  {
   "cell_type": "markdown",
   "metadata": {
    "colab_type": "text",
    "id": "8_2dwyeXz1hG"
   },
   "source": [
    "Group by:"
   ]
  },
  {
   "cell_type": "code",
   "execution_count": 181,
   "metadata": {
    "colab": {
     "base_uri": "https://localhost:8080/",
     "height": 198
    },
    "colab_type": "code",
    "executionInfo": {
     "elapsed": 492,
     "status": "ok",
     "timestamp": 1567989452178,
     "user": {
      "displayName": "Ruikang Wang",
      "photoUrl": "https://lh3.googleusercontent.com/a-/AAuE7mC5vqtmalMngqfosazzXx4AVJwwWiYCV2nTgLIqgQ=s64",
      "userId": "10914323651690992949"
     },
     "user_tz": 240
    },
    "id": "5Jb734iIdCFl",
    "outputId": "24409b00-5e8f-47e6-cae0-107a59d60ca2"
   },
   "outputs": [
    {
     "data": {
      "text/html": [
       "<div>\n",
       "<style scoped>\n",
       "    .dataframe tbody tr th:only-of-type {\n",
       "        vertical-align: middle;\n",
       "    }\n",
       "\n",
       "    .dataframe tbody tr th {\n",
       "        vertical-align: top;\n",
       "    }\n",
       "\n",
       "    .dataframe thead th {\n",
       "        text-align: right;\n",
       "    }\n",
       "</style>\n",
       "<table border=\"1\" class=\"dataframe\">\n",
       "  <thead>\n",
       "    <tr style=\"text-align: right;\">\n",
       "      <th></th>\n",
       "      <th>key1</th>\n",
       "      <th>key2</th>\n",
       "      <th>data1</th>\n",
       "      <th>data2</th>\n",
       "    </tr>\n",
       "  </thead>\n",
       "  <tbody>\n",
       "    <tr>\n",
       "      <th>0</th>\n",
       "      <td>a</td>\n",
       "      <td>one</td>\n",
       "      <td>0</td>\n",
       "      <td>0</td>\n",
       "    </tr>\n",
       "    <tr>\n",
       "      <th>1</th>\n",
       "      <td>a</td>\n",
       "      <td>two</td>\n",
       "      <td>1</td>\n",
       "      <td>1</td>\n",
       "    </tr>\n",
       "    <tr>\n",
       "      <th>2</th>\n",
       "      <td>b</td>\n",
       "      <td>one</td>\n",
       "      <td>2</td>\n",
       "      <td>2</td>\n",
       "    </tr>\n",
       "    <tr>\n",
       "      <th>3</th>\n",
       "      <td>b</td>\n",
       "      <td>two</td>\n",
       "      <td>3</td>\n",
       "      <td>3</td>\n",
       "    </tr>\n",
       "    <tr>\n",
       "      <th>4</th>\n",
       "      <td>a</td>\n",
       "      <td>one</td>\n",
       "      <td>4</td>\n",
       "      <td>4</td>\n",
       "    </tr>\n",
       "  </tbody>\n",
       "</table>\n",
       "</div>"
      ],
      "text/plain": [
       "  key1 key2  data1  data2\n",
       "0    a  one      0      0\n",
       "1    a  two      1      1\n",
       "2    b  one      2      2\n",
       "3    b  two      3      3\n",
       "4    a  one      4      4"
      ]
     },
     "execution_count": 181,
     "metadata": {},
     "output_type": "execute_result"
    }
   ],
   "source": [
    "df = DataFrame({'key1' : ['a', 'a', 'b', 'b', 'a'],\n",
    "                'key2' : ['one', 'two', 'one', 'two', 'one'],\n",
    "                'data1' : range(5),\n",
    "                'data2' : range(5)})\n",
    "df"
   ]
  },
  {
   "cell_type": "code",
   "execution_count": 182,
   "metadata": {
    "colab": {
     "base_uri": "https://localhost:8080/",
     "height": 35
    },
    "colab_type": "code",
    "executionInfo": {
     "elapsed": 525,
     "status": "ok",
     "timestamp": 1567989757005,
     "user": {
      "displayName": "Ruikang Wang",
      "photoUrl": "https://lh3.googleusercontent.com/a-/AAuE7mC5vqtmalMngqfosazzXx4AVJwwWiYCV2nTgLIqgQ=s64",
      "userId": "10914323651690992949"
     },
     "user_tz": 240
    },
    "id": "tvr-kSYCdEoY",
    "outputId": "862c61f1-acaf-4f8f-c8b6-614e31f824a8"
   },
   "outputs": [
    {
     "data": {
      "text/plain": [
       "<pandas.core.groupby.generic.SeriesGroupBy object at 0x0000022B63963F60>"
      ]
     },
     "execution_count": 182,
     "metadata": {},
     "output_type": "execute_result"
    }
   ],
   "source": [
    "grouped = df['data1'].groupby(df['key1'])##***groupby****\n",
    "grouped"
   ]
  },
  {
   "cell_type": "code",
   "execution_count": 149,
   "metadata": {
    "colab": {
     "base_uri": "https://localhost:8080/",
     "height": 121
    },
    "colab_type": "code",
    "executionInfo": {
     "elapsed": 456,
     "status": "ok",
     "timestamp": 1567989758979,
     "user": {
      "displayName": "Ruikang Wang",
      "photoUrl": "https://lh3.googleusercontent.com/a-/AAuE7mC5vqtmalMngqfosazzXx4AVJwwWiYCV2nTgLIqgQ=s64",
      "userId": "10914323651690992949"
     },
     "user_tz": 240
    },
    "id": "NH0NJeepePCY",
    "outputId": "7acec9c2-39bb-48d4-fc02-455c47c6a143"
   },
   "outputs": [
    {
     "data": {
      "text/plain": [
       "{'a': 0    0\n",
       " 1    1\n",
       " 4    4\n",
       " Name: data1, dtype: int64, 'b': 2    2\n",
       " 3    3\n",
       " Name: data1, dtype: int64}"
      ]
     },
     "execution_count": 149,
     "metadata": {},
     "output_type": "execute_result"
    }
   ],
   "source": [
    "dict(list(grouped))"
   ]
  },
  {
   "cell_type": "code",
   "execution_count": 183,
   "metadata": {
    "colab": {
     "base_uri": "https://localhost:8080/",
     "height": 198
    },
    "colab_type": "code",
    "executionInfo": {
     "elapsed": 349,
     "status": "ok",
     "timestamp": 1567989739751,
     "user": {
      "displayName": "Ruikang Wang",
      "photoUrl": "https://lh3.googleusercontent.com/a-/AAuE7mC5vqtmalMngqfosazzXx4AVJwwWiYCV2nTgLIqgQ=s64",
      "userId": "10914323651690992949"
     },
     "user_tz": 240
    },
    "id": "01TQdTEQeIiu",
    "outputId": "a0cc0a2f-9480-47e7-cd94-600cd097d866"
   },
   "outputs": [
    {
     "data": {
      "text/html": [
       "<div>\n",
       "<style scoped>\n",
       "    .dataframe tbody tr th:only-of-type {\n",
       "        vertical-align: middle;\n",
       "    }\n",
       "\n",
       "    .dataframe tbody tr th {\n",
       "        vertical-align: top;\n",
       "    }\n",
       "\n",
       "    .dataframe thead th {\n",
       "        text-align: right;\n",
       "    }\n",
       "</style>\n",
       "<table border=\"1\" class=\"dataframe\">\n",
       "  <thead>\n",
       "    <tr style=\"text-align: right;\">\n",
       "      <th></th>\n",
       "      <th>a</th>\n",
       "      <th>b</th>\n",
       "    </tr>\n",
       "  </thead>\n",
       "  <tbody>\n",
       "    <tr>\n",
       "      <th>0</th>\n",
       "      <td>0.0</td>\n",
       "      <td>NaN</td>\n",
       "    </tr>\n",
       "    <tr>\n",
       "      <th>1</th>\n",
       "      <td>1.0</td>\n",
       "      <td>NaN</td>\n",
       "    </tr>\n",
       "    <tr>\n",
       "      <th>2</th>\n",
       "      <td>NaN</td>\n",
       "      <td>2.0</td>\n",
       "    </tr>\n",
       "    <tr>\n",
       "      <th>3</th>\n",
       "      <td>NaN</td>\n",
       "      <td>3.0</td>\n",
       "    </tr>\n",
       "    <tr>\n",
       "      <th>4</th>\n",
       "      <td>4.0</td>\n",
       "      <td>NaN</td>\n",
       "    </tr>\n",
       "  </tbody>\n",
       "</table>\n",
       "</div>"
      ],
      "text/plain": [
       "     a    b\n",
       "0  0.0  NaN\n",
       "1  1.0  NaN\n",
       "2  NaN  2.0\n",
       "3  NaN  3.0\n",
       "4  4.0  NaN"
      ]
     },
     "execution_count": 183,
     "metadata": {},
     "output_type": "execute_result"
    }
   ],
   "source": [
    "pd.DataFrame(dict(list(grouped)))"
   ]
  },
  {
   "cell_type": "code",
   "execution_count": 151,
   "metadata": {
    "colab": {
     "base_uri": "https://localhost:8080/",
     "height": 69
    },
    "colab_type": "code",
    "executionInfo": {
     "elapsed": 356,
     "status": "ok",
     "timestamp": 1567989714283,
     "user": {
      "displayName": "Ruikang Wang",
      "photoUrl": "https://lh3.googleusercontent.com/a-/AAuE7mC5vqtmalMngqfosazzXx4AVJwwWiYCV2nTgLIqgQ=s64",
      "userId": "10914323651690992949"
     },
     "user_tz": 240
    },
    "id": "kQTgaOXadNvQ",
    "outputId": "99f0166e-a00a-4dd5-f71c-74f16081d724"
   },
   "outputs": [
    {
     "data": {
      "text/plain": [
       "a    1.666667\n",
       "b    2.500000\n",
       "dtype: float64"
      ]
     },
     "execution_count": 151,
     "metadata": {},
     "output_type": "execute_result"
    }
   ],
   "source": [
    "pd.DataFrame(dict(list(grouped))).mean()"
   ]
  },
  {
   "cell_type": "code",
   "execution_count": 152,
   "metadata": {
    "colab": {
     "base_uri": "https://localhost:8080/",
     "height": 86
    },
    "colab_type": "code",
    "executionInfo": {
     "elapsed": 431,
     "status": "ok",
     "timestamp": 1567989586959,
     "user": {
      "displayName": "Ruikang Wang",
      "photoUrl": "https://lh3.googleusercontent.com/a-/AAuE7mC5vqtmalMngqfosazzXx4AVJwwWiYCV2nTgLIqgQ=s64",
      "userId": "10914323651690992949"
     },
     "user_tz": 240
    },
    "id": "3smCjmZedQMD",
    "outputId": "0120ccef-2893-4ed2-cb82-6f315cd00245"
   },
   "outputs": [
    {
     "data": {
      "text/plain": [
       "key1\n",
       "a    1.666667\n",
       "b    2.500000\n",
       "Name: data1, dtype: float64"
      ]
     },
     "execution_count": 152,
     "metadata": {},
     "output_type": "execute_result"
    }
   ],
   "source": [
    "grouped.mean()"
   ]
  },
  {
   "cell_type": "code",
   "execution_count": 184,
   "metadata": {
    "colab": {
     "base_uri": "https://localhost:8080/",
     "height": 259
    },
    "colab_type": "code",
    "executionInfo": {
     "elapsed": 406,
     "status": "ok",
     "timestamp": 1567989726514,
     "user": {
      "displayName": "Ruikang Wang",
      "photoUrl": "https://lh3.googleusercontent.com/a-/AAuE7mC5vqtmalMngqfosazzXx4AVJwwWiYCV2nTgLIqgQ=s64",
      "userId": "10914323651690992949"
     },
     "user_tz": 240
    },
    "id": "CL3jZTDCzu9s",
    "outputId": "ddfba91a-5b34-42e2-b2bb-68aa3b5dafff"
   },
   "outputs": [
    {
     "name": "stdout",
     "output_type": "stream",
     "text": [
      "  key1 key2  data1  data2\n",
      "0    a  one      0      0\n",
      "1    a  two      1      1\n",
      "2    b  one      2      2\n",
      "3    b  two      3      3\n",
      "4    a  one      4      4\n",
      "         data1     data2\n",
      "key1                    \n",
      "a     1.666667  1.666667\n",
      "b     2.500000  2.500000\n",
      "key1\n",
      "a    1.666667\n",
      "b    2.500000\n",
      "Name: data1, dtype: float64\n"
     ]
    }
   ],
   "source": [
    "df = DataFrame({'key1' : ['a', 'a', 'b', 'b', 'a'],\n",
    "                'key2' : ['one', 'two', 'one', 'two', 'one'],\n",
    "                'data1' : range(5),\n",
    "                'data2' : range(5)})\n",
    "grouped = df['data1'].groupby(df['key1'])##***groupby****\n",
    "a = df.groupby('key1')\n",
    "\n",
    "print(df) \n",
    "print(a.mean())\n",
    "print(grouped.mean())"
   ]
  },
  {
   "cell_type": "code",
   "execution_count": 186,
   "metadata": {
    "colab": {
     "base_uri": "https://localhost:8080/",
     "height": 121
    },
    "colab_type": "code",
    "executionInfo": {
     "elapsed": 493,
     "status": "ok",
     "timestamp": 1567989824472,
     "user": {
      "displayName": "Ruikang Wang",
      "photoUrl": "https://lh3.googleusercontent.com/a-/AAuE7mC5vqtmalMngqfosazzXx4AVJwwWiYCV2nTgLIqgQ=s64",
      "userId": "10914323651690992949"
     },
     "user_tz": 240
    },
    "id": "VqhupiLHz5UI",
    "outputId": "c19c7d11-52b3-4093-f01b-845d7f1cf7af"
   },
   "outputs": [
    {
     "name": "stdout",
     "output_type": "stream",
     "text": [
      "key1  key2\n",
      "a     one     2\n",
      "      two     1\n",
      "b     one     2\n",
      "      two     3\n",
      "Name: data1, dtype: int64\n"
     ]
    }
   ],
   "source": [
    "means = df['data1'].groupby([df['key1'], df['key2']]).mean()##[[]]用法\n",
    "print(means)"
   ]
  },
  {
   "cell_type": "code",
   "execution_count": 187,
   "metadata": {},
   "outputs": [
    {
     "data": {
      "text/plain": [
       "key1  key2\n",
       "a     one     2\n",
       "      two     1\n",
       "b     one     2\n",
       "      two     3\n",
       "Name: data1, dtype: int64"
      ]
     },
     "execution_count": 187,
     "metadata": {},
     "output_type": "execute_result"
    }
   ],
   "source": [
    "means"
   ]
  },
  {
   "cell_type": "code",
   "execution_count": 190,
   "metadata": {
    "colab": {
     "base_uri": "https://localhost:8080/",
     "height": 138
    },
    "colab_type": "code",
    "executionInfo": {
     "elapsed": 392,
     "status": "ok",
     "timestamp": 1567989847030,
     "user": {
      "displayName": "Ruikang Wang",
      "photoUrl": "https://lh3.googleusercontent.com/a-/AAuE7mC5vqtmalMngqfosazzXx4AVJwwWiYCV2nTgLIqgQ=s64",
      "userId": "10914323651690992949"
     },
     "user_tz": 240
    },
    "id": "mS8au2Ec0NkP",
    "outputId": "d0a67b8e-fdf8-4fe7-9d43-4add5e60460f"
   },
   "outputs": [
    {
     "data": {
      "text/html": [
       "<div>\n",
       "<style scoped>\n",
       "    .dataframe tbody tr th:only-of-type {\n",
       "        vertical-align: middle;\n",
       "    }\n",
       "\n",
       "    .dataframe tbody tr th {\n",
       "        vertical-align: top;\n",
       "    }\n",
       "\n",
       "    .dataframe thead th {\n",
       "        text-align: right;\n",
       "    }\n",
       "</style>\n",
       "<table border=\"1\" class=\"dataframe\">\n",
       "  <thead>\n",
       "    <tr style=\"text-align: right;\">\n",
       "      <th>key2</th>\n",
       "      <th>one</th>\n",
       "      <th>two</th>\n",
       "    </tr>\n",
       "    <tr>\n",
       "      <th>key1</th>\n",
       "      <th></th>\n",
       "      <th></th>\n",
       "    </tr>\n",
       "  </thead>\n",
       "  <tbody>\n",
       "    <tr>\n",
       "      <th>a</th>\n",
       "      <td>2</td>\n",
       "      <td>1</td>\n",
       "    </tr>\n",
       "    <tr>\n",
       "      <th>b</th>\n",
       "      <td>2</td>\n",
       "      <td>3</td>\n",
       "    </tr>\n",
       "  </tbody>\n",
       "</table>\n",
       "</div>"
      ],
      "text/plain": [
       "key2  one  two\n",
       "key1          \n",
       "a       2    1\n",
       "b       2    3"
      ]
     },
     "execution_count": 190,
     "metadata": {},
     "output_type": "execute_result"
    }
   ],
   "source": [
    "means.unstack()"
   ]
  },
  {
   "cell_type": "code",
   "execution_count": 191,
   "metadata": {},
   "outputs": [
    {
     "data": {
      "text/html": [
       "<div>\n",
       "<style scoped>\n",
       "    .dataframe tbody tr th:only-of-type {\n",
       "        vertical-align: middle;\n",
       "    }\n",
       "\n",
       "    .dataframe tbody tr th {\n",
       "        vertical-align: top;\n",
       "    }\n",
       "\n",
       "    .dataframe thead th {\n",
       "        text-align: right;\n",
       "    }\n",
       "</style>\n",
       "<table border=\"1\" class=\"dataframe\">\n",
       "  <thead>\n",
       "    <tr style=\"text-align: right;\">\n",
       "      <th></th>\n",
       "      <th>key1</th>\n",
       "      <th>key2</th>\n",
       "      <th>data1</th>\n",
       "      <th>data2</th>\n",
       "    </tr>\n",
       "  </thead>\n",
       "  <tbody>\n",
       "    <tr>\n",
       "      <th>0</th>\n",
       "      <td>a</td>\n",
       "      <td>one</td>\n",
       "      <td>0</td>\n",
       "      <td>0</td>\n",
       "    </tr>\n",
       "    <tr>\n",
       "      <th>1</th>\n",
       "      <td>a</td>\n",
       "      <td>two</td>\n",
       "      <td>1</td>\n",
       "      <td>1</td>\n",
       "    </tr>\n",
       "    <tr>\n",
       "      <th>2</th>\n",
       "      <td>b</td>\n",
       "      <td>one</td>\n",
       "      <td>2</td>\n",
       "      <td>2</td>\n",
       "    </tr>\n",
       "    <tr>\n",
       "      <th>3</th>\n",
       "      <td>b</td>\n",
       "      <td>two</td>\n",
       "      <td>3</td>\n",
       "      <td>3</td>\n",
       "    </tr>\n",
       "    <tr>\n",
       "      <th>4</th>\n",
       "      <td>a</td>\n",
       "      <td>one</td>\n",
       "      <td>4</td>\n",
       "      <td>4</td>\n",
       "    </tr>\n",
       "  </tbody>\n",
       "</table>\n",
       "</div>"
      ],
      "text/plain": [
       "  key1 key2  data1  data2\n",
       "0    a  one      0      0\n",
       "1    a  two      1      1\n",
       "2    b  one      2      2\n",
       "3    b  two      3      3\n",
       "4    a  one      4      4"
      ]
     },
     "execution_count": 191,
     "metadata": {},
     "output_type": "execute_result"
    }
   ],
   "source": [
    "df"
   ]
  },
  {
   "cell_type": "code",
   "execution_count": 189,
   "metadata": {
    "colab": {
     "base_uri": "https://localhost:8080/",
     "height": 168
    },
    "colab_type": "code",
    "executionInfo": {
     "elapsed": 617,
     "status": "ok",
     "timestamp": 1567989887482,
     "user": {
      "displayName": "Ruikang Wang",
      "photoUrl": "https://lh3.googleusercontent.com/a-/AAuE7mC5vqtmalMngqfosazzXx4AVJwwWiYCV2nTgLIqgQ=s64",
      "userId": "10914323651690992949"
     },
     "user_tz": 240
    },
    "id": "nV3HU0SJ0QbE",
    "outputId": "e68e61d6-d69e-49f0-edc6-8ed6910fd67f"
   },
   "outputs": [
    {
     "data": {
      "text/html": [
       "<div>\n",
       "<style scoped>\n",
       "    .dataframe tbody tr th:only-of-type {\n",
       "        vertical-align: middle;\n",
       "    }\n",
       "\n",
       "    .dataframe tbody tr th {\n",
       "        vertical-align: top;\n",
       "    }\n",
       "\n",
       "    .dataframe thead tr th {\n",
       "        text-align: left;\n",
       "    }\n",
       "\n",
       "    .dataframe thead tr:last-of-type th {\n",
       "        text-align: right;\n",
       "    }\n",
       "</style>\n",
       "<table border=\"1\" class=\"dataframe\">\n",
       "  <thead>\n",
       "    <tr>\n",
       "      <th></th>\n",
       "      <th colspan=\"2\" halign=\"left\">data1</th>\n",
       "      <th colspan=\"2\" halign=\"left\">data2</th>\n",
       "    </tr>\n",
       "    <tr>\n",
       "      <th>key2</th>\n",
       "      <th>one</th>\n",
       "      <th>two</th>\n",
       "      <th>one</th>\n",
       "      <th>two</th>\n",
       "    </tr>\n",
       "    <tr>\n",
       "      <th>key1</th>\n",
       "      <th></th>\n",
       "      <th></th>\n",
       "      <th></th>\n",
       "      <th></th>\n",
       "    </tr>\n",
       "  </thead>\n",
       "  <tbody>\n",
       "    <tr>\n",
       "      <th>a</th>\n",
       "      <td>2</td>\n",
       "      <td>1</td>\n",
       "      <td>2</td>\n",
       "      <td>1</td>\n",
       "    </tr>\n",
       "    <tr>\n",
       "      <th>b</th>\n",
       "      <td>2</td>\n",
       "      <td>3</td>\n",
       "      <td>2</td>\n",
       "      <td>3</td>\n",
       "    </tr>\n",
       "  </tbody>\n",
       "</table>\n",
       "</div>"
      ],
      "text/plain": [
       "     data1     data2    \n",
       "key2   one two   one two\n",
       "key1                    \n",
       "a        2   1     2   1\n",
       "b        2   3     2   3"
      ]
     },
     "execution_count": 189,
     "metadata": {},
     "output_type": "execute_result"
    }
   ],
   "source": [
    "dfmeans = df.groupby(['key1', 'key2']).mean()\n",
    "dfmeans.unstack()"
   ]
  },
  {
   "cell_type": "code",
   "execution_count": 192,
   "metadata": {
    "colab": {
     "base_uri": "https://localhost:8080/",
     "height": 198
    },
    "colab_type": "code",
    "executionInfo": {
     "elapsed": 396,
     "status": "ok",
     "timestamp": 1567989895664,
     "user": {
      "displayName": "Ruikang Wang",
      "photoUrl": "https://lh3.googleusercontent.com/a-/AAuE7mC5vqtmalMngqfosazzXx4AVJwwWiYCV2nTgLIqgQ=s64",
      "userId": "10914323651690992949"
     },
     "user_tz": 240
    },
    "id": "PbWZi8Mp0WD4",
    "outputId": "1d3feeff-5f60-4a6e-f0e5-40bebd81fd0e"
   },
   "outputs": [
    {
     "data": {
      "text/html": [
       "<div>\n",
       "<style scoped>\n",
       "    .dataframe tbody tr th:only-of-type {\n",
       "        vertical-align: middle;\n",
       "    }\n",
       "\n",
       "    .dataframe tbody tr th {\n",
       "        vertical-align: top;\n",
       "    }\n",
       "\n",
       "    .dataframe thead th {\n",
       "        text-align: right;\n",
       "    }\n",
       "</style>\n",
       "<table border=\"1\" class=\"dataframe\">\n",
       "  <thead>\n",
       "    <tr style=\"text-align: right;\">\n",
       "      <th></th>\n",
       "      <th></th>\n",
       "      <th>data2</th>\n",
       "    </tr>\n",
       "    <tr>\n",
       "      <th>key1</th>\n",
       "      <th>key2</th>\n",
       "      <th></th>\n",
       "    </tr>\n",
       "  </thead>\n",
       "  <tbody>\n",
       "    <tr>\n",
       "      <th rowspan=\"2\" valign=\"top\">a</th>\n",
       "      <th>one</th>\n",
       "      <td>2</td>\n",
       "    </tr>\n",
       "    <tr>\n",
       "      <th>two</th>\n",
       "      <td>1</td>\n",
       "    </tr>\n",
       "    <tr>\n",
       "      <th rowspan=\"2\" valign=\"top\">b</th>\n",
       "      <th>one</th>\n",
       "      <td>2</td>\n",
       "    </tr>\n",
       "    <tr>\n",
       "      <th>two</th>\n",
       "      <td>3</td>\n",
       "    </tr>\n",
       "  </tbody>\n",
       "</table>\n",
       "</div>"
      ],
      "text/plain": [
       "           data2\n",
       "key1 key2       \n",
       "a    one       2\n",
       "     two       1\n",
       "b    one       2\n",
       "     two       3"
      ]
     },
     "execution_count": 192,
     "metadata": {},
     "output_type": "execute_result"
    }
   ],
   "source": [
    "df.groupby([df['key1'], df['key2']])[['data2']].mean()"
   ]
  },
  {
   "cell_type": "code",
   "execution_count": 194,
   "metadata": {
    "colab": {
     "base_uri": "https://localhost:8080/",
     "height": 86
    },
    "colab_type": "code",
    "executionInfo": {
     "elapsed": 528,
     "status": "ok",
     "timestamp": 1567990210059,
     "user": {
      "displayName": "Ruikang Wang",
      "photoUrl": "https://lh3.googleusercontent.com/a-/AAuE7mC5vqtmalMngqfosazzXx4AVJwwWiYCV2nTgLIqgQ=s64",
      "userId": "10914323651690992949"
     },
     "user_tz": 240
    },
    "id": "I39UC0mT0Zoz",
    "outputId": "a6d6d553-a6ea-4f79-fd8a-4d2cf550f12f"
   },
   "outputs": [
    {
     "data": {
      "text/plain": [
       "key1\n",
       "a    3.4\n",
       "b    2.9\n",
       "Name: data1, dtype: float64"
      ]
     },
     "execution_count": 194,
     "metadata": {},
     "output_type": "execute_result"
    }
   ],
   "source": [
    "grouped = df.groupby('key1')\n",
    "grouped['data1'].quantile(0.9)"
   ]
  },
  {
   "cell_type": "code",
   "execution_count": 195,
   "metadata": {},
   "outputs": [
    {
     "data": {
      "text/plain": [
       "<pandas.core.groupby.generic.DataFrameGroupBy object at 0x0000022B6397B3C8>"
      ]
     },
     "execution_count": 195,
     "metadata": {},
     "output_type": "execute_result"
    }
   ],
   "source": [
    "grouped"
   ]
  },
  {
   "cell_type": "code",
   "execution_count": 196,
   "metadata": {
    "colab": {
     "base_uri": "https://localhost:8080/",
     "height": 138
    },
    "colab_type": "code",
    "executionInfo": {
     "elapsed": 485,
     "status": "ok",
     "timestamp": 1567990211185,
     "user": {
      "displayName": "Ruikang Wang",
      "photoUrl": "https://lh3.googleusercontent.com/a-/AAuE7mC5vqtmalMngqfosazzXx4AVJwwWiYCV2nTgLIqgQ=s64",
      "userId": "10914323651690992949"
     },
     "user_tz": 240
    },
    "id": "EiP4gliV0byX",
    "outputId": "a9b95ef6-2e9a-4157-9d67-fffbe1fc8ff8"
   },
   "outputs": [
    {
     "data": {
      "text/html": [
       "<div>\n",
       "<style scoped>\n",
       "    .dataframe tbody tr th:only-of-type {\n",
       "        vertical-align: middle;\n",
       "    }\n",
       "\n",
       "    .dataframe tbody tr th {\n",
       "        vertical-align: top;\n",
       "    }\n",
       "\n",
       "    .dataframe thead th {\n",
       "        text-align: right;\n",
       "    }\n",
       "</style>\n",
       "<table border=\"1\" class=\"dataframe\">\n",
       "  <thead>\n",
       "    <tr style=\"text-align: right;\">\n",
       "      <th></th>\n",
       "      <th>data1</th>\n",
       "      <th>data2</th>\n",
       "    </tr>\n",
       "    <tr>\n",
       "      <th>key1</th>\n",
       "      <th></th>\n",
       "      <th></th>\n",
       "    </tr>\n",
       "  </thead>\n",
       "  <tbody>\n",
       "    <tr>\n",
       "      <th>a</th>\n",
       "      <td>4</td>\n",
       "      <td>4</td>\n",
       "    </tr>\n",
       "    <tr>\n",
       "      <th>b</th>\n",
       "      <td>1</td>\n",
       "      <td>1</td>\n",
       "    </tr>\n",
       "  </tbody>\n",
       "</table>\n",
       "</div>"
      ],
      "text/plain": [
       "      data1  data2\n",
       "key1              \n",
       "a         4      4\n",
       "b         1      1"
      ]
     },
     "execution_count": 196,
     "metadata": {},
     "output_type": "execute_result"
    }
   ],
   "source": [
    "def peak_to_peak(arr):\n",
    "    return arr.max() - arr.min()\n",
    "grouped.agg(peak_to_peak)"
   ]
  },
  {
   "cell_type": "markdown",
   "metadata": {
    "colab_type": "text",
    "id": "S14EVB_tHSZ4"
   },
   "source": [
    "iterate grouped object"
   ]
  },
  {
   "cell_type": "code",
   "execution_count": 197,
   "metadata": {
    "colab": {
     "base_uri": "https://localhost:8080/",
     "height": 173
    },
    "colab_type": "code",
    "executionInfo": {
     "elapsed": 392,
     "status": "ok",
     "timestamp": 1567990213720,
     "user": {
      "displayName": "Ruikang Wang",
      "photoUrl": "https://lh3.googleusercontent.com/a-/AAuE7mC5vqtmalMngqfosazzXx4AVJwwWiYCV2nTgLIqgQ=s64",
      "userId": "10914323651690992949"
     },
     "user_tz": 240
    },
    "id": "VGmzLZYl0dr-",
    "outputId": "c2875bf0-ad59-428e-b31c-187f834a6e58"
   },
   "outputs": [
    {
     "name": "stdout",
     "output_type": "stream",
     "text": [
      "a\n",
      "  key1 key2  data1  data2\n",
      "0    a  one      0      0\n",
      "1    a  two      1      1\n",
      "4    a  one      4      4\n",
      "b\n",
      "  key1 key2  data1  data2\n",
      "2    b  one      2      2\n",
      "3    b  two      3      3\n"
     ]
    }
   ],
   "source": [
    "for key, group in grouped:\n",
    "  print(key)\n",
    "  print(group)"
   ]
  },
  {
   "cell_type": "code",
   "execution_count": 0,
   "metadata": {
    "colab": {},
    "colab_type": "code",
    "id": "3b6VAwBtHi1o"
   },
   "outputs": [],
   "source": []
  }
 ],
 "metadata": {
  "colab": {
   "collapsed_sections": [],
   "name": "Lecture3.ipynb",
   "provenance": [],
   "version": "0.3.2"
  },
  "kernelspec": {
   "display_name": "Python 3",
   "language": "python",
   "name": "python3"
  },
  "language_info": {
   "codemirror_mode": {
    "name": "ipython",
    "version": 3
   },
   "file_extension": ".py",
   "mimetype": "text/x-python",
   "name": "python",
   "nbconvert_exporter": "python",
   "pygments_lexer": "ipython3",
   "version": "3.7.3"
  }
 },
 "nbformat": 4,
 "nbformat_minor": 1
}
